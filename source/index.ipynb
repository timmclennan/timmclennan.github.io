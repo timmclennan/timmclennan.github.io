{
 "cells": [
  {
   "cell_type": "markdown",
   "metadata": {},
   "source": [
    "# Coronavirus plots\n",
    "\n",
    "This site currently contains some plots that look into anaylzing some of the coronavirus data from around the world."
   ]
  },
  {
   "cell_type": "markdown",
   "metadata": {},
   "source": [
    "## Plots\n",
    "\n",
    "1. [Log plot of world data](Coronavirus_plot.html)\n",
    "1. [Comparison of cases and tests for selected countries](Coronavirus_testing_comparison.html)\n",
    "1. [New Zealand cases by DHB](Coronavirus_NZ_cases_by_DHB.html)\n",
    "1. [New Zealand cases by DHB per 100k population](Coronavirus_NZ_cases_by_DHB_normalised.html)\n",
    "1. [Change in New Zealand cases over time](Coronavirus_NZ_cases_over_time.html)\n",
    "1. [Change in Canterbury cases over time](Coronavirus_Canterbury_cases_over_time.html)\n"
   ]
  }
 ],
 "metadata": {
  "kernelspec": {
   "display_name": "Python 3",
   "language": "python",
   "name": "python3"
  },
  "language_info": {
   "codemirror_mode": {
    "name": "ipython",
    "version": 3
   },
   "file_extension": ".py",
   "mimetype": "text/x-python",
   "name": "python",
   "nbconvert_exporter": "python",
   "pygments_lexer": "ipython3",
   "version": "3.7.4"
  }
 },
 "nbformat": 4,
 "nbformat_minor": 4
}
