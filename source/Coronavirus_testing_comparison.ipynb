{
 "cells": [
  {
   "cell_type": "code",
   "execution_count": 1,
   "metadata": {},
   "outputs": [],
   "source": [
    "import numpy as np\n",
    "import pandas as pd\n",
    "import plotly.express as px"
   ]
  },
  {
   "cell_type": "code",
   "execution_count": 2,
   "metadata": {},
   "outputs": [],
   "source": [
    "import plotly.io\n",
    "plotly.io.renderers.default = 'notebook_connected'"
   ]
  },
  {
   "cell_type": "code",
   "execution_count": 3,
   "metadata": {},
   "outputs": [],
   "source": [
    "DOCS_LINK = 'https://docs.google.com/spreadsheets/d/e/2PACX-1vQCN9pL21lGy3XPBhKwMX7jT1_SG-Sb_4ZWZ1I0Ctd-0vNhtmH4gFKaLsV5jhz4vSjYlQ9NR_fXF_b6/pub?output=xlsx'"
   ]
  },
  {
   "cell_type": "code",
   "execution_count": 4,
   "metadata": {},
   "outputs": [],
   "source": [
    "with pd.ExcelFile(DOCS_LINK) as excel_file:\n",
    "        nz_df = excel_file.parse('From Briefings', index_col='Date', parse_dates=True, header=1)\n",
    "        aus_df = excel_file.parse('Australia', index_col='date', parse_dates=True)\n",
    "        can_df = excel_file.parse('Canada', index_col='date', parse_dates=True)\n",
    "        uk_df = excel_file.parse('UK', index_col='date', parse_dates=True)\n",
    "nz_df = nz_df[~nz_df.isna().all(1)]\n",
    "us_df = pd.read_csv('https://covidtracking.com/api/us/daily.csv', parse_dates=True, index_col=0)\n"
   ]
  },
  {
   "cell_type": "code",
   "execution_count": 5,
   "metadata": {},
   "outputs": [],
   "source": [
    "def make_country_tests_df(df, columns, millions, new_names=['confirmed', 'tests']):\n",
    "    new_df = df[columns].rename(columns=dict(zip(columns,new_names)))\n",
    "    for n in new_names:\n",
    "        new_df[n+'/1M']=new_df[n]/millions\n",
    "    return new_df"
   ]
  },
  {
   "cell_type": "code",
   "execution_count": 6,
   "metadata": {},
   "outputs": [],
   "source": [
    "MILLIONS = {'NZ':4.974490, 'US':329.544974, 'Aus':25.663280, 'Can': 37.976754, 'UK':66.435600}\n",
    "FULL_NAMES = {'NZ':'New Zealand', 'Aus': 'Australia', 'Can': 'Canada', 'UK':'United Kingdom', 'US':'USA'}\n",
    "COLUMN_NAMES={'NZ':['Confirmed', 'Tests'], 'US':['positive', 'posNeg'], 'Can':['positives', 'tests'], 'Aus': ['cases', 'tests'], 'UK': ['cases', 'tests']}\n",
    "def make_tests_df(dfs_map):\n",
    "    tests_df = pd.concat({FULL_NAMES.get(c, c):make_country_tests_df(df, COLUMN_NAMES[c], MILLIONS[c]) for c,df in dfs_map.items()}, sort=True, names=['country']).reset_index()\n",
    "    tests_df['case rate'] = tests_df['confirmed']/tests_df['tests']\n",
    "    return tests_df\n",
    "    \n",
    "    "
   ]
  },
  {
   "cell_type": "code",
   "execution_count": 7,
   "metadata": {},
   "outputs": [],
   "source": [
    "tests_df = make_tests_df({'NZ':nz_df, 'Aus':aus_df, 'Can':can_df, 'UK':uk_df, 'US':us_df })\n",
    "tests_df['nice_date']=tests_df.iloc[:,1].dt.strftime('%e %b %Y')"
   ]
  },
  {
   "cell_type": "code",
   "execution_count": 27,
   "metadata": {},
   "outputs": [],
   "source": [
    "now = pd.Timestamp('now', tz='Pacific/Auckland').strftime('%e %b %Y %H:%M (%z)')"
   ]
  },
  {
   "cell_type": "code",
   "execution_count": 30,
   "metadata": {},
   "outputs": [],
   "source": [
    "LABELS = {\n",
    "    'case rate':'confirmed<br>case rate', \n",
    "    'tests/1M':'total tests per 1M population', \n",
    "    'confirmed/1M':'confirmed cases<br>per 1M population',\n",
    "    'title': 'Comparison of confirmed Covid-19 cases and total tests for selected countries normalised by population<br><sm>Last update: </sm>'+now,\n",
    "}"
   ]
  },
  {
   "cell_type": "code",
   "execution_count": 29,
   "metadata": {
    "scrolled": false
   },
   "outputs": [
    {
     "data": {
      "text/html": [
       "<div>\n",
       "        \n",
       "        \n",
       "            <div id=\"20e18bc9-f14e-4e91-8962-3f485c85233f\" class=\"plotly-graph-div\" style=\"height:525px; width:100%;\"></div>\n",
       "            <script type=\"text/javascript\">\n",
       "                require([\"plotly\"], function(Plotly) {\n",
       "                    window.PLOTLYENV=window.PLOTLYENV || {};\n",
       "                    \n",
       "                if (document.getElementById(\"20e18bc9-f14e-4e91-8962-3f485c85233f\")) {\n",
       "                    Plotly.newPlot(\n",
       "                        '20e18bc9-f14e-4e91-8962-3f485c85233f',\n",
       "                        [{\"customdata\": [[5.0, 386.0], [6.0, 421.0], [8.0, 442.0], [8.0, 524.0], [11.0, 584.0], [20.0, 1300.0], [28.0, 2500.0], [39.0, 3500.0], [52.0, 4500.0], [66.0, 6000.0], [102.0, 7400.0], [142.0, 8845.0], [189.0, 10266.0], [262.0, 12683.0], [338.0, 14523.17337], [416.0, 16576.25936], [476.0, 18426.57143], [552.0, 19993.0], [600.0, 21384.0], [647.0, 23481.0], [723.0, 26015.0]], \"hoverlabel\": {\"namelength\": 0}, \"hovertemplate\": \"<b>%{fullData.name}</b> - %{hovertext}<br>confirmed cases=%{customdata[0]} (%{y:.1f} / 1M)<br>total tests=%{customdata[1]} (%{x:.1f} / 1M)<br>confirmed rate=%{marker.color:.1%}\", \"hovertext\": [\"13 Mar 2020\", \"14 Mar 2020\", \"15 Mar 2020\", \"16 Mar 2020\", \"17 Mar 2020\", \"18 Mar 2020\", \"19 Mar 2020\", \"20 Mar 2020\", \"21 Mar 2020\", \"22 Mar 2020\", \"23 Mar 2020\", \"24 Mar 2020\", \"25 Mar 2020\", \"26 Mar 2020\", \"27 Mar 2020\", \"28 Mar 2020\", \"29 Mar 2020\", \"30 Mar 2020\", \"31 Mar 2020\", \" 1 Apr 2020\", \" 2 Apr 2020\"], \"legendgroup\": \"New Zealand\", \"line\": {\"width\": 3}, \"marker\": {\"color\": [0.012953367875647668, 0.014251781472684086, 0.01809954751131222, 0.015267175572519083, 0.018835616438356163, 0.015384615384615385, 0.0112, 0.011142857142857144, 0.011555555555555555, 0.011, 0.013783783783783784, 0.016054267947993216, 0.01841028638223261, 0.020657573129385792, 0.0232731505290844, 0.02509613242441448, 0.02583226086351757, 0.027609663382183763, 0.028058361391694726, 0.02755419275158639, 0.027791658658466268], \"coloraxis\": \"coloraxis\", \"symbol\": \"circle\"}, \"mode\": \"markers+lines\", \"name\": \"New Zealand\", \"showlegend\": true, \"type\": \"scatter\", \"x\": [77.59589425247613, 84.63179139972138, 88.85332968806853, 105.33743157590024, 117.39896954260637, 261.33332261196625, 502.5640819460889, 703.5897147245245, 904.61534750296, 1206.1537966706135, 1487.5896825604232, 1778.0717219252626, 2063.7291461034197, 2549.6081005288984, 2919.5301166551744, 3332.2530269434656, 3704.213181652792, 4019.1054761392625, 4298.732131334066, 4720.282883270445, 5229.681836731002], \"xaxis\": \"x\", \"y\": [1.0051281638921779, 1.2061537966706133, 1.6082050622274846, 1.6082050622274846, 2.211281960562791, 4.020512655568711, 5.628717717796196, 7.839999678358987, 10.45333290447865, 13.267691763376748, 20.50461454340043, 28.54563985453785, 37.99384459512432, 52.66871578795012, 67.94666387911123, 83.6266632358292, 95.68820120253532, 110.96614929369643, 120.61537966706133, 130.06358440764782, 145.3415324988089], \"yaxis\": \"y\"}, {\"customdata\": [[709.0, 100000.0], [874.0, 115000.0], [1098.0, 127000.0], [1479.0, 135000.0], [1823.0, 148000.0], [2423.0, 169000.0], [2799.0, 178000.0], [2985.0, 181000.0], [3378.0, 196000.0], [3809.0, 209000.0], [4093.0, 214000.0], [4359.0, 230000.0], [4707.0, 250000.0], [4976.0, 261000.0]], \"hoverlabel\": {\"namelength\": 0}, \"hovertemplate\": \"<b>%{fullData.name}</b> - %{hovertext}<br>confirmed cases=%{customdata[0]} (%{y:.1f} / 1M)<br>total tests=%{customdata[1]} (%{x:.1f} / 1M)<br>confirmed rate=%{marker.color:.1%}\", \"hovertext\": [\"20 Mar 2020\", \"21 Mar 2020\", \"22 Mar 2020\", \"23 Mar 2020\", \"24 Mar 2020\", \"25 Mar 2020\", \"26 Mar 2020\", \"27 Mar 2020\", \"28 Mar 2020\", \"29 Mar 2020\", \"30 Mar 2020\", \"31 Mar 2020\", \" 1 Apr 2020\", \" 2 Apr 2020\"], \"legendgroup\": \"Australia\", \"line\": {\"width\": 3}, \"marker\": {\"color\": [0.00709, 0.0076, 0.008645669291338583, 0.010955555555555555, 0.012317567567567567, 0.014337278106508877, 0.015724719101123597, 0.016491712707182322, 0.01723469387755102, 0.01822488038277512, 0.019126168224299064, 0.018952173913043477, 0.018828, 0.019065134099616857], \"coloraxis\": \"coloraxis\", \"symbol\": \"diamond\"}, \"mode\": \"markers+lines\", \"name\": \"Australia\", \"showlegend\": true, \"type\": \"scatter\", \"x\": [3896.6180472644182, 4481.110754354081, 4948.704920025812, 5260.434363806965, 5766.994709951339, 6585.284499876867, 6935.980124130664, 7052.878665548597, 7637.371372638259, 8143.931718782634, 8338.762621145856, 8962.221508708162, 9741.545118161046, 10170.173103360132], \"xaxis\": \"x\", \"y\": [27.627021955104727, 34.05644173309101, 42.78486615896331, 57.630980919040745, 71.03534700163034, 94.41505528521685, 109.06633914293107, 116.31404871084288, 131.62775763659204, 148.42218142030168, 159.48857667453262, 169.853580680256, 183.41381148473616, 193.89571403187745], \"yaxis\": \"y\"}, {\"customdata\": [[611.0, 41792.0], [628.0, 42785.0], [975.0, 66648.0], [1176.0, 78559.0], [1377.0, 88177.0], [1584.0, 97084.0], [2247.0, 110990.0], [3197.0, 130045.0], [3731.0, 145892.0], [4516.0, 158251.0], [5153.0, 171774.0], [5814.0, 201193.0], [7219.0, 214646.0], [8335.0, 235153.0], [9387.0, 252824.0]], \"hoverlabel\": {\"namelength\": 0}, \"hovertemplate\": \"<b>%{fullData.name}</b> - %{hovertext}<br>confirmed cases=%{customdata[0]} (%{y:.1f} / 1M)<br>total tests=%{customdata[1]} (%{x:.1f} / 1M)<br>confirmed rate=%{marker.color:.1%}\", \"hovertext\": [\"18 Mar 2020\", \"19 Mar 2020\", \"20 Mar 2020\", \"21 Mar 2020\", \"22 Mar 2020\", \"23 Mar 2020\", \"24 Mar 2020\", \"25 Mar 2020\", \"26 Mar 2020\", \"27 Mar 2020\", \"28 Mar 2020\", \"29 Mar 2020\", \"30 Mar 2020\", \"31 Mar 2020\", \" 1 Apr 2020\"], \"legendgroup\": \"Canada\", \"line\": {\"width\": 3}, \"marker\": {\"color\": [0.014620022970903522, 0.014678041369638892, 0.014629096146921138, 0.014969640652248628, 0.015616317180217063, 0.016315767788719047, 0.020245067123164248, 0.024583797916105963, 0.025573712060976615, 0.028536944474284523, 0.02999871924738319, 0.02889762566292068, 0.03363211986247123, 0.035445008143634146, 0.03712859538651394], \"coloraxis\": \"coloraxis\", \"symbol\": \"square\"}, \"mode\": \"markers+lines\", \"name\": \"Canada\", \"showlegend\": true, \"type\": \"scatter\", \"x\": [1100.4626672411234, 1126.6102416230729, 1754.9683156174958, 2068.607548712562, 2321.867740460388, 2556.4059529679657, 2922.577321905922, 3424.3316319240976, 3841.6132142310003, 4167.04913748026, 4523.135389612287, 5297.7934870368335, 5652.036506332269, 6192.024731760908, 6657.335695409882], \"xaxis\": \"x\", \"y\": [16.088789473686983, 16.53643173400233, 25.673600223968588, 30.96631165475596, 36.25902308554333, 41.70972590232435, 59.167774054622996, 84.18307683695136, 98.24431019038647, 118.91484985788938, 135.6882686708822, 153.09365302784963, 190.08996924803, 219.47636704284943, 247.1775233870699], \"yaxis\": \"y\"}, {\"customdata\": [[35.0, 11750.0], [40.0, 13525.0], [51.0, 13911.0], [85.0, 16659.0], [115.0, 18083.0], [163.0, 20338.0], [206.0, 21460.0], [273.0, 23513.0], [319.0, 24960.0], [373.0, 26261.0], [456.0, 27476.0], [590.0, 29764.0], [798.0, 32771.0], [1140.0, 37746.0], [1372.0, 40279.0], [1543.0, 44105.0], [1950.0, 50442.0], [2626.0, 56221.0], [3269.0, 64621.0], [3983.0, 66976.0], [5018.0, 72818.0], [5683.0, 78340.0], [6650.0, 83945.0], [8077.0, 90436.0], [9529.0, 97019.0], [11658.0, 104866.0], [14543.0, 113777.0], [17089.0, 120776.0], [19522.0, 127737.0], [22145.0, 134946.0], [25150.0, 143186.0], [29474.0, 152979.0]], \"hoverlabel\": {\"namelength\": 0}, \"hovertemplate\": \"<b>%{fullData.name}</b> - %{hovertext}<br>confirmed cases=%{customdata[0]} (%{y:.1f} / 1M)<br>total tests=%{customdata[1]} (%{x:.1f} / 1M)<br>confirmed rate=%{marker.color:.1%}\", \"hovertext\": [\" 1 Mar 2020\", \" 2 Mar 2020\", \" 3 Mar 2020\", \" 4 Mar 2020\", \" 5 Mar 2020\", \" 6 Mar 2020\", \" 7 Mar 2020\", \" 8 Mar 2020\", \" 9 Mar 2020\", \"10 Mar 2020\", \"11 Mar 2020\", \"12 Mar 2020\", \"13 Mar 2020\", \"14 Mar 2020\", \"15 Mar 2020\", \"16 Mar 2020\", \"17 Mar 2020\", \"18 Mar 2020\", \"19 Mar 2020\", \"20 Mar 2020\", \"21 Mar 2020\", \"22 Mar 2020\", \"23 Mar 2020\", \"24 Mar 2020\", \"25 Mar 2020\", \"26 Mar 2020\", \"27 Mar 2020\", \"28 Mar 2020\", \"29 Mar 2020\", \"30 Mar 2020\", \"31 Mar 2020\", \" 1 Apr 2020\"], \"legendgroup\": \"United Kingdom\", \"line\": {\"width\": 3}, \"marker\": {\"color\": [0.0029787234042553193, 0.0029574861367837337, 0.003666163467759327, 0.005102347079656642, 0.006359564231598739, 0.008014554036778445, 0.009599254426840634, 0.011610598392378685, 0.012780448717948718, 0.014203571836563726, 0.016596302227398458, 0.019822604488644, 0.0243507979616124, 0.030201875695437926, 0.03406241465776211, 0.03498469561274232, 0.03865826097299869, 0.04670852528414649, 0.05058727039197784, 0.059469063545150504, 0.06891153286275371, 0.07254276231810058, 0.07921853594615522, 0.08931177849528948, 0.09821787484925633, 0.1111704460931093, 0.1278202097084648, 0.14149334304828773, 0.1528296421553661, 0.16410267810828036, 0.17564566368220358, 0.19266696736153327], \"coloraxis\": \"coloraxis\", \"symbol\": \"x\"}, \"mode\": \"markers+lines\", \"name\": \"United Kingdom\", \"showlegend\": true, \"type\": \"scatter\", \"x\": [176.86300718289593, 203.58061039563128, 209.3907483337247, 250.75411375828625, 272.18840501177084, 306.1310502200628, 323.0195858846763, 353.92169258650483, 375.7021837689432, 395.2850580110664, 413.573445562319, 448.0128124078055, 493.27469007580277, 568.1592399255821, 606.2863886229673, 663.875994195883, 759.2616007080542, 846.2480959003908, 972.6863308226314, 1008.1341931133309, 1096.0689750675845, 1179.1870623581333, 1263.5544798270807, 1361.2581206461598, 1460.3465611810536, 1578.46094563758, 1712.5908398509234, 1817.9409834486332, 1922.719144555028, 2031.2302440257936, 2155.2601316161818, 2302.6660404963604], \"xaxis\": \"x\", \"y\": [0.5268259788426687, 0.60208683296305, 0.7676607120278888, 1.2794345200464812, 1.7309996447687688, 2.4535038443244286, 3.1007471897597076, 4.109242634972816, 4.801642492880323, 5.614459717380441, 6.86378989577877, 8.880780786204987, 12.011632317612847, 17.159474739446924, 20.651578370632613, 23.225499581549652, 29.351733106948686, 39.52700058402423, 49.20554642390526, 59.9527963922957, 75.53179319521462, 85.54148679322533, 100.09693598010706, 121.57638374606387, 143.4321357826226, 175.47820746708092, 218.9037202945409, 257.22654721263905, 293.84847882761653, 333.33032289916855, 378.5620962255177, 443.6476828688234], \"yaxis\": \"y\"}, {\"customdata\": [[210770.0, 1149960.0], [184770.0, 1048971.0], [160530.0, 944854.0], [139061.0, 831351.0], [118234.0, 735704.0], [99413.0, 626633.0], [80735.0, 519338.0], [63928.0, 421532.0], [51954.0, 344712.0], [42152.0, 279473.0], [31879.0, 225342.0], [23197.0, 179106.0], [17033.0, 135180.0], [11719.0, 100838.0], [7730.0, 73955.0], [5722.0, 53326.0], [4019.0, 40123.0], [3173.0, 25724.0], [2450.0, 19552.0], [1922.0, 15535.0], [1315.0, 9356.0], [1053.0, 7123.0], [778.0, 4585.0], [584.0, 3951.0], [417.0, 2752.0], [341.0, 2150.0], [223.0, 1794.0], [176.0, 1129.0], [118.0, 866.0]], \"hoverlabel\": {\"namelength\": 0}, \"hovertemplate\": \"<b>%{fullData.name}</b> - %{hovertext}<br>confirmed cases=%{customdata[0]} (%{y:.1f} / 1M)<br>total tests=%{customdata[1]} (%{x:.1f} / 1M)<br>confirmed rate=%{marker.color:.1%}\", \"hovertext\": [\" 1 Apr 2020\", \"31 Mar 2020\", \"30 Mar 2020\", \"29 Mar 2020\", \"28 Mar 2020\", \"27 Mar 2020\", \"26 Mar 2020\", \"25 Mar 2020\", \"24 Mar 2020\", \"23 Mar 2020\", \"22 Mar 2020\", \"21 Mar 2020\", \"20 Mar 2020\", \"19 Mar 2020\", \"18 Mar 2020\", \"17 Mar 2020\", \"16 Mar 2020\", \"15 Mar 2020\", \"14 Mar 2020\", \"13 Mar 2020\", \"12 Mar 2020\", \"11 Mar 2020\", \"10 Mar 2020\", \" 9 Mar 2020\", \" 8 Mar 2020\", \" 7 Mar 2020\", \" 6 Mar 2020\", \" 5 Mar 2020\", \" 4 Mar 2020\"], \"legendgroup\": \"USA\", \"line\": {\"width\": 3}, \"marker\": {\"color\": [0.18328463598733868, 0.17614404974017395, 0.16989926485996779, 0.16727110450339266, 0.16070865456759784, 0.1586462889761631, 0.15545752477192118, 0.15165633925775504, 0.15071712037875096, 0.15082673460405835, 0.14146941093981594, 0.1295154824517325, 0.12600236721408492, 0.11621610900652532, 0.10452302075586506, 0.10730225405993324, 0.10016698651646187, 0.12334784636914943, 0.12530687397708673, 0.12372063083360155, 0.14055151774262506, 0.1478309700968693, 0.16968375136314068, 0.14781068084029358, 0.15152616279069767, 0.1586046511627907, 0.12430323299888517, 0.15589016829052257, 0.13625866050808313], \"coloraxis\": \"coloraxis\", \"symbol\": \"cross\"}, \"mode\": \"markers+lines\", \"name\": \"USA\", \"showlegend\": true, \"type\": \"scatter\", \"x\": [3489.5388815731108, 3183.089055395516, 2867.147353307837, 2522.7239545155376, 2232.4843588723643, 1901.5098072774733, 1575.924504920533, 1279.133451448117, 1046.0241460092789, 848.0572366429111, 683.7974109112039, 543.4948614934725, 410.20197746969734, 305.9916186128816, 224.41549965802238, 161.81706354896494, 121.75272926480741, 78.05914830914702, 59.330293412394745, 47.14075839615141, 28.390662089114425, 21.61465220829009, 13.913123736488846, 11.989258862130301, 8.350908729076838, 6.52414744459128, 5.443870007254305, 3.4259360302063047, 2.627865900937697], \"xaxis\": \"x\", \"y\": [639.5788636727926, 560.6821969009911, 487.1262275722038, 421.97882222898045, 358.7795576575839, 301.6674743763502, 244.98932276236138, 193.98869666875876, 157.65374713316064, 127.90970376019146, 96.73641692377926, 70.39099919636462, 51.686420197080594, 35.561155303797776, 23.4565859286933, 17.363335664163397, 12.195603990610397, 9.628427833343316, 7.434493599650528, 5.832284366746252, 3.990350646343039, 3.195315004257962, 2.360831028786984, 1.7721405151820036, 1.2653811555323553, 1.0347601295840123, 0.6766906419273746, 0.5340697443014257, 0.3580694876566377], \"yaxis\": \"y\"}],\n",
       "                        {\"coloraxis\": {\"colorbar\": {\"tickformat\": \".1%\", \"title\": {\"text\": \"confirmed<br>case rate\"}}, \"colorscale\": [[0.0, \"rgb(124, 29, 111)\"], [0.16666666666666666, \"rgb(185, 37, 122)\"], [0.3333333333333333, \"rgb(220, 57, 119)\"], [0.5, \"rgb(227, 79, 111)\"], [0.6666666666666666, \"rgb(240, 116, 110)\"], [0.8333333333333334, \"rgb(250, 164, 118)\"], [1.0, \"rgb(252, 222, 156)\"]]}, \"legend\": {\"title\": {\"text\": \"country\"}, \"tracegroupgap\": 0, \"x\": 0.025, \"y\": 0.95}, \"template\": {\"data\": {\"bar\": [{\"error_x\": {\"color\": \"#2a3f5f\"}, \"error_y\": {\"color\": \"#2a3f5f\"}, \"marker\": {\"line\": {\"color\": \"#E5ECF6\", \"width\": 0.5}}, \"type\": \"bar\"}], \"barpolar\": [{\"marker\": {\"line\": {\"color\": \"#E5ECF6\", \"width\": 0.5}}, \"type\": \"barpolar\"}], \"carpet\": [{\"aaxis\": {\"endlinecolor\": \"#2a3f5f\", \"gridcolor\": \"white\", \"linecolor\": \"white\", \"minorgridcolor\": \"white\", \"startlinecolor\": \"#2a3f5f\"}, \"baxis\": {\"endlinecolor\": \"#2a3f5f\", \"gridcolor\": \"white\", \"linecolor\": \"white\", \"minorgridcolor\": \"white\", \"startlinecolor\": \"#2a3f5f\"}, \"type\": \"carpet\"}], \"choropleth\": [{\"colorbar\": {\"outlinewidth\": 0, \"ticks\": \"\"}, \"type\": \"choropleth\"}], \"contour\": [{\"colorbar\": {\"outlinewidth\": 0, \"ticks\": \"\"}, \"colorscale\": [[0.0, \"#0d0887\"], [0.1111111111111111, \"#46039f\"], [0.2222222222222222, \"#7201a8\"], [0.3333333333333333, \"#9c179e\"], [0.4444444444444444, \"#bd3786\"], [0.5555555555555556, \"#d8576b\"], [0.6666666666666666, \"#ed7953\"], [0.7777777777777778, \"#fb9f3a\"], [0.8888888888888888, \"#fdca26\"], [1.0, \"#f0f921\"]], \"type\": \"contour\"}], \"contourcarpet\": [{\"colorbar\": {\"outlinewidth\": 0, \"ticks\": \"\"}, \"type\": \"contourcarpet\"}], \"heatmap\": [{\"colorbar\": {\"outlinewidth\": 0, \"ticks\": \"\"}, \"colorscale\": [[0.0, \"#0d0887\"], [0.1111111111111111, \"#46039f\"], [0.2222222222222222, \"#7201a8\"], [0.3333333333333333, \"#9c179e\"], [0.4444444444444444, \"#bd3786\"], [0.5555555555555556, \"#d8576b\"], [0.6666666666666666, \"#ed7953\"], [0.7777777777777778, \"#fb9f3a\"], [0.8888888888888888, \"#fdca26\"], [1.0, \"#f0f921\"]], \"type\": \"heatmap\"}], \"heatmapgl\": [{\"colorbar\": {\"outlinewidth\": 0, \"ticks\": \"\"}, \"colorscale\": [[0.0, \"#0d0887\"], [0.1111111111111111, \"#46039f\"], [0.2222222222222222, \"#7201a8\"], [0.3333333333333333, \"#9c179e\"], [0.4444444444444444, \"#bd3786\"], [0.5555555555555556, \"#d8576b\"], [0.6666666666666666, \"#ed7953\"], [0.7777777777777778, \"#fb9f3a\"], [0.8888888888888888, \"#fdca26\"], [1.0, \"#f0f921\"]], \"type\": \"heatmapgl\"}], \"histogram\": [{\"marker\": {\"colorbar\": {\"outlinewidth\": 0, \"ticks\": \"\"}}, \"type\": \"histogram\"}], \"histogram2d\": [{\"colorbar\": {\"outlinewidth\": 0, \"ticks\": \"\"}, \"colorscale\": [[0.0, \"#0d0887\"], [0.1111111111111111, \"#46039f\"], [0.2222222222222222, \"#7201a8\"], [0.3333333333333333, \"#9c179e\"], [0.4444444444444444, \"#bd3786\"], [0.5555555555555556, \"#d8576b\"], [0.6666666666666666, \"#ed7953\"], [0.7777777777777778, \"#fb9f3a\"], [0.8888888888888888, \"#fdca26\"], [1.0, \"#f0f921\"]], \"type\": \"histogram2d\"}], \"histogram2dcontour\": [{\"colorbar\": {\"outlinewidth\": 0, \"ticks\": \"\"}, \"colorscale\": [[0.0, \"#0d0887\"], [0.1111111111111111, \"#46039f\"], [0.2222222222222222, \"#7201a8\"], [0.3333333333333333, \"#9c179e\"], [0.4444444444444444, \"#bd3786\"], [0.5555555555555556, \"#d8576b\"], [0.6666666666666666, \"#ed7953\"], [0.7777777777777778, \"#fb9f3a\"], [0.8888888888888888, \"#fdca26\"], [1.0, \"#f0f921\"]], \"type\": \"histogram2dcontour\"}], \"mesh3d\": [{\"colorbar\": {\"outlinewidth\": 0, \"ticks\": \"\"}, \"type\": \"mesh3d\"}], \"parcoords\": [{\"line\": {\"colorbar\": {\"outlinewidth\": 0, \"ticks\": \"\"}}, \"type\": \"parcoords\"}], \"pie\": [{\"automargin\": true, \"type\": \"pie\"}], \"scatter\": [{\"marker\": {\"colorbar\": {\"outlinewidth\": 0, \"ticks\": \"\"}}, \"type\": \"scatter\"}], \"scatter3d\": [{\"line\": {\"colorbar\": {\"outlinewidth\": 0, \"ticks\": \"\"}}, \"marker\": {\"colorbar\": {\"outlinewidth\": 0, \"ticks\": \"\"}}, \"type\": \"scatter3d\"}], \"scattercarpet\": [{\"marker\": {\"colorbar\": {\"outlinewidth\": 0, \"ticks\": \"\"}}, \"type\": \"scattercarpet\"}], \"scattergeo\": [{\"marker\": {\"colorbar\": {\"outlinewidth\": 0, \"ticks\": \"\"}}, \"type\": \"scattergeo\"}], \"scattergl\": [{\"marker\": {\"colorbar\": {\"outlinewidth\": 0, \"ticks\": \"\"}}, \"type\": \"scattergl\"}], \"scattermapbox\": [{\"marker\": {\"colorbar\": {\"outlinewidth\": 0, \"ticks\": \"\"}}, \"type\": \"scattermapbox\"}], \"scatterpolar\": [{\"marker\": {\"colorbar\": {\"outlinewidth\": 0, \"ticks\": \"\"}}, \"type\": \"scatterpolar\"}], \"scatterpolargl\": [{\"marker\": {\"colorbar\": {\"outlinewidth\": 0, \"ticks\": \"\"}}, \"type\": \"scatterpolargl\"}], \"scatterternary\": [{\"marker\": {\"colorbar\": {\"outlinewidth\": 0, \"ticks\": \"\"}}, \"type\": \"scatterternary\"}], \"surface\": [{\"colorbar\": {\"outlinewidth\": 0, \"ticks\": \"\"}, \"colorscale\": [[0.0, \"#0d0887\"], [0.1111111111111111, \"#46039f\"], [0.2222222222222222, \"#7201a8\"], [0.3333333333333333, \"#9c179e\"], [0.4444444444444444, \"#bd3786\"], [0.5555555555555556, \"#d8576b\"], [0.6666666666666666, \"#ed7953\"], [0.7777777777777778, \"#fb9f3a\"], [0.8888888888888888, \"#fdca26\"], [1.0, \"#f0f921\"]], \"type\": \"surface\"}], \"table\": [{\"cells\": {\"fill\": {\"color\": \"#EBF0F8\"}, \"line\": {\"color\": \"white\"}}, \"header\": {\"fill\": {\"color\": \"#C8D4E3\"}, \"line\": {\"color\": \"white\"}}, \"type\": \"table\"}]}, \"layout\": {\"annotationdefaults\": {\"arrowcolor\": \"#2a3f5f\", \"arrowhead\": 0, \"arrowwidth\": 1}, \"coloraxis\": {\"colorbar\": {\"outlinewidth\": 0, \"ticks\": \"\"}}, \"colorscale\": {\"diverging\": [[0, \"#8e0152\"], [0.1, \"#c51b7d\"], [0.2, \"#de77ae\"], [0.3, \"#f1b6da\"], [0.4, \"#fde0ef\"], [0.5, \"#f7f7f7\"], [0.6, \"#e6f5d0\"], [0.7, \"#b8e186\"], [0.8, \"#7fbc41\"], [0.9, \"#4d9221\"], [1, \"#276419\"]], \"sequential\": [[0.0, \"#0d0887\"], [0.1111111111111111, \"#46039f\"], [0.2222222222222222, \"#7201a8\"], [0.3333333333333333, \"#9c179e\"], [0.4444444444444444, \"#bd3786\"], [0.5555555555555556, \"#d8576b\"], [0.6666666666666666, \"#ed7953\"], [0.7777777777777778, \"#fb9f3a\"], [0.8888888888888888, \"#fdca26\"], [1.0, \"#f0f921\"]], \"sequentialminus\": [[0.0, \"#0d0887\"], [0.1111111111111111, \"#46039f\"], [0.2222222222222222, \"#7201a8\"], [0.3333333333333333, \"#9c179e\"], [0.4444444444444444, \"#bd3786\"], [0.5555555555555556, \"#d8576b\"], [0.6666666666666666, \"#ed7953\"], [0.7777777777777778, \"#fb9f3a\"], [0.8888888888888888, \"#fdca26\"], [1.0, \"#f0f921\"]]}, \"colorway\": [\"#636efa\", \"#EF553B\", \"#00cc96\", \"#ab63fa\", \"#FFA15A\", \"#19d3f3\", \"#FF6692\", \"#B6E880\", \"#FF97FF\", \"#FECB52\"], \"font\": {\"color\": \"#2a3f5f\"}, \"geo\": {\"bgcolor\": \"white\", \"lakecolor\": \"white\", \"landcolor\": \"#E5ECF6\", \"showlakes\": true, \"showland\": true, \"subunitcolor\": \"white\"}, \"hoverlabel\": {\"align\": \"left\"}, \"hovermode\": \"closest\", \"mapbox\": {\"style\": \"light\"}, \"paper_bgcolor\": \"white\", \"plot_bgcolor\": \"#E5ECF6\", \"polar\": {\"angularaxis\": {\"gridcolor\": \"white\", \"linecolor\": \"white\", \"ticks\": \"\"}, \"bgcolor\": \"#E5ECF6\", \"radialaxis\": {\"gridcolor\": \"white\", \"linecolor\": \"white\", \"ticks\": \"\"}}, \"scene\": {\"xaxis\": {\"backgroundcolor\": \"#E5ECF6\", \"gridcolor\": \"white\", \"gridwidth\": 2, \"linecolor\": \"white\", \"showbackground\": true, \"ticks\": \"\", \"zerolinecolor\": \"white\"}, \"yaxis\": {\"backgroundcolor\": \"#E5ECF6\", \"gridcolor\": \"white\", \"gridwidth\": 2, \"linecolor\": \"white\", \"showbackground\": true, \"ticks\": \"\", \"zerolinecolor\": \"white\"}, \"zaxis\": {\"backgroundcolor\": \"#E5ECF6\", \"gridcolor\": \"white\", \"gridwidth\": 2, \"linecolor\": \"white\", \"showbackground\": true, \"ticks\": \"\", \"zerolinecolor\": \"white\"}}, \"shapedefaults\": {\"line\": {\"color\": \"#2a3f5f\"}}, \"ternary\": {\"aaxis\": {\"gridcolor\": \"white\", \"linecolor\": \"white\", \"ticks\": \"\"}, \"baxis\": {\"gridcolor\": \"white\", \"linecolor\": \"white\", \"ticks\": \"\"}, \"bgcolor\": \"#E5ECF6\", \"caxis\": {\"gridcolor\": \"white\", \"linecolor\": \"white\", \"ticks\": \"\"}}, \"title\": {\"x\": 0.05}, \"xaxis\": {\"automargin\": true, \"gridcolor\": \"white\", \"linecolor\": \"white\", \"ticks\": \"\", \"title\": {\"standoff\": 15}, \"zerolinecolor\": \"white\", \"zerolinewidth\": 2}, \"yaxis\": {\"automargin\": true, \"gridcolor\": \"white\", \"linecolor\": \"white\", \"ticks\": \"\", \"title\": {\"standoff\": 15}, \"zerolinecolor\": \"white\", \"zerolinewidth\": 2}}}, \"title\": {\"text\": \"Comparison of confirmed Covid-19 cases and total tests for selected countries normalised by population<br>Last update:  2 Apr 2020 15:09 (+1300)\"}, \"xaxis\": {\"anchor\": \"y\", \"domain\": [0.0, 1.0], \"title\": {\"text\": \"total tests per 1M population\"}}, \"yaxis\": {\"anchor\": \"x\", \"domain\": [0.0, 1.0], \"title\": {\"text\": \"confirmed cases<br>per 1M population\"}}},\n",
       "                        {\"responsive\": true}\n",
       "                    ).then(function(){\n",
       "                            \n",
       "var gd = document.getElementById('20e18bc9-f14e-4e91-8962-3f485c85233f');\n",
       "var x = new MutationObserver(function (mutations, observer) {{\n",
       "        var display = window.getComputedStyle(gd).display;\n",
       "        if (!display || display === 'none') {{\n",
       "            console.log([gd, 'removed!']);\n",
       "            Plotly.purge(gd);\n",
       "            observer.disconnect();\n",
       "        }}\n",
       "}});\n",
       "\n",
       "// Listen for the removal of the full notebook cells\n",
       "var notebookContainer = gd.closest('#notebook-container');\n",
       "if (notebookContainer) {{\n",
       "    x.observe(notebookContainer, {childList: true});\n",
       "}}\n",
       "\n",
       "// Listen for the clearing of the current output cell\n",
       "var outputEl = gd.closest('.output');\n",
       "if (outputEl) {{\n",
       "    x.observe(outputEl, {childList: true});\n",
       "}}\n",
       "\n",
       "                        })\n",
       "                };\n",
       "                });\n",
       "            </script>\n",
       "        </div>"
      ]
     },
     "metadata": {},
     "output_type": "display_data"
    }
   ],
   "source": [
    "fig=(px.scatter(tests_df, y='confirmed/1M', x='tests/1M',symbol='country', color='case rate', hover_data=['confirmed', 'tests'], hover_name='nice_date', labels=LABELS, title=LABELS['title'])\n",
    "    .update_traces(line_width=3, mode='markers+lines', hovertemplate='<b>%{fullData.name}</b> - %{hovertext}<br>confirmed cases=%{customdata[0]} (%{y:.1f} / 1M)<br>total tests=%{customdata[1]} (%{x:.1f} / 1M)<br>confirmed rate=%{marker.color:.1%}')\n",
    "    .update_layout(coloraxis=dict(colorbar=dict(tickformat='.1%'), colorscale=px.colors.sequential.Sunsetdark_r), legend=dict(x=.025, y=0.95)))\n",
    "fig"
   ]
  },
  {
   "cell_type": "code",
   "execution_count": 10,
   "metadata": {},
   "outputs": [],
   "source": [
    "fig.write_html('../Coronavirus_testing_comparison.html', include_plotlyjs='cdn')"
   ]
  }
 ],
 "metadata": {
  "kernelspec": {
   "display_name": "Python 3",
   "language": "python",
   "name": "python3"
  },
  "language_info": {
   "codemirror_mode": {
    "name": "ipython",
    "version": 3
   },
   "file_extension": ".py",
   "mimetype": "text/x-python",
   "name": "python",
   "nbconvert_exporter": "python",
   "pygments_lexer": "ipython3",
   "version": "3.7.4"
  }
 },
 "nbformat": 4,
 "nbformat_minor": 4
}
