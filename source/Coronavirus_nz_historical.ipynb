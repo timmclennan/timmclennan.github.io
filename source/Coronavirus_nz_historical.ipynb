{
 "cells": [
  {
   "cell_type": "code",
   "execution_count": 1,
   "metadata": {},
   "outputs": [],
   "source": [
    "import numpy as np\n",
    "import pandas as pd\n",
    "import plotly.express as px\n",
    "import plotly.graph_objects as go\n",
    "import common"
   ]
  },
  {
   "cell_type": "code",
   "execution_count": 2,
   "metadata": {},
   "outputs": [],
   "source": [
    "DHBS = ['Northland', 'Waitemata', 'Auckland', 'Counties Manukau', 'Waikato', 'Bay of Plenty', 'Tairawhiti', 'Lakes','Taranaki', \"Hawke's Bay\", 'Whanganui', 'MidCentral', 'Hutt Valley', 'Capital and Coast', 'Wairarapa', 'Nelson Marlborough', 'West Coast', 'Canterbury',  'South Canterbury', 'Southern']\n",
    "CASE_FILE_FORMAT = common.site_file('..', 'nz_data','covid-casedetails-%s.xlsx')\n",
    "COLUMNS = ['Date of report', 'Sex', 'Age group', 'DHB', 'International travel',\n",
    "        'Last country before return', 'Flight number', 'Flight departure date',\n",
    "        'Arrival date']\n",
    "INDEX_COLUMNS = ['Date of report', 'DHB']"
   ]
  },
  {
   "cell_type": "code",
   "execution_count": 3,
   "metadata": {},
   "outputs": [],
   "source": [
    "dates = pd.date_range('2020-03-28', 'now')"
   ]
  },
  {
   "cell_type": "code",
   "execution_count": 4,
   "metadata": {},
   "outputs": [],
   "source": [
    "testing_df = pd.read_csv(common.GOOGLE_SHEET_BASE+'pub?single=true&gid=1623378382&output=csv', index_col=0, header=1, na_values=['-'], dtype={'pop':np.float64})"
   ]
  },
  {
   "cell_type": "code",
   "execution_count": null,
   "metadata": {
    "scrolled": true
   },
   "outputs": [],
   "source": [
    "all_dfs = [pd.read_excel(CASE_FILE_FORMAT % '28mar-confirmed', names=COLUMNS, index_col='Date of report', header=3), \n",
    "           pd.read_excel(CASE_FILE_FORMAT % '28mar-probable', names=COLUMNS, index_col='Date of report', header=3)]\n",
    "hd=1\n",
    "for date in dates[1:]:\n",
    "    case_file = CASE_FILE_FORMAT % date.strftime('%e%B%Y').lower().strip()\n",
    "    all_dfs.extend(pd.read_excel(case_file, sheet_name=None, names=COLUMNS, dayfirst=True, parse_dates=True, index_col='Date of report', header=hd).values())\n",
    "    hd=3"
   ]
  },
  {
   "cell_type": "code",
   "execution_count": null,
   "metadata": {},
   "outputs": [],
   "source": [
    "all_df = pd.concat(all_dfs, keys=pd.MultiIndex.from_product([dates, ['confirmed','probable']]), names=['info date', 'type'])\n",
    "all_df['Age group'].fillna('unknown', inplace=True)"
   ]
  },
  {
   "cell_type": "code",
   "execution_count": null,
   "metadata": {},
   "outputs": [],
   "source": [
    "all_df.DHB[all_df.DHB=='Waitematā']='Waitemata'\n",
    "all_df.DHB[all_df.DHB=='Tairāwhiti']='Tairawhiti'"
   ]
  },
  {
   "cell_type": "code",
   "execution_count": null,
   "metadata": {},
   "outputs": [],
   "source": [
    "all_counts_df = pd.pivot_table(all_df[['DHB','Age group']], index=['info date', 'type', 'DHB'], columns='Date of report', aggfunc='count')['Age group']"
   ]
  },
  {
   "cell_type": "code",
   "execution_count": null,
   "metadata": {},
   "outputs": [],
   "source": [
    "PERIODS = [(all_counts_df.columns[0], '2020-03-26', 'pre-lockdown'),\n",
    "                   ('2020-03-27', '2020-04-02', 'week 1'),\n",
    "                   ('2020-04-03', '2020-04-09', 'week 2'),\n",
    "                   ('2020-04-10', '2020-04-16', 'week 3'),\n",
    "                   ('2020-04-17', '2020-04-23', 'week 4'),\n",
    "                   ('2020-04-24', None, 'daily')\n",
    "          ]"
   ]
  },
  {
   "cell_type": "code",
   "execution_count": null,
   "metadata": {},
   "outputs": [],
   "source": [
    "daily_start = PERIODS[-1][0]\n",
    "daily_names = dates[dates.get_loc(daily_start):].strftime('%B %d').values.tolist()"
   ]
  },
  {
   "cell_type": "code",
   "execution_count": null,
   "metadata": {},
   "outputs": [],
   "source": [
    "def make_period_df(dates_df, column_names=daily_names, start=daily_start, periods=PERIODS[:-1]):\n",
    "    daily_df = dates_df.loc[:,start:] \n",
    "    daily_df.columns=column_names[:len(daily_df.columns)]\n",
    "    df = pd.concat([dates_df.loc[:,st:end].sum(axis=1).rename(name) for (st, end, name) in periods]+[daily_df], axis=1)\n",
    "    df.rename_axis('report date',axis=1, inplace=True)\n",
    "    return df"
   ]
  },
  {
   "cell_type": "code",
   "execution_count": null,
   "metadata": {},
   "outputs": [],
   "source": [
    "counts_df = make_period_df(all_counts_df)\n"
   ]
  },
  {
   "cell_type": "code",
   "execution_count": null,
   "metadata": {},
   "outputs": [],
   "source": [
    "\n",
    "def format_series(df):\n",
    "    return df.stack().unstack('type').reset_index()"
   ]
  },
  {
   "cell_type": "code",
   "execution_count": null,
   "metadata": {},
   "outputs": [],
   "source": [
    "report_date_values = counts_df.columns.values.tolist()\n",
    "def bar_plot(df, y_series='info date', y_order=None,title=None, category_orders={'report date':report_date_values}):\n",
    "    if y_order is not None:\n",
    "        category_orders=dict(category_orders)\n",
    "        category_orders[y_series] = y_order\n",
    "    fig = px.bar(df, orientation='h', color='report date', y=y_series, x='confirmed', labels={'info date':'Date of case details file'},category_orders=category_orders)#, category_orders={'report_date':cols})\n",
    "    data = [None,None] * len(fig.data)\n",
    "    data[::2] = fig.data\n",
    "    data[1::2] = fig2 = px.bar(df, opacity=.4, orientation='h', color='report date', y=y_series, x='probable',category_orders=category_orders).update_traces(showlegend=False).data\n",
    "    return go.Figure(data, layout=fig.layout).update_layout(yaxis_autorange='reversed' if y_order is None else True, xaxis_title_text='cases', title=title or 'Confirmed and probable cases for NZ')\n"
   ]
  },
  {
   "cell_type": "code",
   "execution_count": null,
   "metadata": {},
   "outputs": [],
   "source": [
    "today_df=counts_df.loc[dates[-1]]\n",
    "today_str = dates[-1].strftime('%e %B %Y')"
   ]
  },
  {
   "cell_type": "code",
   "execution_count": null,
   "metadata": {},
   "outputs": [],
   "source": [
    "DHB_pops100k = testing_df['pop']/100000"
   ]
  },
  {
   "cell_type": "code",
   "execution_count": null,
   "metadata": {},
   "outputs": [],
   "source": [
    "fig = bar_plot(format_series(today_df), y_series='DHB', y_order=DHBS, title='Confirmed and probable cases for NZ by DHB<br>Data from case details on '+today_str)\n",
    "fig"
   ]
  },
  {
   "cell_type": "code",
   "execution_count": null,
   "metadata": {},
   "outputs": [],
   "source": [
    "fig.write_html(common.site_file('Coronavirus_NZ_cases_by_DHB.html'), include_plotlyjs='cdn')"
   ]
  },
  {
   "cell_type": "code",
   "execution_count": null,
   "metadata": {},
   "outputs": [],
   "source": [
    "fig = (bar_plot(format_series(today_df.div(DHB_pops100k, axis=0, level='DHB')), y_series='DHB', y_order=DHBS, title='Confirmed and probable cases for NZ by DHB per 100k population<br>Data from case details on '+today_str)\n",
    "       .update_layout(xaxis_title='case per 100k population') )\n",
    "fig"
   ]
  },
  {
   "cell_type": "code",
   "execution_count": null,
   "metadata": {},
   "outputs": [],
   "source": [
    "fig.write_html(common.site_file('Coronavirus_NZ_cases_by_DHB_normalised.html'), include_plotlyjs='cdn')"
   ]
  },
  {
   "cell_type": "code",
   "execution_count": null,
   "metadata": {},
   "outputs": [],
   "source": [
    "nz_df = format_series(counts_df.sum(level=['info date','type']))\n",
    "fig=bar_plot(nz_df, title='Changes in confirmed and probable cases for all NZ<br>Data taken from the case details files')\n",
    "fig"
   ]
  },
  {
   "cell_type": "code",
   "execution_count": null,
   "metadata": {},
   "outputs": [],
   "source": [
    "fig.write_html(common.site_file('Coronavirus_NZ_cases_over_time.html'), include_plotlyjs='cdn')"
   ]
  },
  {
   "cell_type": "code",
   "execution_count": null,
   "metadata": {},
   "outputs": [],
   "source": [
    "fig=bar_plot(format_series(counts_df.loc[pd.IndexSlice[:,:,'Canterbury'], :].fillna(0)), title='Changes in confirmed and probable cases for Canterbury<br>Data taken from the case details files')\n",
    "fig"
   ]
  },
  {
   "cell_type": "code",
   "execution_count": null,
   "metadata": {},
   "outputs": [],
   "source": [
    "fig.write_html(common.site_file('Coronavirus_Canterbury_cases_over_time.html'), include_plotlyjs='cdn')"
   ]
  }
 ],
 "metadata": {
  "kernelspec": {
   "display_name": "Python 3",
   "language": "python",
   "name": "python3"
  },
  "language_info": {
   "codemirror_mode": {
    "name": "ipython",
    "version": 3
   },
   "file_extension": ".py",
   "mimetype": "text/x-python",
   "name": "python",
   "nbconvert_exporter": "python",
   "pygments_lexer": "ipython3",
   "version": "3.7.4"
  }
 },
 "nbformat": 4,
 "nbformat_minor": 4
}
