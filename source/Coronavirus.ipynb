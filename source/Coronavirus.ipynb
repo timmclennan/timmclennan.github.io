{
 "cells": [
  {
   "cell_type": "code",
   "execution_count": 18,
   "metadata": {},
   "outputs": [],
   "source": [
    "import numpy as np\n",
    "import pandas as pd\n",
    "import plotly.express as px"
   ]
  },
  {
   "cell_type": "code",
   "execution_count": 19,
   "metadata": {},
   "outputs": [],
   "source": [
    "import plotly.io\n",
    "plotly.io.renderers.default = 'notebook_connected'"
   ]
  },
  {
   "cell_type": "code",
   "execution_count": 20,
   "metadata": {},
   "outputs": [],
   "source": [
    "DHBS = ['Northland', 'Waitemata', 'Auckland', 'Counties Manukau', 'Waikato', 'Bay of Plenty', 'Tairawhiti', 'Lakes','Taranaki', \"Hawke's Bay\", 'Whanganui', 'MidCentral', 'Hutt Valley', 'Capital and Coast', 'Wairarapa', 'Nelson Marlborough', 'West Coast', 'Canterbury',  'South Canterbury', 'Southern']"
   ]
  },
  {
   "cell_type": "code",
   "execution_count": 21,
   "metadata": {},
   "outputs": [],
   "source": [
    "datestr='6-april-2020'\n",
    "CASE_URL_FORMAT = 'https://www.health.govt.nz/system/files/documents/pages/covid-19-case-details-update-%s.xlsx'\n"
   ]
  },
  {
   "cell_type": "code",
   "execution_count": null,
   "metadata": {},
   "outputs": [],
   "source": []
  },
  {
   "cell_type": "code",
   "execution_count": 22,
   "metadata": {},
   "outputs": [],
   "source": [
    "case_url = CASE_URL_FORMAT % datestr\n",
    "case_url = 'https://www.health.govt.nz/system/files/documents/pages/covid-casedetails-update-6april.xlsx'"
   ]
  },
  {
   "cell_type": "code",
   "execution_count": 23,
   "metadata": {},
   "outputs": [],
   "source": [
    "today = pd.to_datetime(datestr.replace('-', ' '))"
   ]
  },
  {
   "cell_type": "code",
   "execution_count": null,
   "metadata": {},
   "outputs": [],
   "source": []
  },
  {
   "cell_type": "code",
   "execution_count": 24,
   "metadata": {
    "scrolled": true
   },
   "outputs": [],
   "source": [
    "with pd.ExcelFile(case_url) as excel_file:\n",
    "    cases_dfs = {name: excel_file.parse(i, header=3) for i, name in enumerate(['confirmed', 'probable'])}"
   ]
  },
  {
   "cell_type": "code",
   "execution_count": 25,
   "metadata": {},
   "outputs": [],
   "source": [
    "def get_case_counts(df, date_name='Report Date', date_col=0):\n",
    "    return df.groupby([df.columns[date_col], 'DHB']).agg(c=('DHB', 'count')).c.rename_axis([date_name, 'DHB'])"
   ]
  },
  {
   "cell_type": "code",
   "execution_count": 26,
   "metadata": {},
   "outputs": [],
   "source": [
    "cdf = pd.concat({key: get_case_counts(df) for key, df in cases_dfs.items()}, axis=1, names=['type']).loc[:today - pd.Timedelta(days=1)]"
   ]
  },
  {
   "cell_type": "code",
   "execution_count": 27,
   "metadata": {},
   "outputs": [],
   "source": [
    "totals_df = cdf.sum(1).rename('cases').reset_index()"
   ]
  },
  {
   "cell_type": "code",
   "execution_count": 28,
   "metadata": {},
   "outputs": [
    {
     "data": {
      "text/html": [
       "        <script type=\"text/javascript\">\n",
       "        window.PlotlyConfig = {MathJaxConfig: 'local'};\n",
       "        if (window.MathJax) {MathJax.Hub.Config({SVG: {font: \"STIX-Web\"}});}\n",
       "        if (typeof require !== 'undefined') {\n",
       "        require.undef(\"plotly\");\n",
       "        requirejs.config({\n",
       "            paths: {\n",
       "                'plotly': ['https://cdn.plot.ly/plotly-latest.min']\n",
       "            }\n",
       "        });\n",
       "        require(['plotly'], function(Plotly) {\n",
       "            window._Plotly = Plotly;\n",
       "        });\n",
       "        }\n",
       "        </script>\n",
       "        "
      ]
     },
     "metadata": {},
     "output_type": "display_data"
    },
    {
     "data": {
      "text/html": [
       "<div>\n",
       "        \n",
       "        \n",
       "            <div id=\"e5feb74a-d442-4e81-a84e-2d5abf752274\" class=\"plotly-graph-div\" style=\"height:525px; width:100%;\"></div>\n",
       "            <script type=\"text/javascript\">\n",
       "                require([\"plotly\"], function(Plotly) {\n",
       "                    window.PLOTLYENV=window.PLOTLYENV || {};\n",
       "                    \n",
       "                if (document.getElementById(\"e5feb74a-d442-4e81-a84e-2d5abf752274\")) {\n",
       "                    Plotly.newPlot(\n",
       "                        'e5feb74a-d442-4e81-a84e-2d5abf752274',\n",
       "                        [{\"alignmentgroup\": \"True\", \"hoverlabel\": {\"namelength\": 0}, \"hovertemplate\": \"DHB=Auckland<br>Report Date=%{x}<br>cases=%{y}\", \"legendgroup\": \"Auckland\", \"marker\": {\"color\": \"#636efa\"}, \"name\": \"Auckland\", \"offsetgroup\": \"Auckland\", \"orientation\": \"v\", \"showlegend\": true, \"textposition\": \"auto\", \"type\": \"bar\", \"x\": [\"2020-02-26T00:00:00\", \"2020-03-16T00:00:00\", \"2020-03-17T00:00:00\", \"2020-03-18T00:00:00\", \"2020-03-19T00:00:00\", \"2020-03-20T00:00:00\", \"2020-03-21T00:00:00\", \"2020-03-22T00:00:00\", \"2020-03-23T00:00:00\", \"2020-03-24T00:00:00\", \"2020-03-25T00:00:00\", \"2020-03-26T00:00:00\", \"2020-03-27T00:00:00\", \"2020-03-28T00:00:00\", \"2020-03-29T00:00:00\", \"2020-03-30T00:00:00\", \"2020-03-31T00:00:00\", \"2020-04-01T00:00:00\", \"2020-04-02T00:00:00\", \"2020-04-03T00:00:00\", \"2020-04-04T00:00:00\", \"2020-04-05T00:00:00\"], \"xaxis\": \"x\", \"y\": [1.0, 1.0, 2.0, 1.0, 4.0, 1.0, 4.0, 8.0, 7.0, 7.0, 12.0, 12.0, 8.0, 15.0, 10.0, 6.0, 8.0, 9.0, 5.0, 6.0, 11.0, 9.0], \"yaxis\": \"y\"}, {\"alignmentgroup\": \"True\", \"hoverlabel\": {\"namelength\": 0}, \"hovertemplate\": \"DHB=Southern<br>Report Date=%{x}<br>cases=%{y}\", \"legendgroup\": \"Southern\", \"marker\": {\"color\": \"#EF553B\"}, \"name\": \"Southern\", \"offsetgroup\": \"Southern\", \"orientation\": \"v\", \"showlegend\": true, \"textposition\": \"auto\", \"type\": \"bar\", \"x\": [\"2020-02-28T00:00:00\", \"2020-03-13T00:00:00\", \"2020-03-17T00:00:00\", \"2020-03-18T00:00:00\", \"2020-03-19T00:00:00\", \"2020-03-20T00:00:00\", \"2020-03-22T00:00:00\", \"2020-03-23T00:00:00\", \"2020-03-24T00:00:00\", \"2020-03-25T00:00:00\", \"2020-03-26T00:00:00\", \"2020-03-27T00:00:00\", \"2020-03-28T00:00:00\", \"2020-03-29T00:00:00\", \"2020-03-30T00:00:00\", \"2020-03-31T00:00:00\", \"2020-04-01T00:00:00\", \"2020-04-02T00:00:00\", \"2020-04-03T00:00:00\", \"2020-04-04T00:00:00\", \"2020-04-05T00:00:00\"], \"xaxis\": \"x\", \"y\": [2.0, 1.0, 3.0, 2.0, 1.0, 2.0, 2.0, 4.0, 7.0, 9.0, 7.0, 19.0, 11.0, 12.0, 9.0, 9.0, 16.0, 19.0, 15.0, 10.0, 17.0], \"yaxis\": \"y\"}, {\"alignmentgroup\": \"True\", \"hoverlabel\": {\"namelength\": 0}, \"hovertemplate\": \"DHB=Waitemata<br>Report Date=%{x}<br>cases=%{y}\", \"legendgroup\": \"Waitemata\", \"marker\": {\"color\": \"#00cc96\"}, \"name\": \"Waitemata\", \"offsetgroup\": \"Waitemata\", \"orientation\": \"v\", \"showlegend\": true, \"textposition\": \"auto\", \"type\": \"bar\", \"x\": [\"2020-03-02T00:00:00\", \"2020-03-04T00:00:00\", \"2020-03-05T00:00:00\", \"2020-03-15T00:00:00\", \"2020-03-17T00:00:00\", \"2020-03-19T00:00:00\", \"2020-03-20T00:00:00\", \"2020-03-21T00:00:00\", \"2020-03-22T00:00:00\", \"2020-03-23T00:00:00\", \"2020-03-24T00:00:00\", \"2020-03-25T00:00:00\", \"2020-03-26T00:00:00\", \"2020-03-27T00:00:00\", \"2020-03-28T00:00:00\", \"2020-03-29T00:00:00\", \"2020-03-30T00:00:00\", \"2020-03-31T00:00:00\", \"2020-04-01T00:00:00\", \"2020-04-02T00:00:00\", \"2020-04-03T00:00:00\", \"2020-04-04T00:00:00\", \"2020-04-05T00:00:00\"], \"xaxis\": \"x\", \"y\": [1.0, 1.0, 1.0, 1.0, 2.0, 1.0, 2.0, 1.0, 5.0, 2.0, 10.0, 12.0, 11.0, 3.0, 13.0, 15.0, 9.0, 12.0, 12.0, 11.0, 8.0, 13.0, 11.0], \"yaxis\": \"y\"}, {\"alignmentgroup\": \"True\", \"hoverlabel\": {\"namelength\": 0}, \"hovertemplate\": \"DHB=Counties Manukau<br>Report Date=%{x}<br>cases=%{y}\", \"legendgroup\": \"Counties Manukau\", \"marker\": {\"color\": \"#ab63fa\"}, \"name\": \"Counties Manukau\", \"offsetgroup\": \"Counties Manukau\", \"orientation\": \"v\", \"showlegend\": true, \"textposition\": \"auto\", \"type\": \"bar\", \"x\": [\"2020-03-04T00:00:00\", \"2020-03-05T00:00:00\", \"2020-03-06T00:00:00\", \"2020-03-12T00:00:00\", \"2020-03-17T00:00:00\", \"2020-03-19T00:00:00\", \"2020-03-21T00:00:00\", \"2020-03-22T00:00:00\", \"2020-03-23T00:00:00\", \"2020-03-24T00:00:00\", \"2020-03-25T00:00:00\", \"2020-03-26T00:00:00\", \"2020-03-27T00:00:00\", \"2020-03-28T00:00:00\", \"2020-03-29T00:00:00\", \"2020-03-30T00:00:00\", \"2020-03-31T00:00:00\", \"2020-04-01T00:00:00\", \"2020-04-02T00:00:00\", \"2020-04-03T00:00:00\", \"2020-04-04T00:00:00\", \"2020-04-05T00:00:00\"], \"xaxis\": \"x\", \"y\": [1.0, 1.0, 1.0, 1.0, 1.0, 1.0, 4.0, 8.0, 1.0, 2.0, 5.0, 3.0, 4.0, 6.0, 3.0, 8.0, 7.0, 3.0, 6.0, 5.0, 3.0, 7.0], \"yaxis\": \"y\"}, {\"alignmentgroup\": \"True\", \"hoverlabel\": {\"namelength\": 0}, \"hovertemplate\": \"DHB=Capital and Coast<br>Report Date=%{x}<br>cases=%{y}\", \"legendgroup\": \"Capital and Coast\", \"marker\": {\"color\": \"#FFA15A\"}, \"name\": \"Capital and Coast\", \"offsetgroup\": \"Capital and Coast\", \"orientation\": \"v\", \"showlegend\": true, \"textposition\": \"auto\", \"type\": \"bar\", \"x\": [\"2020-03-14T00:00:00\", \"2020-03-16T00:00:00\", \"2020-03-17T00:00:00\", \"2020-03-18T00:00:00\", \"2020-03-19T00:00:00\", \"2020-03-21T00:00:00\", \"2020-03-22T00:00:00\", \"2020-03-23T00:00:00\", \"2020-03-24T00:00:00\", \"2020-03-25T00:00:00\", \"2020-03-26T00:00:00\", \"2020-03-27T00:00:00\", \"2020-03-28T00:00:00\", \"2020-03-29T00:00:00\", \"2020-03-30T00:00:00\", \"2020-03-31T00:00:00\", \"2020-04-01T00:00:00\", \"2020-04-02T00:00:00\", \"2020-04-03T00:00:00\", \"2020-04-04T00:00:00\", \"2020-04-05T00:00:00\"], \"xaxis\": \"x\", \"y\": [1.0, 2.0, 1.0, 1.0, 3.0, 1.0, 7.0, 9.0, 10.0, 4.0, 3.0, 3.0, 5.0, 8.0, 1.0, 2.0, 3.0, 4.0, 6.0, 6.0, 1.0], \"yaxis\": \"y\"}, {\"alignmentgroup\": \"True\", \"hoverlabel\": {\"namelength\": 0}, \"hovertemplate\": \"DHB=Taranaki<br>Report Date=%{x}<br>cases=%{y}\", \"legendgroup\": \"Taranaki\", \"marker\": {\"color\": \"#19d3f3\"}, \"name\": \"Taranaki\", \"offsetgroup\": \"Taranaki\", \"orientation\": \"v\", \"showlegend\": true, \"textposition\": \"auto\", \"type\": \"bar\", \"x\": [\"2020-03-16T00:00:00\", \"2020-03-21T00:00:00\", \"2020-03-25T00:00:00\", \"2020-03-26T00:00:00\", \"2020-03-27T00:00:00\", \"2020-03-30T00:00:00\", \"2020-04-01T00:00:00\"], \"xaxis\": \"x\", \"y\": [2.0, 2.0, 1.0, 3.0, 4.0, 1.0, 1.0], \"yaxis\": \"y\"}, {\"alignmentgroup\": \"True\", \"hoverlabel\": {\"namelength\": 0}, \"hovertemplate\": \"DHB=Waikato<br>Report Date=%{x}<br>cases=%{y}\", \"legendgroup\": \"Waikato\", \"marker\": {\"color\": \"#FF6692\"}, \"name\": \"Waikato\", \"offsetgroup\": \"Waikato\", \"orientation\": \"v\", \"showlegend\": true, \"textposition\": \"auto\", \"type\": \"bar\", \"x\": [\"2020-03-16T00:00:00\", \"2020-03-19T00:00:00\", \"2020-03-20T00:00:00\", \"2020-03-21T00:00:00\", \"2020-03-22T00:00:00\", \"2020-03-23T00:00:00\", \"2020-03-24T00:00:00\", \"2020-03-25T00:00:00\", \"2020-03-26T00:00:00\", \"2020-03-27T00:00:00\", \"2020-03-28T00:00:00\", \"2020-03-29T00:00:00\", \"2020-03-30T00:00:00\", \"2020-03-31T00:00:00\", \"2020-04-01T00:00:00\", \"2020-04-02T00:00:00\", \"2020-04-03T00:00:00\", \"2020-04-04T00:00:00\", \"2020-04-05T00:00:00\"], \"xaxis\": \"x\", \"y\": [2.0, 2.0, 1.0, 3.0, 3.0, 4.0, 2.0, 21.0, 11.0, 11.0, 3.0, 16.0, 5.0, 24.0, 10.0, 8.0, 13.0, 6.0, 2.0], \"yaxis\": \"y\"}, {\"alignmentgroup\": \"True\", \"hoverlabel\": {\"namelength\": 0}, \"hovertemplate\": \"DHB=Canterbury<br>Report Date=%{x}<br>cases=%{y}\", \"legendgroup\": \"Canterbury\", \"marker\": {\"color\": \"#B6E880\"}, \"name\": \"Canterbury\", \"offsetgroup\": \"Canterbury\", \"orientation\": \"v\", \"showlegend\": true, \"textposition\": \"auto\", \"type\": \"bar\", \"x\": [\"2020-03-17T00:00:00\", \"2020-03-18T00:00:00\", \"2020-03-20T00:00:00\", \"2020-03-21T00:00:00\", \"2020-03-22T00:00:00\", \"2020-03-23T00:00:00\", \"2020-03-24T00:00:00\", \"2020-03-25T00:00:00\", \"2020-03-26T00:00:00\", \"2020-03-27T00:00:00\", \"2020-03-28T00:00:00\", \"2020-03-29T00:00:00\", \"2020-03-30T00:00:00\", \"2020-03-31T00:00:00\", \"2020-04-01T00:00:00\", \"2020-04-02T00:00:00\", \"2020-04-03T00:00:00\", \"2020-04-04T00:00:00\", \"2020-04-05T00:00:00\"], \"xaxis\": \"x\", \"y\": [1.0, 1.0, 2.0, 3.0, 4.0, 4.0, 7.0, 5.0, 11.0, 6.0, 7.0, 3.0, 1.0, 3.0, 2.0, 8.0, 9.0, 14.0, 1.0], \"yaxis\": \"y\"}, {\"alignmentgroup\": \"True\", \"hoverlabel\": {\"namelength\": 0}, \"hovertemplate\": \"DHB=Lakes<br>Report Date=%{x}<br>cases=%{y}\", \"legendgroup\": \"Lakes\", \"marker\": {\"color\": \"#FF97FF\"}, \"name\": \"Lakes\", \"offsetgroup\": \"Lakes\", \"orientation\": \"v\", \"showlegend\": true, \"textposition\": \"auto\", \"type\": \"bar\", \"x\": [\"2020-03-17T00:00:00\", \"2020-03-20T00:00:00\", \"2020-03-23T00:00:00\", \"2020-03-24T00:00:00\", \"2020-03-25T00:00:00\", \"2020-03-26T00:00:00\", \"2020-03-28T00:00:00\", \"2020-03-30T00:00:00\", \"2020-04-04T00:00:00\"], \"xaxis\": \"x\", \"y\": [1.0, 1.0, 1.0, 1.0, 3.0, 1.0, 1.0, 2.0, 1.0], \"yaxis\": \"y\"}, {\"alignmentgroup\": \"True\", \"hoverlabel\": {\"namelength\": 0}, \"hovertemplate\": \"DHB=Northland<br>Report Date=%{x}<br>cases=%{y}\", \"legendgroup\": \"Northland\", \"marker\": {\"color\": \"#FECB52\"}, \"name\": \"Northland\", \"offsetgroup\": \"Northland\", \"orientation\": \"v\", \"showlegend\": true, \"textposition\": \"auto\", \"type\": \"bar\", \"x\": [\"2020-03-17T00:00:00\", \"2020-03-22T00:00:00\", \"2020-03-24T00:00:00\", \"2020-03-25T00:00:00\", \"2020-03-26T00:00:00\", \"2020-03-29T00:00:00\", \"2020-03-30T00:00:00\", \"2020-03-31T00:00:00\", \"2020-04-01T00:00:00\", \"2020-04-02T00:00:00\", \"2020-04-03T00:00:00\", \"2020-04-04T00:00:00\", \"2020-04-05T00:00:00\"], \"xaxis\": \"x\", \"y\": [1.0, 1.0, 1.0, 2.0, 2.0, 2.0, 1.0, 1.0, 1.0, 1.0, 1.0, 1.0, 2.0], \"yaxis\": \"y\"}, {\"alignmentgroup\": \"True\", \"hoverlabel\": {\"namelength\": 0}, \"hovertemplate\": \"DHB=Hawke's Bay<br>Report Date=%{x}<br>cases=%{y}\", \"legendgroup\": \"Hawke's Bay\", \"marker\": {\"color\": \"#636efa\"}, \"name\": \"Hawke's Bay\", \"offsetgroup\": \"Hawke's Bay\", \"orientation\": \"v\", \"showlegend\": true, \"textposition\": \"auto\", \"type\": \"bar\", \"x\": [\"2020-03-19T00:00:00\", \"2020-03-24T00:00:00\", \"2020-03-25T00:00:00\", \"2020-03-26T00:00:00\", \"2020-03-27T00:00:00\", \"2020-03-28T00:00:00\", \"2020-03-30T00:00:00\", \"2020-04-01T00:00:00\", \"2020-04-02T00:00:00\", \"2020-04-03T00:00:00\", \"2020-04-05T00:00:00\"], \"xaxis\": \"x\", \"y\": [1.0, 2.0, 3.0, 4.0, 1.0, 1.0, 3.0, 4.0, 5.0, 5.0, 4.0], \"yaxis\": \"y\"}, {\"alignmentgroup\": \"True\", \"hoverlabel\": {\"namelength\": 0}, \"hovertemplate\": \"DHB=Hutt Valley<br>Report Date=%{x}<br>cases=%{y}\", \"legendgroup\": \"Hutt Valley\", \"marker\": {\"color\": \"#EF553B\"}, \"name\": \"Hutt Valley\", \"offsetgroup\": \"Hutt Valley\", \"orientation\": \"v\", \"showlegend\": true, \"textposition\": \"auto\", \"type\": \"bar\", \"x\": [\"2020-03-19T00:00:00\", \"2020-03-22T00:00:00\", \"2020-03-23T00:00:00\", \"2020-03-25T00:00:00\", \"2020-03-26T00:00:00\", \"2020-03-27T00:00:00\", \"2020-03-31T00:00:00\", \"2020-04-02T00:00:00\", \"2020-04-03T00:00:00\"], \"xaxis\": \"x\", \"y\": [2.0, 1.0, 2.0, 1.0, 4.0, 3.0, 1.0, 4.0, 1.0], \"yaxis\": \"y\"}, {\"alignmentgroup\": \"True\", \"hoverlabel\": {\"namelength\": 0}, \"hovertemplate\": \"DHB=MidCentral<br>Report Date=%{x}<br>cases=%{y}\", \"legendgroup\": \"MidCentral\", \"marker\": {\"color\": \"#00cc96\"}, \"name\": \"MidCentral\", \"offsetgroup\": \"MidCentral\", \"orientation\": \"v\", \"showlegend\": true, \"textposition\": \"auto\", \"type\": \"bar\", \"x\": [\"2020-03-19T00:00:00\", \"2020-03-21T00:00:00\", \"2020-03-23T00:00:00\", \"2020-03-24T00:00:00\", \"2020-03-25T00:00:00\", \"2020-03-27T00:00:00\", \"2020-03-29T00:00:00\", \"2020-03-31T00:00:00\", \"2020-04-01T00:00:00\", \"2020-04-02T00:00:00\", \"2020-04-04T00:00:00\", \"2020-04-05T00:00:00\"], \"xaxis\": \"x\", \"y\": [3.0, 1.0, 1.0, 1.0, 2.0, 2.0, 3.0, 4.0, 2.0, 1.0, 3.0, 3.0], \"yaxis\": \"y\"}, {\"alignmentgroup\": \"True\", \"hoverlabel\": {\"namelength\": 0}, \"hovertemplate\": \"DHB=Wairarapa<br>Report Date=%{x}<br>cases=%{y}\", \"legendgroup\": \"Wairarapa\", \"marker\": {\"color\": \"#ab63fa\"}, \"name\": \"Wairarapa\", \"offsetgroup\": \"Wairarapa\", \"orientation\": \"v\", \"showlegend\": true, \"textposition\": \"auto\", \"type\": \"bar\", \"x\": [\"2020-03-19T00:00:00\", \"2020-03-21T00:00:00\", \"2020-03-24T00:00:00\", \"2020-03-31T00:00:00\", \"2020-04-02T00:00:00\"], \"xaxis\": \"x\", \"y\": [1.0, 2.0, 2.0, 1.0, 2.0], \"yaxis\": \"y\"}, {\"alignmentgroup\": \"True\", \"hoverlabel\": {\"namelength\": 0}, \"hovertemplate\": \"DHB=Nelson Marlborough<br>Report Date=%{x}<br>cases=%{y}\", \"legendgroup\": \"Nelson Marlborough\", \"marker\": {\"color\": \"#FFA15A\"}, \"name\": \"Nelson Marlborough\", \"offsetgroup\": \"Nelson Marlborough\", \"orientation\": \"v\", \"showlegend\": true, \"textposition\": \"auto\", \"type\": \"bar\", \"x\": [\"2020-03-20T00:00:00\", \"2020-03-21T00:00:00\", \"2020-03-22T00:00:00\", \"2020-03-23T00:00:00\", \"2020-03-24T00:00:00\", \"2020-03-25T00:00:00\", \"2020-03-28T00:00:00\", \"2020-03-29T00:00:00\", \"2020-03-30T00:00:00\", \"2020-03-31T00:00:00\", \"2020-04-01T00:00:00\", \"2020-04-02T00:00:00\", \"2020-04-03T00:00:00\", \"2020-04-04T00:00:00\", \"2020-04-05T00:00:00\"], \"xaxis\": \"x\", \"y\": [2.0, 2.0, 5.0, 3.0, 3.0, 3.0, 1.0, 1.0, 2.0, 2.0, 4.0, 2.0, 2.0, 3.0, 5.0], \"yaxis\": \"y\"}, {\"alignmentgroup\": \"True\", \"hoverlabel\": {\"namelength\": 0}, \"hovertemplate\": \"DHB=Bay of Plenty<br>Report Date=%{x}<br>cases=%{y}\", \"legendgroup\": \"Bay of Plenty\", \"marker\": {\"color\": \"#19d3f3\"}, \"name\": \"Bay of Plenty\", \"offsetgroup\": \"Bay of Plenty\", \"orientation\": \"v\", \"showlegend\": true, \"textposition\": \"auto\", \"type\": \"bar\", \"x\": [\"2020-03-21T00:00:00\", \"2020-03-24T00:00:00\", \"2020-03-25T00:00:00\", \"2020-03-26T00:00:00\", \"2020-03-27T00:00:00\", \"2020-03-28T00:00:00\", \"2020-03-30T00:00:00\", \"2020-03-31T00:00:00\", \"2020-04-01T00:00:00\", \"2020-04-02T00:00:00\", \"2020-04-03T00:00:00\", \"2020-04-04T00:00:00\", \"2020-04-05T00:00:00\"], \"xaxis\": \"x\", \"y\": [1.0, 3.0, 2.0, 3.0, 3.0, 2.0, 4.0, 2.0, 5.0, 4.0, 1.0, 1.0, 1.0], \"yaxis\": \"y\"}, {\"alignmentgroup\": \"True\", \"hoverlabel\": {\"namelength\": 0}, \"hovertemplate\": \"DHB=West Coast<br>Report Date=%{x}<br>cases=%{y}\", \"legendgroup\": \"West Coast\", \"marker\": {\"color\": \"#FF6692\"}, \"name\": \"West Coast\", \"offsetgroup\": \"West Coast\", \"orientation\": \"v\", \"showlegend\": true, \"textposition\": \"auto\", \"type\": \"bar\", \"x\": [\"2020-03-22T00:00:00\", \"2020-03-26T00:00:00\", \"2020-04-01T00:00:00\"], \"xaxis\": \"x\", \"y\": [1.0, 2.0, 1.0], \"yaxis\": \"y\"}, {\"alignmentgroup\": \"True\", \"hoverlabel\": {\"namelength\": 0}, \"hovertemplate\": \"DHB=South Canterbury<br>Report Date=%{x}<br>cases=%{y}\", \"legendgroup\": \"South Canterbury\", \"marker\": {\"color\": \"#B6E880\"}, \"name\": \"South Canterbury\", \"offsetgroup\": \"South Canterbury\", \"orientation\": \"v\", \"showlegend\": true, \"textposition\": \"auto\", \"type\": \"bar\", \"x\": [\"2020-03-23T00:00:00\", \"2020-03-27T00:00:00\", \"2020-03-28T00:00:00\", \"2020-03-29T00:00:00\", \"2020-03-30T00:00:00\"], \"xaxis\": \"x\", \"y\": [2.0, 4.0, 1.0, 2.0, 1.0], \"yaxis\": \"y\"}, {\"alignmentgroup\": \"True\", \"hoverlabel\": {\"namelength\": 0}, \"hovertemplate\": \"DHB=Tairawhiti<br>Report Date=%{x}<br>cases=%{y}\", \"legendgroup\": \"Tairawhiti\", \"marker\": {\"color\": \"#FF97FF\"}, \"name\": \"Tairawhiti\", \"offsetgroup\": \"Tairawhiti\", \"orientation\": \"v\", \"showlegend\": true, \"textposition\": \"auto\", \"type\": \"bar\", \"x\": [\"2020-03-26T00:00:00\"], \"xaxis\": \"x\", \"y\": [1.0], \"yaxis\": \"y\"}, {\"alignmentgroup\": \"True\", \"hoverlabel\": {\"namelength\": 0}, \"hovertemplate\": \"DHB=Whanganui<br>Report Date=%{x}<br>cases=%{y}\", \"legendgroup\": \"Whanganui\", \"marker\": {\"color\": \"#FECB52\"}, \"name\": \"Whanganui\", \"offsetgroup\": \"Whanganui\", \"orientation\": \"v\", \"showlegend\": true, \"textposition\": \"auto\", \"type\": \"bar\", \"x\": [\"2020-03-27T00:00:00\", \"2020-04-01T00:00:00\", \"2020-04-02T00:00:00\", \"2020-04-04T00:00:00\"], \"xaxis\": \"x\", \"y\": [3.0, 2.0, 2.0, 1.0], \"yaxis\": \"y\"}],\n",
       "                        {\"barmode\": \"relative\", \"legend\": {\"title\": {\"text\": \"DHB\"}, \"tracegroupgap\": 0}, \"margin\": {\"t\": 60}, \"template\": {\"data\": {\"bar\": [{\"error_x\": {\"color\": \"#2a3f5f\"}, \"error_y\": {\"color\": \"#2a3f5f\"}, \"marker\": {\"line\": {\"color\": \"#E5ECF6\", \"width\": 0.5}}, \"type\": \"bar\"}], \"barpolar\": [{\"marker\": {\"line\": {\"color\": \"#E5ECF6\", \"width\": 0.5}}, \"type\": \"barpolar\"}], \"carpet\": [{\"aaxis\": {\"endlinecolor\": \"#2a3f5f\", \"gridcolor\": \"white\", \"linecolor\": \"white\", \"minorgridcolor\": \"white\", \"startlinecolor\": \"#2a3f5f\"}, \"baxis\": {\"endlinecolor\": \"#2a3f5f\", \"gridcolor\": \"white\", \"linecolor\": \"white\", \"minorgridcolor\": \"white\", \"startlinecolor\": \"#2a3f5f\"}, \"type\": \"carpet\"}], \"choropleth\": [{\"colorbar\": {\"outlinewidth\": 0, \"ticks\": \"\"}, \"type\": \"choropleth\"}], \"contour\": [{\"colorbar\": {\"outlinewidth\": 0, \"ticks\": \"\"}, \"colorscale\": [[0.0, \"#0d0887\"], [0.1111111111111111, \"#46039f\"], [0.2222222222222222, \"#7201a8\"], [0.3333333333333333, \"#9c179e\"], [0.4444444444444444, \"#bd3786\"], [0.5555555555555556, \"#d8576b\"], [0.6666666666666666, \"#ed7953\"], [0.7777777777777778, \"#fb9f3a\"], [0.8888888888888888, \"#fdca26\"], [1.0, \"#f0f921\"]], \"type\": \"contour\"}], \"contourcarpet\": [{\"colorbar\": {\"outlinewidth\": 0, \"ticks\": \"\"}, \"type\": \"contourcarpet\"}], \"heatmap\": [{\"colorbar\": {\"outlinewidth\": 0, \"ticks\": \"\"}, \"colorscale\": [[0.0, \"#0d0887\"], [0.1111111111111111, \"#46039f\"], [0.2222222222222222, \"#7201a8\"], [0.3333333333333333, \"#9c179e\"], [0.4444444444444444, \"#bd3786\"], [0.5555555555555556, \"#d8576b\"], [0.6666666666666666, \"#ed7953\"], [0.7777777777777778, \"#fb9f3a\"], [0.8888888888888888, \"#fdca26\"], [1.0, \"#f0f921\"]], \"type\": \"heatmap\"}], \"heatmapgl\": [{\"colorbar\": {\"outlinewidth\": 0, \"ticks\": \"\"}, \"colorscale\": [[0.0, \"#0d0887\"], [0.1111111111111111, \"#46039f\"], [0.2222222222222222, \"#7201a8\"], [0.3333333333333333, \"#9c179e\"], [0.4444444444444444, \"#bd3786\"], [0.5555555555555556, \"#d8576b\"], [0.6666666666666666, \"#ed7953\"], [0.7777777777777778, \"#fb9f3a\"], [0.8888888888888888, \"#fdca26\"], [1.0, \"#f0f921\"]], \"type\": \"heatmapgl\"}], \"histogram\": [{\"marker\": {\"colorbar\": {\"outlinewidth\": 0, \"ticks\": \"\"}}, \"type\": \"histogram\"}], \"histogram2d\": [{\"colorbar\": {\"outlinewidth\": 0, \"ticks\": \"\"}, \"colorscale\": [[0.0, \"#0d0887\"], [0.1111111111111111, \"#46039f\"], [0.2222222222222222, \"#7201a8\"], [0.3333333333333333, \"#9c179e\"], [0.4444444444444444, \"#bd3786\"], [0.5555555555555556, \"#d8576b\"], [0.6666666666666666, \"#ed7953\"], [0.7777777777777778, \"#fb9f3a\"], [0.8888888888888888, \"#fdca26\"], [1.0, \"#f0f921\"]], \"type\": \"histogram2d\"}], \"histogram2dcontour\": [{\"colorbar\": {\"outlinewidth\": 0, \"ticks\": \"\"}, \"colorscale\": [[0.0, \"#0d0887\"], [0.1111111111111111, \"#46039f\"], [0.2222222222222222, \"#7201a8\"], [0.3333333333333333, \"#9c179e\"], [0.4444444444444444, \"#bd3786\"], [0.5555555555555556, \"#d8576b\"], [0.6666666666666666, \"#ed7953\"], [0.7777777777777778, \"#fb9f3a\"], [0.8888888888888888, \"#fdca26\"], [1.0, \"#f0f921\"]], \"type\": \"histogram2dcontour\"}], \"mesh3d\": [{\"colorbar\": {\"outlinewidth\": 0, \"ticks\": \"\"}, \"type\": \"mesh3d\"}], \"parcoords\": [{\"line\": {\"colorbar\": {\"outlinewidth\": 0, \"ticks\": \"\"}}, \"type\": \"parcoords\"}], \"pie\": [{\"automargin\": true, \"type\": \"pie\"}], \"scatter\": [{\"marker\": {\"colorbar\": {\"outlinewidth\": 0, \"ticks\": \"\"}}, \"type\": \"scatter\"}], \"scatter3d\": [{\"line\": {\"colorbar\": {\"outlinewidth\": 0, \"ticks\": \"\"}}, \"marker\": {\"colorbar\": {\"outlinewidth\": 0, \"ticks\": \"\"}}, \"type\": \"scatter3d\"}], \"scattercarpet\": [{\"marker\": {\"colorbar\": {\"outlinewidth\": 0, \"ticks\": \"\"}}, \"type\": \"scattercarpet\"}], \"scattergeo\": [{\"marker\": {\"colorbar\": {\"outlinewidth\": 0, \"ticks\": \"\"}}, \"type\": \"scattergeo\"}], \"scattergl\": [{\"marker\": {\"colorbar\": {\"outlinewidth\": 0, \"ticks\": \"\"}}, \"type\": \"scattergl\"}], \"scattermapbox\": [{\"marker\": {\"colorbar\": {\"outlinewidth\": 0, \"ticks\": \"\"}}, \"type\": \"scattermapbox\"}], \"scatterpolar\": [{\"marker\": {\"colorbar\": {\"outlinewidth\": 0, \"ticks\": \"\"}}, \"type\": \"scatterpolar\"}], \"scatterpolargl\": [{\"marker\": {\"colorbar\": {\"outlinewidth\": 0, \"ticks\": \"\"}}, \"type\": \"scatterpolargl\"}], \"scatterternary\": [{\"marker\": {\"colorbar\": {\"outlinewidth\": 0, \"ticks\": \"\"}}, \"type\": \"scatterternary\"}], \"surface\": [{\"colorbar\": {\"outlinewidth\": 0, \"ticks\": \"\"}, \"colorscale\": [[0.0, \"#0d0887\"], [0.1111111111111111, \"#46039f\"], [0.2222222222222222, \"#7201a8\"], [0.3333333333333333, \"#9c179e\"], [0.4444444444444444, \"#bd3786\"], [0.5555555555555556, \"#d8576b\"], [0.6666666666666666, \"#ed7953\"], [0.7777777777777778, \"#fb9f3a\"], [0.8888888888888888, \"#fdca26\"], [1.0, \"#f0f921\"]], \"type\": \"surface\"}], \"table\": [{\"cells\": {\"fill\": {\"color\": \"#EBF0F8\"}, \"line\": {\"color\": \"white\"}}, \"header\": {\"fill\": {\"color\": \"#C8D4E3\"}, \"line\": {\"color\": \"white\"}}, \"type\": \"table\"}]}, \"layout\": {\"annotationdefaults\": {\"arrowcolor\": \"#2a3f5f\", \"arrowhead\": 0, \"arrowwidth\": 1}, \"coloraxis\": {\"colorbar\": {\"outlinewidth\": 0, \"ticks\": \"\"}}, \"colorscale\": {\"diverging\": [[0, \"#8e0152\"], [0.1, \"#c51b7d\"], [0.2, \"#de77ae\"], [0.3, \"#f1b6da\"], [0.4, \"#fde0ef\"], [0.5, \"#f7f7f7\"], [0.6, \"#e6f5d0\"], [0.7, \"#b8e186\"], [0.8, \"#7fbc41\"], [0.9, \"#4d9221\"], [1, \"#276419\"]], \"sequential\": [[0.0, \"#0d0887\"], [0.1111111111111111, \"#46039f\"], [0.2222222222222222, \"#7201a8\"], [0.3333333333333333, \"#9c179e\"], [0.4444444444444444, \"#bd3786\"], [0.5555555555555556, \"#d8576b\"], [0.6666666666666666, \"#ed7953\"], [0.7777777777777778, \"#fb9f3a\"], [0.8888888888888888, \"#fdca26\"], [1.0, \"#f0f921\"]], \"sequentialminus\": [[0.0, \"#0d0887\"], [0.1111111111111111, \"#46039f\"], [0.2222222222222222, \"#7201a8\"], [0.3333333333333333, \"#9c179e\"], [0.4444444444444444, \"#bd3786\"], [0.5555555555555556, \"#d8576b\"], [0.6666666666666666, \"#ed7953\"], [0.7777777777777778, \"#fb9f3a\"], [0.8888888888888888, \"#fdca26\"], [1.0, \"#f0f921\"]]}, \"colorway\": [\"#636efa\", \"#EF553B\", \"#00cc96\", \"#ab63fa\", \"#FFA15A\", \"#19d3f3\", \"#FF6692\", \"#B6E880\", \"#FF97FF\", \"#FECB52\"], \"font\": {\"color\": \"#2a3f5f\"}, \"geo\": {\"bgcolor\": \"white\", \"lakecolor\": \"white\", \"landcolor\": \"#E5ECF6\", \"showlakes\": true, \"showland\": true, \"subunitcolor\": \"white\"}, \"hoverlabel\": {\"align\": \"left\"}, \"hovermode\": \"closest\", \"mapbox\": {\"style\": \"light\"}, \"paper_bgcolor\": \"white\", \"plot_bgcolor\": \"#E5ECF6\", \"polar\": {\"angularaxis\": {\"gridcolor\": \"white\", \"linecolor\": \"white\", \"ticks\": \"\"}, \"bgcolor\": \"#E5ECF6\", \"radialaxis\": {\"gridcolor\": \"white\", \"linecolor\": \"white\", \"ticks\": \"\"}}, \"scene\": {\"xaxis\": {\"backgroundcolor\": \"#E5ECF6\", \"gridcolor\": \"white\", \"gridwidth\": 2, \"linecolor\": \"white\", \"showbackground\": true, \"ticks\": \"\", \"zerolinecolor\": \"white\"}, \"yaxis\": {\"backgroundcolor\": \"#E5ECF6\", \"gridcolor\": \"white\", \"gridwidth\": 2, \"linecolor\": \"white\", \"showbackground\": true, \"ticks\": \"\", \"zerolinecolor\": \"white\"}, \"zaxis\": {\"backgroundcolor\": \"#E5ECF6\", \"gridcolor\": \"white\", \"gridwidth\": 2, \"linecolor\": \"white\", \"showbackground\": true, \"ticks\": \"\", \"zerolinecolor\": \"white\"}}, \"shapedefaults\": {\"line\": {\"color\": \"#2a3f5f\"}}, \"ternary\": {\"aaxis\": {\"gridcolor\": \"white\", \"linecolor\": \"white\", \"ticks\": \"\"}, \"baxis\": {\"gridcolor\": \"white\", \"linecolor\": \"white\", \"ticks\": \"\"}, \"bgcolor\": \"#E5ECF6\", \"caxis\": {\"gridcolor\": \"white\", \"linecolor\": \"white\", \"ticks\": \"\"}}, \"title\": {\"x\": 0.05}, \"xaxis\": {\"automargin\": true, \"gridcolor\": \"white\", \"linecolor\": \"white\", \"ticks\": \"\", \"title\": {\"standoff\": 15}, \"zerolinecolor\": \"white\", \"zerolinewidth\": 2}, \"yaxis\": {\"automargin\": true, \"gridcolor\": \"white\", \"linecolor\": \"white\", \"ticks\": \"\", \"title\": {\"standoff\": 15}, \"zerolinecolor\": \"white\", \"zerolinewidth\": 2}}}, \"xaxis\": {\"anchor\": \"y\", \"domain\": [0.0, 1.0], \"title\": {\"text\": \"Report Date\"}}, \"yaxis\": {\"anchor\": \"x\", \"domain\": [0.0, 1.0], \"title\": {\"text\": \"cases\"}}},\n",
       "                        {\"responsive\": true}\n",
       "                    ).then(function(){\n",
       "                            \n",
       "var gd = document.getElementById('e5feb74a-d442-4e81-a84e-2d5abf752274');\n",
       "var x = new MutationObserver(function (mutations, observer) {{\n",
       "        var display = window.getComputedStyle(gd).display;\n",
       "        if (!display || display === 'none') {{\n",
       "            console.log([gd, 'removed!']);\n",
       "            Plotly.purge(gd);\n",
       "            observer.disconnect();\n",
       "        }}\n",
       "}});\n",
       "\n",
       "// Listen for the removal of the full notebook cells\n",
       "var notebookContainer = gd.closest('#notebook-container');\n",
       "if (notebookContainer) {{\n",
       "    x.observe(notebookContainer, {childList: true});\n",
       "}}\n",
       "\n",
       "// Listen for the clearing of the current output cell\n",
       "var outputEl = gd.closest('.output');\n",
       "if (outputEl) {{\n",
       "    x.observe(outputEl, {childList: true});\n",
       "}}\n",
       "\n",
       "                        })\n",
       "                };\n",
       "                });\n",
       "            </script>\n",
       "        </div>"
      ]
     },
     "metadata": {},
     "output_type": "display_data"
    }
   ],
   "source": [
    "px.bar(totals_df, x='Report Date', y='cases', color='DHB')"
   ]
  },
  {
   "cell_type": "code",
   "execution_count": 29,
   "metadata": {},
   "outputs": [
    {
     "data": {
      "text/html": [
       "<div>\n",
       "        \n",
       "        \n",
       "            <div id=\"68b79dcd-ab05-455c-a2a7-fa2c0bd0d2c0\" class=\"plotly-graph-div\" style=\"height:525px; width:100%;\"></div>\n",
       "            <script type=\"text/javascript\">\n",
       "                require([\"plotly\"], function(Plotly) {\n",
       "                    window.PLOTLYENV=window.PLOTLYENV || {};\n",
       "                    \n",
       "                if (document.getElementById(\"68b79dcd-ab05-455c-a2a7-fa2c0bd0d2c0\")) {\n",
       "                    Plotly.newPlot(\n",
       "                        '68b79dcd-ab05-455c-a2a7-fa2c0bd0d2c0',\n",
       "                        [{\"alignmentgroup\": \"True\", \"hoverlabel\": {\"namelength\": 0}, \"hovertemplate\": \"Report Date=2020-02-26 00:00:00<br>DHB=%{x}<br>cases=%{y}\", \"legendgroup\": \"2020-02-26 00:00:00\", \"marker\": {\"color\": \"#EF553B\"}, \"name\": \"2020-02-26 00:00:00\", \"offsetgroup\": \"2020-02-26 00:00:00\", \"orientation\": \"v\", \"showlegend\": true, \"textposition\": \"auto\", \"type\": \"bar\", \"x\": [\"Auckland\"], \"xaxis\": \"x\", \"y\": [1.0], \"yaxis\": \"y\"}, {\"alignmentgroup\": \"True\", \"hoverlabel\": {\"namelength\": 0}, \"hovertemplate\": \"Report Date=2020-02-28 00:00:00<br>DHB=%{x}<br>cases=%{y}\", \"legendgroup\": \"2020-02-28 00:00:00\", \"marker\": {\"color\": \"#00cc96\"}, \"name\": \"2020-02-28 00:00:00\", \"offsetgroup\": \"2020-02-28 00:00:00\", \"orientation\": \"v\", \"showlegend\": true, \"textposition\": \"auto\", \"type\": \"bar\", \"x\": [\"Southern\"], \"xaxis\": \"x\", \"y\": [2.0], \"yaxis\": \"y\"}, {\"alignmentgroup\": \"True\", \"hoverlabel\": {\"namelength\": 0}, \"hovertemplate\": \"Report Date=2020-03-02 00:00:00<br>DHB=%{x}<br>cases=%{y}\", \"legendgroup\": \"2020-03-02 00:00:00\", \"marker\": {\"color\": \"#ab63fa\"}, \"name\": \"2020-03-02 00:00:00\", \"offsetgroup\": \"2020-03-02 00:00:00\", \"orientation\": \"v\", \"showlegend\": true, \"textposition\": \"auto\", \"type\": \"bar\", \"x\": [\"Waitemata\"], \"xaxis\": \"x\", \"y\": [1.0], \"yaxis\": \"y\"}, {\"alignmentgroup\": \"True\", \"hoverlabel\": {\"namelength\": 0}, \"hovertemplate\": \"Report Date=2020-03-04 00:00:00<br>DHB=%{x}<br>cases=%{y}\", \"legendgroup\": \"2020-03-04 00:00:00\", \"marker\": {\"color\": \"#FFA15A\"}, \"name\": \"2020-03-04 00:00:00\", \"offsetgroup\": \"2020-03-04 00:00:00\", \"orientation\": \"v\", \"showlegend\": true, \"textposition\": \"auto\", \"type\": \"bar\", \"x\": [\"Counties Manukau\", \"Waitemata\"], \"xaxis\": \"x\", \"y\": [1.0, 1.0], \"yaxis\": \"y\"}, {\"alignmentgroup\": \"True\", \"hoverlabel\": {\"namelength\": 0}, \"hovertemplate\": \"Report Date=2020-03-05 00:00:00<br>DHB=%{x}<br>cases=%{y}\", \"legendgroup\": \"2020-03-05 00:00:00\", \"marker\": {\"color\": \"#19d3f3\"}, \"name\": \"2020-03-05 00:00:00\", \"offsetgroup\": \"2020-03-05 00:00:00\", \"orientation\": \"v\", \"showlegend\": true, \"textposition\": \"auto\", \"type\": \"bar\", \"x\": [\"Counties Manukau\", \"Waitemata\"], \"xaxis\": \"x\", \"y\": [1.0, 1.0], \"yaxis\": \"y\"}, {\"alignmentgroup\": \"True\", \"hoverlabel\": {\"namelength\": 0}, \"hovertemplate\": \"Report Date=2020-03-06 00:00:00<br>DHB=%{x}<br>cases=%{y}\", \"legendgroup\": \"2020-03-06 00:00:00\", \"marker\": {\"color\": \"#FF6692\"}, \"name\": \"2020-03-06 00:00:00\", \"offsetgroup\": \"2020-03-06 00:00:00\", \"orientation\": \"v\", \"showlegend\": true, \"textposition\": \"auto\", \"type\": \"bar\", \"x\": [\"Counties Manukau\"], \"xaxis\": \"x\", \"y\": [1.0], \"yaxis\": \"y\"}, {\"alignmentgroup\": \"True\", \"hoverlabel\": {\"namelength\": 0}, \"hovertemplate\": \"Report Date=2020-03-12 00:00:00<br>DHB=%{x}<br>cases=%{y}\", \"legendgroup\": \"2020-03-12 00:00:00\", \"marker\": {\"color\": \"#B6E880\"}, \"name\": \"2020-03-12 00:00:00\", \"offsetgroup\": \"2020-03-12 00:00:00\", \"orientation\": \"v\", \"showlegend\": true, \"textposition\": \"auto\", \"type\": \"bar\", \"x\": [\"Counties Manukau\"], \"xaxis\": \"x\", \"y\": [1.0], \"yaxis\": \"y\"}, {\"alignmentgroup\": \"True\", \"hoverlabel\": {\"namelength\": 0}, \"hovertemplate\": \"Report Date=2020-03-13 00:00:00<br>DHB=%{x}<br>cases=%{y}\", \"legendgroup\": \"2020-03-13 00:00:00\", \"marker\": {\"color\": \"#FF97FF\"}, \"name\": \"2020-03-13 00:00:00\", \"offsetgroup\": \"2020-03-13 00:00:00\", \"orientation\": \"v\", \"showlegend\": true, \"textposition\": \"auto\", \"type\": \"bar\", \"x\": [\"Southern\"], \"xaxis\": \"x\", \"y\": [1.0], \"yaxis\": \"y\"}, {\"alignmentgroup\": \"True\", \"hoverlabel\": {\"namelength\": 0}, \"hovertemplate\": \"Report Date=2020-03-14 00:00:00<br>DHB=%{x}<br>cases=%{y}\", \"legendgroup\": \"2020-03-14 00:00:00\", \"marker\": {\"color\": \"#FECB52\"}, \"name\": \"2020-03-14 00:00:00\", \"offsetgroup\": \"2020-03-14 00:00:00\", \"orientation\": \"v\", \"showlegend\": true, \"textposition\": \"auto\", \"type\": \"bar\", \"x\": [\"Capital and Coast\"], \"xaxis\": \"x\", \"y\": [1.0], \"yaxis\": \"y\"}, {\"alignmentgroup\": \"True\", \"hoverlabel\": {\"namelength\": 0}, \"hovertemplate\": \"Report Date=2020-03-15 00:00:00<br>DHB=%{x}<br>cases=%{y}\", \"legendgroup\": \"2020-03-15 00:00:00\", \"marker\": {\"color\": \"#636efa\"}, \"name\": \"2020-03-15 00:00:00\", \"offsetgroup\": \"2020-03-15 00:00:00\", \"orientation\": \"v\", \"showlegend\": true, \"textposition\": \"auto\", \"type\": \"bar\", \"x\": [\"Waitemata\"], \"xaxis\": \"x\", \"y\": [1.0], \"yaxis\": \"y\"}, {\"alignmentgroup\": \"True\", \"hoverlabel\": {\"namelength\": 0}, \"hovertemplate\": \"Report Date=2020-03-16 00:00:00<br>DHB=%{x}<br>cases=%{y}\", \"legendgroup\": \"2020-03-16 00:00:00\", \"marker\": {\"color\": \"#EF553B\"}, \"name\": \"2020-03-16 00:00:00\", \"offsetgroup\": \"2020-03-16 00:00:00\", \"orientation\": \"v\", \"showlegend\": true, \"textposition\": \"auto\", \"type\": \"bar\", \"x\": [\"Auckland\", \"Capital and Coast\", \"Taranaki\", \"Waikato\"], \"xaxis\": \"x\", \"y\": [1.0, 2.0, 2.0, 2.0], \"yaxis\": \"y\"}, {\"alignmentgroup\": \"True\", \"hoverlabel\": {\"namelength\": 0}, \"hovertemplate\": \"Report Date=2020-03-17 00:00:00<br>DHB=%{x}<br>cases=%{y}\", \"legendgroup\": \"2020-03-17 00:00:00\", \"marker\": {\"color\": \"#00cc96\"}, \"name\": \"2020-03-17 00:00:00\", \"offsetgroup\": \"2020-03-17 00:00:00\", \"orientation\": \"v\", \"showlegend\": true, \"textposition\": \"auto\", \"type\": \"bar\", \"x\": [\"Auckland\", \"Canterbury\", \"Capital and Coast\", \"Counties Manukau\", \"Lakes\", \"Northland\", \"Southern\", \"Waitemata\"], \"xaxis\": \"x\", \"y\": [2.0, 1.0, 1.0, 1.0, 1.0, 1.0, 3.0, 2.0], \"yaxis\": \"y\"}, {\"alignmentgroup\": \"True\", \"hoverlabel\": {\"namelength\": 0}, \"hovertemplate\": \"Report Date=2020-03-18 00:00:00<br>DHB=%{x}<br>cases=%{y}\", \"legendgroup\": \"2020-03-18 00:00:00\", \"marker\": {\"color\": \"#ab63fa\"}, \"name\": \"2020-03-18 00:00:00\", \"offsetgroup\": \"2020-03-18 00:00:00\", \"orientation\": \"v\", \"showlegend\": true, \"textposition\": \"auto\", \"type\": \"bar\", \"x\": [\"Auckland\", \"Canterbury\", \"Capital and Coast\", \"Southern\"], \"xaxis\": \"x\", \"y\": [1.0, 1.0, 1.0, 2.0], \"yaxis\": \"y\"}, {\"alignmentgroup\": \"True\", \"hoverlabel\": {\"namelength\": 0}, \"hovertemplate\": \"Report Date=2020-03-19 00:00:00<br>DHB=%{x}<br>cases=%{y}\", \"legendgroup\": \"2020-03-19 00:00:00\", \"marker\": {\"color\": \"#FFA15A\"}, \"name\": \"2020-03-19 00:00:00\", \"offsetgroup\": \"2020-03-19 00:00:00\", \"orientation\": \"v\", \"showlegend\": true, \"textposition\": \"auto\", \"type\": \"bar\", \"x\": [\"Auckland\", \"Capital and Coast\", \"Counties Manukau\", \"Hawke's Bay\", \"Hutt Valley\", \"MidCentral\", \"Southern\", \"Waikato\", \"Wairarapa\", \"Waitemata\"], \"xaxis\": \"x\", \"y\": [4.0, 3.0, 1.0, 1.0, 2.0, 3.0, 1.0, 2.0, 1.0, 1.0], \"yaxis\": \"y\"}, {\"alignmentgroup\": \"True\", \"hoverlabel\": {\"namelength\": 0}, \"hovertemplate\": \"Report Date=2020-03-20 00:00:00<br>DHB=%{x}<br>cases=%{y}\", \"legendgroup\": \"2020-03-20 00:00:00\", \"marker\": {\"color\": \"#19d3f3\"}, \"name\": \"2020-03-20 00:00:00\", \"offsetgroup\": \"2020-03-20 00:00:00\", \"orientation\": \"v\", \"showlegend\": true, \"textposition\": \"auto\", \"type\": \"bar\", \"x\": [\"Auckland\", \"Canterbury\", \"Lakes\", \"Nelson Marlborough\", \"Southern\", \"Waikato\", \"Waitemata\"], \"xaxis\": \"x\", \"y\": [1.0, 2.0, 1.0, 2.0, 2.0, 1.0, 2.0], \"yaxis\": \"y\"}, {\"alignmentgroup\": \"True\", \"hoverlabel\": {\"namelength\": 0}, \"hovertemplate\": \"Report Date=2020-03-21 00:00:00<br>DHB=%{x}<br>cases=%{y}\", \"legendgroup\": \"2020-03-21 00:00:00\", \"marker\": {\"color\": \"#FF6692\"}, \"name\": \"2020-03-21 00:00:00\", \"offsetgroup\": \"2020-03-21 00:00:00\", \"orientation\": \"v\", \"showlegend\": true, \"textposition\": \"auto\", \"type\": \"bar\", \"x\": [\"Auckland\", \"Bay of Plenty\", \"Canterbury\", \"Capital and Coast\", \"Counties Manukau\", \"MidCentral\", \"Nelson Marlborough\", \"Taranaki\", \"Waikato\", \"Wairarapa\", \"Waitemata\"], \"xaxis\": \"x\", \"y\": [4.0, 1.0, 3.0, 1.0, 4.0, 1.0, 2.0, 2.0, 3.0, 2.0, 1.0], \"yaxis\": \"y\"}, {\"alignmentgroup\": \"True\", \"hoverlabel\": {\"namelength\": 0}, \"hovertemplate\": \"Report Date=2020-03-22 00:00:00<br>DHB=%{x}<br>cases=%{y}\", \"legendgroup\": \"2020-03-22 00:00:00\", \"marker\": {\"color\": \"#B6E880\"}, \"name\": \"2020-03-22 00:00:00\", \"offsetgroup\": \"2020-03-22 00:00:00\", \"orientation\": \"v\", \"showlegend\": true, \"textposition\": \"auto\", \"type\": \"bar\", \"x\": [\"Auckland\", \"Canterbury\", \"Capital and Coast\", \"Counties Manukau\", \"Hutt Valley\", \"Nelson Marlborough\", \"Northland\", \"Southern\", \"Waikato\", \"Waitemata\", \"West Coast\"], \"xaxis\": \"x\", \"y\": [8.0, 4.0, 7.0, 8.0, 1.0, 5.0, 1.0, 2.0, 3.0, 5.0, 1.0], \"yaxis\": \"y\"}, {\"alignmentgroup\": \"True\", \"hoverlabel\": {\"namelength\": 0}, \"hovertemplate\": \"Report Date=2020-03-23 00:00:00<br>DHB=%{x}<br>cases=%{y}\", \"legendgroup\": \"2020-03-23 00:00:00\", \"marker\": {\"color\": \"#FF97FF\"}, \"name\": \"2020-03-23 00:00:00\", \"offsetgroup\": \"2020-03-23 00:00:00\", \"orientation\": \"v\", \"showlegend\": true, \"textposition\": \"auto\", \"type\": \"bar\", \"x\": [\"Auckland\", \"Canterbury\", \"Capital and Coast\", \"Counties Manukau\", \"Hutt Valley\", \"Lakes\", \"MidCentral\", \"Nelson Marlborough\", \"South Canterbury\", \"Southern\", \"Waikato\", \"Waitemata\"], \"xaxis\": \"x\", \"y\": [7.0, 4.0, 9.0, 1.0, 2.0, 1.0, 1.0, 3.0, 2.0, 4.0, 4.0, 2.0], \"yaxis\": \"y\"}, {\"alignmentgroup\": \"True\", \"hoverlabel\": {\"namelength\": 0}, \"hovertemplate\": \"Report Date=2020-03-24 00:00:00<br>DHB=%{x}<br>cases=%{y}\", \"legendgroup\": \"2020-03-24 00:00:00\", \"marker\": {\"color\": \"#FECB52\"}, \"name\": \"2020-03-24 00:00:00\", \"offsetgroup\": \"2020-03-24 00:00:00\", \"orientation\": \"v\", \"showlegend\": true, \"textposition\": \"auto\", \"type\": \"bar\", \"x\": [\"Auckland\", \"Bay of Plenty\", \"Canterbury\", \"Capital and Coast\", \"Counties Manukau\", \"Hawke's Bay\", \"Lakes\", \"MidCentral\", \"Nelson Marlborough\", \"Northland\", \"Southern\", \"Waikato\", \"Wairarapa\", \"Waitemata\"], \"xaxis\": \"x\", \"y\": [7.0, 3.0, 7.0, 10.0, 2.0, 2.0, 1.0, 1.0, 3.0, 1.0, 7.0, 2.0, 2.0, 10.0], \"yaxis\": \"y\"}, {\"alignmentgroup\": \"True\", \"hoverlabel\": {\"namelength\": 0}, \"hovertemplate\": \"Report Date=2020-03-25 00:00:00<br>DHB=%{x}<br>cases=%{y}\", \"legendgroup\": \"2020-03-25 00:00:00\", \"marker\": {\"color\": \"#636efa\"}, \"name\": \"2020-03-25 00:00:00\", \"offsetgroup\": \"2020-03-25 00:00:00\", \"orientation\": \"v\", \"showlegend\": true, \"textposition\": \"auto\", \"type\": \"bar\", \"x\": [\"Auckland\", \"Bay of Plenty\", \"Canterbury\", \"Capital and Coast\", \"Counties Manukau\", \"Hawke's Bay\", \"Hutt Valley\", \"Lakes\", \"MidCentral\", \"Nelson Marlborough\", \"Northland\", \"Southern\", \"Taranaki\", \"Waikato\", \"Waitemata\"], \"xaxis\": \"x\", \"y\": [12.0, 2.0, 5.0, 4.0, 5.0, 3.0, 1.0, 3.0, 2.0, 3.0, 2.0, 9.0, 1.0, 21.0, 12.0], \"yaxis\": \"y\"}, {\"alignmentgroup\": \"True\", \"hoverlabel\": {\"namelength\": 0}, \"hovertemplate\": \"Report Date=2020-03-26 00:00:00<br>DHB=%{x}<br>cases=%{y}\", \"legendgroup\": \"2020-03-26 00:00:00\", \"marker\": {\"color\": \"#EF553B\"}, \"name\": \"2020-03-26 00:00:00\", \"offsetgroup\": \"2020-03-26 00:00:00\", \"orientation\": \"v\", \"showlegend\": true, \"textposition\": \"auto\", \"type\": \"bar\", \"x\": [\"Auckland\", \"Bay of Plenty\", \"Canterbury\", \"Capital and Coast\", \"Counties Manukau\", \"Hawke's Bay\", \"Hutt Valley\", \"Lakes\", \"Northland\", \"Southern\", \"Tairawhiti\", \"Taranaki\", \"Waikato\", \"Waitemata\", \"West Coast\"], \"xaxis\": \"x\", \"y\": [12.0, 3.0, 11.0, 3.0, 3.0, 4.0, 4.0, 1.0, 2.0, 7.0, 1.0, 3.0, 11.0, 11.0, 2.0], \"yaxis\": \"y\"}, {\"alignmentgroup\": \"True\", \"hoverlabel\": {\"namelength\": 0}, \"hovertemplate\": \"Report Date=2020-03-27 00:00:00<br>DHB=%{x}<br>cases=%{y}\", \"legendgroup\": \"2020-03-27 00:00:00\", \"marker\": {\"color\": \"#00cc96\"}, \"name\": \"2020-03-27 00:00:00\", \"offsetgroup\": \"2020-03-27 00:00:00\", \"orientation\": \"v\", \"showlegend\": true, \"textposition\": \"auto\", \"type\": \"bar\", \"x\": [\"Auckland\", \"Bay of Plenty\", \"Canterbury\", \"Capital and Coast\", \"Counties Manukau\", \"Hawke's Bay\", \"Hutt Valley\", \"MidCentral\", \"South Canterbury\", \"Southern\", \"Taranaki\", \"Waikato\", \"Waitemata\", \"Whanganui\"], \"xaxis\": \"x\", \"y\": [8.0, 3.0, 6.0, 3.0, 4.0, 1.0, 3.0, 2.0, 4.0, 19.0, 4.0, 11.0, 3.0, 3.0], \"yaxis\": \"y\"}, {\"alignmentgroup\": \"True\", \"hoverlabel\": {\"namelength\": 0}, \"hovertemplate\": \"Report Date=2020-03-28 00:00:00<br>DHB=%{x}<br>cases=%{y}\", \"legendgroup\": \"2020-03-28 00:00:00\", \"marker\": {\"color\": \"#ab63fa\"}, \"name\": \"2020-03-28 00:00:00\", \"offsetgroup\": \"2020-03-28 00:00:00\", \"orientation\": \"v\", \"showlegend\": true, \"textposition\": \"auto\", \"type\": \"bar\", \"x\": [\"Auckland\", \"Bay of Plenty\", \"Canterbury\", \"Capital and Coast\", \"Counties Manukau\", \"Hawke's Bay\", \"Lakes\", \"Nelson Marlborough\", \"South Canterbury\", \"Southern\", \"Waikato\", \"Waitemata\"], \"xaxis\": \"x\", \"y\": [15.0, 2.0, 7.0, 5.0, 6.0, 1.0, 1.0, 1.0, 1.0, 11.0, 3.0, 13.0], \"yaxis\": \"y\"}, {\"alignmentgroup\": \"True\", \"hoverlabel\": {\"namelength\": 0}, \"hovertemplate\": \"Report Date=2020-03-29 00:00:00<br>DHB=%{x}<br>cases=%{y}\", \"legendgroup\": \"2020-03-29 00:00:00\", \"marker\": {\"color\": \"#FFA15A\"}, \"name\": \"2020-03-29 00:00:00\", \"offsetgroup\": \"2020-03-29 00:00:00\", \"orientation\": \"v\", \"showlegend\": true, \"textposition\": \"auto\", \"type\": \"bar\", \"x\": [\"Auckland\", \"Canterbury\", \"Capital and Coast\", \"Counties Manukau\", \"MidCentral\", \"Nelson Marlborough\", \"Northland\", \"South Canterbury\", \"Southern\", \"Waikato\", \"Waitemata\"], \"xaxis\": \"x\", \"y\": [10.0, 3.0, 8.0, 3.0, 3.0, 1.0, 2.0, 2.0, 12.0, 16.0, 15.0], \"yaxis\": \"y\"}, {\"alignmentgroup\": \"True\", \"hoverlabel\": {\"namelength\": 0}, \"hovertemplate\": \"Report Date=2020-03-30 00:00:00<br>DHB=%{x}<br>cases=%{y}\", \"legendgroup\": \"2020-03-30 00:00:00\", \"marker\": {\"color\": \"#19d3f3\"}, \"name\": \"2020-03-30 00:00:00\", \"offsetgroup\": \"2020-03-30 00:00:00\", \"orientation\": \"v\", \"showlegend\": true, \"textposition\": \"auto\", \"type\": \"bar\", \"x\": [\"Auckland\", \"Bay of Plenty\", \"Canterbury\", \"Capital and Coast\", \"Counties Manukau\", \"Hawke's Bay\", \"Lakes\", \"Nelson Marlborough\", \"Northland\", \"South Canterbury\", \"Southern\", \"Taranaki\", \"Waikato\", \"Waitemata\"], \"xaxis\": \"x\", \"y\": [6.0, 4.0, 1.0, 1.0, 8.0, 3.0, 2.0, 2.0, 1.0, 1.0, 9.0, 1.0, 5.0, 9.0], \"yaxis\": \"y\"}, {\"alignmentgroup\": \"True\", \"hoverlabel\": {\"namelength\": 0}, \"hovertemplate\": \"Report Date=2020-03-31 00:00:00<br>DHB=%{x}<br>cases=%{y}\", \"legendgroup\": \"2020-03-31 00:00:00\", \"marker\": {\"color\": \"#FF6692\"}, \"name\": \"2020-03-31 00:00:00\", \"offsetgroup\": \"2020-03-31 00:00:00\", \"orientation\": \"v\", \"showlegend\": true, \"textposition\": \"auto\", \"type\": \"bar\", \"x\": [\"Auckland\", \"Bay of Plenty\", \"Canterbury\", \"Capital and Coast\", \"Counties Manukau\", \"Hutt Valley\", \"MidCentral\", \"Nelson Marlborough\", \"Northland\", \"Southern\", \"Waikato\", \"Wairarapa\", \"Waitemata\"], \"xaxis\": \"x\", \"y\": [8.0, 2.0, 3.0, 2.0, 7.0, 1.0, 4.0, 2.0, 1.0, 9.0, 24.0, 1.0, 12.0], \"yaxis\": \"y\"}, {\"alignmentgroup\": \"True\", \"hoverlabel\": {\"namelength\": 0}, \"hovertemplate\": \"Report Date=2020-04-01 00:00:00<br>DHB=%{x}<br>cases=%{y}\", \"legendgroup\": \"2020-04-01 00:00:00\", \"marker\": {\"color\": \"#B6E880\"}, \"name\": \"2020-04-01 00:00:00\", \"offsetgroup\": \"2020-04-01 00:00:00\", \"orientation\": \"v\", \"showlegend\": true, \"textposition\": \"auto\", \"type\": \"bar\", \"x\": [\"Auckland\", \"Bay of Plenty\", \"Canterbury\", \"Capital and Coast\", \"Counties Manukau\", \"Hawke's Bay\", \"MidCentral\", \"Nelson Marlborough\", \"Northland\", \"Southern\", \"Taranaki\", \"Waikato\", \"Waitemata\", \"West Coast\", \"Whanganui\"], \"xaxis\": \"x\", \"y\": [9.0, 5.0, 2.0, 3.0, 3.0, 4.0, 2.0, 4.0, 1.0, 16.0, 1.0, 10.0, 12.0, 1.0, 2.0], \"yaxis\": \"y\"}, {\"alignmentgroup\": \"True\", \"hoverlabel\": {\"namelength\": 0}, \"hovertemplate\": \"Report Date=2020-04-02 00:00:00<br>DHB=%{x}<br>cases=%{y}\", \"legendgroup\": \"2020-04-02 00:00:00\", \"marker\": {\"color\": \"#FF97FF\"}, \"name\": \"2020-04-02 00:00:00\", \"offsetgroup\": \"2020-04-02 00:00:00\", \"orientation\": \"v\", \"showlegend\": true, \"textposition\": \"auto\", \"type\": \"bar\", \"x\": [\"Auckland\", \"Bay of Plenty\", \"Canterbury\", \"Capital and Coast\", \"Counties Manukau\", \"Hawke's Bay\", \"Hutt Valley\", \"MidCentral\", \"Nelson Marlborough\", \"Northland\", \"Southern\", \"Waikato\", \"Wairarapa\", \"Waitemata\", \"Whanganui\"], \"xaxis\": \"x\", \"y\": [5.0, 4.0, 8.0, 4.0, 6.0, 5.0, 4.0, 1.0, 2.0, 1.0, 19.0, 8.0, 2.0, 11.0, 2.0], \"yaxis\": \"y\"}, {\"alignmentgroup\": \"True\", \"hoverlabel\": {\"namelength\": 0}, \"hovertemplate\": \"Report Date=2020-04-03 00:00:00<br>DHB=%{x}<br>cases=%{y}\", \"legendgroup\": \"2020-04-03 00:00:00\", \"marker\": {\"color\": \"#FECB52\"}, \"name\": \"2020-04-03 00:00:00\", \"offsetgroup\": \"2020-04-03 00:00:00\", \"orientation\": \"v\", \"showlegend\": true, \"textposition\": \"auto\", \"type\": \"bar\", \"x\": [\"Auckland\", \"Bay of Plenty\", \"Canterbury\", \"Capital and Coast\", \"Counties Manukau\", \"Hawke's Bay\", \"Hutt Valley\", \"Nelson Marlborough\", \"Northland\", \"Southern\", \"Waikato\", \"Waitemata\"], \"xaxis\": \"x\", \"y\": [6.0, 1.0, 9.0, 6.0, 5.0, 5.0, 1.0, 2.0, 1.0, 15.0, 13.0, 8.0], \"yaxis\": \"y\"}, {\"alignmentgroup\": \"True\", \"hoverlabel\": {\"namelength\": 0}, \"hovertemplate\": \"Report Date=2020-04-04 00:00:00<br>DHB=%{x}<br>cases=%{y}\", \"legendgroup\": \"2020-04-04 00:00:00\", \"marker\": {\"color\": \"#636efa\"}, \"name\": \"2020-04-04 00:00:00\", \"offsetgroup\": \"2020-04-04 00:00:00\", \"orientation\": \"v\", \"showlegend\": true, \"textposition\": \"auto\", \"type\": \"bar\", \"x\": [\"Auckland\", \"Bay of Plenty\", \"Canterbury\", \"Capital and Coast\", \"Counties Manukau\", \"Lakes\", \"MidCentral\", \"Nelson Marlborough\", \"Northland\", \"Southern\", \"Waikato\", \"Waitemata\", \"Whanganui\"], \"xaxis\": \"x\", \"y\": [11.0, 1.0, 14.0, 6.0, 3.0, 1.0, 3.0, 3.0, 1.0, 10.0, 6.0, 13.0, 1.0], \"yaxis\": \"y\"}, {\"alignmentgroup\": \"True\", \"hoverlabel\": {\"namelength\": 0}, \"hovertemplate\": \"Report Date=2020-04-05 00:00:00<br>DHB=%{x}<br>cases=%{y}\", \"legendgroup\": \"2020-04-05 00:00:00\", \"marker\": {\"color\": \"#EF553B\"}, \"name\": \"2020-04-05 00:00:00\", \"offsetgroup\": \"2020-04-05 00:00:00\", \"orientation\": \"v\", \"showlegend\": true, \"textposition\": \"auto\", \"type\": \"bar\", \"x\": [\"Auckland\", \"Bay of Plenty\", \"Canterbury\", \"Capital and Coast\", \"Counties Manukau\", \"Hawke's Bay\", \"MidCentral\", \"Nelson Marlborough\", \"Northland\", \"Southern\", \"Waikato\", \"Waitemata\"], \"xaxis\": \"x\", \"y\": [9.0, 1.0, 1.0, 1.0, 7.0, 4.0, 3.0, 5.0, 2.0, 17.0, 2.0, 11.0], \"yaxis\": \"y\"}],\n",
       "                        {\"barmode\": \"relative\", \"legend\": {\"title\": {\"text\": \"Report Date\"}, \"tracegroupgap\": 0}, \"margin\": {\"t\": 60}, \"template\": {\"data\": {\"bar\": [{\"error_x\": {\"color\": \"#2a3f5f\"}, \"error_y\": {\"color\": \"#2a3f5f\"}, \"marker\": {\"line\": {\"color\": \"#E5ECF6\", \"width\": 0.5}}, \"type\": \"bar\"}], \"barpolar\": [{\"marker\": {\"line\": {\"color\": \"#E5ECF6\", \"width\": 0.5}}, \"type\": \"barpolar\"}], \"carpet\": [{\"aaxis\": {\"endlinecolor\": \"#2a3f5f\", \"gridcolor\": \"white\", \"linecolor\": \"white\", \"minorgridcolor\": \"white\", \"startlinecolor\": \"#2a3f5f\"}, \"baxis\": {\"endlinecolor\": \"#2a3f5f\", \"gridcolor\": \"white\", \"linecolor\": \"white\", \"minorgridcolor\": \"white\", \"startlinecolor\": \"#2a3f5f\"}, \"type\": \"carpet\"}], \"choropleth\": [{\"colorbar\": {\"outlinewidth\": 0, \"ticks\": \"\"}, \"type\": \"choropleth\"}], \"contour\": [{\"colorbar\": {\"outlinewidth\": 0, \"ticks\": \"\"}, \"colorscale\": [[0.0, \"#0d0887\"], [0.1111111111111111, \"#46039f\"], [0.2222222222222222, \"#7201a8\"], [0.3333333333333333, \"#9c179e\"], [0.4444444444444444, \"#bd3786\"], [0.5555555555555556, \"#d8576b\"], [0.6666666666666666, \"#ed7953\"], [0.7777777777777778, \"#fb9f3a\"], [0.8888888888888888, \"#fdca26\"], [1.0, \"#f0f921\"]], \"type\": \"contour\"}], \"contourcarpet\": [{\"colorbar\": {\"outlinewidth\": 0, \"ticks\": \"\"}, \"type\": \"contourcarpet\"}], \"heatmap\": [{\"colorbar\": {\"outlinewidth\": 0, \"ticks\": \"\"}, \"colorscale\": [[0.0, \"#0d0887\"], [0.1111111111111111, \"#46039f\"], [0.2222222222222222, \"#7201a8\"], [0.3333333333333333, \"#9c179e\"], [0.4444444444444444, \"#bd3786\"], [0.5555555555555556, \"#d8576b\"], [0.6666666666666666, \"#ed7953\"], [0.7777777777777778, \"#fb9f3a\"], [0.8888888888888888, \"#fdca26\"], [1.0, \"#f0f921\"]], \"type\": \"heatmap\"}], \"heatmapgl\": [{\"colorbar\": {\"outlinewidth\": 0, \"ticks\": \"\"}, \"colorscale\": [[0.0, \"#0d0887\"], [0.1111111111111111, \"#46039f\"], [0.2222222222222222, \"#7201a8\"], [0.3333333333333333, \"#9c179e\"], [0.4444444444444444, \"#bd3786\"], [0.5555555555555556, \"#d8576b\"], [0.6666666666666666, \"#ed7953\"], [0.7777777777777778, \"#fb9f3a\"], [0.8888888888888888, \"#fdca26\"], [1.0, \"#f0f921\"]], \"type\": \"heatmapgl\"}], \"histogram\": [{\"marker\": {\"colorbar\": {\"outlinewidth\": 0, \"ticks\": \"\"}}, \"type\": \"histogram\"}], \"histogram2d\": [{\"colorbar\": {\"outlinewidth\": 0, \"ticks\": \"\"}, \"colorscale\": [[0.0, \"#0d0887\"], [0.1111111111111111, \"#46039f\"], [0.2222222222222222, \"#7201a8\"], [0.3333333333333333, \"#9c179e\"], [0.4444444444444444, \"#bd3786\"], [0.5555555555555556, \"#d8576b\"], [0.6666666666666666, \"#ed7953\"], [0.7777777777777778, \"#fb9f3a\"], [0.8888888888888888, \"#fdca26\"], [1.0, \"#f0f921\"]], \"type\": \"histogram2d\"}], \"histogram2dcontour\": [{\"colorbar\": {\"outlinewidth\": 0, \"ticks\": \"\"}, \"colorscale\": [[0.0, \"#0d0887\"], [0.1111111111111111, \"#46039f\"], [0.2222222222222222, \"#7201a8\"], [0.3333333333333333, \"#9c179e\"], [0.4444444444444444, \"#bd3786\"], [0.5555555555555556, \"#d8576b\"], [0.6666666666666666, \"#ed7953\"], [0.7777777777777778, \"#fb9f3a\"], [0.8888888888888888, \"#fdca26\"], [1.0, \"#f0f921\"]], \"type\": \"histogram2dcontour\"}], \"mesh3d\": [{\"colorbar\": {\"outlinewidth\": 0, \"ticks\": \"\"}, \"type\": \"mesh3d\"}], \"parcoords\": [{\"line\": {\"colorbar\": {\"outlinewidth\": 0, \"ticks\": \"\"}}, \"type\": \"parcoords\"}], \"pie\": [{\"automargin\": true, \"type\": \"pie\"}], \"scatter\": [{\"marker\": {\"colorbar\": {\"outlinewidth\": 0, \"ticks\": \"\"}}, \"type\": \"scatter\"}], \"scatter3d\": [{\"line\": {\"colorbar\": {\"outlinewidth\": 0, \"ticks\": \"\"}}, \"marker\": {\"colorbar\": {\"outlinewidth\": 0, \"ticks\": \"\"}}, \"type\": \"scatter3d\"}], \"scattercarpet\": [{\"marker\": {\"colorbar\": {\"outlinewidth\": 0, \"ticks\": \"\"}}, \"type\": \"scattercarpet\"}], \"scattergeo\": [{\"marker\": {\"colorbar\": {\"outlinewidth\": 0, \"ticks\": \"\"}}, \"type\": \"scattergeo\"}], \"scattergl\": [{\"marker\": {\"colorbar\": {\"outlinewidth\": 0, \"ticks\": \"\"}}, \"type\": \"scattergl\"}], \"scattermapbox\": [{\"marker\": {\"colorbar\": {\"outlinewidth\": 0, \"ticks\": \"\"}}, \"type\": \"scattermapbox\"}], \"scatterpolar\": [{\"marker\": {\"colorbar\": {\"outlinewidth\": 0, \"ticks\": \"\"}}, \"type\": \"scatterpolar\"}], \"scatterpolargl\": [{\"marker\": {\"colorbar\": {\"outlinewidth\": 0, \"ticks\": \"\"}}, \"type\": \"scatterpolargl\"}], \"scatterternary\": [{\"marker\": {\"colorbar\": {\"outlinewidth\": 0, \"ticks\": \"\"}}, \"type\": \"scatterternary\"}], \"surface\": [{\"colorbar\": {\"outlinewidth\": 0, \"ticks\": \"\"}, \"colorscale\": [[0.0, \"#0d0887\"], [0.1111111111111111, \"#46039f\"], [0.2222222222222222, \"#7201a8\"], [0.3333333333333333, \"#9c179e\"], [0.4444444444444444, \"#bd3786\"], [0.5555555555555556, \"#d8576b\"], [0.6666666666666666, \"#ed7953\"], [0.7777777777777778, \"#fb9f3a\"], [0.8888888888888888, \"#fdca26\"], [1.0, \"#f0f921\"]], \"type\": \"surface\"}], \"table\": [{\"cells\": {\"fill\": {\"color\": \"#EBF0F8\"}, \"line\": {\"color\": \"white\"}}, \"header\": {\"fill\": {\"color\": \"#C8D4E3\"}, \"line\": {\"color\": \"white\"}}, \"type\": \"table\"}]}, \"layout\": {\"annotationdefaults\": {\"arrowcolor\": \"#2a3f5f\", \"arrowhead\": 0, \"arrowwidth\": 1}, \"coloraxis\": {\"colorbar\": {\"outlinewidth\": 0, \"ticks\": \"\"}}, \"colorscale\": {\"diverging\": [[0, \"#8e0152\"], [0.1, \"#c51b7d\"], [0.2, \"#de77ae\"], [0.3, \"#f1b6da\"], [0.4, \"#fde0ef\"], [0.5, \"#f7f7f7\"], [0.6, \"#e6f5d0\"], [0.7, \"#b8e186\"], [0.8, \"#7fbc41\"], [0.9, \"#4d9221\"], [1, \"#276419\"]], \"sequential\": [[0.0, \"#0d0887\"], [0.1111111111111111, \"#46039f\"], [0.2222222222222222, \"#7201a8\"], [0.3333333333333333, \"#9c179e\"], [0.4444444444444444, \"#bd3786\"], [0.5555555555555556, \"#d8576b\"], [0.6666666666666666, \"#ed7953\"], [0.7777777777777778, \"#fb9f3a\"], [0.8888888888888888, \"#fdca26\"], [1.0, \"#f0f921\"]], \"sequentialminus\": [[0.0, \"#0d0887\"], [0.1111111111111111, \"#46039f\"], [0.2222222222222222, \"#7201a8\"], [0.3333333333333333, \"#9c179e\"], [0.4444444444444444, \"#bd3786\"], [0.5555555555555556, \"#d8576b\"], [0.6666666666666666, \"#ed7953\"], [0.7777777777777778, \"#fb9f3a\"], [0.8888888888888888, \"#fdca26\"], [1.0, \"#f0f921\"]]}, \"colorway\": [\"#636efa\", \"#EF553B\", \"#00cc96\", \"#ab63fa\", \"#FFA15A\", \"#19d3f3\", \"#FF6692\", \"#B6E880\", \"#FF97FF\", \"#FECB52\"], \"font\": {\"color\": \"#2a3f5f\"}, \"geo\": {\"bgcolor\": \"white\", \"lakecolor\": \"white\", \"landcolor\": \"#E5ECF6\", \"showlakes\": true, \"showland\": true, \"subunitcolor\": \"white\"}, \"hoverlabel\": {\"align\": \"left\"}, \"hovermode\": \"closest\", \"mapbox\": {\"style\": \"light\"}, \"paper_bgcolor\": \"white\", \"plot_bgcolor\": \"#E5ECF6\", \"polar\": {\"angularaxis\": {\"gridcolor\": \"white\", \"linecolor\": \"white\", \"ticks\": \"\"}, \"bgcolor\": \"#E5ECF6\", \"radialaxis\": {\"gridcolor\": \"white\", \"linecolor\": \"white\", \"ticks\": \"\"}}, \"scene\": {\"xaxis\": {\"backgroundcolor\": \"#E5ECF6\", \"gridcolor\": \"white\", \"gridwidth\": 2, \"linecolor\": \"white\", \"showbackground\": true, \"ticks\": \"\", \"zerolinecolor\": \"white\"}, \"yaxis\": {\"backgroundcolor\": \"#E5ECF6\", \"gridcolor\": \"white\", \"gridwidth\": 2, \"linecolor\": \"white\", \"showbackground\": true, \"ticks\": \"\", \"zerolinecolor\": \"white\"}, \"zaxis\": {\"backgroundcolor\": \"#E5ECF6\", \"gridcolor\": \"white\", \"gridwidth\": 2, \"linecolor\": \"white\", \"showbackground\": true, \"ticks\": \"\", \"zerolinecolor\": \"white\"}}, \"shapedefaults\": {\"line\": {\"color\": \"#2a3f5f\"}}, \"ternary\": {\"aaxis\": {\"gridcolor\": \"white\", \"linecolor\": \"white\", \"ticks\": \"\"}, \"baxis\": {\"gridcolor\": \"white\", \"linecolor\": \"white\", \"ticks\": \"\"}, \"bgcolor\": \"#E5ECF6\", \"caxis\": {\"gridcolor\": \"white\", \"linecolor\": \"white\", \"ticks\": \"\"}}, \"title\": {\"x\": 0.05}, \"xaxis\": {\"automargin\": true, \"gridcolor\": \"white\", \"linecolor\": \"white\", \"ticks\": \"\", \"title\": {\"standoff\": 15}, \"zerolinecolor\": \"white\", \"zerolinewidth\": 2}, \"yaxis\": {\"automargin\": true, \"gridcolor\": \"white\", \"linecolor\": \"white\", \"ticks\": \"\", \"title\": {\"standoff\": 15}, \"zerolinecolor\": \"white\", \"zerolinewidth\": 2}}}, \"xaxis\": {\"anchor\": \"y\", \"domain\": [0.0, 1.0], \"title\": {\"text\": \"DHB\"}}, \"yaxis\": {\"anchor\": \"x\", \"domain\": [0.0, 1.0], \"title\": {\"text\": \"cases\"}}},\n",
       "                        {\"responsive\": true}\n",
       "                    ).then(function(){\n",
       "                            \n",
       "var gd = document.getElementById('68b79dcd-ab05-455c-a2a7-fa2c0bd0d2c0');\n",
       "var x = new MutationObserver(function (mutations, observer) {{\n",
       "        var display = window.getComputedStyle(gd).display;\n",
       "        if (!display || display === 'none') {{\n",
       "            console.log([gd, 'removed!']);\n",
       "            Plotly.purge(gd);\n",
       "            observer.disconnect();\n",
       "        }}\n",
       "}});\n",
       "\n",
       "// Listen for the removal of the full notebook cells\n",
       "var notebookContainer = gd.closest('#notebook-container');\n",
       "if (notebookContainer) {{\n",
       "    x.observe(notebookContainer, {childList: true});\n",
       "}}\n",
       "\n",
       "// Listen for the clearing of the current output cell\n",
       "var outputEl = gd.closest('.output');\n",
       "if (outputEl) {{\n",
       "    x.observe(outputEl, {childList: true});\n",
       "}}\n",
       "\n",
       "                        })\n",
       "                };\n",
       "                });\n",
       "            </script>\n",
       "        </div>"
      ]
     },
     "metadata": {},
     "output_type": "display_data"
    }
   ],
   "source": [
    "px.bar(totals_df, color='Report Date', y='cases', x='DHB', color_continuous_scale = px.colors.sequential.algae)"
   ]
  },
  {
   "cell_type": "code",
   "execution_count": 30,
   "metadata": {},
   "outputs": [],
   "source": [
    "tdf = cdf.unstack('DHB').fillna(0).cumsum().stack('DHB')\n",
    "tdf['total'] = tdf.sum(1)\n",
    "\n",
    "\n"
   ]
  },
  {
   "cell_type": "code",
   "execution_count": 31,
   "metadata": {},
   "outputs": [],
   "source": [
    "ydf = tdf.loc[tdf.index[-1][0], ['confirmed', 'probable']].unstack().reset_index()"
   ]
  },
  {
   "cell_type": "code",
   "execution_count": 32,
   "metadata": {},
   "outputs": [
    {
     "data": {
      "text/html": [
       "<div>\n",
       "        \n",
       "        \n",
       "            <div id=\"ecb7ee09-74b6-491f-89fe-cb87b24cecc3\" class=\"plotly-graph-div\" style=\"height:525px; width:100%;\"></div>\n",
       "            <script type=\"text/javascript\">\n",
       "                require([\"plotly\"], function(Plotly) {\n",
       "                    window.PLOTLYENV=window.PLOTLYENV || {};\n",
       "                    \n",
       "                if (document.getElementById(\"ecb7ee09-74b6-491f-89fe-cb87b24cecc3\")) {\n",
       "                    Plotly.newPlot(\n",
       "                        'ecb7ee09-74b6-491f-89fe-cb87b24cecc3',\n",
       "                        [{\"alignmentgroup\": \"True\", \"hoverlabel\": {\"namelength\": 0}, \"hovertemplate\": \"type=confirmed<br>0=%{x}<br>DHB=%{y}\", \"legendgroup\": \"confirmed\", \"marker\": {\"color\": \"#636efa\"}, \"name\": \"confirmed\", \"offsetgroup\": \"confirmed\", \"orientation\": \"h\", \"showlegend\": true, \"textposition\": \"auto\", \"type\": \"bar\", \"x\": [122.0, 25.0, 60.0, 63.0, 68.0, 27.0, 17.0, 12.0, 22.0, 32.0, 16.0, 9.0, 163.0, 1.0, 13.0, 135.0, 6.0, 109.0, 4.0, 7.0], \"xaxis\": \"x\", \"y\": [\"Auckland\", \"Bay of Plenty\", \"Canterbury\", \"Capital and Coast\", \"Counties Manukau\", \"Hawke's Bay\", \"Hutt Valley\", \"Lakes\", \"MidCentral\", \"Nelson Marlborough\", \"Northland\", \"South Canterbury\", \"Southern\", \"Tairawhiti\", \"Taranaki\", \"Waikato\", \"Wairarapa\", \"Waitemata\", \"West Coast\", \"Whanganui\"], \"yaxis\": \"y\"}, {\"alignmentgroup\": \"True\", \"hoverlabel\": {\"namelength\": 0}, \"hovertemplate\": \"type=probable<br>0=%{x}<br>DHB=%{y}\", \"legendgroup\": \"probable\", \"marker\": {\"color\": \"#EF553B\"}, \"name\": \"probable\", \"offsetgroup\": \"probable\", \"orientation\": \"h\", \"showlegend\": true, \"textposition\": \"auto\", \"type\": \"bar\", \"x\": [25.0, 7.0, 32.0, 18.0, 13.0, 6.0, 2.0, 0.0, 4.0, 8.0, 1.0, 1.0, 14.0, 0.0, 1.0, 12.0, 2.0, 48.0, 0.0, 1.0], \"xaxis\": \"x\", \"y\": [\"Auckland\", \"Bay of Plenty\", \"Canterbury\", \"Capital and Coast\", \"Counties Manukau\", \"Hawke's Bay\", \"Hutt Valley\", \"Lakes\", \"MidCentral\", \"Nelson Marlborough\", \"Northland\", \"South Canterbury\", \"Southern\", \"Tairawhiti\", \"Taranaki\", \"Waikato\", \"Wairarapa\", \"Waitemata\", \"West Coast\", \"Whanganui\"], \"yaxis\": \"y\"}],\n",
       "                        {\"barmode\": \"relative\", \"legend\": {\"title\": {\"text\": \"type\"}, \"tracegroupgap\": 0}, \"margin\": {\"t\": 60}, \"template\": {\"data\": {\"bar\": [{\"error_x\": {\"color\": \"#2a3f5f\"}, \"error_y\": {\"color\": \"#2a3f5f\"}, \"marker\": {\"line\": {\"color\": \"#E5ECF6\", \"width\": 0.5}}, \"type\": \"bar\"}], \"barpolar\": [{\"marker\": {\"line\": {\"color\": \"#E5ECF6\", \"width\": 0.5}}, \"type\": \"barpolar\"}], \"carpet\": [{\"aaxis\": {\"endlinecolor\": \"#2a3f5f\", \"gridcolor\": \"white\", \"linecolor\": \"white\", \"minorgridcolor\": \"white\", \"startlinecolor\": \"#2a3f5f\"}, \"baxis\": {\"endlinecolor\": \"#2a3f5f\", \"gridcolor\": \"white\", \"linecolor\": \"white\", \"minorgridcolor\": \"white\", \"startlinecolor\": \"#2a3f5f\"}, \"type\": \"carpet\"}], \"choropleth\": [{\"colorbar\": {\"outlinewidth\": 0, \"ticks\": \"\"}, \"type\": \"choropleth\"}], \"contour\": [{\"colorbar\": {\"outlinewidth\": 0, \"ticks\": \"\"}, \"colorscale\": [[0.0, \"#0d0887\"], [0.1111111111111111, \"#46039f\"], [0.2222222222222222, \"#7201a8\"], [0.3333333333333333, \"#9c179e\"], [0.4444444444444444, \"#bd3786\"], [0.5555555555555556, \"#d8576b\"], [0.6666666666666666, \"#ed7953\"], [0.7777777777777778, \"#fb9f3a\"], [0.8888888888888888, \"#fdca26\"], [1.0, \"#f0f921\"]], \"type\": \"contour\"}], \"contourcarpet\": [{\"colorbar\": {\"outlinewidth\": 0, \"ticks\": \"\"}, \"type\": \"contourcarpet\"}], \"heatmap\": [{\"colorbar\": {\"outlinewidth\": 0, \"ticks\": \"\"}, \"colorscale\": [[0.0, \"#0d0887\"], [0.1111111111111111, \"#46039f\"], [0.2222222222222222, \"#7201a8\"], [0.3333333333333333, \"#9c179e\"], [0.4444444444444444, \"#bd3786\"], [0.5555555555555556, \"#d8576b\"], [0.6666666666666666, \"#ed7953\"], [0.7777777777777778, \"#fb9f3a\"], [0.8888888888888888, \"#fdca26\"], [1.0, \"#f0f921\"]], \"type\": \"heatmap\"}], \"heatmapgl\": [{\"colorbar\": {\"outlinewidth\": 0, \"ticks\": \"\"}, \"colorscale\": [[0.0, \"#0d0887\"], [0.1111111111111111, \"#46039f\"], [0.2222222222222222, \"#7201a8\"], [0.3333333333333333, \"#9c179e\"], [0.4444444444444444, \"#bd3786\"], [0.5555555555555556, \"#d8576b\"], [0.6666666666666666, \"#ed7953\"], [0.7777777777777778, \"#fb9f3a\"], [0.8888888888888888, \"#fdca26\"], [1.0, \"#f0f921\"]], \"type\": \"heatmapgl\"}], \"histogram\": [{\"marker\": {\"colorbar\": {\"outlinewidth\": 0, \"ticks\": \"\"}}, \"type\": \"histogram\"}], \"histogram2d\": [{\"colorbar\": {\"outlinewidth\": 0, \"ticks\": \"\"}, \"colorscale\": [[0.0, \"#0d0887\"], [0.1111111111111111, \"#46039f\"], [0.2222222222222222, \"#7201a8\"], [0.3333333333333333, \"#9c179e\"], [0.4444444444444444, \"#bd3786\"], [0.5555555555555556, \"#d8576b\"], [0.6666666666666666, \"#ed7953\"], [0.7777777777777778, \"#fb9f3a\"], [0.8888888888888888, \"#fdca26\"], [1.0, \"#f0f921\"]], \"type\": \"histogram2d\"}], \"histogram2dcontour\": [{\"colorbar\": {\"outlinewidth\": 0, \"ticks\": \"\"}, \"colorscale\": [[0.0, \"#0d0887\"], [0.1111111111111111, \"#46039f\"], [0.2222222222222222, \"#7201a8\"], [0.3333333333333333, \"#9c179e\"], [0.4444444444444444, \"#bd3786\"], [0.5555555555555556, \"#d8576b\"], [0.6666666666666666, \"#ed7953\"], [0.7777777777777778, \"#fb9f3a\"], [0.8888888888888888, \"#fdca26\"], [1.0, \"#f0f921\"]], \"type\": \"histogram2dcontour\"}], \"mesh3d\": [{\"colorbar\": {\"outlinewidth\": 0, \"ticks\": \"\"}, \"type\": \"mesh3d\"}], \"parcoords\": [{\"line\": {\"colorbar\": {\"outlinewidth\": 0, \"ticks\": \"\"}}, \"type\": \"parcoords\"}], \"pie\": [{\"automargin\": true, \"type\": \"pie\"}], \"scatter\": [{\"marker\": {\"colorbar\": {\"outlinewidth\": 0, \"ticks\": \"\"}}, \"type\": \"scatter\"}], \"scatter3d\": [{\"line\": {\"colorbar\": {\"outlinewidth\": 0, \"ticks\": \"\"}}, \"marker\": {\"colorbar\": {\"outlinewidth\": 0, \"ticks\": \"\"}}, \"type\": \"scatter3d\"}], \"scattercarpet\": [{\"marker\": {\"colorbar\": {\"outlinewidth\": 0, \"ticks\": \"\"}}, \"type\": \"scattercarpet\"}], \"scattergeo\": [{\"marker\": {\"colorbar\": {\"outlinewidth\": 0, \"ticks\": \"\"}}, \"type\": \"scattergeo\"}], \"scattergl\": [{\"marker\": {\"colorbar\": {\"outlinewidth\": 0, \"ticks\": \"\"}}, \"type\": \"scattergl\"}], \"scattermapbox\": [{\"marker\": {\"colorbar\": {\"outlinewidth\": 0, \"ticks\": \"\"}}, \"type\": \"scattermapbox\"}], \"scatterpolar\": [{\"marker\": {\"colorbar\": {\"outlinewidth\": 0, \"ticks\": \"\"}}, \"type\": \"scatterpolar\"}], \"scatterpolargl\": [{\"marker\": {\"colorbar\": {\"outlinewidth\": 0, \"ticks\": \"\"}}, \"type\": \"scatterpolargl\"}], \"scatterternary\": [{\"marker\": {\"colorbar\": {\"outlinewidth\": 0, \"ticks\": \"\"}}, \"type\": \"scatterternary\"}], \"surface\": [{\"colorbar\": {\"outlinewidth\": 0, \"ticks\": \"\"}, \"colorscale\": [[0.0, \"#0d0887\"], [0.1111111111111111, \"#46039f\"], [0.2222222222222222, \"#7201a8\"], [0.3333333333333333, \"#9c179e\"], [0.4444444444444444, \"#bd3786\"], [0.5555555555555556, \"#d8576b\"], [0.6666666666666666, \"#ed7953\"], [0.7777777777777778, \"#fb9f3a\"], [0.8888888888888888, \"#fdca26\"], [1.0, \"#f0f921\"]], \"type\": \"surface\"}], \"table\": [{\"cells\": {\"fill\": {\"color\": \"#EBF0F8\"}, \"line\": {\"color\": \"white\"}}, \"header\": {\"fill\": {\"color\": \"#C8D4E3\"}, \"line\": {\"color\": \"white\"}}, \"type\": \"table\"}]}, \"layout\": {\"annotationdefaults\": {\"arrowcolor\": \"#2a3f5f\", \"arrowhead\": 0, \"arrowwidth\": 1}, \"coloraxis\": {\"colorbar\": {\"outlinewidth\": 0, \"ticks\": \"\"}}, \"colorscale\": {\"diverging\": [[0, \"#8e0152\"], [0.1, \"#c51b7d\"], [0.2, \"#de77ae\"], [0.3, \"#f1b6da\"], [0.4, \"#fde0ef\"], [0.5, \"#f7f7f7\"], [0.6, \"#e6f5d0\"], [0.7, \"#b8e186\"], [0.8, \"#7fbc41\"], [0.9, \"#4d9221\"], [1, \"#276419\"]], \"sequential\": [[0.0, \"#0d0887\"], [0.1111111111111111, \"#46039f\"], [0.2222222222222222, \"#7201a8\"], [0.3333333333333333, \"#9c179e\"], [0.4444444444444444, \"#bd3786\"], [0.5555555555555556, \"#d8576b\"], [0.6666666666666666, \"#ed7953\"], [0.7777777777777778, \"#fb9f3a\"], [0.8888888888888888, \"#fdca26\"], [1.0, \"#f0f921\"]], \"sequentialminus\": [[0.0, \"#0d0887\"], [0.1111111111111111, \"#46039f\"], [0.2222222222222222, \"#7201a8\"], [0.3333333333333333, \"#9c179e\"], [0.4444444444444444, \"#bd3786\"], [0.5555555555555556, \"#d8576b\"], [0.6666666666666666, \"#ed7953\"], [0.7777777777777778, \"#fb9f3a\"], [0.8888888888888888, \"#fdca26\"], [1.0, \"#f0f921\"]]}, \"colorway\": [\"#636efa\", \"#EF553B\", \"#00cc96\", \"#ab63fa\", \"#FFA15A\", \"#19d3f3\", \"#FF6692\", \"#B6E880\", \"#FF97FF\", \"#FECB52\"], \"font\": {\"color\": \"#2a3f5f\"}, \"geo\": {\"bgcolor\": \"white\", \"lakecolor\": \"white\", \"landcolor\": \"#E5ECF6\", \"showlakes\": true, \"showland\": true, \"subunitcolor\": \"white\"}, \"hoverlabel\": {\"align\": \"left\"}, \"hovermode\": \"closest\", \"mapbox\": {\"style\": \"light\"}, \"paper_bgcolor\": \"white\", \"plot_bgcolor\": \"#E5ECF6\", \"polar\": {\"angularaxis\": {\"gridcolor\": \"white\", \"linecolor\": \"white\", \"ticks\": \"\"}, \"bgcolor\": \"#E5ECF6\", \"radialaxis\": {\"gridcolor\": \"white\", \"linecolor\": \"white\", \"ticks\": \"\"}}, \"scene\": {\"xaxis\": {\"backgroundcolor\": \"#E5ECF6\", \"gridcolor\": \"white\", \"gridwidth\": 2, \"linecolor\": \"white\", \"showbackground\": true, \"ticks\": \"\", \"zerolinecolor\": \"white\"}, \"yaxis\": {\"backgroundcolor\": \"#E5ECF6\", \"gridcolor\": \"white\", \"gridwidth\": 2, \"linecolor\": \"white\", \"showbackground\": true, \"ticks\": \"\", \"zerolinecolor\": \"white\"}, \"zaxis\": {\"backgroundcolor\": \"#E5ECF6\", \"gridcolor\": \"white\", \"gridwidth\": 2, \"linecolor\": \"white\", \"showbackground\": true, \"ticks\": \"\", \"zerolinecolor\": \"white\"}}, \"shapedefaults\": {\"line\": {\"color\": \"#2a3f5f\"}}, \"ternary\": {\"aaxis\": {\"gridcolor\": \"white\", \"linecolor\": \"white\", \"ticks\": \"\"}, \"baxis\": {\"gridcolor\": \"white\", \"linecolor\": \"white\", \"ticks\": \"\"}, \"bgcolor\": \"#E5ECF6\", \"caxis\": {\"gridcolor\": \"white\", \"linecolor\": \"white\", \"ticks\": \"\"}}, \"title\": {\"x\": 0.05}, \"xaxis\": {\"automargin\": true, \"gridcolor\": \"white\", \"linecolor\": \"white\", \"ticks\": \"\", \"title\": {\"standoff\": 15}, \"zerolinecolor\": \"white\", \"zerolinewidth\": 2}, \"yaxis\": {\"automargin\": true, \"gridcolor\": \"white\", \"linecolor\": \"white\", \"ticks\": \"\", \"title\": {\"standoff\": 15}, \"zerolinecolor\": \"white\", \"zerolinewidth\": 2}}}, \"xaxis\": {\"anchor\": \"y\", \"domain\": [0.0, 1.0], \"title\": {\"text\": \"0\"}}, \"yaxis\": {\"anchor\": \"x\", \"categoryarray\": [\"Southern\", \"South Canterbury\", \"Canterbury\", \"West Coast\", \"Nelson Marlborough\", \"Wairarapa\", \"Capital and Coast\", \"Hutt Valley\", \"MidCentral\", \"Whanganui\", \"Hawke's Bay\", \"Taranaki\", \"Lakes\", \"Tairawhiti\", \"Bay of Plenty\", \"Waikato\", \"Counties Manukau\", \"Auckland\", \"Waitemata\", \"Northland\"], \"categoryorder\": \"array\", \"domain\": [0.0, 1.0], \"title\": {\"text\": \"DHB\"}}},\n",
       "                        {\"responsive\": true}\n",
       "                    ).then(function(){\n",
       "                            \n",
       "var gd = document.getElementById('ecb7ee09-74b6-491f-89fe-cb87b24cecc3');\n",
       "var x = new MutationObserver(function (mutations, observer) {{\n",
       "        var display = window.getComputedStyle(gd).display;\n",
       "        if (!display || display === 'none') {{\n",
       "            console.log([gd, 'removed!']);\n",
       "            Plotly.purge(gd);\n",
       "            observer.disconnect();\n",
       "        }}\n",
       "}});\n",
       "\n",
       "// Listen for the removal of the full notebook cells\n",
       "var notebookContainer = gd.closest('#notebook-container');\n",
       "if (notebookContainer) {{\n",
       "    x.observe(notebookContainer, {childList: true});\n",
       "}}\n",
       "\n",
       "// Listen for the clearing of the current output cell\n",
       "var outputEl = gd.closest('.output');\n",
       "if (outputEl) {{\n",
       "    x.observe(outputEl, {childList: true});\n",
       "}}\n",
       "\n",
       "                        })\n",
       "                };\n",
       "                });\n",
       "            </script>\n",
       "        </div>"
      ]
     },
     "metadata": {},
     "output_type": "display_data"
    }
   ],
   "source": [
    "px.bar(ydf, y='DHB', x=0, orientation='h', color='type', category_orders={'DHB':DHBS})"
   ]
  },
  {
   "cell_type": "code",
   "execution_count": null,
   "metadata": {},
   "outputs": [],
   "source": []
  },
  {
   "cell_type": "code",
   "execution_count": null,
   "metadata": {},
   "outputs": [],
   "source": [
    "xdf = cdf.unstack('DHB').fillna(0).cumsum()\n",
    "xdf = xdf.stack(['DHB', 'type'])\n",
    "xdf = xdf[xdf>0].unstack('type')\n",
    "sdf = xdf.sum(0, level='Report Date').assign(DHB='total')\n",
    "xdf = xdf.append(sdf.set_index('DHB', append=True), sort=True)\n",
    "xdf = xdf.assign(total=xdf.sum(1)).reset_index().fillna(0)"
   ]
  },
  {
   "cell_type": "code",
   "execution_count": null,
   "metadata": {},
   "outputs": [],
   "source": [
    "px.line(xdf, x='Report Date', y='total', color='DHB', hover_data=['confirmed', 'probable'], log_y=True)"
   ]
  },
  {
   "cell_type": "code",
   "execution_count": null,
   "metadata": {},
   "outputs": [],
   "source": [
    "fig=px.bar(xdf[xdf.DHB!='total'], x='Report Date', y='total', color='DHB')\n",
    "fig.data[0]"
   ]
  },
  {
   "cell_type": "code",
   "execution_count": null,
   "metadata": {},
   "outputs": [],
   "source": [
    "df.groupby('DHB').count()"
   ]
  },
  {
   "cell_type": "code",
   "execution_count": null,
   "metadata": {},
   "outputs": [],
   "source": [
    "cdf.groupby(['Report Date', 'DHB']).agg(count=('DHB', 'count')).cumsum()"
   ]
  },
  {
   "cell_type": "code",
   "execution_count": null,
   "metadata": {},
   "outputs": [],
   "source": [
    "px.bar(cdf.groupby(['Report Date', 'DHB']).agg(count=('DHB', 'count')).reset_index(), x='Report Date', y='count', color='DHB')"
   ]
  },
  {
   "cell_type": "code",
   "execution_count": null,
   "metadata": {},
   "outputs": [],
   "source": [
    "df2.groupby('Report Date').agg(count=('DHB', 'count'))"
   ]
  },
  {
   "cell_type": "code",
   "execution_count": null,
   "metadata": {},
   "outputs": [],
   "source": [
    "df2.groupby('DHB').count()"
   ]
  }
 ],
 "metadata": {
  "kernelspec": {
   "display_name": "Python 3",
   "language": "python",
   "name": "python3"
  },
  "language_info": {
   "codemirror_mode": {
    "name": "ipython",
    "version": 3
   },
   "file_extension": ".py",
   "mimetype": "text/x-python",
   "name": "python",
   "nbconvert_exporter": "python",
   "pygments_lexer": "ipython3",
   "version": "3.7.4"
  }
 },
 "nbformat": 4,
 "nbformat_minor": 4
}
