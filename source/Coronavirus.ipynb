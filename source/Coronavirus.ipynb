{
 "cells": [
  {
   "cell_type": "code",
   "execution_count": 1,
   "metadata": {},
   "outputs": [],
   "source": [
    "import numpy as np\n",
    "import pandas as pd\n",
    "import plotly.express as px"
   ]
  },
  {
   "cell_type": "code",
   "execution_count": 2,
   "metadata": {},
   "outputs": [],
   "source": [
    "import plotly.io\n",
    "plotly.io.renderers.default = 'notebook_connected'"
   ]
  },
  {
   "cell_type": "code",
   "execution_count": 3,
   "metadata": {},
   "outputs": [],
   "source": [
    "datestr='4-april-2020'\n",
    "\n"
   ]
  },
  {
   "cell_type": "code",
   "execution_count": 4,
   "metadata": {},
   "outputs": [],
   "source": [
    "today = pd.to_datetime(datestr.replace('-', ' '))"
   ]
  },
  {
   "cell_type": "code",
   "execution_count": 5,
   "metadata": {},
   "outputs": [],
   "source": [
    "CASE_URL_FORMAT = 'https://www.health.govt.nz/system/files/documents/pages/covid-19-case-details-update-%s.xlsx'"
   ]
  },
  {
   "cell_type": "code",
   "execution_count": 6,
   "metadata": {
    "scrolled": true
   },
   "outputs": [],
   "source": [
    "with pd.ExcelFile(CASE_URL_FORMAT % datestr) as excel_file:\n",
    "    cases_dfs = {name: excel_file.parse(i, header=3) for i, name in enumerate(['confirmed', 'probable'])}"
   ]
  },
  {
   "cell_type": "code",
   "execution_count": 7,
   "metadata": {},
   "outputs": [],
   "source": [
    "def get_case_counts(df, date_name='Report Date', date_col=0):\n",
    "    return df.groupby([df.columns[date_col], 'DHB']).agg(c=('DHB', 'count')).c.rename_axis([date_name, 'DHB'])"
   ]
  },
  {
   "cell_type": "code",
   "execution_count": 8,
   "metadata": {},
   "outputs": [],
   "source": [
    "cdf = pd.concat({key: get_case_counts(df) for key, df in cases_dfs.items()}, axis=1, names=['type']).loc[:today - pd.Timedelta(days=1)]"
   ]
  },
  {
   "cell_type": "code",
   "execution_count": 9,
   "metadata": {},
   "outputs": [],
   "source": [
    "totals_df = cdf.sum(1).rename('cases').reset_index()"
   ]
  },
  {
   "cell_type": "code",
   "execution_count": 10,
   "metadata": {},
   "outputs": [
    {
     "data": {
      "text/html": [
       "        <script type=\"text/javascript\">\n",
       "        window.PlotlyConfig = {MathJaxConfig: 'local'};\n",
       "        if (window.MathJax) {MathJax.Hub.Config({SVG: {font: \"STIX-Web\"}});}\n",
       "        if (typeof require !== 'undefined') {\n",
       "        require.undef(\"plotly\");\n",
       "        requirejs.config({\n",
       "            paths: {\n",
       "                'plotly': ['https://cdn.plot.ly/plotly-latest.min']\n",
       "            }\n",
       "        });\n",
       "        require(['plotly'], function(Plotly) {\n",
       "            window._Plotly = Plotly;\n",
       "        });\n",
       "        }\n",
       "        </script>\n",
       "        "
      ]
     },
     "metadata": {},
     "output_type": "display_data"
    },
    {
     "data": {
      "text/html": [
       "<div>\n",
       "        \n",
       "        \n",
       "            <div id=\"863af1e9-83a6-402d-88f8-9a949eac64f2\" class=\"plotly-graph-div\" style=\"height:525px; width:100%;\"></div>\n",
       "            <script type=\"text/javascript\">\n",
       "                require([\"plotly\"], function(Plotly) {\n",
       "                    window.PLOTLYENV=window.PLOTLYENV || {};\n",
       "                    \n",
       "                if (document.getElementById(\"863af1e9-83a6-402d-88f8-9a949eac64f2\")) {\n",
       "                    Plotly.newPlot(\n",
       "                        '863af1e9-83a6-402d-88f8-9a949eac64f2',\n",
       "                        [{\"alignmentgroup\": \"True\", \"hoverlabel\": {\"namelength\": 0}, \"hovertemplate\": \"DHB=Auckland<br>Report Date=%{x}<br>cases=%{y}\", \"legendgroup\": \"Auckland\", \"marker\": {\"color\": \"#636efa\"}, \"name\": \"Auckland\", \"offsetgroup\": \"Auckland\", \"orientation\": \"v\", \"showlegend\": true, \"textposition\": \"auto\", \"type\": \"bar\", \"x\": [\"2020-02-26T00:00:00\", \"2020-03-16T00:00:00\", \"2020-03-17T00:00:00\", \"2020-03-18T00:00:00\", \"2020-03-19T00:00:00\", \"2020-03-20T00:00:00\", \"2020-03-21T00:00:00\", \"2020-03-22T00:00:00\", \"2020-03-23T00:00:00\", \"2020-03-24T00:00:00\", \"2020-03-25T00:00:00\", \"2020-03-26T00:00:00\", \"2020-03-27T00:00:00\", \"2020-03-28T00:00:00\", \"2020-03-29T00:00:00\", \"2020-03-30T00:00:00\", \"2020-03-31T00:00:00\", \"2020-04-01T00:00:00\", \"2020-04-02T00:00:00\", \"2020-04-03T00:00:00\"], \"xaxis\": \"x\", \"y\": [1.0, 1.0, 2.0, 1.0, 4.0, 1.0, 4.0, 8.0, 7.0, 7.0, 12.0, 12.0, 8.0, 15.0, 10.0, 6.0, 8.0, 9.0, 5.0, 6.0], \"yaxis\": \"y\"}, {\"alignmentgroup\": \"True\", \"hoverlabel\": {\"namelength\": 0}, \"hovertemplate\": \"DHB=Southern<br>Report Date=%{x}<br>cases=%{y}\", \"legendgroup\": \"Southern\", \"marker\": {\"color\": \"#EF553B\"}, \"name\": \"Southern\", \"offsetgroup\": \"Southern\", \"orientation\": \"v\", \"showlegend\": true, \"textposition\": \"auto\", \"type\": \"bar\", \"x\": [\"2020-02-28T00:00:00\", \"2020-03-13T00:00:00\", \"2020-03-17T00:00:00\", \"2020-03-18T00:00:00\", \"2020-03-19T00:00:00\", \"2020-03-20T00:00:00\", \"2020-03-22T00:00:00\", \"2020-03-23T00:00:00\", \"2020-03-24T00:00:00\", \"2020-03-25T00:00:00\", \"2020-03-26T00:00:00\", \"2020-03-27T00:00:00\", \"2020-03-28T00:00:00\", \"2020-03-29T00:00:00\", \"2020-03-30T00:00:00\", \"2020-03-31T00:00:00\", \"2020-04-01T00:00:00\", \"2020-04-02T00:00:00\", \"2020-04-03T00:00:00\"], \"xaxis\": \"x\", \"y\": [2.0, 1.0, 3.0, 2.0, 1.0, 2.0, 2.0, 4.0, 7.0, 9.0, 7.0, 19.0, 11.0, 12.0, 9.0, 9.0, 16.0, 19.0, 15.0], \"yaxis\": \"y\"}, {\"alignmentgroup\": \"True\", \"hoverlabel\": {\"namelength\": 0}, \"hovertemplate\": \"DHB=Waitemata<br>Report Date=%{x}<br>cases=%{y}\", \"legendgroup\": \"Waitemata\", \"marker\": {\"color\": \"#00cc96\"}, \"name\": \"Waitemata\", \"offsetgroup\": \"Waitemata\", \"orientation\": \"v\", \"showlegend\": true, \"textposition\": \"auto\", \"type\": \"bar\", \"x\": [\"2020-03-02T00:00:00\", \"2020-03-04T00:00:00\", \"2020-03-05T00:00:00\", \"2020-03-15T00:00:00\", \"2020-03-17T00:00:00\", \"2020-03-19T00:00:00\", \"2020-03-20T00:00:00\", \"2020-03-21T00:00:00\", \"2020-03-22T00:00:00\", \"2020-03-23T00:00:00\", \"2020-03-24T00:00:00\", \"2020-03-25T00:00:00\", \"2020-03-26T00:00:00\", \"2020-03-27T00:00:00\", \"2020-03-28T00:00:00\", \"2020-03-29T00:00:00\", \"2020-03-30T00:00:00\", \"2020-03-31T00:00:00\", \"2020-04-01T00:00:00\", \"2020-04-02T00:00:00\", \"2020-04-03T00:00:00\"], \"xaxis\": \"x\", \"y\": [1.0, 1.0, 1.0, 1.0, 2.0, 1.0, 2.0, 1.0, 5.0, 2.0, 9.0, 11.0, 11.0, 3.0, 13.0, 15.0, 8.0, 12.0, 11.0, 11.0, 8.0], \"yaxis\": \"y\"}, {\"alignmentgroup\": \"True\", \"hoverlabel\": {\"namelength\": 0}, \"hovertemplate\": \"DHB=Counties Manukau<br>Report Date=%{x}<br>cases=%{y}\", \"legendgroup\": \"Counties Manukau\", \"marker\": {\"color\": \"#ab63fa\"}, \"name\": \"Counties Manukau\", \"offsetgroup\": \"Counties Manukau\", \"orientation\": \"v\", \"showlegend\": true, \"textposition\": \"auto\", \"type\": \"bar\", \"x\": [\"2020-03-04T00:00:00\", \"2020-03-05T00:00:00\", \"2020-03-06T00:00:00\", \"2020-03-12T00:00:00\", \"2020-03-17T00:00:00\", \"2020-03-19T00:00:00\", \"2020-03-21T00:00:00\", \"2020-03-22T00:00:00\", \"2020-03-23T00:00:00\", \"2020-03-24T00:00:00\", \"2020-03-25T00:00:00\", \"2020-03-26T00:00:00\", \"2020-03-27T00:00:00\", \"2020-03-28T00:00:00\", \"2020-03-29T00:00:00\", \"2020-03-30T00:00:00\", \"2020-03-31T00:00:00\", \"2020-04-01T00:00:00\", \"2020-04-02T00:00:00\", \"2020-04-03T00:00:00\"], \"xaxis\": \"x\", \"y\": [1.0, 1.0, 1.0, 1.0, 1.0, 1.0, 4.0, 8.0, 1.0, 2.0, 5.0, 3.0, 4.0, 6.0, 3.0, 8.0, 7.0, 3.0, 6.0, 4.0], \"yaxis\": \"y\"}, {\"alignmentgroup\": \"True\", \"hoverlabel\": {\"namelength\": 0}, \"hovertemplate\": \"DHB=Capital and Coast<br>Report Date=%{x}<br>cases=%{y}\", \"legendgroup\": \"Capital and Coast\", \"marker\": {\"color\": \"#FFA15A\"}, \"name\": \"Capital and Coast\", \"offsetgroup\": \"Capital and Coast\", \"orientation\": \"v\", \"showlegend\": true, \"textposition\": \"auto\", \"type\": \"bar\", \"x\": [\"2020-03-14T00:00:00\", \"2020-03-16T00:00:00\", \"2020-03-17T00:00:00\", \"2020-03-18T00:00:00\", \"2020-03-19T00:00:00\", \"2020-03-21T00:00:00\", \"2020-03-22T00:00:00\", \"2020-03-23T00:00:00\", \"2020-03-24T00:00:00\", \"2020-03-25T00:00:00\", \"2020-03-26T00:00:00\", \"2020-03-27T00:00:00\", \"2020-03-28T00:00:00\", \"2020-03-29T00:00:00\", \"2020-03-30T00:00:00\", \"2020-03-31T00:00:00\", \"2020-04-01T00:00:00\", \"2020-04-02T00:00:00\", \"2020-04-03T00:00:00\"], \"xaxis\": \"x\", \"y\": [1.0, 2.0, 1.0, 1.0, 3.0, 1.0, 7.0, 9.0, 10.0, 4.0, 3.0, 3.0, 5.0, 8.0, 1.0, 2.0, 3.0, 4.0, 5.0], \"yaxis\": \"y\"}, {\"alignmentgroup\": \"True\", \"hoverlabel\": {\"namelength\": 0}, \"hovertemplate\": \"DHB=Taranaki<br>Report Date=%{x}<br>cases=%{y}\", \"legendgroup\": \"Taranaki\", \"marker\": {\"color\": \"#19d3f3\"}, \"name\": \"Taranaki\", \"offsetgroup\": \"Taranaki\", \"orientation\": \"v\", \"showlegend\": true, \"textposition\": \"auto\", \"type\": \"bar\", \"x\": [\"2020-03-16T00:00:00\", \"2020-03-21T00:00:00\", \"2020-03-25T00:00:00\", \"2020-03-26T00:00:00\", \"2020-03-27T00:00:00\", \"2020-03-30T00:00:00\", \"2020-04-01T00:00:00\"], \"xaxis\": \"x\", \"y\": [2.0, 2.0, 1.0, 3.0, 4.0, 1.0, 1.0], \"yaxis\": \"y\"}, {\"alignmentgroup\": \"True\", \"hoverlabel\": {\"namelength\": 0}, \"hovertemplate\": \"DHB=Waikato<br>Report Date=%{x}<br>cases=%{y}\", \"legendgroup\": \"Waikato\", \"marker\": {\"color\": \"#FF6692\"}, \"name\": \"Waikato\", \"offsetgroup\": \"Waikato\", \"orientation\": \"v\", \"showlegend\": true, \"textposition\": \"auto\", \"type\": \"bar\", \"x\": [\"2020-03-16T00:00:00\", \"2020-03-19T00:00:00\", \"2020-03-20T00:00:00\", \"2020-03-21T00:00:00\", \"2020-03-22T00:00:00\", \"2020-03-23T00:00:00\", \"2020-03-24T00:00:00\", \"2020-03-25T00:00:00\", \"2020-03-26T00:00:00\", \"2020-03-27T00:00:00\", \"2020-03-28T00:00:00\", \"2020-03-29T00:00:00\", \"2020-03-30T00:00:00\", \"2020-03-31T00:00:00\", \"2020-04-01T00:00:00\", \"2020-04-02T00:00:00\", \"2020-04-03T00:00:00\"], \"xaxis\": \"x\", \"y\": [2.0, 2.0, 1.0, 3.0, 3.0, 4.0, 2.0, 21.0, 11.0, 11.0, 3.0, 16.0, 5.0, 24.0, 10.0, 8.0, 9.0], \"yaxis\": \"y\"}, {\"alignmentgroup\": \"True\", \"hoverlabel\": {\"namelength\": 0}, \"hovertemplate\": \"DHB=Canterbury<br>Report Date=%{x}<br>cases=%{y}\", \"legendgroup\": \"Canterbury\", \"marker\": {\"color\": \"#B6E880\"}, \"name\": \"Canterbury\", \"offsetgroup\": \"Canterbury\", \"orientation\": \"v\", \"showlegend\": true, \"textposition\": \"auto\", \"type\": \"bar\", \"x\": [\"2020-03-17T00:00:00\", \"2020-03-18T00:00:00\", \"2020-03-20T00:00:00\", \"2020-03-21T00:00:00\", \"2020-03-22T00:00:00\", \"2020-03-23T00:00:00\", \"2020-03-24T00:00:00\", \"2020-03-25T00:00:00\", \"2020-03-26T00:00:00\", \"2020-03-27T00:00:00\", \"2020-03-28T00:00:00\", \"2020-03-29T00:00:00\", \"2020-03-30T00:00:00\", \"2020-03-31T00:00:00\", \"2020-04-01T00:00:00\", \"2020-04-02T00:00:00\", \"2020-04-03T00:00:00\"], \"xaxis\": \"x\", \"y\": [1.0, 1.0, 2.0, 3.0, 4.0, 4.0, 7.0, 5.0, 11.0, 5.0, 8.0, 2.0, 1.0, 3.0, 1.0, 3.0, 5.0], \"yaxis\": \"y\"}, {\"alignmentgroup\": \"True\", \"hoverlabel\": {\"namelength\": 0}, \"hovertemplate\": \"DHB=Lakes<br>Report Date=%{x}<br>cases=%{y}\", \"legendgroup\": \"Lakes\", \"marker\": {\"color\": \"#FF97FF\"}, \"name\": \"Lakes\", \"offsetgroup\": \"Lakes\", \"orientation\": \"v\", \"showlegend\": true, \"textposition\": \"auto\", \"type\": \"bar\", \"x\": [\"2020-03-17T00:00:00\", \"2020-03-20T00:00:00\", \"2020-03-23T00:00:00\", \"2020-03-24T00:00:00\", \"2020-03-25T00:00:00\", \"2020-03-26T00:00:00\", \"2020-03-28T00:00:00\", \"2020-03-30T00:00:00\"], \"xaxis\": \"x\", \"y\": [1.0, 1.0, 1.0, 1.0, 3.0, 1.0, 1.0, 2.0], \"yaxis\": \"y\"}, {\"alignmentgroup\": \"True\", \"hoverlabel\": {\"namelength\": 0}, \"hovertemplate\": \"DHB=Northland<br>Report Date=%{x}<br>cases=%{y}\", \"legendgroup\": \"Northland\", \"marker\": {\"color\": \"#FECB52\"}, \"name\": \"Northland\", \"offsetgroup\": \"Northland\", \"orientation\": \"v\", \"showlegend\": true, \"textposition\": \"auto\", \"type\": \"bar\", \"x\": [\"2020-03-17T00:00:00\", \"2020-03-22T00:00:00\", \"2020-03-24T00:00:00\", \"2020-03-25T00:00:00\", \"2020-03-26T00:00:00\", \"2020-03-29T00:00:00\", \"2020-03-30T00:00:00\", \"2020-03-31T00:00:00\", \"2020-04-01T00:00:00\", \"2020-04-02T00:00:00\"], \"xaxis\": \"x\", \"y\": [1.0, 1.0, 1.0, 2.0, 2.0, 2.0, 1.0, 1.0, 1.0, 1.0], \"yaxis\": \"y\"}, {\"alignmentgroup\": \"True\", \"hoverlabel\": {\"namelength\": 0}, \"hovertemplate\": \"DHB=Hawke's Bay<br>Report Date=%{x}<br>cases=%{y}\", \"legendgroup\": \"Hawke's Bay\", \"marker\": {\"color\": \"#636efa\"}, \"name\": \"Hawke's Bay\", \"offsetgroup\": \"Hawke's Bay\", \"orientation\": \"v\", \"showlegend\": true, \"textposition\": \"auto\", \"type\": \"bar\", \"x\": [\"2020-03-19T00:00:00\", \"2020-03-24T00:00:00\", \"2020-03-25T00:00:00\", \"2020-03-26T00:00:00\", \"2020-03-27T00:00:00\", \"2020-03-28T00:00:00\", \"2020-03-30T00:00:00\", \"2020-04-01T00:00:00\", \"2020-04-02T00:00:00\", \"2020-04-03T00:00:00\"], \"xaxis\": \"x\", \"y\": [1.0, 2.0, 3.0, 4.0, 1.0, 1.0, 3.0, 4.0, 5.0, 5.0], \"yaxis\": \"y\"}, {\"alignmentgroup\": \"True\", \"hoverlabel\": {\"namelength\": 0}, \"hovertemplate\": \"DHB=Hutt Valley<br>Report Date=%{x}<br>cases=%{y}\", \"legendgroup\": \"Hutt Valley\", \"marker\": {\"color\": \"#EF553B\"}, \"name\": \"Hutt Valley\", \"offsetgroup\": \"Hutt Valley\", \"orientation\": \"v\", \"showlegend\": true, \"textposition\": \"auto\", \"type\": \"bar\", \"x\": [\"2020-03-19T00:00:00\", \"2020-03-22T00:00:00\", \"2020-03-23T00:00:00\", \"2020-03-25T00:00:00\", \"2020-03-26T00:00:00\", \"2020-03-27T00:00:00\", \"2020-03-31T00:00:00\", \"2020-04-02T00:00:00\", \"2020-04-03T00:00:00\"], \"xaxis\": \"x\", \"y\": [2.0, 1.0, 2.0, 1.0, 4.0, 3.0, 1.0, 3.0, 1.0], \"yaxis\": \"y\"}, {\"alignmentgroup\": \"True\", \"hoverlabel\": {\"namelength\": 0}, \"hovertemplate\": \"DHB=MidCentral<br>Report Date=%{x}<br>cases=%{y}\", \"legendgroup\": \"MidCentral\", \"marker\": {\"color\": \"#00cc96\"}, \"name\": \"MidCentral\", \"offsetgroup\": \"MidCentral\", \"orientation\": \"v\", \"showlegend\": true, \"textposition\": \"auto\", \"type\": \"bar\", \"x\": [\"2020-03-19T00:00:00\", \"2020-03-21T00:00:00\", \"2020-03-23T00:00:00\", \"2020-03-24T00:00:00\", \"2020-03-25T00:00:00\", \"2020-03-27T00:00:00\", \"2020-03-29T00:00:00\", \"2020-03-31T00:00:00\", \"2020-04-01T00:00:00\", \"2020-04-02T00:00:00\", \"2020-04-03T00:00:00\"], \"xaxis\": \"x\", \"y\": [3.0, 1.0, 1.0, 1.0, 2.0, 2.0, 3.0, 4.0, 2.0, 1.0, 1.0], \"yaxis\": \"y\"}, {\"alignmentgroup\": \"True\", \"hoverlabel\": {\"namelength\": 0}, \"hovertemplate\": \"DHB=Wairarapa<br>Report Date=%{x}<br>cases=%{y}\", \"legendgroup\": \"Wairarapa\", \"marker\": {\"color\": \"#ab63fa\"}, \"name\": \"Wairarapa\", \"offsetgroup\": \"Wairarapa\", \"orientation\": \"v\", \"showlegend\": true, \"textposition\": \"auto\", \"type\": \"bar\", \"x\": [\"2020-03-19T00:00:00\", \"2020-03-21T00:00:00\", \"2020-03-24T00:00:00\", \"2020-03-31T00:00:00\", \"2020-04-02T00:00:00\"], \"xaxis\": \"x\", \"y\": [1.0, 2.0, 2.0, 1.0, 2.0], \"yaxis\": \"y\"}, {\"alignmentgroup\": \"True\", \"hoverlabel\": {\"namelength\": 0}, \"hovertemplate\": \"DHB=Nelson Marlborough<br>Report Date=%{x}<br>cases=%{y}\", \"legendgroup\": \"Nelson Marlborough\", \"marker\": {\"color\": \"#FFA15A\"}, \"name\": \"Nelson Marlborough\", \"offsetgroup\": \"Nelson Marlborough\", \"orientation\": \"v\", \"showlegend\": true, \"textposition\": \"auto\", \"type\": \"bar\", \"x\": [\"2020-03-20T00:00:00\", \"2020-03-21T00:00:00\", \"2020-03-22T00:00:00\", \"2020-03-23T00:00:00\", \"2020-03-24T00:00:00\", \"2020-03-25T00:00:00\", \"2020-03-28T00:00:00\", \"2020-03-29T00:00:00\", \"2020-03-30T00:00:00\", \"2020-03-31T00:00:00\", \"2020-04-01T00:00:00\", \"2020-04-02T00:00:00\", \"2020-04-03T00:00:00\"], \"xaxis\": \"x\", \"y\": [2.0, 2.0, 5.0, 3.0, 3.0, 3.0, 1.0, 1.0, 2.0, 2.0, 4.0, 2.0, 2.0], \"yaxis\": \"y\"}, {\"alignmentgroup\": \"True\", \"hoverlabel\": {\"namelength\": 0}, \"hovertemplate\": \"DHB=Bay of Plenty<br>Report Date=%{x}<br>cases=%{y}\", \"legendgroup\": \"Bay of Plenty\", \"marker\": {\"color\": \"#19d3f3\"}, \"name\": \"Bay of Plenty\", \"offsetgroup\": \"Bay of Plenty\", \"orientation\": \"v\", \"showlegend\": true, \"textposition\": \"auto\", \"type\": \"bar\", \"x\": [\"2020-03-21T00:00:00\", \"2020-03-24T00:00:00\", \"2020-03-25T00:00:00\", \"2020-03-26T00:00:00\", \"2020-03-27T00:00:00\", \"2020-03-28T00:00:00\", \"2020-03-30T00:00:00\", \"2020-03-31T00:00:00\", \"2020-04-01T00:00:00\", \"2020-04-02T00:00:00\", \"2020-04-03T00:00:00\"], \"xaxis\": \"x\", \"y\": [1.0, 3.0, 2.0, 3.0, 3.0, 2.0, 4.0, 2.0, 5.0, 4.0, 1.0], \"yaxis\": \"y\"}, {\"alignmentgroup\": \"True\", \"hoverlabel\": {\"namelength\": 0}, \"hovertemplate\": \"DHB=West Coast<br>Report Date=%{x}<br>cases=%{y}\", \"legendgroup\": \"West Coast\", \"marker\": {\"color\": \"#FF6692\"}, \"name\": \"West Coast\", \"offsetgroup\": \"West Coast\", \"orientation\": \"v\", \"showlegend\": true, \"textposition\": \"auto\", \"type\": \"bar\", \"x\": [\"2020-03-22T00:00:00\", \"2020-03-26T00:00:00\", \"2020-04-01T00:00:00\"], \"xaxis\": \"x\", \"y\": [1.0, 2.0, 1.0], \"yaxis\": \"y\"}, {\"alignmentgroup\": \"True\", \"hoverlabel\": {\"namelength\": 0}, \"hovertemplate\": \"DHB=South Canterbury<br>Report Date=%{x}<br>cases=%{y}\", \"legendgroup\": \"South Canterbury\", \"marker\": {\"color\": \"#B6E880\"}, \"name\": \"South Canterbury\", \"offsetgroup\": \"South Canterbury\", \"orientation\": \"v\", \"showlegend\": true, \"textposition\": \"auto\", \"type\": \"bar\", \"x\": [\"2020-03-23T00:00:00\", \"2020-03-27T00:00:00\", \"2020-03-28T00:00:00\", \"2020-03-29T00:00:00\", \"2020-03-30T00:00:00\"], \"xaxis\": \"x\", \"y\": [2.0, 4.0, 1.0, 2.0, 1.0], \"yaxis\": \"y\"}, {\"alignmentgroup\": \"True\", \"hoverlabel\": {\"namelength\": 0}, \"hovertemplate\": \"DHB=Tairawhiti<br>Report Date=%{x}<br>cases=%{y}\", \"legendgroup\": \"Tairawhiti\", \"marker\": {\"color\": \"#FF97FF\"}, \"name\": \"Tairawhiti\", \"offsetgroup\": \"Tairawhiti\", \"orientation\": \"v\", \"showlegend\": true, \"textposition\": \"auto\", \"type\": \"bar\", \"x\": [\"2020-03-26T00:00:00\"], \"xaxis\": \"x\", \"y\": [1.0], \"yaxis\": \"y\"}, {\"alignmentgroup\": \"True\", \"hoverlabel\": {\"namelength\": 0}, \"hovertemplate\": \"DHB=Whanganui<br>Report Date=%{x}<br>cases=%{y}\", \"legendgroup\": \"Whanganui\", \"marker\": {\"color\": \"#FECB52\"}, \"name\": \"Whanganui\", \"offsetgroup\": \"Whanganui\", \"orientation\": \"v\", \"showlegend\": true, \"textposition\": \"auto\", \"type\": \"bar\", \"x\": [\"2020-03-27T00:00:00\", \"2020-04-01T00:00:00\", \"2020-04-02T00:00:00\"], \"xaxis\": \"x\", \"y\": [3.0, 2.0, 2.0], \"yaxis\": \"y\"}],\n",
       "                        {\"barmode\": \"relative\", \"legend\": {\"title\": {\"text\": \"DHB\"}, \"tracegroupgap\": 0}, \"margin\": {\"t\": 60}, \"template\": {\"data\": {\"bar\": [{\"error_x\": {\"color\": \"#2a3f5f\"}, \"error_y\": {\"color\": \"#2a3f5f\"}, \"marker\": {\"line\": {\"color\": \"#E5ECF6\", \"width\": 0.5}}, \"type\": \"bar\"}], \"barpolar\": [{\"marker\": {\"line\": {\"color\": \"#E5ECF6\", \"width\": 0.5}}, \"type\": \"barpolar\"}], \"carpet\": [{\"aaxis\": {\"endlinecolor\": \"#2a3f5f\", \"gridcolor\": \"white\", \"linecolor\": \"white\", \"minorgridcolor\": \"white\", \"startlinecolor\": \"#2a3f5f\"}, \"baxis\": {\"endlinecolor\": \"#2a3f5f\", \"gridcolor\": \"white\", \"linecolor\": \"white\", \"minorgridcolor\": \"white\", \"startlinecolor\": \"#2a3f5f\"}, \"type\": \"carpet\"}], \"choropleth\": [{\"colorbar\": {\"outlinewidth\": 0, \"ticks\": \"\"}, \"type\": \"choropleth\"}], \"contour\": [{\"colorbar\": {\"outlinewidth\": 0, \"ticks\": \"\"}, \"colorscale\": [[0.0, \"#0d0887\"], [0.1111111111111111, \"#46039f\"], [0.2222222222222222, \"#7201a8\"], [0.3333333333333333, \"#9c179e\"], [0.4444444444444444, \"#bd3786\"], [0.5555555555555556, \"#d8576b\"], [0.6666666666666666, \"#ed7953\"], [0.7777777777777778, \"#fb9f3a\"], [0.8888888888888888, \"#fdca26\"], [1.0, \"#f0f921\"]], \"type\": \"contour\"}], \"contourcarpet\": [{\"colorbar\": {\"outlinewidth\": 0, \"ticks\": \"\"}, \"type\": \"contourcarpet\"}], \"heatmap\": [{\"colorbar\": {\"outlinewidth\": 0, \"ticks\": \"\"}, \"colorscale\": [[0.0, \"#0d0887\"], [0.1111111111111111, \"#46039f\"], [0.2222222222222222, \"#7201a8\"], [0.3333333333333333, \"#9c179e\"], [0.4444444444444444, \"#bd3786\"], [0.5555555555555556, \"#d8576b\"], [0.6666666666666666, \"#ed7953\"], [0.7777777777777778, \"#fb9f3a\"], [0.8888888888888888, \"#fdca26\"], [1.0, \"#f0f921\"]], \"type\": \"heatmap\"}], \"heatmapgl\": [{\"colorbar\": {\"outlinewidth\": 0, \"ticks\": \"\"}, \"colorscale\": [[0.0, \"#0d0887\"], [0.1111111111111111, \"#46039f\"], [0.2222222222222222, \"#7201a8\"], [0.3333333333333333, \"#9c179e\"], [0.4444444444444444, \"#bd3786\"], [0.5555555555555556, \"#d8576b\"], [0.6666666666666666, \"#ed7953\"], [0.7777777777777778, \"#fb9f3a\"], [0.8888888888888888, \"#fdca26\"], [1.0, \"#f0f921\"]], \"type\": \"heatmapgl\"}], \"histogram\": [{\"marker\": {\"colorbar\": {\"outlinewidth\": 0, \"ticks\": \"\"}}, \"type\": \"histogram\"}], \"histogram2d\": [{\"colorbar\": {\"outlinewidth\": 0, \"ticks\": \"\"}, \"colorscale\": [[0.0, \"#0d0887\"], [0.1111111111111111, \"#46039f\"], [0.2222222222222222, \"#7201a8\"], [0.3333333333333333, \"#9c179e\"], [0.4444444444444444, \"#bd3786\"], [0.5555555555555556, \"#d8576b\"], [0.6666666666666666, \"#ed7953\"], [0.7777777777777778, \"#fb9f3a\"], [0.8888888888888888, \"#fdca26\"], [1.0, \"#f0f921\"]], \"type\": \"histogram2d\"}], \"histogram2dcontour\": [{\"colorbar\": {\"outlinewidth\": 0, \"ticks\": \"\"}, \"colorscale\": [[0.0, \"#0d0887\"], [0.1111111111111111, \"#46039f\"], [0.2222222222222222, \"#7201a8\"], [0.3333333333333333, \"#9c179e\"], [0.4444444444444444, \"#bd3786\"], [0.5555555555555556, \"#d8576b\"], [0.6666666666666666, \"#ed7953\"], [0.7777777777777778, \"#fb9f3a\"], [0.8888888888888888, \"#fdca26\"], [1.0, \"#f0f921\"]], \"type\": \"histogram2dcontour\"}], \"mesh3d\": [{\"colorbar\": {\"outlinewidth\": 0, \"ticks\": \"\"}, \"type\": \"mesh3d\"}], \"parcoords\": [{\"line\": {\"colorbar\": {\"outlinewidth\": 0, \"ticks\": \"\"}}, \"type\": \"parcoords\"}], \"pie\": [{\"automargin\": true, \"type\": \"pie\"}], \"scatter\": [{\"marker\": {\"colorbar\": {\"outlinewidth\": 0, \"ticks\": \"\"}}, \"type\": \"scatter\"}], \"scatter3d\": [{\"line\": {\"colorbar\": {\"outlinewidth\": 0, \"ticks\": \"\"}}, \"marker\": {\"colorbar\": {\"outlinewidth\": 0, \"ticks\": \"\"}}, \"type\": \"scatter3d\"}], \"scattercarpet\": [{\"marker\": {\"colorbar\": {\"outlinewidth\": 0, \"ticks\": \"\"}}, \"type\": \"scattercarpet\"}], \"scattergeo\": [{\"marker\": {\"colorbar\": {\"outlinewidth\": 0, \"ticks\": \"\"}}, \"type\": \"scattergeo\"}], \"scattergl\": [{\"marker\": {\"colorbar\": {\"outlinewidth\": 0, \"ticks\": \"\"}}, \"type\": \"scattergl\"}], \"scattermapbox\": [{\"marker\": {\"colorbar\": {\"outlinewidth\": 0, \"ticks\": \"\"}}, \"type\": \"scattermapbox\"}], \"scatterpolar\": [{\"marker\": {\"colorbar\": {\"outlinewidth\": 0, \"ticks\": \"\"}}, \"type\": \"scatterpolar\"}], \"scatterpolargl\": [{\"marker\": {\"colorbar\": {\"outlinewidth\": 0, \"ticks\": \"\"}}, \"type\": \"scatterpolargl\"}], \"scatterternary\": [{\"marker\": {\"colorbar\": {\"outlinewidth\": 0, \"ticks\": \"\"}}, \"type\": \"scatterternary\"}], \"surface\": [{\"colorbar\": {\"outlinewidth\": 0, \"ticks\": \"\"}, \"colorscale\": [[0.0, \"#0d0887\"], [0.1111111111111111, \"#46039f\"], [0.2222222222222222, \"#7201a8\"], [0.3333333333333333, \"#9c179e\"], [0.4444444444444444, \"#bd3786\"], [0.5555555555555556, \"#d8576b\"], [0.6666666666666666, \"#ed7953\"], [0.7777777777777778, \"#fb9f3a\"], [0.8888888888888888, \"#fdca26\"], [1.0, \"#f0f921\"]], \"type\": \"surface\"}], \"table\": [{\"cells\": {\"fill\": {\"color\": \"#EBF0F8\"}, \"line\": {\"color\": \"white\"}}, \"header\": {\"fill\": {\"color\": \"#C8D4E3\"}, \"line\": {\"color\": \"white\"}}, \"type\": \"table\"}]}, \"layout\": {\"annotationdefaults\": {\"arrowcolor\": \"#2a3f5f\", \"arrowhead\": 0, \"arrowwidth\": 1}, \"coloraxis\": {\"colorbar\": {\"outlinewidth\": 0, \"ticks\": \"\"}}, \"colorscale\": {\"diverging\": [[0, \"#8e0152\"], [0.1, \"#c51b7d\"], [0.2, \"#de77ae\"], [0.3, \"#f1b6da\"], [0.4, \"#fde0ef\"], [0.5, \"#f7f7f7\"], [0.6, \"#e6f5d0\"], [0.7, \"#b8e186\"], [0.8, \"#7fbc41\"], [0.9, \"#4d9221\"], [1, \"#276419\"]], \"sequential\": [[0.0, \"#0d0887\"], [0.1111111111111111, \"#46039f\"], [0.2222222222222222, \"#7201a8\"], [0.3333333333333333, \"#9c179e\"], [0.4444444444444444, \"#bd3786\"], [0.5555555555555556, \"#d8576b\"], [0.6666666666666666, \"#ed7953\"], [0.7777777777777778, \"#fb9f3a\"], [0.8888888888888888, \"#fdca26\"], [1.0, \"#f0f921\"]], \"sequentialminus\": [[0.0, \"#0d0887\"], [0.1111111111111111, \"#46039f\"], [0.2222222222222222, \"#7201a8\"], [0.3333333333333333, \"#9c179e\"], [0.4444444444444444, \"#bd3786\"], [0.5555555555555556, \"#d8576b\"], [0.6666666666666666, \"#ed7953\"], [0.7777777777777778, \"#fb9f3a\"], [0.8888888888888888, \"#fdca26\"], [1.0, \"#f0f921\"]]}, \"colorway\": [\"#636efa\", \"#EF553B\", \"#00cc96\", \"#ab63fa\", \"#FFA15A\", \"#19d3f3\", \"#FF6692\", \"#B6E880\", \"#FF97FF\", \"#FECB52\"], \"font\": {\"color\": \"#2a3f5f\"}, \"geo\": {\"bgcolor\": \"white\", \"lakecolor\": \"white\", \"landcolor\": \"#E5ECF6\", \"showlakes\": true, \"showland\": true, \"subunitcolor\": \"white\"}, \"hoverlabel\": {\"align\": \"left\"}, \"hovermode\": \"closest\", \"mapbox\": {\"style\": \"light\"}, \"paper_bgcolor\": \"white\", \"plot_bgcolor\": \"#E5ECF6\", \"polar\": {\"angularaxis\": {\"gridcolor\": \"white\", \"linecolor\": \"white\", \"ticks\": \"\"}, \"bgcolor\": \"#E5ECF6\", \"radialaxis\": {\"gridcolor\": \"white\", \"linecolor\": \"white\", \"ticks\": \"\"}}, \"scene\": {\"xaxis\": {\"backgroundcolor\": \"#E5ECF6\", \"gridcolor\": \"white\", \"gridwidth\": 2, \"linecolor\": \"white\", \"showbackground\": true, \"ticks\": \"\", \"zerolinecolor\": \"white\"}, \"yaxis\": {\"backgroundcolor\": \"#E5ECF6\", \"gridcolor\": \"white\", \"gridwidth\": 2, \"linecolor\": \"white\", \"showbackground\": true, \"ticks\": \"\", \"zerolinecolor\": \"white\"}, \"zaxis\": {\"backgroundcolor\": \"#E5ECF6\", \"gridcolor\": \"white\", \"gridwidth\": 2, \"linecolor\": \"white\", \"showbackground\": true, \"ticks\": \"\", \"zerolinecolor\": \"white\"}}, \"shapedefaults\": {\"line\": {\"color\": \"#2a3f5f\"}}, \"ternary\": {\"aaxis\": {\"gridcolor\": \"white\", \"linecolor\": \"white\", \"ticks\": \"\"}, \"baxis\": {\"gridcolor\": \"white\", \"linecolor\": \"white\", \"ticks\": \"\"}, \"bgcolor\": \"#E5ECF6\", \"caxis\": {\"gridcolor\": \"white\", \"linecolor\": \"white\", \"ticks\": \"\"}}, \"title\": {\"x\": 0.05}, \"xaxis\": {\"automargin\": true, \"gridcolor\": \"white\", \"linecolor\": \"white\", \"ticks\": \"\", \"title\": {\"standoff\": 15}, \"zerolinecolor\": \"white\", \"zerolinewidth\": 2}, \"yaxis\": {\"automargin\": true, \"gridcolor\": \"white\", \"linecolor\": \"white\", \"ticks\": \"\", \"title\": {\"standoff\": 15}, \"zerolinecolor\": \"white\", \"zerolinewidth\": 2}}}, \"xaxis\": {\"anchor\": \"y\", \"domain\": [0.0, 1.0], \"title\": {\"text\": \"Report Date\"}}, \"yaxis\": {\"anchor\": \"x\", \"domain\": [0.0, 1.0], \"title\": {\"text\": \"cases\"}}},\n",
       "                        {\"responsive\": true}\n",
       "                    ).then(function(){\n",
       "                            \n",
       "var gd = document.getElementById('863af1e9-83a6-402d-88f8-9a949eac64f2');\n",
       "var x = new MutationObserver(function (mutations, observer) {{\n",
       "        var display = window.getComputedStyle(gd).display;\n",
       "        if (!display || display === 'none') {{\n",
       "            console.log([gd, 'removed!']);\n",
       "            Plotly.purge(gd);\n",
       "            observer.disconnect();\n",
       "        }}\n",
       "}});\n",
       "\n",
       "// Listen for the removal of the full notebook cells\n",
       "var notebookContainer = gd.closest('#notebook-container');\n",
       "if (notebookContainer) {{\n",
       "    x.observe(notebookContainer, {childList: true});\n",
       "}}\n",
       "\n",
       "// Listen for the clearing of the current output cell\n",
       "var outputEl = gd.closest('.output');\n",
       "if (outputEl) {{\n",
       "    x.observe(outputEl, {childList: true});\n",
       "}}\n",
       "\n",
       "                        })\n",
       "                };\n",
       "                });\n",
       "            </script>\n",
       "        </div>"
      ]
     },
     "metadata": {},
     "output_type": "display_data"
    }
   ],
   "source": [
    "px.bar(totals_df, x='Report Date', y='cases', color='DHB')"
   ]
  },
  {
   "cell_type": "code",
   "execution_count": 11,
   "metadata": {},
   "outputs": [
    {
     "data": {
      "text/html": [
       "<div>\n",
       "        \n",
       "        \n",
       "            <div id=\"c954cb50-6663-46fe-a255-f251598f88ab\" class=\"plotly-graph-div\" style=\"height:525px; width:100%;\"></div>\n",
       "            <script type=\"text/javascript\">\n",
       "                require([\"plotly\"], function(Plotly) {\n",
       "                    window.PLOTLYENV=window.PLOTLYENV || {};\n",
       "                    \n",
       "                if (document.getElementById(\"c954cb50-6663-46fe-a255-f251598f88ab\")) {\n",
       "                    Plotly.newPlot(\n",
       "                        'c954cb50-6663-46fe-a255-f251598f88ab',\n",
       "                        [{\"alignmentgroup\": \"True\", \"hoverlabel\": {\"namelength\": 0}, \"hovertemplate\": \"Report Date=2020-02-26 00:00:00<br>DHB=%{x}<br>cases=%{y}\", \"legendgroup\": \"2020-02-26 00:00:00\", \"marker\": {\"color\": \"#FECB52\"}, \"name\": \"2020-02-26 00:00:00\", \"offsetgroup\": \"2020-02-26 00:00:00\", \"orientation\": \"v\", \"showlegend\": true, \"textposition\": \"auto\", \"type\": \"bar\", \"x\": [\"Auckland\"], \"xaxis\": \"x\", \"y\": [1.0], \"yaxis\": \"y\"}, {\"alignmentgroup\": \"True\", \"hoverlabel\": {\"namelength\": 0}, \"hovertemplate\": \"Report Date=2020-02-28 00:00:00<br>DHB=%{x}<br>cases=%{y}\", \"legendgroup\": \"2020-02-28 00:00:00\", \"marker\": {\"color\": \"#636efa\"}, \"name\": \"2020-02-28 00:00:00\", \"offsetgroup\": \"2020-02-28 00:00:00\", \"orientation\": \"v\", \"showlegend\": true, \"textposition\": \"auto\", \"type\": \"bar\", \"x\": [\"Southern\"], \"xaxis\": \"x\", \"y\": [2.0], \"yaxis\": \"y\"}, {\"alignmentgroup\": \"True\", \"hoverlabel\": {\"namelength\": 0}, \"hovertemplate\": \"Report Date=2020-03-02 00:00:00<br>DHB=%{x}<br>cases=%{y}\", \"legendgroup\": \"2020-03-02 00:00:00\", \"marker\": {\"color\": \"#EF553B\"}, \"name\": \"2020-03-02 00:00:00\", \"offsetgroup\": \"2020-03-02 00:00:00\", \"orientation\": \"v\", \"showlegend\": true, \"textposition\": \"auto\", \"type\": \"bar\", \"x\": [\"Waitemata\"], \"xaxis\": \"x\", \"y\": [1.0], \"yaxis\": \"y\"}, {\"alignmentgroup\": \"True\", \"hoverlabel\": {\"namelength\": 0}, \"hovertemplate\": \"Report Date=2020-03-04 00:00:00<br>DHB=%{x}<br>cases=%{y}\", \"legendgroup\": \"2020-03-04 00:00:00\", \"marker\": {\"color\": \"#00cc96\"}, \"name\": \"2020-03-04 00:00:00\", \"offsetgroup\": \"2020-03-04 00:00:00\", \"orientation\": \"v\", \"showlegend\": true, \"textposition\": \"auto\", \"type\": \"bar\", \"x\": [\"Counties Manukau\", \"Waitemata\"], \"xaxis\": \"x\", \"y\": [1.0, 1.0], \"yaxis\": \"y\"}, {\"alignmentgroup\": \"True\", \"hoverlabel\": {\"namelength\": 0}, \"hovertemplate\": \"Report Date=2020-03-05 00:00:00<br>DHB=%{x}<br>cases=%{y}\", \"legendgroup\": \"2020-03-05 00:00:00\", \"marker\": {\"color\": \"#ab63fa\"}, \"name\": \"2020-03-05 00:00:00\", \"offsetgroup\": \"2020-03-05 00:00:00\", \"orientation\": \"v\", \"showlegend\": true, \"textposition\": \"auto\", \"type\": \"bar\", \"x\": [\"Counties Manukau\", \"Waitemata\"], \"xaxis\": \"x\", \"y\": [1.0, 1.0], \"yaxis\": \"y\"}, {\"alignmentgroup\": \"True\", \"hoverlabel\": {\"namelength\": 0}, \"hovertemplate\": \"Report Date=2020-03-06 00:00:00<br>DHB=%{x}<br>cases=%{y}\", \"legendgroup\": \"2020-03-06 00:00:00\", \"marker\": {\"color\": \"#FFA15A\"}, \"name\": \"2020-03-06 00:00:00\", \"offsetgroup\": \"2020-03-06 00:00:00\", \"orientation\": \"v\", \"showlegend\": true, \"textposition\": \"auto\", \"type\": \"bar\", \"x\": [\"Counties Manukau\"], \"xaxis\": \"x\", \"y\": [1.0], \"yaxis\": \"y\"}, {\"alignmentgroup\": \"True\", \"hoverlabel\": {\"namelength\": 0}, \"hovertemplate\": \"Report Date=2020-03-12 00:00:00<br>DHB=%{x}<br>cases=%{y}\", \"legendgroup\": \"2020-03-12 00:00:00\", \"marker\": {\"color\": \"#19d3f3\"}, \"name\": \"2020-03-12 00:00:00\", \"offsetgroup\": \"2020-03-12 00:00:00\", \"orientation\": \"v\", \"showlegend\": true, \"textposition\": \"auto\", \"type\": \"bar\", \"x\": [\"Counties Manukau\"], \"xaxis\": \"x\", \"y\": [1.0], \"yaxis\": \"y\"}, {\"alignmentgroup\": \"True\", \"hoverlabel\": {\"namelength\": 0}, \"hovertemplate\": \"Report Date=2020-03-13 00:00:00<br>DHB=%{x}<br>cases=%{y}\", \"legendgroup\": \"2020-03-13 00:00:00\", \"marker\": {\"color\": \"#FF6692\"}, \"name\": \"2020-03-13 00:00:00\", \"offsetgroup\": \"2020-03-13 00:00:00\", \"orientation\": \"v\", \"showlegend\": true, \"textposition\": \"auto\", \"type\": \"bar\", \"x\": [\"Southern\"], \"xaxis\": \"x\", \"y\": [1.0], \"yaxis\": \"y\"}, {\"alignmentgroup\": \"True\", \"hoverlabel\": {\"namelength\": 0}, \"hovertemplate\": \"Report Date=2020-03-14 00:00:00<br>DHB=%{x}<br>cases=%{y}\", \"legendgroup\": \"2020-03-14 00:00:00\", \"marker\": {\"color\": \"#B6E880\"}, \"name\": \"2020-03-14 00:00:00\", \"offsetgroup\": \"2020-03-14 00:00:00\", \"orientation\": \"v\", \"showlegend\": true, \"textposition\": \"auto\", \"type\": \"bar\", \"x\": [\"Capital and Coast\"], \"xaxis\": \"x\", \"y\": [1.0], \"yaxis\": \"y\"}, {\"alignmentgroup\": \"True\", \"hoverlabel\": {\"namelength\": 0}, \"hovertemplate\": \"Report Date=2020-03-15 00:00:00<br>DHB=%{x}<br>cases=%{y}\", \"legendgroup\": \"2020-03-15 00:00:00\", \"marker\": {\"color\": \"#FF97FF\"}, \"name\": \"2020-03-15 00:00:00\", \"offsetgroup\": \"2020-03-15 00:00:00\", \"orientation\": \"v\", \"showlegend\": true, \"textposition\": \"auto\", \"type\": \"bar\", \"x\": [\"Waitemata\"], \"xaxis\": \"x\", \"y\": [1.0], \"yaxis\": \"y\"}, {\"alignmentgroup\": \"True\", \"hoverlabel\": {\"namelength\": 0}, \"hovertemplate\": \"Report Date=2020-03-16 00:00:00<br>DHB=%{x}<br>cases=%{y}\", \"legendgroup\": \"2020-03-16 00:00:00\", \"marker\": {\"color\": \"#FECB52\"}, \"name\": \"2020-03-16 00:00:00\", \"offsetgroup\": \"2020-03-16 00:00:00\", \"orientation\": \"v\", \"showlegend\": true, \"textposition\": \"auto\", \"type\": \"bar\", \"x\": [\"Auckland\", \"Capital and Coast\", \"Taranaki\", \"Waikato\"], \"xaxis\": \"x\", \"y\": [1.0, 2.0, 2.0, 2.0], \"yaxis\": \"y\"}, {\"alignmentgroup\": \"True\", \"hoverlabel\": {\"namelength\": 0}, \"hovertemplate\": \"Report Date=2020-03-17 00:00:00<br>DHB=%{x}<br>cases=%{y}\", \"legendgroup\": \"2020-03-17 00:00:00\", \"marker\": {\"color\": \"#636efa\"}, \"name\": \"2020-03-17 00:00:00\", \"offsetgroup\": \"2020-03-17 00:00:00\", \"orientation\": \"v\", \"showlegend\": true, \"textposition\": \"auto\", \"type\": \"bar\", \"x\": [\"Auckland\", \"Canterbury\", \"Capital and Coast\", \"Counties Manukau\", \"Lakes\", \"Northland\", \"Southern\", \"Waitemata\"], \"xaxis\": \"x\", \"y\": [2.0, 1.0, 1.0, 1.0, 1.0, 1.0, 3.0, 2.0], \"yaxis\": \"y\"}, {\"alignmentgroup\": \"True\", \"hoverlabel\": {\"namelength\": 0}, \"hovertemplate\": \"Report Date=2020-03-18 00:00:00<br>DHB=%{x}<br>cases=%{y}\", \"legendgroup\": \"2020-03-18 00:00:00\", \"marker\": {\"color\": \"#EF553B\"}, \"name\": \"2020-03-18 00:00:00\", \"offsetgroup\": \"2020-03-18 00:00:00\", \"orientation\": \"v\", \"showlegend\": true, \"textposition\": \"auto\", \"type\": \"bar\", \"x\": [\"Auckland\", \"Canterbury\", \"Capital and Coast\", \"Southern\"], \"xaxis\": \"x\", \"y\": [1.0, 1.0, 1.0, 2.0], \"yaxis\": \"y\"}, {\"alignmentgroup\": \"True\", \"hoverlabel\": {\"namelength\": 0}, \"hovertemplate\": \"Report Date=2020-03-19 00:00:00<br>DHB=%{x}<br>cases=%{y}\", \"legendgroup\": \"2020-03-19 00:00:00\", \"marker\": {\"color\": \"#00cc96\"}, \"name\": \"2020-03-19 00:00:00\", \"offsetgroup\": \"2020-03-19 00:00:00\", \"orientation\": \"v\", \"showlegend\": true, \"textposition\": \"auto\", \"type\": \"bar\", \"x\": [\"Auckland\", \"Capital and Coast\", \"Counties Manukau\", \"Hawke's Bay\", \"Hutt Valley\", \"MidCentral\", \"Southern\", \"Waikato\", \"Wairarapa\", \"Waitemata\"], \"xaxis\": \"x\", \"y\": [4.0, 3.0, 1.0, 1.0, 2.0, 3.0, 1.0, 2.0, 1.0, 1.0], \"yaxis\": \"y\"}, {\"alignmentgroup\": \"True\", \"hoverlabel\": {\"namelength\": 0}, \"hovertemplate\": \"Report Date=2020-03-20 00:00:00<br>DHB=%{x}<br>cases=%{y}\", \"legendgroup\": \"2020-03-20 00:00:00\", \"marker\": {\"color\": \"#ab63fa\"}, \"name\": \"2020-03-20 00:00:00\", \"offsetgroup\": \"2020-03-20 00:00:00\", \"orientation\": \"v\", \"showlegend\": true, \"textposition\": \"auto\", \"type\": \"bar\", \"x\": [\"Auckland\", \"Canterbury\", \"Lakes\", \"Nelson Marlborough\", \"Southern\", \"Waikato\", \"Waitemata\"], \"xaxis\": \"x\", \"y\": [1.0, 2.0, 1.0, 2.0, 2.0, 1.0, 2.0], \"yaxis\": \"y\"}, {\"alignmentgroup\": \"True\", \"hoverlabel\": {\"namelength\": 0}, \"hovertemplate\": \"Report Date=2020-03-21 00:00:00<br>DHB=%{x}<br>cases=%{y}\", \"legendgroup\": \"2020-03-21 00:00:00\", \"marker\": {\"color\": \"#FFA15A\"}, \"name\": \"2020-03-21 00:00:00\", \"offsetgroup\": \"2020-03-21 00:00:00\", \"orientation\": \"v\", \"showlegend\": true, \"textposition\": \"auto\", \"type\": \"bar\", \"x\": [\"Auckland\", \"Bay of Plenty\", \"Canterbury\", \"Capital and Coast\", \"Counties Manukau\", \"MidCentral\", \"Nelson Marlborough\", \"Taranaki\", \"Waikato\", \"Wairarapa\", \"Waitemata\"], \"xaxis\": \"x\", \"y\": [4.0, 1.0, 3.0, 1.0, 4.0, 1.0, 2.0, 2.0, 3.0, 2.0, 1.0], \"yaxis\": \"y\"}, {\"alignmentgroup\": \"True\", \"hoverlabel\": {\"namelength\": 0}, \"hovertemplate\": \"Report Date=2020-03-22 00:00:00<br>DHB=%{x}<br>cases=%{y}\", \"legendgroup\": \"2020-03-22 00:00:00\", \"marker\": {\"color\": \"#19d3f3\"}, \"name\": \"2020-03-22 00:00:00\", \"offsetgroup\": \"2020-03-22 00:00:00\", \"orientation\": \"v\", \"showlegend\": true, \"textposition\": \"auto\", \"type\": \"bar\", \"x\": [\"Auckland\", \"Canterbury\", \"Capital and Coast\", \"Counties Manukau\", \"Hutt Valley\", \"Nelson Marlborough\", \"Northland\", \"Southern\", \"Waikato\", \"Waitemata\", \"West Coast\"], \"xaxis\": \"x\", \"y\": [8.0, 4.0, 7.0, 8.0, 1.0, 5.0, 1.0, 2.0, 3.0, 5.0, 1.0], \"yaxis\": \"y\"}, {\"alignmentgroup\": \"True\", \"hoverlabel\": {\"namelength\": 0}, \"hovertemplate\": \"Report Date=2020-03-23 00:00:00<br>DHB=%{x}<br>cases=%{y}\", \"legendgroup\": \"2020-03-23 00:00:00\", \"marker\": {\"color\": \"#FF6692\"}, \"name\": \"2020-03-23 00:00:00\", \"offsetgroup\": \"2020-03-23 00:00:00\", \"orientation\": \"v\", \"showlegend\": true, \"textposition\": \"auto\", \"type\": \"bar\", \"x\": [\"Auckland\", \"Canterbury\", \"Capital and Coast\", \"Counties Manukau\", \"Hutt Valley\", \"Lakes\", \"MidCentral\", \"Nelson Marlborough\", \"South Canterbury\", \"Southern\", \"Waikato\", \"Waitemata\"], \"xaxis\": \"x\", \"y\": [7.0, 4.0, 9.0, 1.0, 2.0, 1.0, 1.0, 3.0, 2.0, 4.0, 4.0, 2.0], \"yaxis\": \"y\"}, {\"alignmentgroup\": \"True\", \"hoverlabel\": {\"namelength\": 0}, \"hovertemplate\": \"Report Date=2020-03-24 00:00:00<br>DHB=%{x}<br>cases=%{y}\", \"legendgroup\": \"2020-03-24 00:00:00\", \"marker\": {\"color\": \"#B6E880\"}, \"name\": \"2020-03-24 00:00:00\", \"offsetgroup\": \"2020-03-24 00:00:00\", \"orientation\": \"v\", \"showlegend\": true, \"textposition\": \"auto\", \"type\": \"bar\", \"x\": [\"Auckland\", \"Bay of Plenty\", \"Canterbury\", \"Capital and Coast\", \"Counties Manukau\", \"Hawke's Bay\", \"Lakes\", \"MidCentral\", \"Nelson Marlborough\", \"Northland\", \"Southern\", \"Waikato\", \"Wairarapa\", \"Waitemata\"], \"xaxis\": \"x\", \"y\": [7.0, 3.0, 7.0, 10.0, 2.0, 2.0, 1.0, 1.0, 3.0, 1.0, 7.0, 2.0, 2.0, 9.0], \"yaxis\": \"y\"}, {\"alignmentgroup\": \"True\", \"hoverlabel\": {\"namelength\": 0}, \"hovertemplate\": \"Report Date=2020-03-25 00:00:00<br>DHB=%{x}<br>cases=%{y}\", \"legendgroup\": \"2020-03-25 00:00:00\", \"marker\": {\"color\": \"#FF97FF\"}, \"name\": \"2020-03-25 00:00:00\", \"offsetgroup\": \"2020-03-25 00:00:00\", \"orientation\": \"v\", \"showlegend\": true, \"textposition\": \"auto\", \"type\": \"bar\", \"x\": [\"Auckland\", \"Bay of Plenty\", \"Canterbury\", \"Capital and Coast\", \"Counties Manukau\", \"Hawke's Bay\", \"Hutt Valley\", \"Lakes\", \"MidCentral\", \"Nelson Marlborough\", \"Northland\", \"Southern\", \"Taranaki\", \"Waikato\", \"Waitemata\"], \"xaxis\": \"x\", \"y\": [12.0, 2.0, 5.0, 4.0, 5.0, 3.0, 1.0, 3.0, 2.0, 3.0, 2.0, 9.0, 1.0, 21.0, 11.0], \"yaxis\": \"y\"}, {\"alignmentgroup\": \"True\", \"hoverlabel\": {\"namelength\": 0}, \"hovertemplate\": \"Report Date=2020-03-26 00:00:00<br>DHB=%{x}<br>cases=%{y}\", \"legendgroup\": \"2020-03-26 00:00:00\", \"marker\": {\"color\": \"#FECB52\"}, \"name\": \"2020-03-26 00:00:00\", \"offsetgroup\": \"2020-03-26 00:00:00\", \"orientation\": \"v\", \"showlegend\": true, \"textposition\": \"auto\", \"type\": \"bar\", \"x\": [\"Auckland\", \"Bay of Plenty\", \"Canterbury\", \"Capital and Coast\", \"Counties Manukau\", \"Hawke's Bay\", \"Hutt Valley\", \"Lakes\", \"Northland\", \"Southern\", \"Tairawhiti\", \"Taranaki\", \"Waikato\", \"Waitemata\", \"West Coast\"], \"xaxis\": \"x\", \"y\": [12.0, 3.0, 11.0, 3.0, 3.0, 4.0, 4.0, 1.0, 2.0, 7.0, 1.0, 3.0, 11.0, 11.0, 2.0], \"yaxis\": \"y\"}, {\"alignmentgroup\": \"True\", \"hoverlabel\": {\"namelength\": 0}, \"hovertemplate\": \"Report Date=2020-03-27 00:00:00<br>DHB=%{x}<br>cases=%{y}\", \"legendgroup\": \"2020-03-27 00:00:00\", \"marker\": {\"color\": \"#636efa\"}, \"name\": \"2020-03-27 00:00:00\", \"offsetgroup\": \"2020-03-27 00:00:00\", \"orientation\": \"v\", \"showlegend\": true, \"textposition\": \"auto\", \"type\": \"bar\", \"x\": [\"Auckland\", \"Bay of Plenty\", \"Canterbury\", \"Capital and Coast\", \"Counties Manukau\", \"Hawke's Bay\", \"Hutt Valley\", \"MidCentral\", \"South Canterbury\", \"Southern\", \"Taranaki\", \"Waikato\", \"Waitemata\", \"Whanganui\"], \"xaxis\": \"x\", \"y\": [8.0, 3.0, 5.0, 3.0, 4.0, 1.0, 3.0, 2.0, 4.0, 19.0, 4.0, 11.0, 3.0, 3.0], \"yaxis\": \"y\"}, {\"alignmentgroup\": \"True\", \"hoverlabel\": {\"namelength\": 0}, \"hovertemplate\": \"Report Date=2020-03-28 00:00:00<br>DHB=%{x}<br>cases=%{y}\", \"legendgroup\": \"2020-03-28 00:00:00\", \"marker\": {\"color\": \"#EF553B\"}, \"name\": \"2020-03-28 00:00:00\", \"offsetgroup\": \"2020-03-28 00:00:00\", \"orientation\": \"v\", \"showlegend\": true, \"textposition\": \"auto\", \"type\": \"bar\", \"x\": [\"Auckland\", \"Bay of Plenty\", \"Canterbury\", \"Capital and Coast\", \"Counties Manukau\", \"Hawke's Bay\", \"Lakes\", \"Nelson Marlborough\", \"South Canterbury\", \"Southern\", \"Waikato\", \"Waitemata\"], \"xaxis\": \"x\", \"y\": [15.0, 2.0, 8.0, 5.0, 6.0, 1.0, 1.0, 1.0, 1.0, 11.0, 3.0, 13.0], \"yaxis\": \"y\"}, {\"alignmentgroup\": \"True\", \"hoverlabel\": {\"namelength\": 0}, \"hovertemplate\": \"Report Date=2020-03-29 00:00:00<br>DHB=%{x}<br>cases=%{y}\", \"legendgroup\": \"2020-03-29 00:00:00\", \"marker\": {\"color\": \"#00cc96\"}, \"name\": \"2020-03-29 00:00:00\", \"offsetgroup\": \"2020-03-29 00:00:00\", \"orientation\": \"v\", \"showlegend\": true, \"textposition\": \"auto\", \"type\": \"bar\", \"x\": [\"Auckland\", \"Canterbury\", \"Capital and Coast\", \"Counties Manukau\", \"MidCentral\", \"Nelson Marlborough\", \"Northland\", \"South Canterbury\", \"Southern\", \"Waikato\", \"Waitemata\"], \"xaxis\": \"x\", \"y\": [10.0, 2.0, 8.0, 3.0, 3.0, 1.0, 2.0, 2.0, 12.0, 16.0, 15.0], \"yaxis\": \"y\"}, {\"alignmentgroup\": \"True\", \"hoverlabel\": {\"namelength\": 0}, \"hovertemplate\": \"Report Date=2020-03-30 00:00:00<br>DHB=%{x}<br>cases=%{y}\", \"legendgroup\": \"2020-03-30 00:00:00\", \"marker\": {\"color\": \"#ab63fa\"}, \"name\": \"2020-03-30 00:00:00\", \"offsetgroup\": \"2020-03-30 00:00:00\", \"orientation\": \"v\", \"showlegend\": true, \"textposition\": \"auto\", \"type\": \"bar\", \"x\": [\"Auckland\", \"Bay of Plenty\", \"Canterbury\", \"Capital and Coast\", \"Counties Manukau\", \"Hawke's Bay\", \"Lakes\", \"Nelson Marlborough\", \"Northland\", \"South Canterbury\", \"Southern\", \"Taranaki\", \"Waikato\", \"Waitemata\"], \"xaxis\": \"x\", \"y\": [6.0, 4.0, 1.0, 1.0, 8.0, 3.0, 2.0, 2.0, 1.0, 1.0, 9.0, 1.0, 5.0, 8.0], \"yaxis\": \"y\"}, {\"alignmentgroup\": \"True\", \"hoverlabel\": {\"namelength\": 0}, \"hovertemplate\": \"Report Date=2020-03-31 00:00:00<br>DHB=%{x}<br>cases=%{y}\", \"legendgroup\": \"2020-03-31 00:00:00\", \"marker\": {\"color\": \"#FFA15A\"}, \"name\": \"2020-03-31 00:00:00\", \"offsetgroup\": \"2020-03-31 00:00:00\", \"orientation\": \"v\", \"showlegend\": true, \"textposition\": \"auto\", \"type\": \"bar\", \"x\": [\"Auckland\", \"Bay of Plenty\", \"Canterbury\", \"Capital and Coast\", \"Counties Manukau\", \"Hutt Valley\", \"MidCentral\", \"Nelson Marlborough\", \"Northland\", \"Southern\", \"Waikato\", \"Wairarapa\", \"Waitemata\"], \"xaxis\": \"x\", \"y\": [8.0, 2.0, 3.0, 2.0, 7.0, 1.0, 4.0, 2.0, 1.0, 9.0, 24.0, 1.0, 12.0], \"yaxis\": \"y\"}, {\"alignmentgroup\": \"True\", \"hoverlabel\": {\"namelength\": 0}, \"hovertemplate\": \"Report Date=2020-04-01 00:00:00<br>DHB=%{x}<br>cases=%{y}\", \"legendgroup\": \"2020-04-01 00:00:00\", \"marker\": {\"color\": \"#19d3f3\"}, \"name\": \"2020-04-01 00:00:00\", \"offsetgroup\": \"2020-04-01 00:00:00\", \"orientation\": \"v\", \"showlegend\": true, \"textposition\": \"auto\", \"type\": \"bar\", \"x\": [\"Auckland\", \"Bay of Plenty\", \"Canterbury\", \"Capital and Coast\", \"Counties Manukau\", \"Hawke's Bay\", \"MidCentral\", \"Nelson Marlborough\", \"Northland\", \"Southern\", \"Taranaki\", \"Waikato\", \"Waitemata\", \"West Coast\", \"Whanganui\"], \"xaxis\": \"x\", \"y\": [9.0, 5.0, 1.0, 3.0, 3.0, 4.0, 2.0, 4.0, 1.0, 16.0, 1.0, 10.0, 11.0, 1.0, 2.0], \"yaxis\": \"y\"}, {\"alignmentgroup\": \"True\", \"hoverlabel\": {\"namelength\": 0}, \"hovertemplate\": \"Report Date=2020-04-02 00:00:00<br>DHB=%{x}<br>cases=%{y}\", \"legendgroup\": \"2020-04-02 00:00:00\", \"marker\": {\"color\": \"#FF6692\"}, \"name\": \"2020-04-02 00:00:00\", \"offsetgroup\": \"2020-04-02 00:00:00\", \"orientation\": \"v\", \"showlegend\": true, \"textposition\": \"auto\", \"type\": \"bar\", \"x\": [\"Auckland\", \"Bay of Plenty\", \"Canterbury\", \"Capital and Coast\", \"Counties Manukau\", \"Hawke's Bay\", \"Hutt Valley\", \"MidCentral\", \"Nelson Marlborough\", \"Northland\", \"Southern\", \"Waikato\", \"Wairarapa\", \"Waitemata\", \"Whanganui\"], \"xaxis\": \"x\", \"y\": [5.0, 4.0, 3.0, 4.0, 6.0, 5.0, 3.0, 1.0, 2.0, 1.0, 19.0, 8.0, 2.0, 11.0, 2.0], \"yaxis\": \"y\"}, {\"alignmentgroup\": \"True\", \"hoverlabel\": {\"namelength\": 0}, \"hovertemplate\": \"Report Date=2020-04-03 00:00:00<br>DHB=%{x}<br>cases=%{y}\", \"legendgroup\": \"2020-04-03 00:00:00\", \"marker\": {\"color\": \"#B6E880\"}, \"name\": \"2020-04-03 00:00:00\", \"offsetgroup\": \"2020-04-03 00:00:00\", \"orientation\": \"v\", \"showlegend\": true, \"textposition\": \"auto\", \"type\": \"bar\", \"x\": [\"Auckland\", \"Bay of Plenty\", \"Canterbury\", \"Capital and Coast\", \"Counties Manukau\", \"Hawke's Bay\", \"Hutt Valley\", \"MidCentral\", \"Nelson Marlborough\", \"Southern\", \"Waikato\", \"Waitemata\"], \"xaxis\": \"x\", \"y\": [6.0, 1.0, 5.0, 5.0, 4.0, 5.0, 1.0, 1.0, 2.0, 15.0, 9.0, 8.0], \"yaxis\": \"y\"}],\n",
       "                        {\"barmode\": \"relative\", \"legend\": {\"title\": {\"text\": \"Report Date\"}, \"tracegroupgap\": 0}, \"margin\": {\"t\": 60}, \"template\": {\"data\": {\"bar\": [{\"error_x\": {\"color\": \"#2a3f5f\"}, \"error_y\": {\"color\": \"#2a3f5f\"}, \"marker\": {\"line\": {\"color\": \"#E5ECF6\", \"width\": 0.5}}, \"type\": \"bar\"}], \"barpolar\": [{\"marker\": {\"line\": {\"color\": \"#E5ECF6\", \"width\": 0.5}}, \"type\": \"barpolar\"}], \"carpet\": [{\"aaxis\": {\"endlinecolor\": \"#2a3f5f\", \"gridcolor\": \"white\", \"linecolor\": \"white\", \"minorgridcolor\": \"white\", \"startlinecolor\": \"#2a3f5f\"}, \"baxis\": {\"endlinecolor\": \"#2a3f5f\", \"gridcolor\": \"white\", \"linecolor\": \"white\", \"minorgridcolor\": \"white\", \"startlinecolor\": \"#2a3f5f\"}, \"type\": \"carpet\"}], \"choropleth\": [{\"colorbar\": {\"outlinewidth\": 0, \"ticks\": \"\"}, \"type\": \"choropleth\"}], \"contour\": [{\"colorbar\": {\"outlinewidth\": 0, \"ticks\": \"\"}, \"colorscale\": [[0.0, \"#0d0887\"], [0.1111111111111111, \"#46039f\"], [0.2222222222222222, \"#7201a8\"], [0.3333333333333333, \"#9c179e\"], [0.4444444444444444, \"#bd3786\"], [0.5555555555555556, \"#d8576b\"], [0.6666666666666666, \"#ed7953\"], [0.7777777777777778, \"#fb9f3a\"], [0.8888888888888888, \"#fdca26\"], [1.0, \"#f0f921\"]], \"type\": \"contour\"}], \"contourcarpet\": [{\"colorbar\": {\"outlinewidth\": 0, \"ticks\": \"\"}, \"type\": \"contourcarpet\"}], \"heatmap\": [{\"colorbar\": {\"outlinewidth\": 0, \"ticks\": \"\"}, \"colorscale\": [[0.0, \"#0d0887\"], [0.1111111111111111, \"#46039f\"], [0.2222222222222222, \"#7201a8\"], [0.3333333333333333, \"#9c179e\"], [0.4444444444444444, \"#bd3786\"], [0.5555555555555556, \"#d8576b\"], [0.6666666666666666, \"#ed7953\"], [0.7777777777777778, \"#fb9f3a\"], [0.8888888888888888, \"#fdca26\"], [1.0, \"#f0f921\"]], \"type\": \"heatmap\"}], \"heatmapgl\": [{\"colorbar\": {\"outlinewidth\": 0, \"ticks\": \"\"}, \"colorscale\": [[0.0, \"#0d0887\"], [0.1111111111111111, \"#46039f\"], [0.2222222222222222, \"#7201a8\"], [0.3333333333333333, \"#9c179e\"], [0.4444444444444444, \"#bd3786\"], [0.5555555555555556, \"#d8576b\"], [0.6666666666666666, \"#ed7953\"], [0.7777777777777778, \"#fb9f3a\"], [0.8888888888888888, \"#fdca26\"], [1.0, \"#f0f921\"]], \"type\": \"heatmapgl\"}], \"histogram\": [{\"marker\": {\"colorbar\": {\"outlinewidth\": 0, \"ticks\": \"\"}}, \"type\": \"histogram\"}], \"histogram2d\": [{\"colorbar\": {\"outlinewidth\": 0, \"ticks\": \"\"}, \"colorscale\": [[0.0, \"#0d0887\"], [0.1111111111111111, \"#46039f\"], [0.2222222222222222, \"#7201a8\"], [0.3333333333333333, \"#9c179e\"], [0.4444444444444444, \"#bd3786\"], [0.5555555555555556, \"#d8576b\"], [0.6666666666666666, \"#ed7953\"], [0.7777777777777778, \"#fb9f3a\"], [0.8888888888888888, \"#fdca26\"], [1.0, \"#f0f921\"]], \"type\": \"histogram2d\"}], \"histogram2dcontour\": [{\"colorbar\": {\"outlinewidth\": 0, \"ticks\": \"\"}, \"colorscale\": [[0.0, \"#0d0887\"], [0.1111111111111111, \"#46039f\"], [0.2222222222222222, \"#7201a8\"], [0.3333333333333333, \"#9c179e\"], [0.4444444444444444, \"#bd3786\"], [0.5555555555555556, \"#d8576b\"], [0.6666666666666666, \"#ed7953\"], [0.7777777777777778, \"#fb9f3a\"], [0.8888888888888888, \"#fdca26\"], [1.0, \"#f0f921\"]], \"type\": \"histogram2dcontour\"}], \"mesh3d\": [{\"colorbar\": {\"outlinewidth\": 0, \"ticks\": \"\"}, \"type\": \"mesh3d\"}], \"parcoords\": [{\"line\": {\"colorbar\": {\"outlinewidth\": 0, \"ticks\": \"\"}}, \"type\": \"parcoords\"}], \"pie\": [{\"automargin\": true, \"type\": \"pie\"}], \"scatter\": [{\"marker\": {\"colorbar\": {\"outlinewidth\": 0, \"ticks\": \"\"}}, \"type\": \"scatter\"}], \"scatter3d\": [{\"line\": {\"colorbar\": {\"outlinewidth\": 0, \"ticks\": \"\"}}, \"marker\": {\"colorbar\": {\"outlinewidth\": 0, \"ticks\": \"\"}}, \"type\": \"scatter3d\"}], \"scattercarpet\": [{\"marker\": {\"colorbar\": {\"outlinewidth\": 0, \"ticks\": \"\"}}, \"type\": \"scattercarpet\"}], \"scattergeo\": [{\"marker\": {\"colorbar\": {\"outlinewidth\": 0, \"ticks\": \"\"}}, \"type\": \"scattergeo\"}], \"scattergl\": [{\"marker\": {\"colorbar\": {\"outlinewidth\": 0, \"ticks\": \"\"}}, \"type\": \"scattergl\"}], \"scattermapbox\": [{\"marker\": {\"colorbar\": {\"outlinewidth\": 0, \"ticks\": \"\"}}, \"type\": \"scattermapbox\"}], \"scatterpolar\": [{\"marker\": {\"colorbar\": {\"outlinewidth\": 0, \"ticks\": \"\"}}, \"type\": \"scatterpolar\"}], \"scatterpolargl\": [{\"marker\": {\"colorbar\": {\"outlinewidth\": 0, \"ticks\": \"\"}}, \"type\": \"scatterpolargl\"}], \"scatterternary\": [{\"marker\": {\"colorbar\": {\"outlinewidth\": 0, \"ticks\": \"\"}}, \"type\": \"scatterternary\"}], \"surface\": [{\"colorbar\": {\"outlinewidth\": 0, \"ticks\": \"\"}, \"colorscale\": [[0.0, \"#0d0887\"], [0.1111111111111111, \"#46039f\"], [0.2222222222222222, \"#7201a8\"], [0.3333333333333333, \"#9c179e\"], [0.4444444444444444, \"#bd3786\"], [0.5555555555555556, \"#d8576b\"], [0.6666666666666666, \"#ed7953\"], [0.7777777777777778, \"#fb9f3a\"], [0.8888888888888888, \"#fdca26\"], [1.0, \"#f0f921\"]], \"type\": \"surface\"}], \"table\": [{\"cells\": {\"fill\": {\"color\": \"#EBF0F8\"}, \"line\": {\"color\": \"white\"}}, \"header\": {\"fill\": {\"color\": \"#C8D4E3\"}, \"line\": {\"color\": \"white\"}}, \"type\": \"table\"}]}, \"layout\": {\"annotationdefaults\": {\"arrowcolor\": \"#2a3f5f\", \"arrowhead\": 0, \"arrowwidth\": 1}, \"coloraxis\": {\"colorbar\": {\"outlinewidth\": 0, \"ticks\": \"\"}}, \"colorscale\": {\"diverging\": [[0, \"#8e0152\"], [0.1, \"#c51b7d\"], [0.2, \"#de77ae\"], [0.3, \"#f1b6da\"], [0.4, \"#fde0ef\"], [0.5, \"#f7f7f7\"], [0.6, \"#e6f5d0\"], [0.7, \"#b8e186\"], [0.8, \"#7fbc41\"], [0.9, \"#4d9221\"], [1, \"#276419\"]], \"sequential\": [[0.0, \"#0d0887\"], [0.1111111111111111, \"#46039f\"], [0.2222222222222222, \"#7201a8\"], [0.3333333333333333, \"#9c179e\"], [0.4444444444444444, \"#bd3786\"], [0.5555555555555556, \"#d8576b\"], [0.6666666666666666, \"#ed7953\"], [0.7777777777777778, \"#fb9f3a\"], [0.8888888888888888, \"#fdca26\"], [1.0, \"#f0f921\"]], \"sequentialminus\": [[0.0, \"#0d0887\"], [0.1111111111111111, \"#46039f\"], [0.2222222222222222, \"#7201a8\"], [0.3333333333333333, \"#9c179e\"], [0.4444444444444444, \"#bd3786\"], [0.5555555555555556, \"#d8576b\"], [0.6666666666666666, \"#ed7953\"], [0.7777777777777778, \"#fb9f3a\"], [0.8888888888888888, \"#fdca26\"], [1.0, \"#f0f921\"]]}, \"colorway\": [\"#636efa\", \"#EF553B\", \"#00cc96\", \"#ab63fa\", \"#FFA15A\", \"#19d3f3\", \"#FF6692\", \"#B6E880\", \"#FF97FF\", \"#FECB52\"], \"font\": {\"color\": \"#2a3f5f\"}, \"geo\": {\"bgcolor\": \"white\", \"lakecolor\": \"white\", \"landcolor\": \"#E5ECF6\", \"showlakes\": true, \"showland\": true, \"subunitcolor\": \"white\"}, \"hoverlabel\": {\"align\": \"left\"}, \"hovermode\": \"closest\", \"mapbox\": {\"style\": \"light\"}, \"paper_bgcolor\": \"white\", \"plot_bgcolor\": \"#E5ECF6\", \"polar\": {\"angularaxis\": {\"gridcolor\": \"white\", \"linecolor\": \"white\", \"ticks\": \"\"}, \"bgcolor\": \"#E5ECF6\", \"radialaxis\": {\"gridcolor\": \"white\", \"linecolor\": \"white\", \"ticks\": \"\"}}, \"scene\": {\"xaxis\": {\"backgroundcolor\": \"#E5ECF6\", \"gridcolor\": \"white\", \"gridwidth\": 2, \"linecolor\": \"white\", \"showbackground\": true, \"ticks\": \"\", \"zerolinecolor\": \"white\"}, \"yaxis\": {\"backgroundcolor\": \"#E5ECF6\", \"gridcolor\": \"white\", \"gridwidth\": 2, \"linecolor\": \"white\", \"showbackground\": true, \"ticks\": \"\", \"zerolinecolor\": \"white\"}, \"zaxis\": {\"backgroundcolor\": \"#E5ECF6\", \"gridcolor\": \"white\", \"gridwidth\": 2, \"linecolor\": \"white\", \"showbackground\": true, \"ticks\": \"\", \"zerolinecolor\": \"white\"}}, \"shapedefaults\": {\"line\": {\"color\": \"#2a3f5f\"}}, \"ternary\": {\"aaxis\": {\"gridcolor\": \"white\", \"linecolor\": \"white\", \"ticks\": \"\"}, \"baxis\": {\"gridcolor\": \"white\", \"linecolor\": \"white\", \"ticks\": \"\"}, \"bgcolor\": \"#E5ECF6\", \"caxis\": {\"gridcolor\": \"white\", \"linecolor\": \"white\", \"ticks\": \"\"}}, \"title\": {\"x\": 0.05}, \"xaxis\": {\"automargin\": true, \"gridcolor\": \"white\", \"linecolor\": \"white\", \"ticks\": \"\", \"title\": {\"standoff\": 15}, \"zerolinecolor\": \"white\", \"zerolinewidth\": 2}, \"yaxis\": {\"automargin\": true, \"gridcolor\": \"white\", \"linecolor\": \"white\", \"ticks\": \"\", \"title\": {\"standoff\": 15}, \"zerolinecolor\": \"white\", \"zerolinewidth\": 2}}}, \"xaxis\": {\"anchor\": \"y\", \"domain\": [0.0, 1.0], \"title\": {\"text\": \"DHB\"}}, \"yaxis\": {\"anchor\": \"x\", \"domain\": [0.0, 1.0], \"title\": {\"text\": \"cases\"}}},\n",
       "                        {\"responsive\": true}\n",
       "                    ).then(function(){\n",
       "                            \n",
       "var gd = document.getElementById('c954cb50-6663-46fe-a255-f251598f88ab');\n",
       "var x = new MutationObserver(function (mutations, observer) {{\n",
       "        var display = window.getComputedStyle(gd).display;\n",
       "        if (!display || display === 'none') {{\n",
       "            console.log([gd, 'removed!']);\n",
       "            Plotly.purge(gd);\n",
       "            observer.disconnect();\n",
       "        }}\n",
       "}});\n",
       "\n",
       "// Listen for the removal of the full notebook cells\n",
       "var notebookContainer = gd.closest('#notebook-container');\n",
       "if (notebookContainer) {{\n",
       "    x.observe(notebookContainer, {childList: true});\n",
       "}}\n",
       "\n",
       "// Listen for the clearing of the current output cell\n",
       "var outputEl = gd.closest('.output');\n",
       "if (outputEl) {{\n",
       "    x.observe(outputEl, {childList: true});\n",
       "}}\n",
       "\n",
       "                        })\n",
       "                };\n",
       "                });\n",
       "            </script>\n",
       "        </div>"
      ]
     },
     "metadata": {},
     "output_type": "display_data"
    }
   ],
   "source": [
    "px.bar(totals_df, color='Report Date', y='cases', x='DHB', color_continuous_scale = px.colors.sequential.algae)"
   ]
  },
  {
   "cell_type": "code",
   "execution_count": 12,
   "metadata": {},
   "outputs": [],
   "source": [
    "tdf = cdf.unstack('DHB').fillna(0).cumsum().stack('DHB')\n",
    "\n",
    "\n",
    "\n"
   ]
  },
  {
   "cell_type": "code",
   "execution_count": 13,
   "metadata": {},
   "outputs": [],
   "source": [
    "tdf = tdf.assign(total = tdf.sum(1)).reset_index()\n",
    "tdf = tdf[tdf.total>0]\n"
   ]
  },
  {
   "cell_type": "code",
   "execution_count": 14,
   "metadata": {},
   "outputs": [
    {
     "data": {
      "text/html": [
       "<div>\n",
       "<style scoped>\n",
       "    .dataframe tbody tr th:only-of-type {\n",
       "        vertical-align: middle;\n",
       "    }\n",
       "\n",
       "    .dataframe tbody tr th {\n",
       "        vertical-align: top;\n",
       "    }\n",
       "\n",
       "    .dataframe thead th {\n",
       "        text-align: right;\n",
       "    }\n",
       "</style>\n",
       "<table border=\"1\" class=\"dataframe\">\n",
       "  <thead>\n",
       "    <tr style=\"text-align: right;\">\n",
       "      <th>type</th>\n",
       "      <th>Report Date</th>\n",
       "      <th>DHB</th>\n",
       "      <th>confirmed</th>\n",
       "      <th>probable</th>\n",
       "      <th>total</th>\n",
       "    </tr>\n",
       "  </thead>\n",
       "  <tbody>\n",
       "    <tr>\n",
       "      <td>0</td>\n",
       "      <td>2020-02-26</td>\n",
       "      <td>Auckland</td>\n",
       "      <td>1.0</td>\n",
       "      <td>0.0</td>\n",
       "      <td>1.0</td>\n",
       "    </tr>\n",
       "    <tr>\n",
       "      <td>20</td>\n",
       "      <td>2020-02-28</td>\n",
       "      <td>Auckland</td>\n",
       "      <td>1.0</td>\n",
       "      <td>0.0</td>\n",
       "      <td>1.0</td>\n",
       "    </tr>\n",
       "    <tr>\n",
       "      <td>32</td>\n",
       "      <td>2020-02-28</td>\n",
       "      <td>Southern</td>\n",
       "      <td>2.0</td>\n",
       "      <td>0.0</td>\n",
       "      <td>2.0</td>\n",
       "    </tr>\n",
       "    <tr>\n",
       "      <td>40</td>\n",
       "      <td>2020-03-02</td>\n",
       "      <td>Auckland</td>\n",
       "      <td>1.0</td>\n",
       "      <td>0.0</td>\n",
       "      <td>1.0</td>\n",
       "    </tr>\n",
       "    <tr>\n",
       "      <td>52</td>\n",
       "      <td>2020-03-02</td>\n",
       "      <td>Southern</td>\n",
       "      <td>2.0</td>\n",
       "      <td>0.0</td>\n",
       "      <td>2.0</td>\n",
       "    </tr>\n",
       "    <tr>\n",
       "      <td>...</td>\n",
       "      <td>...</td>\n",
       "      <td>...</td>\n",
       "      <td>...</td>\n",
       "      <td>...</td>\n",
       "      <td>...</td>\n",
       "    </tr>\n",
       "    <tr>\n",
       "      <td>575</td>\n",
       "      <td>2020-04-03</td>\n",
       "      <td>Waikato</td>\n",
       "      <td>126.0</td>\n",
       "      <td>9.0</td>\n",
       "      <td>135.0</td>\n",
       "    </tr>\n",
       "    <tr>\n",
       "      <td>576</td>\n",
       "      <td>2020-04-03</td>\n",
       "      <td>Wairarapa</td>\n",
       "      <td>6.0</td>\n",
       "      <td>2.0</td>\n",
       "      <td>8.0</td>\n",
       "    </tr>\n",
       "    <tr>\n",
       "      <td>577</td>\n",
       "      <td>2020-04-03</td>\n",
       "      <td>Waitemata</td>\n",
       "      <td>100.0</td>\n",
       "      <td>29.0</td>\n",
       "      <td>129.0</td>\n",
       "    </tr>\n",
       "    <tr>\n",
       "      <td>578</td>\n",
       "      <td>2020-04-03</td>\n",
       "      <td>West Coast</td>\n",
       "      <td>4.0</td>\n",
       "      <td>0.0</td>\n",
       "      <td>4.0</td>\n",
       "    </tr>\n",
       "    <tr>\n",
       "      <td>579</td>\n",
       "      <td>2020-04-03</td>\n",
       "      <td>Whanganui</td>\n",
       "      <td>7.0</td>\n",
       "      <td>0.0</td>\n",
       "      <td>7.0</td>\n",
       "    </tr>\n",
       "  </tbody>\n",
       "</table>\n",
       "<p>358 rows × 5 columns</p>\n",
       "</div>"
      ],
      "text/plain": [
       "type Report Date         DHB  confirmed  probable  total\n",
       "0     2020-02-26    Auckland        1.0       0.0    1.0\n",
       "20    2020-02-28    Auckland        1.0       0.0    1.0\n",
       "32    2020-02-28    Southern        2.0       0.0    2.0\n",
       "40    2020-03-02    Auckland        1.0       0.0    1.0\n",
       "52    2020-03-02    Southern        2.0       0.0    2.0\n",
       "..           ...         ...        ...       ...    ...\n",
       "575   2020-04-03     Waikato      126.0       9.0  135.0\n",
       "576   2020-04-03   Wairarapa        6.0       2.0    8.0\n",
       "577   2020-04-03   Waitemata      100.0      29.0  129.0\n",
       "578   2020-04-03  West Coast        4.0       0.0    4.0\n",
       "579   2020-04-03   Whanganui        7.0       0.0    7.0\n",
       "\n",
       "[358 rows x 5 columns]"
      ]
     },
     "execution_count": 14,
     "metadata": {},
     "output_type": "execute_result"
    }
   ],
   "source": [
    "tdf"
   ]
  },
  {
   "cell_type": "code",
   "execution_count": 15,
   "metadata": {},
   "outputs": [],
   "source": [
    "xdf = cdf.unstack('DHB').fillna(0).cumsum()\n",
    "xdf = xdf.stack(['DHB', 'type'])\n",
    "xdf = xdf[xdf>0].unstack('type')\n",
    "sdf = xdf.sum(0, level='Report Date').assign(DHB='total')\n",
    "xdf = xdf.append(sdf.set_index('DHB', append=True), sort=True)\n",
    "xdf = xdf.assign(total=xdf.sum(1)).reset_index().fillna(0)"
   ]
  },
  {
   "cell_type": "code",
   "execution_count": 16,
   "metadata": {},
   "outputs": [
    {
     "data": {
      "text/html": [
       "<div>\n",
       "        \n",
       "        \n",
       "            <div id=\"9f01106b-adc3-4dd0-9845-4db707fdb0e9\" class=\"plotly-graph-div\" style=\"height:525px; width:100%;\"></div>\n",
       "            <script type=\"text/javascript\">\n",
       "                require([\"plotly\"], function(Plotly) {\n",
       "                    window.PLOTLYENV=window.PLOTLYENV || {};\n",
       "                    \n",
       "                if (document.getElementById(\"9f01106b-adc3-4dd0-9845-4db707fdb0e9\")) {\n",
       "                    Plotly.newPlot(\n",
       "                        '9f01106b-adc3-4dd0-9845-4db707fdb0e9',\n",
       "                        [{\"customdata\": [[1.0, 0.0], [1.0, 0.0], [1.0, 0.0], [1.0, 0.0], [1.0, 0.0], [1.0, 0.0], [1.0, 0.0], [1.0, 0.0], [1.0, 0.0], [1.0, 0.0], [2.0, 0.0], [4.0, 0.0], [5.0, 0.0], [7.0, 2.0], [8.0, 2.0], [12.0, 2.0], [19.0, 3.0], [26.0, 3.0], [33.0, 3.0], [45.0, 3.0], [56.0, 4.0], [63.0, 5.0], [77.0, 6.0], [86.0, 7.0], [91.0, 8.0], [95.0, 12.0], [102.0, 14.0], [107.0, 14.0], [110.0, 17.0]], \"hoverlabel\": {\"namelength\": 0}, \"hovertemplate\": \"DHB=Auckland<br>Report Date=%{x}<br>total=%{y}<br>confirmed=%{customdata[0]}<br>probable=%{customdata[1]}\", \"legendgroup\": \"Auckland\", \"line\": {\"color\": \"#636efa\", \"dash\": \"solid\"}, \"mode\": \"lines\", \"name\": \"Auckland\", \"showlegend\": true, \"type\": \"scatter\", \"x\": [\"2020-02-26T00:00:00\", \"2020-02-28T00:00:00\", \"2020-03-02T00:00:00\", \"2020-03-04T00:00:00\", \"2020-03-05T00:00:00\", \"2020-03-06T00:00:00\", \"2020-03-12T00:00:00\", \"2020-03-13T00:00:00\", \"2020-03-14T00:00:00\", \"2020-03-15T00:00:00\", \"2020-03-16T00:00:00\", \"2020-03-17T00:00:00\", \"2020-03-18T00:00:00\", \"2020-03-19T00:00:00\", \"2020-03-20T00:00:00\", \"2020-03-21T00:00:00\", \"2020-03-22T00:00:00\", \"2020-03-23T00:00:00\", \"2020-03-24T00:00:00\", \"2020-03-25T00:00:00\", \"2020-03-26T00:00:00\", \"2020-03-27T00:00:00\", \"2020-03-28T00:00:00\", \"2020-03-29T00:00:00\", \"2020-03-30T00:00:00\", \"2020-03-31T00:00:00\", \"2020-04-01T00:00:00\", \"2020-04-02T00:00:00\", \"2020-04-03T00:00:00\"], \"xaxis\": \"x\", \"y\": [1.0, 1.0, 1.0, 1.0, 1.0, 1.0, 1.0, 1.0, 1.0, 1.0, 2.0, 4.0, 5.0, 9.0, 10.0, 14.0, 22.0, 29.0, 36.0, 48.0, 60.0, 68.0, 83.0, 93.0, 99.0, 107.0, 116.0, 121.0, 127.0], \"yaxis\": \"y\"}, {\"customdata\": [[2.0, 0.0], [2.0, 0.0], [2.0, 0.0], [2.0, 0.0], [2.0, 0.0], [2.0, 0.0], [3.0, 0.0], [3.0, 0.0], [3.0, 0.0], [3.0, 0.0], [5.0, 1.0], [7.0, 1.0], [8.0, 1.0], [10.0, 1.0], [10.0, 1.0], [12.0, 1.0], [16.0, 1.0], [23.0, 1.0], [32.0, 1.0], [39.0, 1.0], [58.0, 1.0], [69.0, 1.0], [81.0, 1.0], [90.0, 1.0], [97.0, 3.0], [112.0, 4.0], [129.0, 6.0], [142.0, 8.0]], \"hoverlabel\": {\"namelength\": 0}, \"hovertemplate\": \"DHB=Southern<br>Report Date=%{x}<br>total=%{y}<br>confirmed=%{customdata[0]}<br>probable=%{customdata[1]}\", \"legendgroup\": \"Southern\", \"line\": {\"color\": \"#EF553B\", \"dash\": \"solid\"}, \"mode\": \"lines\", \"name\": \"Southern\", \"showlegend\": true, \"type\": \"scatter\", \"x\": [\"2020-02-28T00:00:00\", \"2020-03-02T00:00:00\", \"2020-03-04T00:00:00\", \"2020-03-05T00:00:00\", \"2020-03-06T00:00:00\", \"2020-03-12T00:00:00\", \"2020-03-13T00:00:00\", \"2020-03-14T00:00:00\", \"2020-03-15T00:00:00\", \"2020-03-16T00:00:00\", \"2020-03-17T00:00:00\", \"2020-03-18T00:00:00\", \"2020-03-19T00:00:00\", \"2020-03-20T00:00:00\", \"2020-03-21T00:00:00\", \"2020-03-22T00:00:00\", \"2020-03-23T00:00:00\", \"2020-03-24T00:00:00\", \"2020-03-25T00:00:00\", \"2020-03-26T00:00:00\", \"2020-03-27T00:00:00\", \"2020-03-28T00:00:00\", \"2020-03-29T00:00:00\", \"2020-03-30T00:00:00\", \"2020-03-31T00:00:00\", \"2020-04-01T00:00:00\", \"2020-04-02T00:00:00\", \"2020-04-03T00:00:00\"], \"xaxis\": \"x\", \"y\": [2.0, 2.0, 2.0, 2.0, 2.0, 2.0, 3.0, 3.0, 3.0, 3.0, 6.0, 8.0, 9.0, 11.0, 11.0, 13.0, 17.0, 24.0, 33.0, 40.0, 59.0, 70.0, 82.0, 91.0, 100.0, 116.0, 135.0, 150.0], \"yaxis\": \"y\"}, {\"customdata\": [[1.0, 0.0], [2.0, 0.0], [2.0, 1.0], [2.0, 1.0], [2.0, 1.0], [2.0, 1.0], [2.0, 1.0], [3.0, 1.0], [3.0, 1.0], [5.0, 1.0], [5.0, 1.0], [6.0, 1.0], [8.0, 1.0], [9.0, 1.0], [14.0, 1.0], [16.0, 1.0], [25.0, 1.0], [35.0, 2.0], [43.0, 5.0], [45.0, 6.0], [58.0, 6.0], [70.0, 9.0], [75.0, 12.0], [84.0, 15.0], [91.0, 19.0], [94.0, 27.0], [100.0, 29.0]], \"hoverlabel\": {\"namelength\": 0}, \"hovertemplate\": \"DHB=Waitemata<br>Report Date=%{x}<br>total=%{y}<br>confirmed=%{customdata[0]}<br>probable=%{customdata[1]}\", \"legendgroup\": \"Waitemata\", \"line\": {\"color\": \"#00cc96\", \"dash\": \"solid\"}, \"mode\": \"lines\", \"name\": \"Waitemata\", \"showlegend\": true, \"type\": \"scatter\", \"x\": [\"2020-03-02T00:00:00\", \"2020-03-04T00:00:00\", \"2020-03-05T00:00:00\", \"2020-03-06T00:00:00\", \"2020-03-12T00:00:00\", \"2020-03-13T00:00:00\", \"2020-03-14T00:00:00\", \"2020-03-15T00:00:00\", \"2020-03-16T00:00:00\", \"2020-03-17T00:00:00\", \"2020-03-18T00:00:00\", \"2020-03-19T00:00:00\", \"2020-03-20T00:00:00\", \"2020-03-21T00:00:00\", \"2020-03-22T00:00:00\", \"2020-03-23T00:00:00\", \"2020-03-24T00:00:00\", \"2020-03-25T00:00:00\", \"2020-03-26T00:00:00\", \"2020-03-27T00:00:00\", \"2020-03-28T00:00:00\", \"2020-03-29T00:00:00\", \"2020-03-30T00:00:00\", \"2020-03-31T00:00:00\", \"2020-04-01T00:00:00\", \"2020-04-02T00:00:00\", \"2020-04-03T00:00:00\"], \"xaxis\": \"x\", \"y\": [1.0, 2.0, 3.0, 3.0, 3.0, 3.0, 3.0, 4.0, 4.0, 6.0, 6.0, 7.0, 9.0, 10.0, 15.0, 17.0, 26.0, 37.0, 48.0, 51.0, 64.0, 79.0, 87.0, 99.0, 110.0, 121.0, 129.0], \"yaxis\": \"y\"}, {\"customdata\": [[1.0, 0.0], [1.0, 1.0], [2.0, 1.0], [3.0, 1.0], [3.0, 1.0], [3.0, 1.0], [3.0, 1.0], [3.0, 1.0], [4.0, 1.0], [4.0, 1.0], [5.0, 1.0], [5.0, 1.0], [9.0, 1.0], [17.0, 1.0], [18.0, 1.0], [20.0, 1.0], [25.0, 1.0], [28.0, 1.0], [32.0, 1.0], [37.0, 2.0], [40.0, 2.0], [45.0, 5.0], [50.0, 7.0], [53.0, 7.0], [57.0, 9.0], [61.0, 9.0]], \"hoverlabel\": {\"namelength\": 0}, \"hovertemplate\": \"DHB=Counties Manukau<br>Report Date=%{x}<br>total=%{y}<br>confirmed=%{customdata[0]}<br>probable=%{customdata[1]}\", \"legendgroup\": \"Counties Manukau\", \"line\": {\"color\": \"#ab63fa\", \"dash\": \"solid\"}, \"mode\": \"lines\", \"name\": \"Counties Manukau\", \"showlegend\": true, \"type\": \"scatter\", \"x\": [\"2020-03-04T00:00:00\", \"2020-03-05T00:00:00\", \"2020-03-06T00:00:00\", \"2020-03-12T00:00:00\", \"2020-03-13T00:00:00\", \"2020-03-14T00:00:00\", \"2020-03-15T00:00:00\", \"2020-03-16T00:00:00\", \"2020-03-17T00:00:00\", \"2020-03-18T00:00:00\", \"2020-03-19T00:00:00\", \"2020-03-20T00:00:00\", \"2020-03-21T00:00:00\", \"2020-03-22T00:00:00\", \"2020-03-23T00:00:00\", \"2020-03-24T00:00:00\", \"2020-03-25T00:00:00\", \"2020-03-26T00:00:00\", \"2020-03-27T00:00:00\", \"2020-03-28T00:00:00\", \"2020-03-29T00:00:00\", \"2020-03-30T00:00:00\", \"2020-03-31T00:00:00\", \"2020-04-01T00:00:00\", \"2020-04-02T00:00:00\", \"2020-04-03T00:00:00\"], \"xaxis\": \"x\", \"y\": [1.0, 2.0, 3.0, 4.0, 4.0, 4.0, 4.0, 4.0, 5.0, 5.0, 6.0, 6.0, 10.0, 18.0, 19.0, 21.0, 26.0, 29.0, 33.0, 39.0, 42.0, 50.0, 57.0, 60.0, 66.0, 70.0], \"yaxis\": \"y\"}, {\"customdata\": [[1.0, 0.0], [1.0, 0.0], [3.0, 0.0], [4.0, 0.0], [5.0, 0.0], [7.0, 1.0], [7.0, 1.0], [8.0, 1.0], [13.0, 3.0], [21.0, 4.0], [31.0, 4.0], [35.0, 4.0], [37.0, 5.0], [40.0, 5.0], [45.0, 5.0], [52.0, 6.0], [52.0, 7.0], [54.0, 7.0], [55.0, 9.0], [57.0, 11.0], [59.0, 14.0]], \"hoverlabel\": {\"namelength\": 0}, \"hovertemplate\": \"DHB=Capital and Coast<br>Report Date=%{x}<br>total=%{y}<br>confirmed=%{customdata[0]}<br>probable=%{customdata[1]}\", \"legendgroup\": \"Capital and Coast\", \"line\": {\"color\": \"#FFA15A\", \"dash\": \"solid\"}, \"mode\": \"lines\", \"name\": \"Capital and Coast\", \"showlegend\": true, \"type\": \"scatter\", \"x\": [\"2020-03-14T00:00:00\", \"2020-03-15T00:00:00\", \"2020-03-16T00:00:00\", \"2020-03-17T00:00:00\", \"2020-03-18T00:00:00\", \"2020-03-19T00:00:00\", \"2020-03-20T00:00:00\", \"2020-03-21T00:00:00\", \"2020-03-22T00:00:00\", \"2020-03-23T00:00:00\", \"2020-03-24T00:00:00\", \"2020-03-25T00:00:00\", \"2020-03-26T00:00:00\", \"2020-03-27T00:00:00\", \"2020-03-28T00:00:00\", \"2020-03-29T00:00:00\", \"2020-03-30T00:00:00\", \"2020-03-31T00:00:00\", \"2020-04-01T00:00:00\", \"2020-04-02T00:00:00\", \"2020-04-03T00:00:00\"], \"xaxis\": \"x\", \"y\": [1.0, 1.0, 3.0, 4.0, 5.0, 8.0, 8.0, 9.0, 16.0, 25.0, 35.0, 39.0, 42.0, 45.0, 50.0, 58.0, 59.0, 61.0, 64.0, 68.0, 73.0], \"yaxis\": \"y\"}, {\"customdata\": [[2.0, 0.0], [2.0, 0.0], [2.0, 0.0], [2.0, 0.0], [2.0, 0.0], [4.0, 0.0], [4.0, 0.0], [4.0, 0.0], [4.0, 0.0], [5.0, 0.0], [7.0, 1.0], [11.0, 1.0], [11.0, 1.0], [11.0, 1.0], [12.0, 1.0], [12.0, 1.0], [13.0, 1.0], [13.0, 1.0], [13.0, 1.0]], \"hoverlabel\": {\"namelength\": 0}, \"hovertemplate\": \"DHB=Taranaki<br>Report Date=%{x}<br>total=%{y}<br>confirmed=%{customdata[0]}<br>probable=%{customdata[1]}\", \"legendgroup\": \"Taranaki\", \"line\": {\"color\": \"#19d3f3\", \"dash\": \"solid\"}, \"mode\": \"lines\", \"name\": \"Taranaki\", \"showlegend\": true, \"type\": \"scatter\", \"x\": [\"2020-03-16T00:00:00\", \"2020-03-17T00:00:00\", \"2020-03-18T00:00:00\", \"2020-03-19T00:00:00\", \"2020-03-20T00:00:00\", \"2020-03-21T00:00:00\", \"2020-03-22T00:00:00\", \"2020-03-23T00:00:00\", \"2020-03-24T00:00:00\", \"2020-03-25T00:00:00\", \"2020-03-26T00:00:00\", \"2020-03-27T00:00:00\", \"2020-03-28T00:00:00\", \"2020-03-29T00:00:00\", \"2020-03-30T00:00:00\", \"2020-03-31T00:00:00\", \"2020-04-01T00:00:00\", \"2020-04-02T00:00:00\", \"2020-04-03T00:00:00\"], \"xaxis\": \"x\", \"y\": [2.0, 2.0, 2.0, 2.0, 2.0, 4.0, 4.0, 4.0, 4.0, 5.0, 8.0, 12.0, 12.0, 12.0, 13.0, 13.0, 14.0, 14.0, 14.0], \"yaxis\": \"y\"}, {\"customdata\": [[2.0, 0.0], [2.0, 0.0], [2.0, 0.0], [4.0, 0.0], [5.0, 0.0], [8.0, 0.0], [10.0, 1.0], [14.0, 1.0], [16.0, 1.0], [36.0, 2.0], [47.0, 2.0], [58.0, 2.0], [61.0, 2.0], [77.0, 2.0], [82.0, 2.0], [105.0, 3.0], [114.0, 4.0], [121.0, 5.0], [126.0, 9.0]], \"hoverlabel\": {\"namelength\": 0}, \"hovertemplate\": \"DHB=Waikato<br>Report Date=%{x}<br>total=%{y}<br>confirmed=%{customdata[0]}<br>probable=%{customdata[1]}\", \"legendgroup\": \"Waikato\", \"line\": {\"color\": \"#FF6692\", \"dash\": \"solid\"}, \"mode\": \"lines\", \"name\": \"Waikato\", \"showlegend\": true, \"type\": \"scatter\", \"x\": [\"2020-03-16T00:00:00\", \"2020-03-17T00:00:00\", \"2020-03-18T00:00:00\", \"2020-03-19T00:00:00\", \"2020-03-20T00:00:00\", \"2020-03-21T00:00:00\", \"2020-03-22T00:00:00\", \"2020-03-23T00:00:00\", \"2020-03-24T00:00:00\", \"2020-03-25T00:00:00\", \"2020-03-26T00:00:00\", \"2020-03-27T00:00:00\", \"2020-03-28T00:00:00\", \"2020-03-29T00:00:00\", \"2020-03-30T00:00:00\", \"2020-03-31T00:00:00\", \"2020-04-01T00:00:00\", \"2020-04-02T00:00:00\", \"2020-04-03T00:00:00\"], \"xaxis\": \"x\", \"y\": [2.0, 2.0, 2.0, 4.0, 5.0, 8.0, 11.0, 15.0, 17.0, 38.0, 49.0, 60.0, 63.0, 79.0, 84.0, 108.0, 118.0, 126.0, 135.0], \"yaxis\": \"y\"}, {\"customdata\": [[1.0, 0.0], [2.0, 0.0], [2.0, 0.0], [4.0, 0.0], [7.0, 0.0], [10.0, 1.0], [14.0, 1.0], [21.0, 1.0], [25.0, 2.0], [34.0, 4.0], [36.0, 7.0], [40.0, 11.0], [42.0, 11.0], [43.0, 11.0], [45.0, 12.0], [45.0, 13.0], [47.0, 14.0], [50.0, 16.0]], \"hoverlabel\": {\"namelength\": 0}, \"hovertemplate\": \"DHB=Canterbury<br>Report Date=%{x}<br>total=%{y}<br>confirmed=%{customdata[0]}<br>probable=%{customdata[1]}\", \"legendgroup\": \"Canterbury\", \"line\": {\"color\": \"#B6E880\", \"dash\": \"solid\"}, \"mode\": \"lines\", \"name\": \"Canterbury\", \"showlegend\": true, \"type\": \"scatter\", \"x\": [\"2020-03-17T00:00:00\", \"2020-03-18T00:00:00\", \"2020-03-19T00:00:00\", \"2020-03-20T00:00:00\", \"2020-03-21T00:00:00\", \"2020-03-22T00:00:00\", \"2020-03-23T00:00:00\", \"2020-03-24T00:00:00\", \"2020-03-25T00:00:00\", \"2020-03-26T00:00:00\", \"2020-03-27T00:00:00\", \"2020-03-28T00:00:00\", \"2020-03-29T00:00:00\", \"2020-03-30T00:00:00\", \"2020-03-31T00:00:00\", \"2020-04-01T00:00:00\", \"2020-04-02T00:00:00\", \"2020-04-03T00:00:00\"], \"xaxis\": \"x\", \"y\": [1.0, 2.0, 2.0, 4.0, 7.0, 11.0, 15.0, 22.0, 27.0, 38.0, 43.0, 51.0, 53.0, 54.0, 57.0, 58.0, 61.0, 66.0], \"yaxis\": \"y\"}, {\"customdata\": [[1.0, 0.0], [1.0, 0.0], [1.0, 0.0], [2.0, 0.0], [2.0, 0.0], [2.0, 0.0], [3.0, 0.0], [4.0, 0.0], [7.0, 0.0], [8.0, 0.0], [8.0, 0.0], [9.0, 0.0], [9.0, 0.0], [11.0, 0.0], [11.0, 0.0], [11.0, 0.0], [11.0, 0.0], [11.0, 0.0]], \"hoverlabel\": {\"namelength\": 0}, \"hovertemplate\": \"DHB=Lakes<br>Report Date=%{x}<br>total=%{y}<br>confirmed=%{customdata[0]}<br>probable=%{customdata[1]}\", \"legendgroup\": \"Lakes\", \"line\": {\"color\": \"#FF97FF\", \"dash\": \"solid\"}, \"mode\": \"lines\", \"name\": \"Lakes\", \"showlegend\": true, \"type\": \"scatter\", \"x\": [\"2020-03-17T00:00:00\", \"2020-03-18T00:00:00\", \"2020-03-19T00:00:00\", \"2020-03-20T00:00:00\", \"2020-03-21T00:00:00\", \"2020-03-22T00:00:00\", \"2020-03-23T00:00:00\", \"2020-03-24T00:00:00\", \"2020-03-25T00:00:00\", \"2020-03-26T00:00:00\", \"2020-03-27T00:00:00\", \"2020-03-28T00:00:00\", \"2020-03-29T00:00:00\", \"2020-03-30T00:00:00\", \"2020-03-31T00:00:00\", \"2020-04-01T00:00:00\", \"2020-04-02T00:00:00\", \"2020-04-03T00:00:00\"], \"xaxis\": \"x\", \"y\": [1.0, 1.0, 1.0, 2.0, 2.0, 2.0, 3.0, 4.0, 7.0, 8.0, 8.0, 9.0, 9.0, 11.0, 11.0, 11.0, 11.0, 11.0], \"yaxis\": \"y\"}, {\"customdata\": [[1.0, 0.0], [1.0, 0.0], [1.0, 0.0], [1.0, 0.0], [1.0, 0.0], [2.0, 0.0], [2.0, 0.0], [3.0, 0.0], [5.0, 0.0], [6.0, 1.0], [6.0, 1.0], [6.0, 1.0], [8.0, 1.0], [9.0, 1.0], [10.0, 1.0], [11.0, 1.0], [12.0, 1.0], [12.0, 1.0]], \"hoverlabel\": {\"namelength\": 0}, \"hovertemplate\": \"DHB=Northland<br>Report Date=%{x}<br>total=%{y}<br>confirmed=%{customdata[0]}<br>probable=%{customdata[1]}\", \"legendgroup\": \"Northland\", \"line\": {\"color\": \"#FECB52\", \"dash\": \"solid\"}, \"mode\": \"lines\", \"name\": \"Northland\", \"showlegend\": true, \"type\": \"scatter\", \"x\": [\"2020-03-17T00:00:00\", \"2020-03-18T00:00:00\", \"2020-03-19T00:00:00\", \"2020-03-20T00:00:00\", \"2020-03-21T00:00:00\", \"2020-03-22T00:00:00\", \"2020-03-23T00:00:00\", \"2020-03-24T00:00:00\", \"2020-03-25T00:00:00\", \"2020-03-26T00:00:00\", \"2020-03-27T00:00:00\", \"2020-03-28T00:00:00\", \"2020-03-29T00:00:00\", \"2020-03-30T00:00:00\", \"2020-03-31T00:00:00\", \"2020-04-01T00:00:00\", \"2020-04-02T00:00:00\", \"2020-04-03T00:00:00\"], \"xaxis\": \"x\", \"y\": [1.0, 1.0, 1.0, 1.0, 1.0, 2.0, 2.0, 3.0, 5.0, 7.0, 7.0, 7.0, 9.0, 10.0, 11.0, 12.0, 13.0, 13.0], \"yaxis\": \"y\"}, {\"customdata\": [[1.0, 0.0], [1.0, 0.0], [1.0, 0.0], [1.0, 0.0], [1.0, 0.0], [3.0, 0.0], [6.0, 0.0], [10.0, 0.0], [11.0, 0.0], [12.0, 0.0], [12.0, 0.0], [15.0, 0.0], [15.0, 0.0], [19.0, 0.0], [21.0, 3.0], [25.0, 4.0]], \"hoverlabel\": {\"namelength\": 0}, \"hovertemplate\": \"DHB=Hawke's Bay<br>Report Date=%{x}<br>total=%{y}<br>confirmed=%{customdata[0]}<br>probable=%{customdata[1]}\", \"legendgroup\": \"Hawke's Bay\", \"line\": {\"color\": \"#636efa\", \"dash\": \"solid\"}, \"mode\": \"lines\", \"name\": \"Hawke's Bay\", \"showlegend\": true, \"type\": \"scatter\", \"x\": [\"2020-03-19T00:00:00\", \"2020-03-20T00:00:00\", \"2020-03-21T00:00:00\", \"2020-03-22T00:00:00\", \"2020-03-23T00:00:00\", \"2020-03-24T00:00:00\", \"2020-03-25T00:00:00\", \"2020-03-26T00:00:00\", \"2020-03-27T00:00:00\", \"2020-03-28T00:00:00\", \"2020-03-29T00:00:00\", \"2020-03-30T00:00:00\", \"2020-03-31T00:00:00\", \"2020-04-01T00:00:00\", \"2020-04-02T00:00:00\", \"2020-04-03T00:00:00\"], \"xaxis\": \"x\", \"y\": [1.0, 1.0, 1.0, 1.0, 1.0, 3.0, 6.0, 10.0, 11.0, 12.0, 12.0, 15.0, 15.0, 19.0, 24.0, 29.0], \"yaxis\": \"y\"}, {\"customdata\": [[2.0, 0.0], [2.0, 0.0], [2.0, 0.0], [3.0, 0.0], [4.0, 1.0], [4.0, 1.0], [5.0, 1.0], [9.0, 1.0], [12.0, 1.0], [12.0, 1.0], [12.0, 1.0], [12.0, 1.0], [13.0, 1.0], [13.0, 1.0], [16.0, 1.0], [16.0, 2.0]], \"hoverlabel\": {\"namelength\": 0}, \"hovertemplate\": \"DHB=Hutt Valley<br>Report Date=%{x}<br>total=%{y}<br>confirmed=%{customdata[0]}<br>probable=%{customdata[1]}\", \"legendgroup\": \"Hutt Valley\", \"line\": {\"color\": \"#EF553B\", \"dash\": \"solid\"}, \"mode\": \"lines\", \"name\": \"Hutt Valley\", \"showlegend\": true, \"type\": \"scatter\", \"x\": [\"2020-03-19T00:00:00\", \"2020-03-20T00:00:00\", \"2020-03-21T00:00:00\", \"2020-03-22T00:00:00\", \"2020-03-23T00:00:00\", \"2020-03-24T00:00:00\", \"2020-03-25T00:00:00\", \"2020-03-26T00:00:00\", \"2020-03-27T00:00:00\", \"2020-03-28T00:00:00\", \"2020-03-29T00:00:00\", \"2020-03-30T00:00:00\", \"2020-03-31T00:00:00\", \"2020-04-01T00:00:00\", \"2020-04-02T00:00:00\", \"2020-04-03T00:00:00\"], \"xaxis\": \"x\", \"y\": [2.0, 2.0, 2.0, 3.0, 5.0, 5.0, 6.0, 10.0, 13.0, 13.0, 13.0, 13.0, 14.0, 14.0, 17.0, 18.0], \"yaxis\": \"y\"}, {\"customdata\": [[3.0, 0.0], [3.0, 0.0], [4.0, 0.0], [4.0, 0.0], [5.0, 0.0], [6.0, 0.0], [7.0, 1.0], [7.0, 1.0], [9.0, 1.0], [9.0, 1.0], [11.0, 2.0], [11.0, 2.0], [15.0, 2.0], [17.0, 2.0], [18.0, 2.0], [18.0, 3.0]], \"hoverlabel\": {\"namelength\": 0}, \"hovertemplate\": \"DHB=MidCentral<br>Report Date=%{x}<br>total=%{y}<br>confirmed=%{customdata[0]}<br>probable=%{customdata[1]}\", \"legendgroup\": \"MidCentral\", \"line\": {\"color\": \"#00cc96\", \"dash\": \"solid\"}, \"mode\": \"lines\", \"name\": \"MidCentral\", \"showlegend\": true, \"type\": \"scatter\", \"x\": [\"2020-03-19T00:00:00\", \"2020-03-20T00:00:00\", \"2020-03-21T00:00:00\", \"2020-03-22T00:00:00\", \"2020-03-23T00:00:00\", \"2020-03-24T00:00:00\", \"2020-03-25T00:00:00\", \"2020-03-26T00:00:00\", \"2020-03-27T00:00:00\", \"2020-03-28T00:00:00\", \"2020-03-29T00:00:00\", \"2020-03-30T00:00:00\", \"2020-03-31T00:00:00\", \"2020-04-01T00:00:00\", \"2020-04-02T00:00:00\", \"2020-04-03T00:00:00\"], \"xaxis\": \"x\", \"y\": [3.0, 3.0, 4.0, 4.0, 5.0, 6.0, 8.0, 8.0, 10.0, 10.0, 13.0, 13.0, 17.0, 19.0, 20.0, 21.0], \"yaxis\": \"y\"}, {\"customdata\": [[1.0, 0.0], [1.0, 0.0], [3.0, 0.0], [3.0, 0.0], [3.0, 0.0], [5.0, 0.0], [5.0, 0.0], [5.0, 0.0], [5.0, 0.0], [5.0, 0.0], [5.0, 0.0], [5.0, 0.0], [6.0, 0.0], [6.0, 0.0], [6.0, 2.0], [6.0, 2.0]], \"hoverlabel\": {\"namelength\": 0}, \"hovertemplate\": \"DHB=Wairarapa<br>Report Date=%{x}<br>total=%{y}<br>confirmed=%{customdata[0]}<br>probable=%{customdata[1]}\", \"legendgroup\": \"Wairarapa\", \"line\": {\"color\": \"#ab63fa\", \"dash\": \"solid\"}, \"mode\": \"lines\", \"name\": \"Wairarapa\", \"showlegend\": true, \"type\": \"scatter\", \"x\": [\"2020-03-19T00:00:00\", \"2020-03-20T00:00:00\", \"2020-03-21T00:00:00\", \"2020-03-22T00:00:00\", \"2020-03-23T00:00:00\", \"2020-03-24T00:00:00\", \"2020-03-25T00:00:00\", \"2020-03-26T00:00:00\", \"2020-03-27T00:00:00\", \"2020-03-28T00:00:00\", \"2020-03-29T00:00:00\", \"2020-03-30T00:00:00\", \"2020-03-31T00:00:00\", \"2020-04-01T00:00:00\", \"2020-04-02T00:00:00\", \"2020-04-03T00:00:00\"], \"xaxis\": \"x\", \"y\": [1.0, 1.0, 3.0, 3.0, 3.0, 5.0, 5.0, 5.0, 5.0, 5.0, 5.0, 5.0, 6.0, 6.0, 8.0, 8.0], \"yaxis\": \"y\"}, {\"customdata\": [[2.0, 0.0], [4.0, 0.0], [9.0, 0.0], [12.0, 0.0], [14.0, 1.0], [17.0, 1.0], [17.0, 1.0], [17.0, 1.0], [18.0, 1.0], [19.0, 1.0], [20.0, 2.0], [22.0, 2.0], [25.0, 3.0], [27.0, 3.0], [28.0, 4.0]], \"hoverlabel\": {\"namelength\": 0}, \"hovertemplate\": \"DHB=Nelson Marlborough<br>Report Date=%{x}<br>total=%{y}<br>confirmed=%{customdata[0]}<br>probable=%{customdata[1]}\", \"legendgroup\": \"Nelson Marlborough\", \"line\": {\"color\": \"#FFA15A\", \"dash\": \"solid\"}, \"mode\": \"lines\", \"name\": \"Nelson Marlborough\", \"showlegend\": true, \"type\": \"scatter\", \"x\": [\"2020-03-20T00:00:00\", \"2020-03-21T00:00:00\", \"2020-03-22T00:00:00\", \"2020-03-23T00:00:00\", \"2020-03-24T00:00:00\", \"2020-03-25T00:00:00\", \"2020-03-26T00:00:00\", \"2020-03-27T00:00:00\", \"2020-03-28T00:00:00\", \"2020-03-29T00:00:00\", \"2020-03-30T00:00:00\", \"2020-03-31T00:00:00\", \"2020-04-01T00:00:00\", \"2020-04-02T00:00:00\", \"2020-04-03T00:00:00\"], \"xaxis\": \"x\", \"y\": [2.0, 4.0, 9.0, 12.0, 15.0, 18.0, 18.0, 18.0, 19.0, 20.0, 22.0, 24.0, 28.0, 30.0, 32.0], \"yaxis\": \"y\"}, {\"customdata\": [[1.0, 0.0], [1.0, 0.0], [1.0, 0.0], [2.0, 2.0], [4.0, 2.0], [6.0, 3.0], [9.0, 3.0], [11.0, 3.0], [11.0, 3.0], [15.0, 3.0], [17.0, 3.0], [22.0, 3.0], [24.0, 5.0], [24.0, 6.0]], \"hoverlabel\": {\"namelength\": 0}, \"hovertemplate\": \"DHB=Bay of Plenty<br>Report Date=%{x}<br>total=%{y}<br>confirmed=%{customdata[0]}<br>probable=%{customdata[1]}\", \"legendgroup\": \"Bay of Plenty\", \"line\": {\"color\": \"#19d3f3\", \"dash\": \"solid\"}, \"mode\": \"lines\", \"name\": \"Bay of Plenty\", \"showlegend\": true, \"type\": \"scatter\", \"x\": [\"2020-03-21T00:00:00\", \"2020-03-22T00:00:00\", \"2020-03-23T00:00:00\", \"2020-03-24T00:00:00\", \"2020-03-25T00:00:00\", \"2020-03-26T00:00:00\", \"2020-03-27T00:00:00\", \"2020-03-28T00:00:00\", \"2020-03-29T00:00:00\", \"2020-03-30T00:00:00\", \"2020-03-31T00:00:00\", \"2020-04-01T00:00:00\", \"2020-04-02T00:00:00\", \"2020-04-03T00:00:00\"], \"xaxis\": \"x\", \"y\": [1.0, 1.0, 1.0, 4.0, 6.0, 9.0, 12.0, 14.0, 14.0, 18.0, 20.0, 25.0, 29.0, 30.0], \"yaxis\": \"y\"}, {\"customdata\": [[1.0, 0.0], [1.0, 0.0], [1.0, 0.0], [1.0, 0.0], [3.0, 0.0], [3.0, 0.0], [3.0, 0.0], [3.0, 0.0], [3.0, 0.0], [3.0, 0.0], [4.0, 0.0], [4.0, 0.0], [4.0, 0.0]], \"hoverlabel\": {\"namelength\": 0}, \"hovertemplate\": \"DHB=West Coast<br>Report Date=%{x}<br>total=%{y}<br>confirmed=%{customdata[0]}<br>probable=%{customdata[1]}\", \"legendgroup\": \"West Coast\", \"line\": {\"color\": \"#FF6692\", \"dash\": \"solid\"}, \"mode\": \"lines\", \"name\": \"West Coast\", \"showlegend\": true, \"type\": \"scatter\", \"x\": [\"2020-03-22T00:00:00\", \"2020-03-23T00:00:00\", \"2020-03-24T00:00:00\", \"2020-03-25T00:00:00\", \"2020-03-26T00:00:00\", \"2020-03-27T00:00:00\", \"2020-03-28T00:00:00\", \"2020-03-29T00:00:00\", \"2020-03-30T00:00:00\", \"2020-03-31T00:00:00\", \"2020-04-01T00:00:00\", \"2020-04-02T00:00:00\", \"2020-04-03T00:00:00\"], \"xaxis\": \"x\", \"y\": [1.0, 1.0, 1.0, 1.0, 3.0, 3.0, 3.0, 3.0, 3.0, 3.0, 4.0, 4.0, 4.0], \"yaxis\": \"y\"}, {\"customdata\": [[2.0, 0.0], [2.0, 0.0], [2.0, 0.0], [2.0, 0.0], [6.0, 0.0], [7.0, 0.0], [8.0, 1.0], [9.0, 1.0], [9.0, 1.0], [9.0, 1.0], [9.0, 1.0], [9.0, 1.0]], \"hoverlabel\": {\"namelength\": 0}, \"hovertemplate\": \"DHB=South Canterbury<br>Report Date=%{x}<br>total=%{y}<br>confirmed=%{customdata[0]}<br>probable=%{customdata[1]}\", \"legendgroup\": \"South Canterbury\", \"line\": {\"color\": \"#B6E880\", \"dash\": \"solid\"}, \"mode\": \"lines\", \"name\": \"South Canterbury\", \"showlegend\": true, \"type\": \"scatter\", \"x\": [\"2020-03-23T00:00:00\", \"2020-03-24T00:00:00\", \"2020-03-25T00:00:00\", \"2020-03-26T00:00:00\", \"2020-03-27T00:00:00\", \"2020-03-28T00:00:00\", \"2020-03-29T00:00:00\", \"2020-03-30T00:00:00\", \"2020-03-31T00:00:00\", \"2020-04-01T00:00:00\", \"2020-04-02T00:00:00\", \"2020-04-03T00:00:00\"], \"xaxis\": \"x\", \"y\": [2.0, 2.0, 2.0, 2.0, 6.0, 7.0, 9.0, 10.0, 10.0, 10.0, 10.0, 10.0], \"yaxis\": \"y\"}, {\"customdata\": [[1.0, 0.0], [1.0, 0.0], [1.0, 0.0], [1.0, 0.0], [1.0, 0.0], [1.0, 0.0], [1.0, 0.0], [1.0, 0.0], [1.0, 0.0]], \"hoverlabel\": {\"namelength\": 0}, \"hovertemplate\": \"DHB=Tairawhiti<br>Report Date=%{x}<br>total=%{y}<br>confirmed=%{customdata[0]}<br>probable=%{customdata[1]}\", \"legendgroup\": \"Tairawhiti\", \"line\": {\"color\": \"#FF97FF\", \"dash\": \"solid\"}, \"mode\": \"lines\", \"name\": \"Tairawhiti\", \"showlegend\": true, \"type\": \"scatter\", \"x\": [\"2020-03-26T00:00:00\", \"2020-03-27T00:00:00\", \"2020-03-28T00:00:00\", \"2020-03-29T00:00:00\", \"2020-03-30T00:00:00\", \"2020-03-31T00:00:00\", \"2020-04-01T00:00:00\", \"2020-04-02T00:00:00\", \"2020-04-03T00:00:00\"], \"xaxis\": \"x\", \"y\": [1.0, 1.0, 1.0, 1.0, 1.0, 1.0, 1.0, 1.0, 1.0], \"yaxis\": \"y\"}, {\"customdata\": [[3.0, 0.0], [3.0, 0.0], [3.0, 0.0], [3.0, 0.0], [3.0, 0.0], [5.0, 0.0], [7.0, 0.0], [7.0, 0.0]], \"hoverlabel\": {\"namelength\": 0}, \"hovertemplate\": \"DHB=Whanganui<br>Report Date=%{x}<br>total=%{y}<br>confirmed=%{customdata[0]}<br>probable=%{customdata[1]}\", \"legendgroup\": \"Whanganui\", \"line\": {\"color\": \"#FECB52\", \"dash\": \"solid\"}, \"mode\": \"lines\", \"name\": \"Whanganui\", \"showlegend\": true, \"type\": \"scatter\", \"x\": [\"2020-03-27T00:00:00\", \"2020-03-28T00:00:00\", \"2020-03-29T00:00:00\", \"2020-03-30T00:00:00\", \"2020-03-31T00:00:00\", \"2020-04-01T00:00:00\", \"2020-04-02T00:00:00\", \"2020-04-03T00:00:00\"], \"xaxis\": \"x\", \"y\": [3.0, 3.0, 3.0, 3.0, 3.0, 5.0, 7.0, 7.0], \"yaxis\": \"y\"}, {\"customdata\": [[1.0, 0.0], [3.0, 0.0], [4.0, 0.0], [6.0, 0.0], [6.0, 2.0], [7.0, 2.0], [8.0, 2.0], [9.0, 2.0], [10.0, 2.0], [11.0, 2.0], [18.0, 2.0], [29.0, 3.0], [34.0, 3.0], [50.0, 6.0], [61.0, 6.0], [85.0, 6.0], [125.0, 11.0], [163.0, 13.0], [217.0, 16.0], [297.0, 20.0], [365.0, 30.0], [433.0, 35.0], [494.0, 41.0], [561.0, 48.0], [604.0, 57.0], [667.0, 70.0], [728.0, 82.0], [781.0, 105.0], [822.0, 126.0]], \"hoverlabel\": {\"namelength\": 0}, \"hovertemplate\": \"DHB=total<br>Report Date=%{x}<br>total=%{y}<br>confirmed=%{customdata[0]}<br>probable=%{customdata[1]}\", \"legendgroup\": \"total\", \"line\": {\"color\": \"#636efa\", \"dash\": \"solid\"}, \"mode\": \"lines\", \"name\": \"total\", \"showlegend\": true, \"type\": \"scatter\", \"x\": [\"2020-02-26T00:00:00\", \"2020-02-28T00:00:00\", \"2020-03-02T00:00:00\", \"2020-03-04T00:00:00\", \"2020-03-05T00:00:00\", \"2020-03-06T00:00:00\", \"2020-03-12T00:00:00\", \"2020-03-13T00:00:00\", \"2020-03-14T00:00:00\", \"2020-03-15T00:00:00\", \"2020-03-16T00:00:00\", \"2020-03-17T00:00:00\", \"2020-03-18T00:00:00\", \"2020-03-19T00:00:00\", \"2020-03-20T00:00:00\", \"2020-03-21T00:00:00\", \"2020-03-22T00:00:00\", \"2020-03-23T00:00:00\", \"2020-03-24T00:00:00\", \"2020-03-25T00:00:00\", \"2020-03-26T00:00:00\", \"2020-03-27T00:00:00\", \"2020-03-28T00:00:00\", \"2020-03-29T00:00:00\", \"2020-03-30T00:00:00\", \"2020-03-31T00:00:00\", \"2020-04-01T00:00:00\", \"2020-04-02T00:00:00\", \"2020-04-03T00:00:00\"], \"xaxis\": \"x\", \"y\": [1.0, 3.0, 4.0, 6.0, 8.0, 9.0, 10.0, 11.0, 12.0, 13.0, 20.0, 32.0, 37.0, 56.0, 67.0, 91.0, 136.0, 176.0, 233.0, 317.0, 395.0, 468.0, 535.0, 609.0, 661.0, 737.0, 810.0, 886.0, 948.0], \"yaxis\": \"y\"}],\n",
       "                        {\"legend\": {\"title\": {\"text\": \"DHB\"}, \"tracegroupgap\": 0}, \"margin\": {\"t\": 60}, \"template\": {\"data\": {\"bar\": [{\"error_x\": {\"color\": \"#2a3f5f\"}, \"error_y\": {\"color\": \"#2a3f5f\"}, \"marker\": {\"line\": {\"color\": \"#E5ECF6\", \"width\": 0.5}}, \"type\": \"bar\"}], \"barpolar\": [{\"marker\": {\"line\": {\"color\": \"#E5ECF6\", \"width\": 0.5}}, \"type\": \"barpolar\"}], \"carpet\": [{\"aaxis\": {\"endlinecolor\": \"#2a3f5f\", \"gridcolor\": \"white\", \"linecolor\": \"white\", \"minorgridcolor\": \"white\", \"startlinecolor\": \"#2a3f5f\"}, \"baxis\": {\"endlinecolor\": \"#2a3f5f\", \"gridcolor\": \"white\", \"linecolor\": \"white\", \"minorgridcolor\": \"white\", \"startlinecolor\": \"#2a3f5f\"}, \"type\": \"carpet\"}], \"choropleth\": [{\"colorbar\": {\"outlinewidth\": 0, \"ticks\": \"\"}, \"type\": \"choropleth\"}], \"contour\": [{\"colorbar\": {\"outlinewidth\": 0, \"ticks\": \"\"}, \"colorscale\": [[0.0, \"#0d0887\"], [0.1111111111111111, \"#46039f\"], [0.2222222222222222, \"#7201a8\"], [0.3333333333333333, \"#9c179e\"], [0.4444444444444444, \"#bd3786\"], [0.5555555555555556, \"#d8576b\"], [0.6666666666666666, \"#ed7953\"], [0.7777777777777778, \"#fb9f3a\"], [0.8888888888888888, \"#fdca26\"], [1.0, \"#f0f921\"]], \"type\": \"contour\"}], \"contourcarpet\": [{\"colorbar\": {\"outlinewidth\": 0, \"ticks\": \"\"}, \"type\": \"contourcarpet\"}], \"heatmap\": [{\"colorbar\": {\"outlinewidth\": 0, \"ticks\": \"\"}, \"colorscale\": [[0.0, \"#0d0887\"], [0.1111111111111111, \"#46039f\"], [0.2222222222222222, \"#7201a8\"], [0.3333333333333333, \"#9c179e\"], [0.4444444444444444, \"#bd3786\"], [0.5555555555555556, \"#d8576b\"], [0.6666666666666666, \"#ed7953\"], [0.7777777777777778, \"#fb9f3a\"], [0.8888888888888888, \"#fdca26\"], [1.0, \"#f0f921\"]], \"type\": \"heatmap\"}], \"heatmapgl\": [{\"colorbar\": {\"outlinewidth\": 0, \"ticks\": \"\"}, \"colorscale\": [[0.0, \"#0d0887\"], [0.1111111111111111, \"#46039f\"], [0.2222222222222222, \"#7201a8\"], [0.3333333333333333, \"#9c179e\"], [0.4444444444444444, \"#bd3786\"], [0.5555555555555556, \"#d8576b\"], [0.6666666666666666, \"#ed7953\"], [0.7777777777777778, \"#fb9f3a\"], [0.8888888888888888, \"#fdca26\"], [1.0, \"#f0f921\"]], \"type\": \"heatmapgl\"}], \"histogram\": [{\"marker\": {\"colorbar\": {\"outlinewidth\": 0, \"ticks\": \"\"}}, \"type\": \"histogram\"}], \"histogram2d\": [{\"colorbar\": {\"outlinewidth\": 0, \"ticks\": \"\"}, \"colorscale\": [[0.0, \"#0d0887\"], [0.1111111111111111, \"#46039f\"], [0.2222222222222222, \"#7201a8\"], [0.3333333333333333, \"#9c179e\"], [0.4444444444444444, \"#bd3786\"], [0.5555555555555556, \"#d8576b\"], [0.6666666666666666, \"#ed7953\"], [0.7777777777777778, \"#fb9f3a\"], [0.8888888888888888, \"#fdca26\"], [1.0, \"#f0f921\"]], \"type\": \"histogram2d\"}], \"histogram2dcontour\": [{\"colorbar\": {\"outlinewidth\": 0, \"ticks\": \"\"}, \"colorscale\": [[0.0, \"#0d0887\"], [0.1111111111111111, \"#46039f\"], [0.2222222222222222, \"#7201a8\"], [0.3333333333333333, \"#9c179e\"], [0.4444444444444444, \"#bd3786\"], [0.5555555555555556, \"#d8576b\"], [0.6666666666666666, \"#ed7953\"], [0.7777777777777778, \"#fb9f3a\"], [0.8888888888888888, \"#fdca26\"], [1.0, \"#f0f921\"]], \"type\": \"histogram2dcontour\"}], \"mesh3d\": [{\"colorbar\": {\"outlinewidth\": 0, \"ticks\": \"\"}, \"type\": \"mesh3d\"}], \"parcoords\": [{\"line\": {\"colorbar\": {\"outlinewidth\": 0, \"ticks\": \"\"}}, \"type\": \"parcoords\"}], \"pie\": [{\"automargin\": true, \"type\": \"pie\"}], \"scatter\": [{\"marker\": {\"colorbar\": {\"outlinewidth\": 0, \"ticks\": \"\"}}, \"type\": \"scatter\"}], \"scatter3d\": [{\"line\": {\"colorbar\": {\"outlinewidth\": 0, \"ticks\": \"\"}}, \"marker\": {\"colorbar\": {\"outlinewidth\": 0, \"ticks\": \"\"}}, \"type\": \"scatter3d\"}], \"scattercarpet\": [{\"marker\": {\"colorbar\": {\"outlinewidth\": 0, \"ticks\": \"\"}}, \"type\": \"scattercarpet\"}], \"scattergeo\": [{\"marker\": {\"colorbar\": {\"outlinewidth\": 0, \"ticks\": \"\"}}, \"type\": \"scattergeo\"}], \"scattergl\": [{\"marker\": {\"colorbar\": {\"outlinewidth\": 0, \"ticks\": \"\"}}, \"type\": \"scattergl\"}], \"scattermapbox\": [{\"marker\": {\"colorbar\": {\"outlinewidth\": 0, \"ticks\": \"\"}}, \"type\": \"scattermapbox\"}], \"scatterpolar\": [{\"marker\": {\"colorbar\": {\"outlinewidth\": 0, \"ticks\": \"\"}}, \"type\": \"scatterpolar\"}], \"scatterpolargl\": [{\"marker\": {\"colorbar\": {\"outlinewidth\": 0, \"ticks\": \"\"}}, \"type\": \"scatterpolargl\"}], \"scatterternary\": [{\"marker\": {\"colorbar\": {\"outlinewidth\": 0, \"ticks\": \"\"}}, \"type\": \"scatterternary\"}], \"surface\": [{\"colorbar\": {\"outlinewidth\": 0, \"ticks\": \"\"}, \"colorscale\": [[0.0, \"#0d0887\"], [0.1111111111111111, \"#46039f\"], [0.2222222222222222, \"#7201a8\"], [0.3333333333333333, \"#9c179e\"], [0.4444444444444444, \"#bd3786\"], [0.5555555555555556, \"#d8576b\"], [0.6666666666666666, \"#ed7953\"], [0.7777777777777778, \"#fb9f3a\"], [0.8888888888888888, \"#fdca26\"], [1.0, \"#f0f921\"]], \"type\": \"surface\"}], \"table\": [{\"cells\": {\"fill\": {\"color\": \"#EBF0F8\"}, \"line\": {\"color\": \"white\"}}, \"header\": {\"fill\": {\"color\": \"#C8D4E3\"}, \"line\": {\"color\": \"white\"}}, \"type\": \"table\"}]}, \"layout\": {\"annotationdefaults\": {\"arrowcolor\": \"#2a3f5f\", \"arrowhead\": 0, \"arrowwidth\": 1}, \"coloraxis\": {\"colorbar\": {\"outlinewidth\": 0, \"ticks\": \"\"}}, \"colorscale\": {\"diverging\": [[0, \"#8e0152\"], [0.1, \"#c51b7d\"], [0.2, \"#de77ae\"], [0.3, \"#f1b6da\"], [0.4, \"#fde0ef\"], [0.5, \"#f7f7f7\"], [0.6, \"#e6f5d0\"], [0.7, \"#b8e186\"], [0.8, \"#7fbc41\"], [0.9, \"#4d9221\"], [1, \"#276419\"]], \"sequential\": [[0.0, \"#0d0887\"], [0.1111111111111111, \"#46039f\"], [0.2222222222222222, \"#7201a8\"], [0.3333333333333333, \"#9c179e\"], [0.4444444444444444, \"#bd3786\"], [0.5555555555555556, \"#d8576b\"], [0.6666666666666666, \"#ed7953\"], [0.7777777777777778, \"#fb9f3a\"], [0.8888888888888888, \"#fdca26\"], [1.0, \"#f0f921\"]], \"sequentialminus\": [[0.0, \"#0d0887\"], [0.1111111111111111, \"#46039f\"], [0.2222222222222222, \"#7201a8\"], [0.3333333333333333, \"#9c179e\"], [0.4444444444444444, \"#bd3786\"], [0.5555555555555556, \"#d8576b\"], [0.6666666666666666, \"#ed7953\"], [0.7777777777777778, \"#fb9f3a\"], [0.8888888888888888, \"#fdca26\"], [1.0, \"#f0f921\"]]}, \"colorway\": [\"#636efa\", \"#EF553B\", \"#00cc96\", \"#ab63fa\", \"#FFA15A\", \"#19d3f3\", \"#FF6692\", \"#B6E880\", \"#FF97FF\", \"#FECB52\"], \"font\": {\"color\": \"#2a3f5f\"}, \"geo\": {\"bgcolor\": \"white\", \"lakecolor\": \"white\", \"landcolor\": \"#E5ECF6\", \"showlakes\": true, \"showland\": true, \"subunitcolor\": \"white\"}, \"hoverlabel\": {\"align\": \"left\"}, \"hovermode\": \"closest\", \"mapbox\": {\"style\": \"light\"}, \"paper_bgcolor\": \"white\", \"plot_bgcolor\": \"#E5ECF6\", \"polar\": {\"angularaxis\": {\"gridcolor\": \"white\", \"linecolor\": \"white\", \"ticks\": \"\"}, \"bgcolor\": \"#E5ECF6\", \"radialaxis\": {\"gridcolor\": \"white\", \"linecolor\": \"white\", \"ticks\": \"\"}}, \"scene\": {\"xaxis\": {\"backgroundcolor\": \"#E5ECF6\", \"gridcolor\": \"white\", \"gridwidth\": 2, \"linecolor\": \"white\", \"showbackground\": true, \"ticks\": \"\", \"zerolinecolor\": \"white\"}, \"yaxis\": {\"backgroundcolor\": \"#E5ECF6\", \"gridcolor\": \"white\", \"gridwidth\": 2, \"linecolor\": \"white\", \"showbackground\": true, \"ticks\": \"\", \"zerolinecolor\": \"white\"}, \"zaxis\": {\"backgroundcolor\": \"#E5ECF6\", \"gridcolor\": \"white\", \"gridwidth\": 2, \"linecolor\": \"white\", \"showbackground\": true, \"ticks\": \"\", \"zerolinecolor\": \"white\"}}, \"shapedefaults\": {\"line\": {\"color\": \"#2a3f5f\"}}, \"ternary\": {\"aaxis\": {\"gridcolor\": \"white\", \"linecolor\": \"white\", \"ticks\": \"\"}, \"baxis\": {\"gridcolor\": \"white\", \"linecolor\": \"white\", \"ticks\": \"\"}, \"bgcolor\": \"#E5ECF6\", \"caxis\": {\"gridcolor\": \"white\", \"linecolor\": \"white\", \"ticks\": \"\"}}, \"title\": {\"x\": 0.05}, \"xaxis\": {\"automargin\": true, \"gridcolor\": \"white\", \"linecolor\": \"white\", \"ticks\": \"\", \"title\": {\"standoff\": 15}, \"zerolinecolor\": \"white\", \"zerolinewidth\": 2}, \"yaxis\": {\"automargin\": true, \"gridcolor\": \"white\", \"linecolor\": \"white\", \"ticks\": \"\", \"title\": {\"standoff\": 15}, \"zerolinecolor\": \"white\", \"zerolinewidth\": 2}}}, \"xaxis\": {\"anchor\": \"y\", \"domain\": [0.0, 1.0], \"title\": {\"text\": \"Report Date\"}}, \"yaxis\": {\"anchor\": \"x\", \"domain\": [0.0, 1.0], \"title\": {\"text\": \"total\"}, \"type\": \"log\"}},\n",
       "                        {\"responsive\": true}\n",
       "                    ).then(function(){\n",
       "                            \n",
       "var gd = document.getElementById('9f01106b-adc3-4dd0-9845-4db707fdb0e9');\n",
       "var x = new MutationObserver(function (mutations, observer) {{\n",
       "        var display = window.getComputedStyle(gd).display;\n",
       "        if (!display || display === 'none') {{\n",
       "            console.log([gd, 'removed!']);\n",
       "            Plotly.purge(gd);\n",
       "            observer.disconnect();\n",
       "        }}\n",
       "}});\n",
       "\n",
       "// Listen for the removal of the full notebook cells\n",
       "var notebookContainer = gd.closest('#notebook-container');\n",
       "if (notebookContainer) {{\n",
       "    x.observe(notebookContainer, {childList: true});\n",
       "}}\n",
       "\n",
       "// Listen for the clearing of the current output cell\n",
       "var outputEl = gd.closest('.output');\n",
       "if (outputEl) {{\n",
       "    x.observe(outputEl, {childList: true});\n",
       "}}\n",
       "\n",
       "                        })\n",
       "                };\n",
       "                });\n",
       "            </script>\n",
       "        </div>"
      ]
     },
     "metadata": {},
     "output_type": "display_data"
    }
   ],
   "source": [
    "px.line(xdf, x='Report Date', y='total', color='DHB', hover_data=['confirmed', 'probable'], log_y=True)"
   ]
  },
  {
   "cell_type": "code",
   "execution_count": 17,
   "metadata": {},
   "outputs": [
    {
     "data": {
      "text/plain": [
       "Bar({\n",
       "    'alignmentgroup': 'True',\n",
       "    'hoverlabel': {'namelength': 0},\n",
       "    'hovertemplate': 'DHB=Auckland<br>Report Date=%{x}<br>total=%{y}',\n",
       "    'legendgroup': 'Auckland',\n",
       "    'marker': {'color': '#636efa'},\n",
       "    'name': 'Auckland',\n",
       "    'offsetgroup': 'Auckland',\n",
       "    'orientation': 'v',\n",
       "    'showlegend': True,\n",
       "    'textposition': 'auto',\n",
       "    'x': array([datetime.datetime(2020, 2, 26, 0, 0),\n",
       "                datetime.datetime(2020, 2, 28, 0, 0),\n",
       "                datetime.datetime(2020, 3, 2, 0, 0),\n",
       "                datetime.datetime(2020, 3, 4, 0, 0),\n",
       "                datetime.datetime(2020, 3, 5, 0, 0),\n",
       "                datetime.datetime(2020, 3, 6, 0, 0),\n",
       "                datetime.datetime(2020, 3, 12, 0, 0),\n",
       "                datetime.datetime(2020, 3, 13, 0, 0),\n",
       "                datetime.datetime(2020, 3, 14, 0, 0),\n",
       "                datetime.datetime(2020, 3, 15, 0, 0),\n",
       "                datetime.datetime(2020, 3, 16, 0, 0),\n",
       "                datetime.datetime(2020, 3, 17, 0, 0),\n",
       "                datetime.datetime(2020, 3, 18, 0, 0),\n",
       "                datetime.datetime(2020, 3, 19, 0, 0),\n",
       "                datetime.datetime(2020, 3, 20, 0, 0),\n",
       "                datetime.datetime(2020, 3, 21, 0, 0),\n",
       "                datetime.datetime(2020, 3, 22, 0, 0),\n",
       "                datetime.datetime(2020, 3, 23, 0, 0),\n",
       "                datetime.datetime(2020, 3, 24, 0, 0),\n",
       "                datetime.datetime(2020, 3, 25, 0, 0),\n",
       "                datetime.datetime(2020, 3, 26, 0, 0),\n",
       "                datetime.datetime(2020, 3, 27, 0, 0),\n",
       "                datetime.datetime(2020, 3, 28, 0, 0),\n",
       "                datetime.datetime(2020, 3, 29, 0, 0),\n",
       "                datetime.datetime(2020, 3, 30, 0, 0),\n",
       "                datetime.datetime(2020, 3, 31, 0, 0),\n",
       "                datetime.datetime(2020, 4, 1, 0, 0),\n",
       "                datetime.datetime(2020, 4, 2, 0, 0),\n",
       "                datetime.datetime(2020, 4, 3, 0, 0)], dtype=object),\n",
       "    'xaxis': 'x',\n",
       "    'y': array([  1.,   1.,   1.,   1.,   1.,   1.,   1.,   1.,   1.,   1.,   2.,   4.,\n",
       "                  5.,   9.,  10.,  14.,  22.,  29.,  36.,  48.,  60.,  68.,  83.,  93.,\n",
       "                 99., 107., 116., 121., 127.]),\n",
       "    'yaxis': 'y'\n",
       "})"
      ]
     },
     "execution_count": 17,
     "metadata": {},
     "output_type": "execute_result"
    }
   ],
   "source": [
    "fig=px.bar(xdf[xdf.DHB!='total'], x='Report Date', y='total', color='DHB')\n",
    "fig.data[0]"
   ]
  },
  {
   "cell_type": "code",
   "execution_count": 18,
   "metadata": {},
   "outputs": [],
   "source": [
    "DHBS = ['']"
   ]
  },
  {
   "cell_type": "code",
   "execution_count": 19,
   "metadata": {},
   "outputs": [
    {
     "ename": "NameError",
     "evalue": "name 'df' is not defined",
     "output_type": "error",
     "traceback": [
      "\u001b[1;31m---------------------------------------------------------------------------\u001b[0m",
      "\u001b[1;31mNameError\u001b[0m                                 Traceback (most recent call last)",
      "\u001b[1;32m<ipython-input-19-4dd418807eef>\u001b[0m in \u001b[0;36m<module>\u001b[1;34m\u001b[0m\n\u001b[1;32m----> 1\u001b[1;33m \u001b[0mdf\u001b[0m\u001b[1;33m.\u001b[0m\u001b[0mgroupby\u001b[0m\u001b[1;33m(\u001b[0m\u001b[1;34m'DHB'\u001b[0m\u001b[1;33m)\u001b[0m\u001b[1;33m.\u001b[0m\u001b[0mcount\u001b[0m\u001b[1;33m(\u001b[0m\u001b[1;33m)\u001b[0m\u001b[1;33m\u001b[0m\u001b[1;33m\u001b[0m\u001b[0m\n\u001b[0m",
      "\u001b[1;31mNameError\u001b[0m: name 'df' is not defined"
     ]
    }
   ],
   "source": [
    "df.groupby('DHB').count()"
   ]
  },
  {
   "cell_type": "code",
   "execution_count": null,
   "metadata": {},
   "outputs": [],
   "source": [
    "cdf.groupby(['Report Date', 'DHB']).agg(count=('DHB', 'count')).cumsum()"
   ]
  },
  {
   "cell_type": "code",
   "execution_count": null,
   "metadata": {},
   "outputs": [],
   "source": [
    "px.bar(cdf.groupby(['Report Date', 'DHB']).agg(count=('DHB', 'count')).reset_index(), x='Report Date', y='count', color='DHB')"
   ]
  },
  {
   "cell_type": "code",
   "execution_count": null,
   "metadata": {},
   "outputs": [],
   "source": [
    "df2.groupby('Report Date').agg(count=('DHB', 'count'))"
   ]
  },
  {
   "cell_type": "code",
   "execution_count": null,
   "metadata": {},
   "outputs": [],
   "source": [
    "df2.groupby('DHB').count()"
   ]
  }
 ],
 "metadata": {
  "kernelspec": {
   "display_name": "Python 3",
   "language": "python",
   "name": "python3"
  },
  "language_info": {
   "codemirror_mode": {
    "name": "ipython",
    "version": 3
   },
   "file_extension": ".py",
   "mimetype": "text/x-python",
   "name": "python",
   "nbconvert_exporter": "python",
   "pygments_lexer": "ipython3",
   "version": "3.7.4"
  }
 },
 "nbformat": 4,
 "nbformat_minor": 4
}
