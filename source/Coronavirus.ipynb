{
 "cells": [
  {
   "cell_type": "code",
   "execution_count": 26,
   "metadata": {},
   "outputs": [],
   "source": [
    "import numpy as np\n",
    "import pandas as pd\n",
    "import plotly.express as px\n",
    "import plotly.graph_objects as go\n",
    "import common"
   ]
  },
  {
   "cell_type": "code",
   "execution_count": 2,
   "metadata": {},
   "outputs": [],
   "source": [
    "DHBS = ['Northland', 'Waitemata', 'Auckland', 'Counties Manukau', 'Waikato', 'Bay of Plenty', 'Tairawhiti', 'Lakes','Taranaki', \"Hawke's Bay\", 'Whanganui', 'MidCentral', 'Hutt Valley', 'Capital and Coast', 'Wairarapa', 'Nelson Marlborough', 'West Coast', 'Canterbury',  'South Canterbury', 'Southern']"
   ]
  },
  {
   "cell_type": "code",
   "execution_count": 3,
   "metadata": {},
   "outputs": [],
   "source": [
    "datestr='8-april-2020'\n",
    "today = pd.to_datetime(datestr.replace('-', ' '))\n",
    "CASE_URL_FORMAT = 'https://www.health.govt.nz/system/files/documents/pages/covid-casedetails-%s.xlsx'\n"
   ]
  },
  {
   "cell_type": "code",
   "execution_count": 4,
   "metadata": {},
   "outputs": [
    {
     "data": {
      "text/plain": [
       "'8april2020'"
      ]
     },
     "execution_count": 4,
     "metadata": {},
     "output_type": "execute_result"
    }
   ],
   "source": [
    "datestr.replace('-', '')"
   ]
  },
  {
   "cell_type": "code",
   "execution_count": 5,
   "metadata": {},
   "outputs": [],
   "source": [
    "case_url = CASE_URL_FORMAT % datestr.replace('-', '')\n",
    "#case_url = 'https://www.health.govt.nz/system/files/documents/pages/covid-casedeatails-7april2020.xlsx'"
   ]
  },
  {
   "cell_type": "code",
   "execution_count": 6,
   "metadata": {
    "scrolled": true
   },
   "outputs": [],
   "source": [
    "with pd.ExcelFile(case_url) as excel_file:\n",
    "    cases_dfs = {name: excel_file.parse(i, header=3) for i, name in enumerate(['confirmed', 'probable'])}"
   ]
  },
  {
   "cell_type": "code",
   "execution_count": 7,
   "metadata": {},
   "outputs": [],
   "source": [
    "def get_case_counts(df, date_name='Report Date', date_col=0):\n",
    "    return df.groupby([df.columns[date_col], 'DHB']).agg(c=('DHB', 'count')).c.rename_axis([date_name, 'DHB'])"
   ]
  },
  {
   "cell_type": "code",
   "execution_count": 8,
   "metadata": {},
   "outputs": [],
   "source": [
    "cdf = pd.concat({key: get_case_counts(df) for key, df in cases_dfs.items()}, axis=1, names=['type']).loc[:today - pd.Timedelta(days=1)]"
   ]
  },
  {
   "cell_type": "code",
   "execution_count": 9,
   "metadata": {},
   "outputs": [],
   "source": [
    "totals_df = cdf.sum(1).rename('cases').reset_index()"
   ]
  },
  {
   "cell_type": "code",
   "execution_count": 10,
   "metadata": {},
   "outputs": [
    {
     "data": {
      "text/html": [
       "        <script type=\"text/javascript\">\n",
       "        window.PlotlyConfig = {MathJaxConfig: 'local'};\n",
       "        if (window.MathJax) {MathJax.Hub.Config({SVG: {font: \"STIX-Web\"}});}\n",
       "        if (typeof require !== 'undefined') {\n",
       "        require.undef(\"plotly\");\n",
       "        requirejs.config({\n",
       "            paths: {\n",
       "                'plotly': ['https://cdn.plot.ly/plotly-latest.min']\n",
       "            }\n",
       "        });\n",
       "        require(['plotly'], function(Plotly) {\n",
       "            window._Plotly = Plotly;\n",
       "        });\n",
       "        }\n",
       "        </script>\n",
       "        "
      ]
     },
     "metadata": {},
     "output_type": "display_data"
    },
    {
     "data": {
      "text/html": [
       "<div>\n",
       "        \n",
       "        \n",
       "            <div id=\"18b56080-a7c6-411c-93ad-2b32ba30cd84\" class=\"plotly-graph-div\" style=\"height:525px; width:100%;\"></div>\n",
       "            <script type=\"text/javascript\">\n",
       "                require([\"plotly\"], function(Plotly) {\n",
       "                    window.PLOTLYENV=window.PLOTLYENV || {};\n",
       "                    \n",
       "                if (document.getElementById(\"18b56080-a7c6-411c-93ad-2b32ba30cd84\")) {\n",
       "                    Plotly.newPlot(\n",
       "                        '18b56080-a7c6-411c-93ad-2b32ba30cd84',\n",
       "                        [{\"alignmentgroup\": \"True\", \"hoverlabel\": {\"namelength\": 0}, \"hovertemplate\": \"DHB=Northland<br>Report Date=%{x}<br>cases=%{y}\", \"legendgroup\": \"Northland\", \"marker\": {\"color\": \"#636efa\"}, \"name\": \"Northland\", \"offsetgroup\": \"Northland\", \"orientation\": \"v\", \"showlegend\": true, \"textposition\": \"auto\", \"type\": \"bar\", \"x\": [\"2020-03-17T00:00:00\", \"2020-03-22T00:00:00\", \"2020-03-24T00:00:00\", \"2020-03-25T00:00:00\", \"2020-03-26T00:00:00\", \"2020-03-29T00:00:00\", \"2020-03-30T00:00:00\", \"2020-03-31T00:00:00\", \"2020-04-01T00:00:00\", \"2020-04-02T00:00:00\", \"2020-04-03T00:00:00\", \"2020-04-04T00:00:00\", \"2020-04-05T00:00:00\", \"2020-04-06T00:00:00\", \"2020-04-07T00:00:00\"], \"xaxis\": \"x\", \"y\": [1.0, 1.0, 1.0, 2.0, 2.0, 2.0, 1.0, 1.0, 1.0, 1.0, 1.0, 1.0, 2.0, 1.0, 2.0], \"yaxis\": \"y\"}, {\"alignmentgroup\": \"True\", \"hoverlabel\": {\"namelength\": 0}, \"hovertemplate\": \"DHB=Waitemata<br>Report Date=%{x}<br>cases=%{y}\", \"legendgroup\": \"Waitemata\", \"marker\": {\"color\": \"#EF553B\"}, \"name\": \"Waitemata\", \"offsetgroup\": \"Waitemata\", \"orientation\": \"v\", \"showlegend\": true, \"textposition\": \"auto\", \"type\": \"bar\", \"x\": [\"2020-03-02T00:00:00\", \"2020-03-04T00:00:00\", \"2020-03-05T00:00:00\", \"2020-03-15T00:00:00\", \"2020-03-17T00:00:00\", \"2020-03-19T00:00:00\", \"2020-03-20T00:00:00\", \"2020-03-21T00:00:00\", \"2020-03-22T00:00:00\", \"2020-03-23T00:00:00\", \"2020-03-24T00:00:00\", \"2020-03-25T00:00:00\", \"2020-03-26T00:00:00\", \"2020-03-27T00:00:00\", \"2020-03-28T00:00:00\", \"2020-03-29T00:00:00\", \"2020-03-30T00:00:00\", \"2020-03-31T00:00:00\", \"2020-04-01T00:00:00\", \"2020-04-02T00:00:00\", \"2020-04-03T00:00:00\", \"2020-04-04T00:00:00\", \"2020-04-05T00:00:00\", \"2020-04-06T00:00:00\", \"2020-04-07T00:00:00\"], \"xaxis\": \"x\", \"y\": [1.0, 1.0, 1.0, 1.0, 2.0, 1.0, 2.0, 1.0, 5.0, 2.0, 10.0, 11.0, 11.0, 3.0, 13.0, 15.0, 9.0, 12.0, 13.0, 11.0, 8.0, 14.0, 10.0, 1.0, 11.0], \"yaxis\": \"y\"}, {\"alignmentgroup\": \"True\", \"hoverlabel\": {\"namelength\": 0}, \"hovertemplate\": \"DHB=Auckland<br>Report Date=%{x}<br>cases=%{y}\", \"legendgroup\": \"Auckland\", \"marker\": {\"color\": \"#00cc96\"}, \"name\": \"Auckland\", \"offsetgroup\": \"Auckland\", \"orientation\": \"v\", \"showlegend\": true, \"textposition\": \"auto\", \"type\": \"bar\", \"x\": [\"2020-02-26T00:00:00\", \"2020-03-16T00:00:00\", \"2020-03-17T00:00:00\", \"2020-03-18T00:00:00\", \"2020-03-19T00:00:00\", \"2020-03-20T00:00:00\", \"2020-03-21T00:00:00\", \"2020-03-22T00:00:00\", \"2020-03-23T00:00:00\", \"2020-03-24T00:00:00\", \"2020-03-25T00:00:00\", \"2020-03-26T00:00:00\", \"2020-03-27T00:00:00\", \"2020-03-28T00:00:00\", \"2020-03-29T00:00:00\", \"2020-03-30T00:00:00\", \"2020-03-31T00:00:00\", \"2020-04-01T00:00:00\", \"2020-04-02T00:00:00\", \"2020-04-03T00:00:00\", \"2020-04-04T00:00:00\", \"2020-04-05T00:00:00\", \"2020-04-06T00:00:00\", \"2020-04-07T00:00:00\"], \"xaxis\": \"x\", \"y\": [1.0, 1.0, 2.0, 1.0, 4.0, 1.0, 4.0, 8.0, 7.0, 7.0, 11.0, 12.0, 8.0, 15.0, 10.0, 5.0, 8.0, 9.0, 5.0, 6.0, 11.0, 10.0, 6.0, 3.0], \"yaxis\": \"y\"}, {\"alignmentgroup\": \"True\", \"hoverlabel\": {\"namelength\": 0}, \"hovertemplate\": \"DHB=Counties Manukau<br>Report Date=%{x}<br>cases=%{y}\", \"legendgroup\": \"Counties Manukau\", \"marker\": {\"color\": \"#ab63fa\"}, \"name\": \"Counties Manukau\", \"offsetgroup\": \"Counties Manukau\", \"orientation\": \"v\", \"showlegend\": true, \"textposition\": \"auto\", \"type\": \"bar\", \"x\": [\"2020-03-04T00:00:00\", \"2020-03-05T00:00:00\", \"2020-03-06T00:00:00\", \"2020-03-12T00:00:00\", \"2020-03-17T00:00:00\", \"2020-03-19T00:00:00\", \"2020-03-21T00:00:00\", \"2020-03-22T00:00:00\", \"2020-03-23T00:00:00\", \"2020-03-24T00:00:00\", \"2020-03-25T00:00:00\", \"2020-03-26T00:00:00\", \"2020-03-27T00:00:00\", \"2020-03-28T00:00:00\", \"2020-03-29T00:00:00\", \"2020-03-30T00:00:00\", \"2020-03-31T00:00:00\", \"2020-04-01T00:00:00\", \"2020-04-02T00:00:00\", \"2020-04-03T00:00:00\", \"2020-04-04T00:00:00\", \"2020-04-05T00:00:00\", \"2020-04-06T00:00:00\", \"2020-04-07T00:00:00\"], \"xaxis\": \"x\", \"y\": [1.0, 1.0, 1.0, 1.0, 1.0, 1.0, 4.0, 8.0, 1.0, 2.0, 6.0, 3.0, 4.0, 6.0, 3.0, 9.0, 7.0, 3.0, 6.0, 5.0, 3.0, 8.0, 6.0, 2.0], \"yaxis\": \"y\"}, {\"alignmentgroup\": \"True\", \"hoverlabel\": {\"namelength\": 0}, \"hovertemplate\": \"DHB=Waikato<br>Report Date=%{x}<br>cases=%{y}\", \"legendgroup\": \"Waikato\", \"marker\": {\"color\": \"#FFA15A\"}, \"name\": \"Waikato\", \"offsetgroup\": \"Waikato\", \"orientation\": \"v\", \"showlegend\": true, \"textposition\": \"auto\", \"type\": \"bar\", \"x\": [\"2020-03-16T00:00:00\", \"2020-03-19T00:00:00\", \"2020-03-20T00:00:00\", \"2020-03-21T00:00:00\", \"2020-03-22T00:00:00\", \"2020-03-23T00:00:00\", \"2020-03-24T00:00:00\", \"2020-03-25T00:00:00\", \"2020-03-26T00:00:00\", \"2020-03-27T00:00:00\", \"2020-03-28T00:00:00\", \"2020-03-29T00:00:00\", \"2020-03-30T00:00:00\", \"2020-03-31T00:00:00\", \"2020-04-01T00:00:00\", \"2020-04-02T00:00:00\", \"2020-04-03T00:00:00\", \"2020-04-04T00:00:00\", \"2020-04-05T00:00:00\", \"2020-04-06T00:00:00\", \"2020-04-07T00:00:00\"], \"xaxis\": \"x\", \"y\": [2.0, 2.0, 1.0, 3.0, 3.0, 4.0, 2.0, 21.0, 11.0, 11.0, 3.0, 16.0, 5.0, 24.0, 10.0, 8.0, 13.0, 6.0, 4.0, 7.0, 3.0], \"yaxis\": \"y\"}, {\"alignmentgroup\": \"True\", \"hoverlabel\": {\"namelength\": 0}, \"hovertemplate\": \"DHB=Bay of Plenty<br>Report Date=%{x}<br>cases=%{y}\", \"legendgroup\": \"Bay of Plenty\", \"marker\": {\"color\": \"#19d3f3\"}, \"name\": \"Bay of Plenty\", \"offsetgroup\": \"Bay of Plenty\", \"orientation\": \"v\", \"showlegend\": true, \"textposition\": \"auto\", \"type\": \"bar\", \"x\": [\"2020-03-21T00:00:00\", \"2020-03-24T00:00:00\", \"2020-03-25T00:00:00\", \"2020-03-26T00:00:00\", \"2020-03-27T00:00:00\", \"2020-03-28T00:00:00\", \"2020-03-30T00:00:00\", \"2020-03-31T00:00:00\", \"2020-04-01T00:00:00\", \"2020-04-02T00:00:00\", \"2020-04-03T00:00:00\", \"2020-04-04T00:00:00\", \"2020-04-05T00:00:00\", \"2020-04-06T00:00:00\", \"2020-04-07T00:00:00\"], \"xaxis\": \"x\", \"y\": [1.0, 3.0, 2.0, 3.0, 3.0, 2.0, 4.0, 2.0, 5.0, 4.0, 1.0, 1.0, 1.0, 4.0, 2.0], \"yaxis\": \"y\"}, {\"alignmentgroup\": \"True\", \"hoverlabel\": {\"namelength\": 0}, \"hovertemplate\": \"DHB=Tairawhiti<br>Report Date=%{x}<br>cases=%{y}\", \"legendgroup\": \"Tairawhiti\", \"marker\": {\"color\": \"#FF6692\"}, \"name\": \"Tairawhiti\", \"offsetgroup\": \"Tairawhiti\", \"orientation\": \"v\", \"showlegend\": true, \"textposition\": \"auto\", \"type\": \"bar\", \"x\": [\"2020-03-26T00:00:00\"], \"xaxis\": \"x\", \"y\": [1.0], \"yaxis\": \"y\"}, {\"alignmentgroup\": \"True\", \"hoverlabel\": {\"namelength\": 0}, \"hovertemplate\": \"DHB=Lakes<br>Report Date=%{x}<br>cases=%{y}\", \"legendgroup\": \"Lakes\", \"marker\": {\"color\": \"#B6E880\"}, \"name\": \"Lakes\", \"offsetgroup\": \"Lakes\", \"orientation\": \"v\", \"showlegend\": true, \"textposition\": \"auto\", \"type\": \"bar\", \"x\": [\"2020-03-17T00:00:00\", \"2020-03-20T00:00:00\", \"2020-03-23T00:00:00\", \"2020-03-24T00:00:00\", \"2020-03-25T00:00:00\", \"2020-03-26T00:00:00\", \"2020-03-28T00:00:00\", \"2020-03-30T00:00:00\", \"2020-04-04T00:00:00\"], \"xaxis\": \"x\", \"y\": [1.0, 1.0, 1.0, 1.0, 3.0, 1.0, 1.0, 2.0, 1.0], \"yaxis\": \"y\"}, {\"alignmentgroup\": \"True\", \"hoverlabel\": {\"namelength\": 0}, \"hovertemplate\": \"DHB=Taranaki<br>Report Date=%{x}<br>cases=%{y}\", \"legendgroup\": \"Taranaki\", \"marker\": {\"color\": \"#FF97FF\"}, \"name\": \"Taranaki\", \"offsetgroup\": \"Taranaki\", \"orientation\": \"v\", \"showlegend\": true, \"textposition\": \"auto\", \"type\": \"bar\", \"x\": [\"2020-03-16T00:00:00\", \"2020-03-21T00:00:00\", \"2020-03-25T00:00:00\", \"2020-03-26T00:00:00\", \"2020-03-27T00:00:00\", \"2020-03-30T00:00:00\", \"2020-04-01T00:00:00\"], \"xaxis\": \"x\", \"y\": [2.0, 2.0, 1.0, 3.0, 4.0, 1.0, 1.0], \"yaxis\": \"y\"}, {\"alignmentgroup\": \"True\", \"hoverlabel\": {\"namelength\": 0}, \"hovertemplate\": \"DHB=Hawke's Bay<br>Report Date=%{x}<br>cases=%{y}\", \"legendgroup\": \"Hawke's Bay\", \"marker\": {\"color\": \"#FECB52\"}, \"name\": \"Hawke's Bay\", \"offsetgroup\": \"Hawke's Bay\", \"orientation\": \"v\", \"showlegend\": true, \"textposition\": \"auto\", \"type\": \"bar\", \"x\": [\"2020-03-19T00:00:00\", \"2020-03-24T00:00:00\", \"2020-03-25T00:00:00\", \"2020-03-26T00:00:00\", \"2020-03-27T00:00:00\", \"2020-03-28T00:00:00\", \"2020-03-30T00:00:00\", \"2020-04-01T00:00:00\", \"2020-04-02T00:00:00\", \"2020-04-03T00:00:00\", \"2020-04-05T00:00:00\", \"2020-04-06T00:00:00\", \"2020-04-07T00:00:00\"], \"xaxis\": \"x\", \"y\": [1.0, 2.0, 3.0, 4.0, 1.0, 1.0, 3.0, 4.0, 5.0, 5.0, 4.0, 1.0, 1.0], \"yaxis\": \"y\"}, {\"alignmentgroup\": \"True\", \"hoverlabel\": {\"namelength\": 0}, \"hovertemplate\": \"DHB=Whanganui<br>Report Date=%{x}<br>cases=%{y}\", \"legendgroup\": \"Whanganui\", \"marker\": {\"color\": \"#636efa\"}, \"name\": \"Whanganui\", \"offsetgroup\": \"Whanganui\", \"orientation\": \"v\", \"showlegend\": true, \"textposition\": \"auto\", \"type\": \"bar\", \"x\": [\"2020-03-27T00:00:00\", \"2020-04-01T00:00:00\", \"2020-04-02T00:00:00\"], \"xaxis\": \"x\", \"y\": [3.0, 2.0, 2.0], \"yaxis\": \"y\"}, {\"alignmentgroup\": \"True\", \"hoverlabel\": {\"namelength\": 0}, \"hovertemplate\": \"DHB=MidCentral<br>Report Date=%{x}<br>cases=%{y}\", \"legendgroup\": \"MidCentral\", \"marker\": {\"color\": \"#EF553B\"}, \"name\": \"MidCentral\", \"offsetgroup\": \"MidCentral\", \"orientation\": \"v\", \"showlegend\": true, \"textposition\": \"auto\", \"type\": \"bar\", \"x\": [\"2020-03-19T00:00:00\", \"2020-03-21T00:00:00\", \"2020-03-23T00:00:00\", \"2020-03-24T00:00:00\", \"2020-03-25T00:00:00\", \"2020-03-27T00:00:00\", \"2020-03-29T00:00:00\", \"2020-03-31T00:00:00\", \"2020-04-01T00:00:00\", \"2020-04-02T00:00:00\", \"2020-04-04T00:00:00\", \"2020-04-05T00:00:00\", \"2020-04-06T00:00:00\"], \"xaxis\": \"x\", \"y\": [3.0, 1.0, 1.0, 1.0, 2.0, 2.0, 3.0, 4.0, 2.0, 1.0, 3.0, 3.0, 2.0], \"yaxis\": \"y\"}, {\"alignmentgroup\": \"True\", \"hoverlabel\": {\"namelength\": 0}, \"hovertemplate\": \"DHB=Hutt Valley<br>Report Date=%{x}<br>cases=%{y}\", \"legendgroup\": \"Hutt Valley\", \"marker\": {\"color\": \"#00cc96\"}, \"name\": \"Hutt Valley\", \"offsetgroup\": \"Hutt Valley\", \"orientation\": \"v\", \"showlegend\": true, \"textposition\": \"auto\", \"type\": \"bar\", \"x\": [\"2020-03-19T00:00:00\", \"2020-03-22T00:00:00\", \"2020-03-23T00:00:00\", \"2020-03-25T00:00:00\", \"2020-03-26T00:00:00\", \"2020-03-27T00:00:00\", \"2020-03-31T00:00:00\", \"2020-04-02T00:00:00\", \"2020-04-03T00:00:00\", \"2020-04-05T00:00:00\", \"2020-04-07T00:00:00\"], \"xaxis\": \"x\", \"y\": [2.0, 1.0, 2.0, 1.0, 4.0, 3.0, 1.0, 4.0, 1.0, 1.0, 1.0], \"yaxis\": \"y\"}, {\"alignmentgroup\": \"True\", \"hoverlabel\": {\"namelength\": 0}, \"hovertemplate\": \"DHB=Capital and Coast<br>Report Date=%{x}<br>cases=%{y}\", \"legendgroup\": \"Capital and Coast\", \"marker\": {\"color\": \"#ab63fa\"}, \"name\": \"Capital and Coast\", \"offsetgroup\": \"Capital and Coast\", \"orientation\": \"v\", \"showlegend\": true, \"textposition\": \"auto\", \"type\": \"bar\", \"x\": [\"2020-03-14T00:00:00\", \"2020-03-16T00:00:00\", \"2020-03-17T00:00:00\", \"2020-03-18T00:00:00\", \"2020-03-19T00:00:00\", \"2020-03-21T00:00:00\", \"2020-03-22T00:00:00\", \"2020-03-23T00:00:00\", \"2020-03-24T00:00:00\", \"2020-03-25T00:00:00\", \"2020-03-26T00:00:00\", \"2020-03-27T00:00:00\", \"2020-03-28T00:00:00\", \"2020-03-29T00:00:00\", \"2020-03-30T00:00:00\", \"2020-03-31T00:00:00\", \"2020-04-01T00:00:00\", \"2020-04-02T00:00:00\", \"2020-04-03T00:00:00\", \"2020-04-04T00:00:00\", \"2020-04-06T00:00:00\"], \"xaxis\": \"x\", \"y\": [1.0, 2.0, 1.0, 1.0, 3.0, 1.0, 7.0, 9.0, 10.0, 4.0, 3.0, 3.0, 5.0, 8.0, 1.0, 2.0, 3.0, 4.0, 6.0, 6.0, 2.0], \"yaxis\": \"y\"}, {\"alignmentgroup\": \"True\", \"hoverlabel\": {\"namelength\": 0}, \"hovertemplate\": \"DHB=Wairarapa<br>Report Date=%{x}<br>cases=%{y}\", \"legendgroup\": \"Wairarapa\", \"marker\": {\"color\": \"#FFA15A\"}, \"name\": \"Wairarapa\", \"offsetgroup\": \"Wairarapa\", \"orientation\": \"v\", \"showlegend\": true, \"textposition\": \"auto\", \"type\": \"bar\", \"x\": [\"2020-03-19T00:00:00\", \"2020-03-21T00:00:00\", \"2020-03-24T00:00:00\", \"2020-03-31T00:00:00\", \"2020-04-02T00:00:00\"], \"xaxis\": \"x\", \"y\": [1.0, 2.0, 2.0, 1.0, 2.0], \"yaxis\": \"y\"}, {\"alignmentgroup\": \"True\", \"hoverlabel\": {\"namelength\": 0}, \"hovertemplate\": \"DHB=Nelson Marlborough<br>Report Date=%{x}<br>cases=%{y}\", \"legendgroup\": \"Nelson Marlborough\", \"marker\": {\"color\": \"#19d3f3\"}, \"name\": \"Nelson Marlborough\", \"offsetgroup\": \"Nelson Marlborough\", \"orientation\": \"v\", \"showlegend\": true, \"textposition\": \"auto\", \"type\": \"bar\", \"x\": [\"2020-03-20T00:00:00\", \"2020-03-21T00:00:00\", \"2020-03-22T00:00:00\", \"2020-03-23T00:00:00\", \"2020-03-24T00:00:00\", \"2020-03-25T00:00:00\", \"2020-03-28T00:00:00\", \"2020-03-29T00:00:00\", \"2020-03-30T00:00:00\", \"2020-03-31T00:00:00\", \"2020-04-01T00:00:00\", \"2020-04-02T00:00:00\", \"2020-04-03T00:00:00\", \"2020-04-04T00:00:00\", \"2020-04-05T00:00:00\", \"2020-04-06T00:00:00\", \"2020-04-07T00:00:00\"], \"xaxis\": \"x\", \"y\": [2.0, 2.0, 5.0, 3.0, 3.0, 3.0, 1.0, 1.0, 2.0, 2.0, 4.0, 3.0, 2.0, 5.0, 5.0, 1.0, 2.0], \"yaxis\": \"y\"}, {\"alignmentgroup\": \"True\", \"hoverlabel\": {\"namelength\": 0}, \"hovertemplate\": \"DHB=West Coast<br>Report Date=%{x}<br>cases=%{y}\", \"legendgroup\": \"West Coast\", \"marker\": {\"color\": \"#FF6692\"}, \"name\": \"West Coast\", \"offsetgroup\": \"West Coast\", \"orientation\": \"v\", \"showlegend\": true, \"textposition\": \"auto\", \"type\": \"bar\", \"x\": [\"2020-03-22T00:00:00\", \"2020-03-26T00:00:00\", \"2020-04-01T00:00:00\"], \"xaxis\": \"x\", \"y\": [1.0, 2.0, 1.0], \"yaxis\": \"y\"}, {\"alignmentgroup\": \"True\", \"hoverlabel\": {\"namelength\": 0}, \"hovertemplate\": \"DHB=Canterbury<br>Report Date=%{x}<br>cases=%{y}\", \"legendgroup\": \"Canterbury\", \"marker\": {\"color\": \"#B6E880\"}, \"name\": \"Canterbury\", \"offsetgroup\": \"Canterbury\", \"orientation\": \"v\", \"showlegend\": true, \"textposition\": \"auto\", \"type\": \"bar\", \"x\": [\"2020-03-17T00:00:00\", \"2020-03-18T00:00:00\", \"2020-03-20T00:00:00\", \"2020-03-21T00:00:00\", \"2020-03-22T00:00:00\", \"2020-03-23T00:00:00\", \"2020-03-24T00:00:00\", \"2020-03-25T00:00:00\", \"2020-03-26T00:00:00\", \"2020-03-27T00:00:00\", \"2020-03-28T00:00:00\", \"2020-03-29T00:00:00\", \"2020-03-30T00:00:00\", \"2020-03-31T00:00:00\", \"2020-04-01T00:00:00\", \"2020-04-02T00:00:00\", \"2020-04-03T00:00:00\", \"2020-04-04T00:00:00\", \"2020-04-05T00:00:00\", \"2020-04-06T00:00:00\", \"2020-04-07T00:00:00\"], \"xaxis\": \"x\", \"y\": [1.0, 1.0, 2.0, 3.0, 4.0, 5.0, 7.0, 5.0, 11.0, 6.0, 8.0, 3.0, 1.0, 3.0, 2.0, 8.0, 11.0, 17.0, 4.0, 8.0, 4.0], \"yaxis\": \"y\"}, {\"alignmentgroup\": \"True\", \"hoverlabel\": {\"namelength\": 0}, \"hovertemplate\": \"DHB=South Canterbury<br>Report Date=%{x}<br>cases=%{y}\", \"legendgroup\": \"South Canterbury\", \"marker\": {\"color\": \"#FF97FF\"}, \"name\": \"South Canterbury\", \"offsetgroup\": \"South Canterbury\", \"orientation\": \"v\", \"showlegend\": true, \"textposition\": \"auto\", \"type\": \"bar\", \"x\": [\"2020-03-23T00:00:00\", \"2020-03-27T00:00:00\", \"2020-03-28T00:00:00\", \"2020-03-29T00:00:00\", \"2020-03-30T00:00:00\"], \"xaxis\": \"x\", \"y\": [2.0, 4.0, 1.0, 2.0, 1.0], \"yaxis\": \"y\"}, {\"alignmentgroup\": \"True\", \"hoverlabel\": {\"namelength\": 0}, \"hovertemplate\": \"DHB=Southern<br>Report Date=%{x}<br>cases=%{y}\", \"legendgroup\": \"Southern\", \"marker\": {\"color\": \"#FECB52\"}, \"name\": \"Southern\", \"offsetgroup\": \"Southern\", \"orientation\": \"v\", \"showlegend\": true, \"textposition\": \"auto\", \"type\": \"bar\", \"x\": [\"2020-03-13T00:00:00\", \"2020-03-17T00:00:00\", \"2020-03-18T00:00:00\", \"2020-03-19T00:00:00\", \"2020-03-20T00:00:00\", \"2020-03-22T00:00:00\", \"2020-03-23T00:00:00\", \"2020-03-24T00:00:00\", \"2020-03-25T00:00:00\", \"2020-03-26T00:00:00\", \"2020-03-27T00:00:00\", \"2020-03-28T00:00:00\", \"2020-03-29T00:00:00\", \"2020-03-30T00:00:00\", \"2020-03-31T00:00:00\", \"2020-04-01T00:00:00\", \"2020-04-02T00:00:00\", \"2020-04-03T00:00:00\", \"2020-04-04T00:00:00\", \"2020-04-05T00:00:00\", \"2020-04-06T00:00:00\", \"2020-04-07T00:00:00\"], \"xaxis\": \"x\", \"y\": [1.0, 3.0, 2.0, 1.0, 2.0, 2.0, 4.0, 7.0, 10.0, 7.0, 19.0, 13.0, 12.0, 9.0, 9.0, 16.0, 19.0, 15.0, 10.0, 17.0, 9.0, 8.0], \"yaxis\": \"y\"}],\n",
       "                        {\"barmode\": \"relative\", \"legend\": {\"title\": {\"text\": \"DHB\"}, \"tracegroupgap\": 0}, \"margin\": {\"t\": 60}, \"template\": {\"data\": {\"bar\": [{\"error_x\": {\"color\": \"#2a3f5f\"}, \"error_y\": {\"color\": \"#2a3f5f\"}, \"marker\": {\"line\": {\"color\": \"white\", \"width\": 0.5}}, \"type\": \"bar\"}], \"barpolar\": [{\"marker\": {\"line\": {\"color\": \"white\", \"width\": 0.5}}, \"type\": \"barpolar\"}], \"carpet\": [{\"aaxis\": {\"endlinecolor\": \"#2a3f5f\", \"gridcolor\": \"#C8D4E3\", \"linecolor\": \"#C8D4E3\", \"minorgridcolor\": \"#C8D4E3\", \"startlinecolor\": \"#2a3f5f\"}, \"baxis\": {\"endlinecolor\": \"#2a3f5f\", \"gridcolor\": \"#C8D4E3\", \"linecolor\": \"#C8D4E3\", \"minorgridcolor\": \"#C8D4E3\", \"startlinecolor\": \"#2a3f5f\"}, \"type\": \"carpet\"}], \"choropleth\": [{\"colorbar\": {\"outlinewidth\": 0, \"ticks\": \"\"}, \"type\": \"choropleth\"}], \"contour\": [{\"colorbar\": {\"outlinewidth\": 0, \"ticks\": \"\"}, \"colorscale\": [[0.0, \"#0d0887\"], [0.1111111111111111, \"#46039f\"], [0.2222222222222222, \"#7201a8\"], [0.3333333333333333, \"#9c179e\"], [0.4444444444444444, \"#bd3786\"], [0.5555555555555556, \"#d8576b\"], [0.6666666666666666, \"#ed7953\"], [0.7777777777777778, \"#fb9f3a\"], [0.8888888888888888, \"#fdca26\"], [1.0, \"#f0f921\"]], \"type\": \"contour\"}], \"contourcarpet\": [{\"colorbar\": {\"outlinewidth\": 0, \"ticks\": \"\"}, \"type\": \"contourcarpet\"}], \"heatmap\": [{\"colorbar\": {\"outlinewidth\": 0, \"ticks\": \"\"}, \"colorscale\": [[0.0, \"#0d0887\"], [0.1111111111111111, \"#46039f\"], [0.2222222222222222, \"#7201a8\"], [0.3333333333333333, \"#9c179e\"], [0.4444444444444444, \"#bd3786\"], [0.5555555555555556, \"#d8576b\"], [0.6666666666666666, \"#ed7953\"], [0.7777777777777778, \"#fb9f3a\"], [0.8888888888888888, \"#fdca26\"], [1.0, \"#f0f921\"]], \"type\": \"heatmap\"}], \"heatmapgl\": [{\"colorbar\": {\"outlinewidth\": 0, \"ticks\": \"\"}, \"colorscale\": [[0.0, \"#0d0887\"], [0.1111111111111111, \"#46039f\"], [0.2222222222222222, \"#7201a8\"], [0.3333333333333333, \"#9c179e\"], [0.4444444444444444, \"#bd3786\"], [0.5555555555555556, \"#d8576b\"], [0.6666666666666666, \"#ed7953\"], [0.7777777777777778, \"#fb9f3a\"], [0.8888888888888888, \"#fdca26\"], [1.0, \"#f0f921\"]], \"type\": \"heatmapgl\"}], \"histogram\": [{\"marker\": {\"colorbar\": {\"outlinewidth\": 0, \"ticks\": \"\"}}, \"type\": \"histogram\"}], \"histogram2d\": [{\"colorbar\": {\"outlinewidth\": 0, \"ticks\": \"\"}, \"colorscale\": [[0.0, \"#0d0887\"], [0.1111111111111111, \"#46039f\"], [0.2222222222222222, \"#7201a8\"], [0.3333333333333333, \"#9c179e\"], [0.4444444444444444, \"#bd3786\"], [0.5555555555555556, \"#d8576b\"], [0.6666666666666666, \"#ed7953\"], [0.7777777777777778, \"#fb9f3a\"], [0.8888888888888888, \"#fdca26\"], [1.0, \"#f0f921\"]], \"type\": \"histogram2d\"}], \"histogram2dcontour\": [{\"colorbar\": {\"outlinewidth\": 0, \"ticks\": \"\"}, \"colorscale\": [[0.0, \"#0d0887\"], [0.1111111111111111, \"#46039f\"], [0.2222222222222222, \"#7201a8\"], [0.3333333333333333, \"#9c179e\"], [0.4444444444444444, \"#bd3786\"], [0.5555555555555556, \"#d8576b\"], [0.6666666666666666, \"#ed7953\"], [0.7777777777777778, \"#fb9f3a\"], [0.8888888888888888, \"#fdca26\"], [1.0, \"#f0f921\"]], \"type\": \"histogram2dcontour\"}], \"mesh3d\": [{\"colorbar\": {\"outlinewidth\": 0, \"ticks\": \"\"}, \"type\": \"mesh3d\"}], \"parcoords\": [{\"line\": {\"colorbar\": {\"outlinewidth\": 0, \"ticks\": \"\"}}, \"type\": \"parcoords\"}], \"pie\": [{\"automargin\": true, \"type\": \"pie\"}], \"scatter\": [{\"marker\": {\"colorbar\": {\"outlinewidth\": 0, \"ticks\": \"\"}}, \"type\": \"scatter\"}], \"scatter3d\": [{\"line\": {\"colorbar\": {\"outlinewidth\": 0, \"ticks\": \"\"}}, \"marker\": {\"colorbar\": {\"outlinewidth\": 0, \"ticks\": \"\"}}, \"type\": \"scatter3d\"}], \"scattercarpet\": [{\"marker\": {\"colorbar\": {\"outlinewidth\": 0, \"ticks\": \"\"}}, \"type\": \"scattercarpet\"}], \"scattergeo\": [{\"marker\": {\"colorbar\": {\"outlinewidth\": 0, \"ticks\": \"\"}}, \"type\": \"scattergeo\"}], \"scattergl\": [{\"marker\": {\"colorbar\": {\"outlinewidth\": 0, \"ticks\": \"\"}}, \"type\": \"scattergl\"}], \"scattermapbox\": [{\"marker\": {\"colorbar\": {\"outlinewidth\": 0, \"ticks\": \"\"}}, \"type\": \"scattermapbox\"}], \"scatterpolar\": [{\"marker\": {\"colorbar\": {\"outlinewidth\": 0, \"ticks\": \"\"}}, \"type\": \"scatterpolar\"}], \"scatterpolargl\": [{\"marker\": {\"colorbar\": {\"outlinewidth\": 0, \"ticks\": \"\"}}, \"type\": \"scatterpolargl\"}], \"scatterternary\": [{\"marker\": {\"colorbar\": {\"outlinewidth\": 0, \"ticks\": \"\"}}, \"type\": \"scatterternary\"}], \"surface\": [{\"colorbar\": {\"outlinewidth\": 0, \"ticks\": \"\"}, \"colorscale\": [[0.0, \"#0d0887\"], [0.1111111111111111, \"#46039f\"], [0.2222222222222222, \"#7201a8\"], [0.3333333333333333, \"#9c179e\"], [0.4444444444444444, \"#bd3786\"], [0.5555555555555556, \"#d8576b\"], [0.6666666666666666, \"#ed7953\"], [0.7777777777777778, \"#fb9f3a\"], [0.8888888888888888, \"#fdca26\"], [1.0, \"#f0f921\"]], \"type\": \"surface\"}], \"table\": [{\"cells\": {\"fill\": {\"color\": \"#EBF0F8\"}, \"line\": {\"color\": \"white\"}}, \"header\": {\"fill\": {\"color\": \"#C8D4E3\"}, \"line\": {\"color\": \"white\"}}, \"type\": \"table\"}]}, \"layout\": {\"annotationdefaults\": {\"arrowcolor\": \"#2a3f5f\", \"arrowhead\": 0, \"arrowwidth\": 1}, \"coloraxis\": {\"colorbar\": {\"outlinewidth\": 0, \"ticks\": \"\"}}, \"colorscale\": {\"diverging\": [[0, \"#8e0152\"], [0.1, \"#c51b7d\"], [0.2, \"#de77ae\"], [0.3, \"#f1b6da\"], [0.4, \"#fde0ef\"], [0.5, \"#f7f7f7\"], [0.6, \"#e6f5d0\"], [0.7, \"#b8e186\"], [0.8, \"#7fbc41\"], [0.9, \"#4d9221\"], [1, \"#276419\"]], \"sequential\": [[0.0, \"#0d0887\"], [0.1111111111111111, \"#46039f\"], [0.2222222222222222, \"#7201a8\"], [0.3333333333333333, \"#9c179e\"], [0.4444444444444444, \"#bd3786\"], [0.5555555555555556, \"#d8576b\"], [0.6666666666666666, \"#ed7953\"], [0.7777777777777778, \"#fb9f3a\"], [0.8888888888888888, \"#fdca26\"], [1.0, \"#f0f921\"]], \"sequentialminus\": [[0.0, \"#0d0887\"], [0.1111111111111111, \"#46039f\"], [0.2222222222222222, \"#7201a8\"], [0.3333333333333333, \"#9c179e\"], [0.4444444444444444, \"#bd3786\"], [0.5555555555555556, \"#d8576b\"], [0.6666666666666666, \"#ed7953\"], [0.7777777777777778, \"#fb9f3a\"], [0.8888888888888888, \"#fdca26\"], [1.0, \"#f0f921\"]]}, \"colorway\": [\"#636efa\", \"#EF553B\", \"#00cc96\", \"#ab63fa\", \"#FFA15A\", \"#19d3f3\", \"#FF6692\", \"#B6E880\", \"#FF97FF\", \"#FECB52\"], \"font\": {\"color\": \"#2a3f5f\"}, \"geo\": {\"bgcolor\": \"white\", \"lakecolor\": \"white\", \"landcolor\": \"white\", \"showlakes\": true, \"showland\": true, \"subunitcolor\": \"#C8D4E3\"}, \"hoverlabel\": {\"align\": \"left\"}, \"hovermode\": \"closest\", \"mapbox\": {\"style\": \"light\"}, \"paper_bgcolor\": \"white\", \"plot_bgcolor\": \"white\", \"polar\": {\"angularaxis\": {\"gridcolor\": \"#EBF0F8\", \"linecolor\": \"#EBF0F8\", \"ticks\": \"\"}, \"bgcolor\": \"white\", \"radialaxis\": {\"gridcolor\": \"#EBF0F8\", \"linecolor\": \"#EBF0F8\", \"ticks\": \"\"}}, \"scene\": {\"xaxis\": {\"backgroundcolor\": \"white\", \"gridcolor\": \"#DFE8F3\", \"gridwidth\": 2, \"linecolor\": \"#EBF0F8\", \"showbackground\": true, \"ticks\": \"\", \"zerolinecolor\": \"#EBF0F8\"}, \"yaxis\": {\"backgroundcolor\": \"white\", \"gridcolor\": \"#DFE8F3\", \"gridwidth\": 2, \"linecolor\": \"#EBF0F8\", \"showbackground\": true, \"ticks\": \"\", \"zerolinecolor\": \"#EBF0F8\"}, \"zaxis\": {\"backgroundcolor\": \"white\", \"gridcolor\": \"#DFE8F3\", \"gridwidth\": 2, \"linecolor\": \"#EBF0F8\", \"showbackground\": true, \"ticks\": \"\", \"zerolinecolor\": \"#EBF0F8\"}}, \"shapedefaults\": {\"line\": {\"color\": \"#2a3f5f\"}}, \"ternary\": {\"aaxis\": {\"gridcolor\": \"#DFE8F3\", \"linecolor\": \"#A2B1C6\", \"ticks\": \"\"}, \"baxis\": {\"gridcolor\": \"#DFE8F3\", \"linecolor\": \"#A2B1C6\", \"ticks\": \"\"}, \"bgcolor\": \"white\", \"caxis\": {\"gridcolor\": \"#DFE8F3\", \"linecolor\": \"#A2B1C6\", \"ticks\": \"\"}}, \"title\": {\"x\": 0.05}, \"xaxis\": {\"automargin\": true, \"gridcolor\": \"#EBF0F8\", \"linecolor\": \"#EBF0F8\", \"ticks\": \"\", \"title\": {\"standoff\": 15}, \"zerolinecolor\": \"#EBF0F8\", \"zerolinewidth\": 2}, \"yaxis\": {\"automargin\": true, \"gridcolor\": \"#EBF0F8\", \"linecolor\": \"#EBF0F8\", \"ticks\": \"\", \"title\": {\"standoff\": 15}, \"zerolinecolor\": \"#EBF0F8\", \"zerolinewidth\": 2}}}, \"xaxis\": {\"anchor\": \"y\", \"domain\": [0.0, 1.0], \"title\": {\"text\": \"Report Date\"}}, \"yaxis\": {\"anchor\": \"x\", \"domain\": [0.0, 1.0], \"title\": {\"text\": \"cases\"}}},\n",
       "                        {\"responsive\": true}\n",
       "                    ).then(function(){\n",
       "                            \n",
       "var gd = document.getElementById('18b56080-a7c6-411c-93ad-2b32ba30cd84');\n",
       "var x = new MutationObserver(function (mutations, observer) {{\n",
       "        var display = window.getComputedStyle(gd).display;\n",
       "        if (!display || display === 'none') {{\n",
       "            console.log([gd, 'removed!']);\n",
       "            Plotly.purge(gd);\n",
       "            observer.disconnect();\n",
       "        }}\n",
       "}});\n",
       "\n",
       "// Listen for the removal of the full notebook cells\n",
       "var notebookContainer = gd.closest('#notebook-container');\n",
       "if (notebookContainer) {{\n",
       "    x.observe(notebookContainer, {childList: true});\n",
       "}}\n",
       "\n",
       "// Listen for the clearing of the current output cell\n",
       "var outputEl = gd.closest('.output');\n",
       "if (outputEl) {{\n",
       "    x.observe(outputEl, {childList: true});\n",
       "}}\n",
       "\n",
       "                        })\n",
       "                };\n",
       "                });\n",
       "            </script>\n",
       "        </div>"
      ]
     },
     "metadata": {},
     "output_type": "display_data"
    }
   ],
   "source": [
    "px.bar(totals_df, x='Report Date', y='cases', color='DHB', category_orders={'DHB':DHBS})"
   ]
  },
  {
   "cell_type": "code",
   "execution_count": 11,
   "metadata": {},
   "outputs": [
    {
     "data": {
      "text/html": [
       "<div>\n",
       "        \n",
       "        \n",
       "            <div id=\"5ed05501-9bec-4715-8e88-5186a085fcee\" class=\"plotly-graph-div\" style=\"height:525px; width:100%;\"></div>\n",
       "            <script type=\"text/javascript\">\n",
       "                require([\"plotly\"], function(Plotly) {\n",
       "                    window.PLOTLYENV=window.PLOTLYENV || {};\n",
       "                    \n",
       "                if (document.getElementById(\"5ed05501-9bec-4715-8e88-5186a085fcee\")) {\n",
       "                    Plotly.newPlot(\n",
       "                        '5ed05501-9bec-4715-8e88-5186a085fcee',\n",
       "                        [{\"alignmentgroup\": \"True\", \"hoverlabel\": {\"namelength\": 0}, \"hovertemplate\": \"Report Date=2020-02-26 00:00:00<br>DHB=%{x}<br>cases=%{y}\", \"legendgroup\": \"2020-02-26 00:00:00\", \"marker\": {\"color\": \"#00cc96\"}, \"name\": \"2020-02-26 00:00:00\", \"offsetgroup\": \"2020-02-26 00:00:00\", \"orientation\": \"v\", \"showlegend\": true, \"textposition\": \"auto\", \"type\": \"bar\", \"x\": [\"Auckland\"], \"xaxis\": \"x\", \"y\": [1.0], \"yaxis\": \"y\"}, {\"alignmentgroup\": \"True\", \"hoverlabel\": {\"namelength\": 0}, \"hovertemplate\": \"Report Date=2020-03-02 00:00:00<br>DHB=%{x}<br>cases=%{y}\", \"legendgroup\": \"2020-03-02 00:00:00\", \"marker\": {\"color\": \"#ab63fa\"}, \"name\": \"2020-03-02 00:00:00\", \"offsetgroup\": \"2020-03-02 00:00:00\", \"orientation\": \"v\", \"showlegend\": true, \"textposition\": \"auto\", \"type\": \"bar\", \"x\": [\"Waitemata\"], \"xaxis\": \"x\", \"y\": [1.0], \"yaxis\": \"y\"}, {\"alignmentgroup\": \"True\", \"hoverlabel\": {\"namelength\": 0}, \"hovertemplate\": \"Report Date=2020-03-04 00:00:00<br>DHB=%{x}<br>cases=%{y}\", \"legendgroup\": \"2020-03-04 00:00:00\", \"marker\": {\"color\": \"#FFA15A\"}, \"name\": \"2020-03-04 00:00:00\", \"offsetgroup\": \"2020-03-04 00:00:00\", \"orientation\": \"v\", \"showlegend\": true, \"textposition\": \"auto\", \"type\": \"bar\", \"x\": [\"Counties Manukau\", \"Waitemata\"], \"xaxis\": \"x\", \"y\": [1.0, 1.0], \"yaxis\": \"y\"}, {\"alignmentgroup\": \"True\", \"hoverlabel\": {\"namelength\": 0}, \"hovertemplate\": \"Report Date=2020-03-05 00:00:00<br>DHB=%{x}<br>cases=%{y}\", \"legendgroup\": \"2020-03-05 00:00:00\", \"marker\": {\"color\": \"#19d3f3\"}, \"name\": \"2020-03-05 00:00:00\", \"offsetgroup\": \"2020-03-05 00:00:00\", \"orientation\": \"v\", \"showlegend\": true, \"textposition\": \"auto\", \"type\": \"bar\", \"x\": [\"Counties Manukau\", \"Waitemata\"], \"xaxis\": \"x\", \"y\": [1.0, 1.0], \"yaxis\": \"y\"}, {\"alignmentgroup\": \"True\", \"hoverlabel\": {\"namelength\": 0}, \"hovertemplate\": \"Report Date=2020-03-06 00:00:00<br>DHB=%{x}<br>cases=%{y}\", \"legendgroup\": \"2020-03-06 00:00:00\", \"marker\": {\"color\": \"#FF6692\"}, \"name\": \"2020-03-06 00:00:00\", \"offsetgroup\": \"2020-03-06 00:00:00\", \"orientation\": \"v\", \"showlegend\": true, \"textposition\": \"auto\", \"type\": \"bar\", \"x\": [\"Counties Manukau\"], \"xaxis\": \"x\", \"y\": [1.0], \"yaxis\": \"y\"}, {\"alignmentgroup\": \"True\", \"hoverlabel\": {\"namelength\": 0}, \"hovertemplate\": \"Report Date=2020-03-12 00:00:00<br>DHB=%{x}<br>cases=%{y}\", \"legendgroup\": \"2020-03-12 00:00:00\", \"marker\": {\"color\": \"#B6E880\"}, \"name\": \"2020-03-12 00:00:00\", \"offsetgroup\": \"2020-03-12 00:00:00\", \"orientation\": \"v\", \"showlegend\": true, \"textposition\": \"auto\", \"type\": \"bar\", \"x\": [\"Counties Manukau\"], \"xaxis\": \"x\", \"y\": [1.0], \"yaxis\": \"y\"}, {\"alignmentgroup\": \"True\", \"hoverlabel\": {\"namelength\": 0}, \"hovertemplate\": \"Report Date=2020-03-13 00:00:00<br>DHB=%{x}<br>cases=%{y}\", \"legendgroup\": \"2020-03-13 00:00:00\", \"marker\": {\"color\": \"#FF97FF\"}, \"name\": \"2020-03-13 00:00:00\", \"offsetgroup\": \"2020-03-13 00:00:00\", \"orientation\": \"v\", \"showlegend\": true, \"textposition\": \"auto\", \"type\": \"bar\", \"x\": [\"Southern\"], \"xaxis\": \"x\", \"y\": [1.0], \"yaxis\": \"y\"}, {\"alignmentgroup\": \"True\", \"hoverlabel\": {\"namelength\": 0}, \"hovertemplate\": \"Report Date=2020-03-14 00:00:00<br>DHB=%{x}<br>cases=%{y}\", \"legendgroup\": \"2020-03-14 00:00:00\", \"marker\": {\"color\": \"#FECB52\"}, \"name\": \"2020-03-14 00:00:00\", \"offsetgroup\": \"2020-03-14 00:00:00\", \"orientation\": \"v\", \"showlegend\": true, \"textposition\": \"auto\", \"type\": \"bar\", \"x\": [\"Capital and Coast\"], \"xaxis\": \"x\", \"y\": [1.0], \"yaxis\": \"y\"}, {\"alignmentgroup\": \"True\", \"hoverlabel\": {\"namelength\": 0}, \"hovertemplate\": \"Report Date=2020-03-15 00:00:00<br>DHB=%{x}<br>cases=%{y}\", \"legendgroup\": \"2020-03-15 00:00:00\", \"marker\": {\"color\": \"#636efa\"}, \"name\": \"2020-03-15 00:00:00\", \"offsetgroup\": \"2020-03-15 00:00:00\", \"orientation\": \"v\", \"showlegend\": true, \"textposition\": \"auto\", \"type\": \"bar\", \"x\": [\"Waitemata\"], \"xaxis\": \"x\", \"y\": [1.0], \"yaxis\": \"y\"}, {\"alignmentgroup\": \"True\", \"hoverlabel\": {\"namelength\": 0}, \"hovertemplate\": \"Report Date=2020-03-16 00:00:00<br>DHB=%{x}<br>cases=%{y}\", \"legendgroup\": \"2020-03-16 00:00:00\", \"marker\": {\"color\": \"#EF553B\"}, \"name\": \"2020-03-16 00:00:00\", \"offsetgroup\": \"2020-03-16 00:00:00\", \"orientation\": \"v\", \"showlegend\": true, \"textposition\": \"auto\", \"type\": \"bar\", \"x\": [\"Auckland\", \"Capital and Coast\", \"Taranaki\", \"Waikato\"], \"xaxis\": \"x\", \"y\": [1.0, 2.0, 2.0, 2.0], \"yaxis\": \"y\"}, {\"alignmentgroup\": \"True\", \"hoverlabel\": {\"namelength\": 0}, \"hovertemplate\": \"Report Date=2020-03-17 00:00:00<br>DHB=%{x}<br>cases=%{y}\", \"legendgroup\": \"2020-03-17 00:00:00\", \"marker\": {\"color\": \"#00cc96\"}, \"name\": \"2020-03-17 00:00:00\", \"offsetgroup\": \"2020-03-17 00:00:00\", \"orientation\": \"v\", \"showlegend\": true, \"textposition\": \"auto\", \"type\": \"bar\", \"x\": [\"Auckland\", \"Canterbury\", \"Capital and Coast\", \"Counties Manukau\", \"Lakes\", \"Northland\", \"Southern\", \"Waitemata\"], \"xaxis\": \"x\", \"y\": [2.0, 1.0, 1.0, 1.0, 1.0, 1.0, 3.0, 2.0], \"yaxis\": \"y\"}, {\"alignmentgroup\": \"True\", \"hoverlabel\": {\"namelength\": 0}, \"hovertemplate\": \"Report Date=2020-03-18 00:00:00<br>DHB=%{x}<br>cases=%{y}\", \"legendgroup\": \"2020-03-18 00:00:00\", \"marker\": {\"color\": \"#ab63fa\"}, \"name\": \"2020-03-18 00:00:00\", \"offsetgroup\": \"2020-03-18 00:00:00\", \"orientation\": \"v\", \"showlegend\": true, \"textposition\": \"auto\", \"type\": \"bar\", \"x\": [\"Auckland\", \"Canterbury\", \"Capital and Coast\", \"Southern\"], \"xaxis\": \"x\", \"y\": [1.0, 1.0, 1.0, 2.0], \"yaxis\": \"y\"}, {\"alignmentgroup\": \"True\", \"hoverlabel\": {\"namelength\": 0}, \"hovertemplate\": \"Report Date=2020-03-19 00:00:00<br>DHB=%{x}<br>cases=%{y}\", \"legendgroup\": \"2020-03-19 00:00:00\", \"marker\": {\"color\": \"#FFA15A\"}, \"name\": \"2020-03-19 00:00:00\", \"offsetgroup\": \"2020-03-19 00:00:00\", \"orientation\": \"v\", \"showlegend\": true, \"textposition\": \"auto\", \"type\": \"bar\", \"x\": [\"Auckland\", \"Capital and Coast\", \"Counties Manukau\", \"Hawke's Bay\", \"Hutt Valley\", \"MidCentral\", \"Southern\", \"Waikato\", \"Wairarapa\", \"Waitemata\"], \"xaxis\": \"x\", \"y\": [4.0, 3.0, 1.0, 1.0, 2.0, 3.0, 1.0, 2.0, 1.0, 1.0], \"yaxis\": \"y\"}, {\"alignmentgroup\": \"True\", \"hoverlabel\": {\"namelength\": 0}, \"hovertemplate\": \"Report Date=2020-03-20 00:00:00<br>DHB=%{x}<br>cases=%{y}\", \"legendgroup\": \"2020-03-20 00:00:00\", \"marker\": {\"color\": \"#19d3f3\"}, \"name\": \"2020-03-20 00:00:00\", \"offsetgroup\": \"2020-03-20 00:00:00\", \"orientation\": \"v\", \"showlegend\": true, \"textposition\": \"auto\", \"type\": \"bar\", \"x\": [\"Auckland\", \"Canterbury\", \"Lakes\", \"Nelson Marlborough\", \"Southern\", \"Waikato\", \"Waitemata\"], \"xaxis\": \"x\", \"y\": [1.0, 2.0, 1.0, 2.0, 2.0, 1.0, 2.0], \"yaxis\": \"y\"}, {\"alignmentgroup\": \"True\", \"hoverlabel\": {\"namelength\": 0}, \"hovertemplate\": \"Report Date=2020-03-21 00:00:00<br>DHB=%{x}<br>cases=%{y}\", \"legendgroup\": \"2020-03-21 00:00:00\", \"marker\": {\"color\": \"#FF6692\"}, \"name\": \"2020-03-21 00:00:00\", \"offsetgroup\": \"2020-03-21 00:00:00\", \"orientation\": \"v\", \"showlegend\": true, \"textposition\": \"auto\", \"type\": \"bar\", \"x\": [\"Auckland\", \"Bay of Plenty\", \"Canterbury\", \"Capital and Coast\", \"Counties Manukau\", \"MidCentral\", \"Nelson Marlborough\", \"Taranaki\", \"Waikato\", \"Wairarapa\", \"Waitemata\"], \"xaxis\": \"x\", \"y\": [4.0, 1.0, 3.0, 1.0, 4.0, 1.0, 2.0, 2.0, 3.0, 2.0, 1.0], \"yaxis\": \"y\"}, {\"alignmentgroup\": \"True\", \"hoverlabel\": {\"namelength\": 0}, \"hovertemplate\": \"Report Date=2020-03-22 00:00:00<br>DHB=%{x}<br>cases=%{y}\", \"legendgroup\": \"2020-03-22 00:00:00\", \"marker\": {\"color\": \"#B6E880\"}, \"name\": \"2020-03-22 00:00:00\", \"offsetgroup\": \"2020-03-22 00:00:00\", \"orientation\": \"v\", \"showlegend\": true, \"textposition\": \"auto\", \"type\": \"bar\", \"x\": [\"Auckland\", \"Canterbury\", \"Capital and Coast\", \"Counties Manukau\", \"Hutt Valley\", \"Nelson Marlborough\", \"Northland\", \"Southern\", \"Waikato\", \"Waitemata\", \"West Coast\"], \"xaxis\": \"x\", \"y\": [8.0, 4.0, 7.0, 8.0, 1.0, 5.0, 1.0, 2.0, 3.0, 5.0, 1.0], \"yaxis\": \"y\"}, {\"alignmentgroup\": \"True\", \"hoverlabel\": {\"namelength\": 0}, \"hovertemplate\": \"Report Date=2020-03-23 00:00:00<br>DHB=%{x}<br>cases=%{y}\", \"legendgroup\": \"2020-03-23 00:00:00\", \"marker\": {\"color\": \"#FF97FF\"}, \"name\": \"2020-03-23 00:00:00\", \"offsetgroup\": \"2020-03-23 00:00:00\", \"orientation\": \"v\", \"showlegend\": true, \"textposition\": \"auto\", \"type\": \"bar\", \"x\": [\"Auckland\", \"Canterbury\", \"Capital and Coast\", \"Counties Manukau\", \"Hutt Valley\", \"Lakes\", \"MidCentral\", \"Nelson Marlborough\", \"South Canterbury\", \"Southern\", \"Waikato\", \"Waitemata\"], \"xaxis\": \"x\", \"y\": [7.0, 5.0, 9.0, 1.0, 2.0, 1.0, 1.0, 3.0, 2.0, 4.0, 4.0, 2.0], \"yaxis\": \"y\"}, {\"alignmentgroup\": \"True\", \"hoverlabel\": {\"namelength\": 0}, \"hovertemplate\": \"Report Date=2020-03-24 00:00:00<br>DHB=%{x}<br>cases=%{y}\", \"legendgroup\": \"2020-03-24 00:00:00\", \"marker\": {\"color\": \"#FECB52\"}, \"name\": \"2020-03-24 00:00:00\", \"offsetgroup\": \"2020-03-24 00:00:00\", \"orientation\": \"v\", \"showlegend\": true, \"textposition\": \"auto\", \"type\": \"bar\", \"x\": [\"Auckland\", \"Bay of Plenty\", \"Canterbury\", \"Capital and Coast\", \"Counties Manukau\", \"Hawke's Bay\", \"Lakes\", \"MidCentral\", \"Nelson Marlborough\", \"Northland\", \"Southern\", \"Waikato\", \"Wairarapa\", \"Waitemata\"], \"xaxis\": \"x\", \"y\": [7.0, 3.0, 7.0, 10.0, 2.0, 2.0, 1.0, 1.0, 3.0, 1.0, 7.0, 2.0, 2.0, 10.0], \"yaxis\": \"y\"}, {\"alignmentgroup\": \"True\", \"hoverlabel\": {\"namelength\": 0}, \"hovertemplate\": \"Report Date=2020-03-25 00:00:00<br>DHB=%{x}<br>cases=%{y}\", \"legendgroup\": \"2020-03-25 00:00:00\", \"marker\": {\"color\": \"#636efa\"}, \"name\": \"2020-03-25 00:00:00\", \"offsetgroup\": \"2020-03-25 00:00:00\", \"orientation\": \"v\", \"showlegend\": true, \"textposition\": \"auto\", \"type\": \"bar\", \"x\": [\"Auckland\", \"Bay of Plenty\", \"Canterbury\", \"Capital and Coast\", \"Counties Manukau\", \"Hawke's Bay\", \"Hutt Valley\", \"Lakes\", \"MidCentral\", \"Nelson Marlborough\", \"Northland\", \"Southern\", \"Taranaki\", \"Waikato\", \"Waitemata\"], \"xaxis\": \"x\", \"y\": [11.0, 2.0, 5.0, 4.0, 6.0, 3.0, 1.0, 3.0, 2.0, 3.0, 2.0, 10.0, 1.0, 21.0, 11.0], \"yaxis\": \"y\"}, {\"alignmentgroup\": \"True\", \"hoverlabel\": {\"namelength\": 0}, \"hovertemplate\": \"Report Date=2020-03-26 00:00:00<br>DHB=%{x}<br>cases=%{y}\", \"legendgroup\": \"2020-03-26 00:00:00\", \"marker\": {\"color\": \"#EF553B\"}, \"name\": \"2020-03-26 00:00:00\", \"offsetgroup\": \"2020-03-26 00:00:00\", \"orientation\": \"v\", \"showlegend\": true, \"textposition\": \"auto\", \"type\": \"bar\", \"x\": [\"Auckland\", \"Bay of Plenty\", \"Canterbury\", \"Capital and Coast\", \"Counties Manukau\", \"Hawke's Bay\", \"Hutt Valley\", \"Lakes\", \"Northland\", \"Southern\", \"Tairawhiti\", \"Taranaki\", \"Waikato\", \"Waitemata\", \"West Coast\"], \"xaxis\": \"x\", \"y\": [12.0, 3.0, 11.0, 3.0, 3.0, 4.0, 4.0, 1.0, 2.0, 7.0, 1.0, 3.0, 11.0, 11.0, 2.0], \"yaxis\": \"y\"}, {\"alignmentgroup\": \"True\", \"hoverlabel\": {\"namelength\": 0}, \"hovertemplate\": \"Report Date=2020-03-27 00:00:00<br>DHB=%{x}<br>cases=%{y}\", \"legendgroup\": \"2020-03-27 00:00:00\", \"marker\": {\"color\": \"#00cc96\"}, \"name\": \"2020-03-27 00:00:00\", \"offsetgroup\": \"2020-03-27 00:00:00\", \"orientation\": \"v\", \"showlegend\": true, \"textposition\": \"auto\", \"type\": \"bar\", \"x\": [\"Auckland\", \"Bay of Plenty\", \"Canterbury\", \"Capital and Coast\", \"Counties Manukau\", \"Hawke's Bay\", \"Hutt Valley\", \"MidCentral\", \"South Canterbury\", \"Southern\", \"Taranaki\", \"Waikato\", \"Waitemata\", \"Whanganui\"], \"xaxis\": \"x\", \"y\": [8.0, 3.0, 6.0, 3.0, 4.0, 1.0, 3.0, 2.0, 4.0, 19.0, 4.0, 11.0, 3.0, 3.0], \"yaxis\": \"y\"}, {\"alignmentgroup\": \"True\", \"hoverlabel\": {\"namelength\": 0}, \"hovertemplate\": \"Report Date=2020-03-28 00:00:00<br>DHB=%{x}<br>cases=%{y}\", \"legendgroup\": \"2020-03-28 00:00:00\", \"marker\": {\"color\": \"#ab63fa\"}, \"name\": \"2020-03-28 00:00:00\", \"offsetgroup\": \"2020-03-28 00:00:00\", \"orientation\": \"v\", \"showlegend\": true, \"textposition\": \"auto\", \"type\": \"bar\", \"x\": [\"Auckland\", \"Bay of Plenty\", \"Canterbury\", \"Capital and Coast\", \"Counties Manukau\", \"Hawke's Bay\", \"Lakes\", \"Nelson Marlborough\", \"South Canterbury\", \"Southern\", \"Waikato\", \"Waitemata\"], \"xaxis\": \"x\", \"y\": [15.0, 2.0, 8.0, 5.0, 6.0, 1.0, 1.0, 1.0, 1.0, 13.0, 3.0, 13.0], \"yaxis\": \"y\"}, {\"alignmentgroup\": \"True\", \"hoverlabel\": {\"namelength\": 0}, \"hovertemplate\": \"Report Date=2020-03-29 00:00:00<br>DHB=%{x}<br>cases=%{y}\", \"legendgroup\": \"2020-03-29 00:00:00\", \"marker\": {\"color\": \"#FFA15A\"}, \"name\": \"2020-03-29 00:00:00\", \"offsetgroup\": \"2020-03-29 00:00:00\", \"orientation\": \"v\", \"showlegend\": true, \"textposition\": \"auto\", \"type\": \"bar\", \"x\": [\"Auckland\", \"Canterbury\", \"Capital and Coast\", \"Counties Manukau\", \"MidCentral\", \"Nelson Marlborough\", \"Northland\", \"South Canterbury\", \"Southern\", \"Waikato\", \"Waitemata\"], \"xaxis\": \"x\", \"y\": [10.0, 3.0, 8.0, 3.0, 3.0, 1.0, 2.0, 2.0, 12.0, 16.0, 15.0], \"yaxis\": \"y\"}, {\"alignmentgroup\": \"True\", \"hoverlabel\": {\"namelength\": 0}, \"hovertemplate\": \"Report Date=2020-03-30 00:00:00<br>DHB=%{x}<br>cases=%{y}\", \"legendgroup\": \"2020-03-30 00:00:00\", \"marker\": {\"color\": \"#19d3f3\"}, \"name\": \"2020-03-30 00:00:00\", \"offsetgroup\": \"2020-03-30 00:00:00\", \"orientation\": \"v\", \"showlegend\": true, \"textposition\": \"auto\", \"type\": \"bar\", \"x\": [\"Auckland\", \"Bay of Plenty\", \"Canterbury\", \"Capital and Coast\", \"Counties Manukau\", \"Hawke's Bay\", \"Lakes\", \"Nelson Marlborough\", \"Northland\", \"South Canterbury\", \"Southern\", \"Taranaki\", \"Waikato\", \"Waitemata\"], \"xaxis\": \"x\", \"y\": [5.0, 4.0, 1.0, 1.0, 9.0, 3.0, 2.0, 2.0, 1.0, 1.0, 9.0, 1.0, 5.0, 9.0], \"yaxis\": \"y\"}, {\"alignmentgroup\": \"True\", \"hoverlabel\": {\"namelength\": 0}, \"hovertemplate\": \"Report Date=2020-03-31 00:00:00<br>DHB=%{x}<br>cases=%{y}\", \"legendgroup\": \"2020-03-31 00:00:00\", \"marker\": {\"color\": \"#FF6692\"}, \"name\": \"2020-03-31 00:00:00\", \"offsetgroup\": \"2020-03-31 00:00:00\", \"orientation\": \"v\", \"showlegend\": true, \"textposition\": \"auto\", \"type\": \"bar\", \"x\": [\"Auckland\", \"Bay of Plenty\", \"Canterbury\", \"Capital and Coast\", \"Counties Manukau\", \"Hutt Valley\", \"MidCentral\", \"Nelson Marlborough\", \"Northland\", \"Southern\", \"Waikato\", \"Wairarapa\", \"Waitemata\"], \"xaxis\": \"x\", \"y\": [8.0, 2.0, 3.0, 2.0, 7.0, 1.0, 4.0, 2.0, 1.0, 9.0, 24.0, 1.0, 12.0], \"yaxis\": \"y\"}, {\"alignmentgroup\": \"True\", \"hoverlabel\": {\"namelength\": 0}, \"hovertemplate\": \"Report Date=2020-04-01 00:00:00<br>DHB=%{x}<br>cases=%{y}\", \"legendgroup\": \"2020-04-01 00:00:00\", \"marker\": {\"color\": \"#B6E880\"}, \"name\": \"2020-04-01 00:00:00\", \"offsetgroup\": \"2020-04-01 00:00:00\", \"orientation\": \"v\", \"showlegend\": true, \"textposition\": \"auto\", \"type\": \"bar\", \"x\": [\"Auckland\", \"Bay of Plenty\", \"Canterbury\", \"Capital and Coast\", \"Counties Manukau\", \"Hawke's Bay\", \"MidCentral\", \"Nelson Marlborough\", \"Northland\", \"Southern\", \"Taranaki\", \"Waikato\", \"Waitemata\", \"West Coast\", \"Whanganui\"], \"xaxis\": \"x\", \"y\": [9.0, 5.0, 2.0, 3.0, 3.0, 4.0, 2.0, 4.0, 1.0, 16.0, 1.0, 10.0, 13.0, 1.0, 2.0], \"yaxis\": \"y\"}, {\"alignmentgroup\": \"True\", \"hoverlabel\": {\"namelength\": 0}, \"hovertemplate\": \"Report Date=2020-04-02 00:00:00<br>DHB=%{x}<br>cases=%{y}\", \"legendgroup\": \"2020-04-02 00:00:00\", \"marker\": {\"color\": \"#FF97FF\"}, \"name\": \"2020-04-02 00:00:00\", \"offsetgroup\": \"2020-04-02 00:00:00\", \"orientation\": \"v\", \"showlegend\": true, \"textposition\": \"auto\", \"type\": \"bar\", \"x\": [\"Auckland\", \"Bay of Plenty\", \"Canterbury\", \"Capital and Coast\", \"Counties Manukau\", \"Hawke's Bay\", \"Hutt Valley\", \"MidCentral\", \"Nelson Marlborough\", \"Northland\", \"Southern\", \"Waikato\", \"Wairarapa\", \"Waitemata\", \"Whanganui\"], \"xaxis\": \"x\", \"y\": [5.0, 4.0, 8.0, 4.0, 6.0, 5.0, 4.0, 1.0, 3.0, 1.0, 19.0, 8.0, 2.0, 11.0, 2.0], \"yaxis\": \"y\"}, {\"alignmentgroup\": \"True\", \"hoverlabel\": {\"namelength\": 0}, \"hovertemplate\": \"Report Date=2020-04-03 00:00:00<br>DHB=%{x}<br>cases=%{y}\", \"legendgroup\": \"2020-04-03 00:00:00\", \"marker\": {\"color\": \"#FECB52\"}, \"name\": \"2020-04-03 00:00:00\", \"offsetgroup\": \"2020-04-03 00:00:00\", \"orientation\": \"v\", \"showlegend\": true, \"textposition\": \"auto\", \"type\": \"bar\", \"x\": [\"Auckland\", \"Bay of Plenty\", \"Canterbury\", \"Capital and Coast\", \"Counties Manukau\", \"Hawke's Bay\", \"Hutt Valley\", \"Nelson Marlborough\", \"Northland\", \"Southern\", \"Waikato\", \"Waitemata\"], \"xaxis\": \"x\", \"y\": [6.0, 1.0, 11.0, 6.0, 5.0, 5.0, 1.0, 2.0, 1.0, 15.0, 13.0, 8.0], \"yaxis\": \"y\"}, {\"alignmentgroup\": \"True\", \"hoverlabel\": {\"namelength\": 0}, \"hovertemplate\": \"Report Date=2020-04-04 00:00:00<br>DHB=%{x}<br>cases=%{y}\", \"legendgroup\": \"2020-04-04 00:00:00\", \"marker\": {\"color\": \"#636efa\"}, \"name\": \"2020-04-04 00:00:00\", \"offsetgroup\": \"2020-04-04 00:00:00\", \"orientation\": \"v\", \"showlegend\": true, \"textposition\": \"auto\", \"type\": \"bar\", \"x\": [\"Auckland\", \"Bay of Plenty\", \"Canterbury\", \"Capital and Coast\", \"Counties Manukau\", \"Lakes\", \"MidCentral\", \"Nelson Marlborough\", \"Northland\", \"Southern\", \"Waikato\", \"Waitemata\"], \"xaxis\": \"x\", \"y\": [11.0, 1.0, 17.0, 6.0, 3.0, 1.0, 3.0, 5.0, 1.0, 10.0, 6.0, 14.0], \"yaxis\": \"y\"}, {\"alignmentgroup\": \"True\", \"hoverlabel\": {\"namelength\": 0}, \"hovertemplate\": \"Report Date=2020-04-05 00:00:00<br>DHB=%{x}<br>cases=%{y}\", \"legendgroup\": \"2020-04-05 00:00:00\", \"marker\": {\"color\": \"#EF553B\"}, \"name\": \"2020-04-05 00:00:00\", \"offsetgroup\": \"2020-04-05 00:00:00\", \"orientation\": \"v\", \"showlegend\": true, \"textposition\": \"auto\", \"type\": \"bar\", \"x\": [\"Auckland\", \"Bay of Plenty\", \"Canterbury\", \"Counties Manukau\", \"Hawke's Bay\", \"Hutt Valley\", \"MidCentral\", \"Nelson Marlborough\", \"Northland\", \"Southern\", \"Waikato\", \"Waitemata\"], \"xaxis\": \"x\", \"y\": [10.0, 1.0, 4.0, 8.0, 4.0, 1.0, 3.0, 5.0, 2.0, 17.0, 4.0, 10.0], \"yaxis\": \"y\"}, {\"alignmentgroup\": \"True\", \"hoverlabel\": {\"namelength\": 0}, \"hovertemplate\": \"Report Date=2020-04-06 00:00:00<br>DHB=%{x}<br>cases=%{y}\", \"legendgroup\": \"2020-04-06 00:00:00\", \"marker\": {\"color\": \"#00cc96\"}, \"name\": \"2020-04-06 00:00:00\", \"offsetgroup\": \"2020-04-06 00:00:00\", \"orientation\": \"v\", \"showlegend\": true, \"textposition\": \"auto\", \"type\": \"bar\", \"x\": [\"Auckland\", \"Bay of Plenty\", \"Canterbury\", \"Capital and Coast\", \"Counties Manukau\", \"Hawke's Bay\", \"MidCentral\", \"Nelson Marlborough\", \"Northland\", \"Southern\", \"Waikato\", \"Waitemata\"], \"xaxis\": \"x\", \"y\": [6.0, 4.0, 8.0, 2.0, 6.0, 1.0, 2.0, 1.0, 1.0, 9.0, 7.0, 1.0], \"yaxis\": \"y\"}, {\"alignmentgroup\": \"True\", \"hoverlabel\": {\"namelength\": 0}, \"hovertemplate\": \"Report Date=2020-04-07 00:00:00<br>DHB=%{x}<br>cases=%{y}\", \"legendgroup\": \"2020-04-07 00:00:00\", \"marker\": {\"color\": \"#ab63fa\"}, \"name\": \"2020-04-07 00:00:00\", \"offsetgroup\": \"2020-04-07 00:00:00\", \"orientation\": \"v\", \"showlegend\": true, \"textposition\": \"auto\", \"type\": \"bar\", \"x\": [\"Auckland\", \"Bay of Plenty\", \"Canterbury\", \"Counties Manukau\", \"Hawke's Bay\", \"Hutt Valley\", \"Nelson Marlborough\", \"Northland\", \"Southern\", \"Waikato\", \"Waitemata\"], \"xaxis\": \"x\", \"y\": [3.0, 2.0, 4.0, 2.0, 1.0, 1.0, 2.0, 2.0, 8.0, 3.0, 11.0], \"yaxis\": \"y\"}],\n",
       "                        {\"barmode\": \"relative\", \"legend\": {\"title\": {\"text\": \"Report Date\"}, \"tracegroupgap\": 0}, \"margin\": {\"t\": 60}, \"template\": {\"data\": {\"bar\": [{\"error_x\": {\"color\": \"#2a3f5f\"}, \"error_y\": {\"color\": \"#2a3f5f\"}, \"marker\": {\"line\": {\"color\": \"white\", \"width\": 0.5}}, \"type\": \"bar\"}], \"barpolar\": [{\"marker\": {\"line\": {\"color\": \"white\", \"width\": 0.5}}, \"type\": \"barpolar\"}], \"carpet\": [{\"aaxis\": {\"endlinecolor\": \"#2a3f5f\", \"gridcolor\": \"#C8D4E3\", \"linecolor\": \"#C8D4E3\", \"minorgridcolor\": \"#C8D4E3\", \"startlinecolor\": \"#2a3f5f\"}, \"baxis\": {\"endlinecolor\": \"#2a3f5f\", \"gridcolor\": \"#C8D4E3\", \"linecolor\": \"#C8D4E3\", \"minorgridcolor\": \"#C8D4E3\", \"startlinecolor\": \"#2a3f5f\"}, \"type\": \"carpet\"}], \"choropleth\": [{\"colorbar\": {\"outlinewidth\": 0, \"ticks\": \"\"}, \"type\": \"choropleth\"}], \"contour\": [{\"colorbar\": {\"outlinewidth\": 0, \"ticks\": \"\"}, \"colorscale\": [[0.0, \"#0d0887\"], [0.1111111111111111, \"#46039f\"], [0.2222222222222222, \"#7201a8\"], [0.3333333333333333, \"#9c179e\"], [0.4444444444444444, \"#bd3786\"], [0.5555555555555556, \"#d8576b\"], [0.6666666666666666, \"#ed7953\"], [0.7777777777777778, \"#fb9f3a\"], [0.8888888888888888, \"#fdca26\"], [1.0, \"#f0f921\"]], \"type\": \"contour\"}], \"contourcarpet\": [{\"colorbar\": {\"outlinewidth\": 0, \"ticks\": \"\"}, \"type\": \"contourcarpet\"}], \"heatmap\": [{\"colorbar\": {\"outlinewidth\": 0, \"ticks\": \"\"}, \"colorscale\": [[0.0, \"#0d0887\"], [0.1111111111111111, \"#46039f\"], [0.2222222222222222, \"#7201a8\"], [0.3333333333333333, \"#9c179e\"], [0.4444444444444444, \"#bd3786\"], [0.5555555555555556, \"#d8576b\"], [0.6666666666666666, \"#ed7953\"], [0.7777777777777778, \"#fb9f3a\"], [0.8888888888888888, \"#fdca26\"], [1.0, \"#f0f921\"]], \"type\": \"heatmap\"}], \"heatmapgl\": [{\"colorbar\": {\"outlinewidth\": 0, \"ticks\": \"\"}, \"colorscale\": [[0.0, \"#0d0887\"], [0.1111111111111111, \"#46039f\"], [0.2222222222222222, \"#7201a8\"], [0.3333333333333333, \"#9c179e\"], [0.4444444444444444, \"#bd3786\"], [0.5555555555555556, \"#d8576b\"], [0.6666666666666666, \"#ed7953\"], [0.7777777777777778, \"#fb9f3a\"], [0.8888888888888888, \"#fdca26\"], [1.0, \"#f0f921\"]], \"type\": \"heatmapgl\"}], \"histogram\": [{\"marker\": {\"colorbar\": {\"outlinewidth\": 0, \"ticks\": \"\"}}, \"type\": \"histogram\"}], \"histogram2d\": [{\"colorbar\": {\"outlinewidth\": 0, \"ticks\": \"\"}, \"colorscale\": [[0.0, \"#0d0887\"], [0.1111111111111111, \"#46039f\"], [0.2222222222222222, \"#7201a8\"], [0.3333333333333333, \"#9c179e\"], [0.4444444444444444, \"#bd3786\"], [0.5555555555555556, \"#d8576b\"], [0.6666666666666666, \"#ed7953\"], [0.7777777777777778, \"#fb9f3a\"], [0.8888888888888888, \"#fdca26\"], [1.0, \"#f0f921\"]], \"type\": \"histogram2d\"}], \"histogram2dcontour\": [{\"colorbar\": {\"outlinewidth\": 0, \"ticks\": \"\"}, \"colorscale\": [[0.0, \"#0d0887\"], [0.1111111111111111, \"#46039f\"], [0.2222222222222222, \"#7201a8\"], [0.3333333333333333, \"#9c179e\"], [0.4444444444444444, \"#bd3786\"], [0.5555555555555556, \"#d8576b\"], [0.6666666666666666, \"#ed7953\"], [0.7777777777777778, \"#fb9f3a\"], [0.8888888888888888, \"#fdca26\"], [1.0, \"#f0f921\"]], \"type\": \"histogram2dcontour\"}], \"mesh3d\": [{\"colorbar\": {\"outlinewidth\": 0, \"ticks\": \"\"}, \"type\": \"mesh3d\"}], \"parcoords\": [{\"line\": {\"colorbar\": {\"outlinewidth\": 0, \"ticks\": \"\"}}, \"type\": \"parcoords\"}], \"pie\": [{\"automargin\": true, \"type\": \"pie\"}], \"scatter\": [{\"marker\": {\"colorbar\": {\"outlinewidth\": 0, \"ticks\": \"\"}}, \"type\": \"scatter\"}], \"scatter3d\": [{\"line\": {\"colorbar\": {\"outlinewidth\": 0, \"ticks\": \"\"}}, \"marker\": {\"colorbar\": {\"outlinewidth\": 0, \"ticks\": \"\"}}, \"type\": \"scatter3d\"}], \"scattercarpet\": [{\"marker\": {\"colorbar\": {\"outlinewidth\": 0, \"ticks\": \"\"}}, \"type\": \"scattercarpet\"}], \"scattergeo\": [{\"marker\": {\"colorbar\": {\"outlinewidth\": 0, \"ticks\": \"\"}}, \"type\": \"scattergeo\"}], \"scattergl\": [{\"marker\": {\"colorbar\": {\"outlinewidth\": 0, \"ticks\": \"\"}}, \"type\": \"scattergl\"}], \"scattermapbox\": [{\"marker\": {\"colorbar\": {\"outlinewidth\": 0, \"ticks\": \"\"}}, \"type\": \"scattermapbox\"}], \"scatterpolar\": [{\"marker\": {\"colorbar\": {\"outlinewidth\": 0, \"ticks\": \"\"}}, \"type\": \"scatterpolar\"}], \"scatterpolargl\": [{\"marker\": {\"colorbar\": {\"outlinewidth\": 0, \"ticks\": \"\"}}, \"type\": \"scatterpolargl\"}], \"scatterternary\": [{\"marker\": {\"colorbar\": {\"outlinewidth\": 0, \"ticks\": \"\"}}, \"type\": \"scatterternary\"}], \"surface\": [{\"colorbar\": {\"outlinewidth\": 0, \"ticks\": \"\"}, \"colorscale\": [[0.0, \"#0d0887\"], [0.1111111111111111, \"#46039f\"], [0.2222222222222222, \"#7201a8\"], [0.3333333333333333, \"#9c179e\"], [0.4444444444444444, \"#bd3786\"], [0.5555555555555556, \"#d8576b\"], [0.6666666666666666, \"#ed7953\"], [0.7777777777777778, \"#fb9f3a\"], [0.8888888888888888, \"#fdca26\"], [1.0, \"#f0f921\"]], \"type\": \"surface\"}], \"table\": [{\"cells\": {\"fill\": {\"color\": \"#EBF0F8\"}, \"line\": {\"color\": \"white\"}}, \"header\": {\"fill\": {\"color\": \"#C8D4E3\"}, \"line\": {\"color\": \"white\"}}, \"type\": \"table\"}]}, \"layout\": {\"annotationdefaults\": {\"arrowcolor\": \"#2a3f5f\", \"arrowhead\": 0, \"arrowwidth\": 1}, \"coloraxis\": {\"colorbar\": {\"outlinewidth\": 0, \"ticks\": \"\"}}, \"colorscale\": {\"diverging\": [[0, \"#8e0152\"], [0.1, \"#c51b7d\"], [0.2, \"#de77ae\"], [0.3, \"#f1b6da\"], [0.4, \"#fde0ef\"], [0.5, \"#f7f7f7\"], [0.6, \"#e6f5d0\"], [0.7, \"#b8e186\"], [0.8, \"#7fbc41\"], [0.9, \"#4d9221\"], [1, \"#276419\"]], \"sequential\": [[0.0, \"#0d0887\"], [0.1111111111111111, \"#46039f\"], [0.2222222222222222, \"#7201a8\"], [0.3333333333333333, \"#9c179e\"], [0.4444444444444444, \"#bd3786\"], [0.5555555555555556, \"#d8576b\"], [0.6666666666666666, \"#ed7953\"], [0.7777777777777778, \"#fb9f3a\"], [0.8888888888888888, \"#fdca26\"], [1.0, \"#f0f921\"]], \"sequentialminus\": [[0.0, \"#0d0887\"], [0.1111111111111111, \"#46039f\"], [0.2222222222222222, \"#7201a8\"], [0.3333333333333333, \"#9c179e\"], [0.4444444444444444, \"#bd3786\"], [0.5555555555555556, \"#d8576b\"], [0.6666666666666666, \"#ed7953\"], [0.7777777777777778, \"#fb9f3a\"], [0.8888888888888888, \"#fdca26\"], [1.0, \"#f0f921\"]]}, \"colorway\": [\"#636efa\", \"#EF553B\", \"#00cc96\", \"#ab63fa\", \"#FFA15A\", \"#19d3f3\", \"#FF6692\", \"#B6E880\", \"#FF97FF\", \"#FECB52\"], \"font\": {\"color\": \"#2a3f5f\"}, \"geo\": {\"bgcolor\": \"white\", \"lakecolor\": \"white\", \"landcolor\": \"white\", \"showlakes\": true, \"showland\": true, \"subunitcolor\": \"#C8D4E3\"}, \"hoverlabel\": {\"align\": \"left\"}, \"hovermode\": \"closest\", \"mapbox\": {\"style\": \"light\"}, \"paper_bgcolor\": \"white\", \"plot_bgcolor\": \"white\", \"polar\": {\"angularaxis\": {\"gridcolor\": \"#EBF0F8\", \"linecolor\": \"#EBF0F8\", \"ticks\": \"\"}, \"bgcolor\": \"white\", \"radialaxis\": {\"gridcolor\": \"#EBF0F8\", \"linecolor\": \"#EBF0F8\", \"ticks\": \"\"}}, \"scene\": {\"xaxis\": {\"backgroundcolor\": \"white\", \"gridcolor\": \"#DFE8F3\", \"gridwidth\": 2, \"linecolor\": \"#EBF0F8\", \"showbackground\": true, \"ticks\": \"\", \"zerolinecolor\": \"#EBF0F8\"}, \"yaxis\": {\"backgroundcolor\": \"white\", \"gridcolor\": \"#DFE8F3\", \"gridwidth\": 2, \"linecolor\": \"#EBF0F8\", \"showbackground\": true, \"ticks\": \"\", \"zerolinecolor\": \"#EBF0F8\"}, \"zaxis\": {\"backgroundcolor\": \"white\", \"gridcolor\": \"#DFE8F3\", \"gridwidth\": 2, \"linecolor\": \"#EBF0F8\", \"showbackground\": true, \"ticks\": \"\", \"zerolinecolor\": \"#EBF0F8\"}}, \"shapedefaults\": {\"line\": {\"color\": \"#2a3f5f\"}}, \"ternary\": {\"aaxis\": {\"gridcolor\": \"#DFE8F3\", \"linecolor\": \"#A2B1C6\", \"ticks\": \"\"}, \"baxis\": {\"gridcolor\": \"#DFE8F3\", \"linecolor\": \"#A2B1C6\", \"ticks\": \"\"}, \"bgcolor\": \"white\", \"caxis\": {\"gridcolor\": \"#DFE8F3\", \"linecolor\": \"#A2B1C6\", \"ticks\": \"\"}}, \"title\": {\"x\": 0.05}, \"xaxis\": {\"automargin\": true, \"gridcolor\": \"#EBF0F8\", \"linecolor\": \"#EBF0F8\", \"ticks\": \"\", \"title\": {\"standoff\": 15}, \"zerolinecolor\": \"#EBF0F8\", \"zerolinewidth\": 2}, \"yaxis\": {\"automargin\": true, \"gridcolor\": \"#EBF0F8\", \"linecolor\": \"#EBF0F8\", \"ticks\": \"\", \"title\": {\"standoff\": 15}, \"zerolinecolor\": \"#EBF0F8\", \"zerolinewidth\": 2}}}, \"xaxis\": {\"anchor\": \"y\", \"domain\": [0.0, 1.0], \"title\": {\"text\": \"DHB\"}}, \"yaxis\": {\"anchor\": \"x\", \"domain\": [0.0, 1.0], \"title\": {\"text\": \"cases\"}}},\n",
       "                        {\"responsive\": true}\n",
       "                    ).then(function(){\n",
       "                            \n",
       "var gd = document.getElementById('5ed05501-9bec-4715-8e88-5186a085fcee');\n",
       "var x = new MutationObserver(function (mutations, observer) {{\n",
       "        var display = window.getComputedStyle(gd).display;\n",
       "        if (!display || display === 'none') {{\n",
       "            console.log([gd, 'removed!']);\n",
       "            Plotly.purge(gd);\n",
       "            observer.disconnect();\n",
       "        }}\n",
       "}});\n",
       "\n",
       "// Listen for the removal of the full notebook cells\n",
       "var notebookContainer = gd.closest('#notebook-container');\n",
       "if (notebookContainer) {{\n",
       "    x.observe(notebookContainer, {childList: true});\n",
       "}}\n",
       "\n",
       "// Listen for the clearing of the current output cell\n",
       "var outputEl = gd.closest('.output');\n",
       "if (outputEl) {{\n",
       "    x.observe(outputEl, {childList: true});\n",
       "}}\n",
       "\n",
       "                        })\n",
       "                };\n",
       "                });\n",
       "            </script>\n",
       "        </div>"
      ]
     },
     "metadata": {},
     "output_type": "display_data"
    }
   ],
   "source": [
    "px.bar(totals_df, color='Report Date', y='cases', x='DHB', color_continuous_scale = px.colors.sequential.algae)"
   ]
  },
  {
   "cell_type": "code",
   "execution_count": 12,
   "metadata": {},
   "outputs": [],
   "source": [
    "tdf = cdf.unstack('DHB').fillna(0).cumsum().stack('DHB')\n",
    "tdf['total'] = tdf.sum(1)\n",
    "\n",
    "\n"
   ]
  },
  {
   "cell_type": "code",
   "execution_count": 19,
   "metadata": {},
   "outputs": [],
   "source": [
    "xdf = cdf.unstack('DHB').fillna(0).cumsum()\n",
    "xdf = xdf.stack(['DHB', 'type'])\n",
    "xdf = xdf[xdf>0].unstack('type')\n",
    "cum_df = xdf.assign(total=xdf.sum(1))"
   ]
  },
  {
   "cell_type": "code",
   "execution_count": 20,
   "metadata": {},
   "outputs": [],
   "source": []
  },
  {
   "cell_type": "code",
   "execution_count": 21,
   "metadata": {},
   "outputs": [],
   "source": []
  },
  {
   "cell_type": "code",
   "execution_count": 35,
   "metadata": {},
   "outputs": [],
   "source": [
    "xdf = pd.concat([cum_df.loc['2020-03-26',['confirmed', 'probable']], cdf.loc['2020-03-27':]]).reset_index('DHB')\n",
    "xdf['report date']=xdf.index.strftime('%B %d')\n",
    "xdf.loc['2020-03-26', 'report date']='pre-lockdown'"
   ]
  },
  {
   "cell_type": "code",
   "execution_count": 38,
   "metadata": {},
   "outputs": [
    {
     "data": {
      "text/html": [
       "<div>\n",
       "        \n",
       "        \n",
       "            <div id=\"b6a219c6-f4a2-4f0f-a75c-774e0d7afca3\" class=\"plotly-graph-div\" style=\"height:525px; width:100%;\"></div>\n",
       "            <script type=\"text/javascript\">\n",
       "                require([\"plotly\"], function(Plotly) {\n",
       "                    window.PLOTLYENV=window.PLOTLYENV || {};\n",
       "                    \n",
       "                if (document.getElementById(\"b6a219c6-f4a2-4f0f-a75c-774e0d7afca3\")) {\n",
       "                    Plotly.newPlot(\n",
       "                        'b6a219c6-f4a2-4f0f-a75c-774e0d7afca3',\n",
       "                        [{\"alignmentgroup\": \"True\", \"hoverlabel\": {\"namelength\": 0}, \"hovertemplate\": \"report date=pre-lockdown<br>confirmed=%{x}<br>DHB=%{y}\", \"legendgroup\": \"pre-lockdown\", \"marker\": {\"color\": \"#636efa\"}, \"name\": \"pre-lockdown\", \"offsetgroup\": \"pre-lockdown\", \"orientation\": \"h\", \"showlegend\": true, \"textposition\": \"auto\", \"type\": \"bar\", \"x\": [55.0, 6.0, 34.0, 37.0, 29.0, 10.0, 9.0, 8.0, 7.0, 17.0, 6.0, 2.0, 37.0, 1.0, 7.0, 47.0, 5.0, 43.0, 3.0], \"xaxis\": \"x\", \"y\": [\"Auckland\", \"Bay of Plenty\", \"Canterbury\", \"Capital and Coast\", \"Counties Manukau\", \"Hawke's Bay\", \"Hutt Valley\", \"Lakes\", \"MidCentral\", \"Nelson Marlborough\", \"Northland\", \"South Canterbury\", \"Southern\", \"Tairawhiti\", \"Taranaki\", \"Waikato\", \"Wairarapa\", \"Waitemata\", \"West Coast\"], \"yaxis\": \"y\"}, {\"alignmentgroup\": \"True\", \"hoverlabel\": {\"namelength\": 0}, \"hovertemplate\": \"report date=pre-lockdown<br>probable=%{x}<br>DHB=%{y}\", \"legendgroup\": \"pre-lockdown\", \"marker\": {\"color\": \"#636efa\", \"opacity\": 0.4}, \"name\": \"pre-lockdown\", \"offsetgroup\": \"pre-lockdown\", \"orientation\": \"h\", \"showlegend\": false, \"textposition\": \"auto\", \"type\": \"bar\", \"x\": [4.0, 3.0, 5.0, 5.0, 1.0, null, 1.0, null, 1.0, 1.0, 1.0, null, 2.0, null, 1.0, 2.0, null, 6.0, null], \"xaxis\": \"x\", \"y\": [\"Auckland\", \"Bay of Plenty\", \"Canterbury\", \"Capital and Coast\", \"Counties Manukau\", \"Hawke's Bay\", \"Hutt Valley\", \"Lakes\", \"MidCentral\", \"Nelson Marlborough\", \"Northland\", \"South Canterbury\", \"Southern\", \"Tairawhiti\", \"Taranaki\", \"Waikato\", \"Wairarapa\", \"Waitemata\", \"West Coast\"], \"yaxis\": \"y\"}, {\"alignmentgroup\": \"True\", \"hoverlabel\": {\"namelength\": 0}, \"hovertemplate\": \"report date=March 27<br>confirmed=%{x}<br>DHB=%{y}\", \"legendgroup\": \"March 27\", \"marker\": {\"color\": \"#EF553B\"}, \"name\": \"March 27\", \"offsetgroup\": \"March 27\", \"orientation\": \"h\", \"showlegend\": true, \"textposition\": \"auto\", \"type\": \"bar\", \"x\": [7.0, 3.0, 3.0, 3.0, 4.0, 1.0, 3.0, 2.0, 4.0, 19.0, 4.0, 11.0, 2.0, 3.0], \"xaxis\": \"x\", \"y\": [\"Auckland\", \"Bay of Plenty\", \"Canterbury\", \"Capital and Coast\", \"Counties Manukau\", \"Hawke's Bay\", \"Hutt Valley\", \"MidCentral\", \"South Canterbury\", \"Southern\", \"Taranaki\", \"Waikato\", \"Waitemata\", \"Whanganui\"], \"yaxis\": \"y\"}, {\"alignmentgroup\": \"True\", \"hoverlabel\": {\"namelength\": 0}, \"hovertemplate\": \"report date=March 27<br>probable=%{x}<br>DHB=%{y}\", \"legendgroup\": \"March 27\", \"marker\": {\"color\": \"#EF553B\", \"opacity\": 0.4}, \"name\": \"March 27\", \"offsetgroup\": \"March 27\", \"orientation\": \"h\", \"showlegend\": false, \"textposition\": \"auto\", \"type\": \"bar\", \"x\": [1.0, null, 3.0, null, null, null, null, null, null, null, null, null, 1.0, null], \"xaxis\": \"x\", \"y\": [\"Auckland\", \"Bay of Plenty\", \"Canterbury\", \"Capital and Coast\", \"Counties Manukau\", \"Hawke's Bay\", \"Hutt Valley\", \"MidCentral\", \"South Canterbury\", \"Southern\", \"Taranaki\", \"Waikato\", \"Waitemata\", \"Whanganui\"], \"yaxis\": \"y\"}, {\"alignmentgroup\": \"True\", \"hoverlabel\": {\"namelength\": 0}, \"hovertemplate\": \"report date=March 28<br>confirmed=%{x}<br>DHB=%{y}\", \"legendgroup\": \"March 28\", \"marker\": {\"color\": \"#00cc96\"}, \"name\": \"March 28\", \"offsetgroup\": \"March 28\", \"orientation\": \"h\", \"showlegend\": true, \"textposition\": \"auto\", \"type\": \"bar\", \"x\": [14.0, 2.0, 4.0, 5.0, 5.0, 1.0, 1.0, 1.0, 1.0, 13.0, 3.0, 13.0], \"xaxis\": \"x\", \"y\": [\"Auckland\", \"Bay of Plenty\", \"Canterbury\", \"Capital and Coast\", \"Counties Manukau\", \"Hawke's Bay\", \"Lakes\", \"Nelson Marlborough\", \"South Canterbury\", \"Southern\", \"Waikato\", \"Waitemata\"], \"yaxis\": \"y\"}, {\"alignmentgroup\": \"True\", \"hoverlabel\": {\"namelength\": 0}, \"hovertemplate\": \"report date=March 28<br>probable=%{x}<br>DHB=%{y}\", \"legendgroup\": \"March 28\", \"marker\": {\"color\": \"#00cc96\", \"opacity\": 0.4}, \"name\": \"March 28\", \"offsetgroup\": \"March 28\", \"orientation\": \"h\", \"showlegend\": false, \"textposition\": \"auto\", \"type\": \"bar\", \"x\": [1.0, null, 4.0, null, 1.0, null, null, null, null, null, null, null], \"xaxis\": \"x\", \"y\": [\"Auckland\", \"Bay of Plenty\", \"Canterbury\", \"Capital and Coast\", \"Counties Manukau\", \"Hawke's Bay\", \"Lakes\", \"Nelson Marlborough\", \"South Canterbury\", \"Southern\", \"Waikato\", \"Waitemata\"], \"yaxis\": \"y\"}, {\"alignmentgroup\": \"True\", \"hoverlabel\": {\"namelength\": 0}, \"hovertemplate\": \"report date=March 29<br>confirmed=%{x}<br>DHB=%{y}\", \"legendgroup\": \"March 29\", \"marker\": {\"color\": \"#ab63fa\"}, \"name\": \"March 29\", \"offsetgroup\": \"March 29\", \"orientation\": \"h\", \"showlegend\": true, \"textposition\": \"auto\", \"type\": \"bar\", \"x\": [9.0, 2.0, 7.0, 3.0, 2.0, 1.0, 2.0, 1.0, 12.0, 16.0, 12.0], \"xaxis\": \"x\", \"y\": [\"Auckland\", \"Canterbury\", \"Capital and Coast\", \"Counties Manukau\", \"MidCentral\", \"Nelson Marlborough\", \"Northland\", \"South Canterbury\", \"Southern\", \"Waikato\", \"Waitemata\"], \"yaxis\": \"y\"}, {\"alignmentgroup\": \"True\", \"hoverlabel\": {\"namelength\": 0}, \"hovertemplate\": \"report date=March 29<br>probable=%{x}<br>DHB=%{y}\", \"legendgroup\": \"March 29\", \"marker\": {\"color\": \"#ab63fa\", \"opacity\": 0.4}, \"name\": \"March 29\", \"offsetgroup\": \"March 29\", \"orientation\": \"h\", \"showlegend\": false, \"textposition\": \"auto\", \"type\": \"bar\", \"x\": [1.0, 1.0, 1.0, null, 1.0, null, null, 1.0, null, null, 3.0], \"xaxis\": \"x\", \"y\": [\"Auckland\", \"Canterbury\", \"Capital and Coast\", \"Counties Manukau\", \"MidCentral\", \"Nelson Marlborough\", \"Northland\", \"South Canterbury\", \"Southern\", \"Waikato\", \"Waitemata\"], \"yaxis\": \"y\"}, {\"alignmentgroup\": \"True\", \"hoverlabel\": {\"namelength\": 0}, \"hovertemplate\": \"report date=March 30<br>confirmed=%{x}<br>DHB=%{y}\", \"legendgroup\": \"March 30\", \"marker\": {\"color\": \"#FFA15A\"}, \"name\": \"March 30\", \"offsetgroup\": \"March 30\", \"orientation\": \"h\", \"showlegend\": true, \"textposition\": \"auto\", \"type\": \"bar\", \"x\": [4.0, 4.0, 1.0, null, 6.0, 3.0, 2.0, 1.0, 1.0, 1.0, 9.0, 1.0, 4.0, 5.0], \"xaxis\": \"x\", \"y\": [\"Auckland\", \"Bay of Plenty\", \"Canterbury\", \"Capital and Coast\", \"Counties Manukau\", \"Hawke's Bay\", \"Lakes\", \"Nelson Marlborough\", \"Northland\", \"South Canterbury\", \"Southern\", \"Taranaki\", \"Waikato\", \"Waitemata\"], \"yaxis\": \"y\"}, {\"alignmentgroup\": \"True\", \"hoverlabel\": {\"namelength\": 0}, \"hovertemplate\": \"report date=March 30<br>probable=%{x}<br>DHB=%{y}\", \"legendgroup\": \"March 30\", \"marker\": {\"color\": \"#FFA15A\", \"opacity\": 0.4}, \"name\": \"March 30\", \"offsetgroup\": \"March 30\", \"orientation\": \"h\", \"showlegend\": false, \"textposition\": \"auto\", \"type\": \"bar\", \"x\": [1.0, null, null, 1.0, 3.0, null, null, 1.0, null, null, null, null, 1.0, 4.0], \"xaxis\": \"x\", \"y\": [\"Auckland\", \"Bay of Plenty\", \"Canterbury\", \"Capital and Coast\", \"Counties Manukau\", \"Hawke's Bay\", \"Lakes\", \"Nelson Marlborough\", \"Northland\", \"South Canterbury\", \"Southern\", \"Taranaki\", \"Waikato\", \"Waitemata\"], \"yaxis\": \"y\"}, {\"alignmentgroup\": \"True\", \"hoverlabel\": {\"namelength\": 0}, \"hovertemplate\": \"report date=March 31<br>confirmed=%{x}<br>DHB=%{y}\", \"legendgroup\": \"March 31\", \"marker\": {\"color\": \"#19d3f3\"}, \"name\": \"March 31\", \"offsetgroup\": \"March 31\", \"orientation\": \"h\", \"showlegend\": true, \"textposition\": \"auto\", \"type\": \"bar\", \"x\": [4.0, 2.0, 2.0, 2.0, 5.0, 1.0, 4.0, 2.0, 1.0, 7.0, 23.0, 1.0, 9.0], \"xaxis\": \"x\", \"y\": [\"Auckland\", \"Bay of Plenty\", \"Canterbury\", \"Capital and Coast\", \"Counties Manukau\", \"Hutt Valley\", \"MidCentral\", \"Nelson Marlborough\", \"Northland\", \"Southern\", \"Waikato\", \"Wairarapa\", \"Waitemata\"], \"yaxis\": \"y\"}, {\"alignmentgroup\": \"True\", \"hoverlabel\": {\"namelength\": 0}, \"hovertemplate\": \"report date=March 31<br>probable=%{x}<br>DHB=%{y}\", \"legendgroup\": \"March 31\", \"marker\": {\"color\": \"#19d3f3\", \"opacity\": 0.4}, \"name\": \"March 31\", \"offsetgroup\": \"March 31\", \"orientation\": \"h\", \"showlegend\": false, \"textposition\": \"auto\", \"type\": \"bar\", \"x\": [4.0, null, 1.0, null, 2.0, null, null, null, null, 2.0, 1.0, null, 3.0], \"xaxis\": \"x\", \"y\": [\"Auckland\", \"Bay of Plenty\", \"Canterbury\", \"Capital and Coast\", \"Counties Manukau\", \"Hutt Valley\", \"MidCentral\", \"Nelson Marlborough\", \"Northland\", \"Southern\", \"Waikato\", \"Wairarapa\", \"Waitemata\"], \"yaxis\": \"y\"}, {\"alignmentgroup\": \"True\", \"hoverlabel\": {\"namelength\": 0}, \"hovertemplate\": \"report date=April 01<br>confirmed=%{x}<br>DHB=%{y}\", \"legendgroup\": \"April 01\", \"marker\": {\"color\": \"#FF6692\"}, \"name\": \"April 01\", \"offsetgroup\": \"April 01\", \"orientation\": \"h\", \"showlegend\": true, \"textposition\": \"auto\", \"type\": \"bar\", \"x\": [7.0, 5.0, null, 1.0, 3.0, 4.0, 2.0, 3.0, 1.0, 15.0, 1.0, 9.0, 7.0, 1.0, 2.0], \"xaxis\": \"x\", \"y\": [\"Auckland\", \"Bay of Plenty\", \"Canterbury\", \"Capital and Coast\", \"Counties Manukau\", \"Hawke's Bay\", \"MidCentral\", \"Nelson Marlborough\", \"Northland\", \"Southern\", \"Taranaki\", \"Waikato\", \"Waitemata\", \"West Coast\", \"Whanganui\"], \"yaxis\": \"y\"}, {\"alignmentgroup\": \"True\", \"hoverlabel\": {\"namelength\": 0}, \"hovertemplate\": \"report date=April 01<br>probable=%{x}<br>DHB=%{y}\", \"legendgroup\": \"April 01\", \"marker\": {\"color\": \"#FF6692\", \"opacity\": 0.4}, \"name\": \"April 01\", \"offsetgroup\": \"April 01\", \"orientation\": \"h\", \"showlegend\": false, \"textposition\": \"auto\", \"type\": \"bar\", \"x\": [2.0, null, 2.0, 2.0, null, null, null, 1.0, null, 1.0, null, 1.0, 6.0, null, null], \"xaxis\": \"x\", \"y\": [\"Auckland\", \"Bay of Plenty\", \"Canterbury\", \"Capital and Coast\", \"Counties Manukau\", \"Hawke's Bay\", \"MidCentral\", \"Nelson Marlborough\", \"Northland\", \"Southern\", \"Taranaki\", \"Waikato\", \"Waitemata\", \"West Coast\", \"Whanganui\"], \"yaxis\": \"y\"}, {\"alignmentgroup\": \"True\", \"hoverlabel\": {\"namelength\": 0}, \"hovertemplate\": \"report date=April 02<br>confirmed=%{x}<br>DHB=%{y}\", \"legendgroup\": \"April 02\", \"marker\": {\"color\": \"#B6E880\"}, \"name\": \"April 02\", \"offsetgroup\": \"April 02\", \"orientation\": \"h\", \"showlegend\": true, \"textposition\": \"auto\", \"type\": \"bar\", \"x\": [5.0, 3.0, 3.0, 2.0, 4.0, 2.0, 4.0, 1.0, 3.0, 1.0, 17.0, 7.0, null, 4.0, 2.0], \"xaxis\": \"x\", \"y\": [\"Auckland\", \"Bay of Plenty\", \"Canterbury\", \"Capital and Coast\", \"Counties Manukau\", \"Hawke's Bay\", \"Hutt Valley\", \"MidCentral\", \"Nelson Marlborough\", \"Northland\", \"Southern\", \"Waikato\", \"Wairarapa\", \"Waitemata\", \"Whanganui\"], \"yaxis\": \"y\"}, {\"alignmentgroup\": \"True\", \"hoverlabel\": {\"namelength\": 0}, \"hovertemplate\": \"report date=April 02<br>probable=%{x}<br>DHB=%{y}\", \"legendgroup\": \"April 02\", \"marker\": {\"color\": \"#B6E880\", \"opacity\": 0.4}, \"name\": \"April 02\", \"offsetgroup\": \"April 02\", \"orientation\": \"h\", \"showlegend\": false, \"textposition\": \"auto\", \"type\": \"bar\", \"x\": [null, 1.0, 5.0, 2.0, 2.0, 3.0, null, null, null, null, 2.0, 1.0, 2.0, 7.0, null], \"xaxis\": \"x\", \"y\": [\"Auckland\", \"Bay of Plenty\", \"Canterbury\", \"Capital and Coast\", \"Counties Manukau\", \"Hawke's Bay\", \"Hutt Valley\", \"MidCentral\", \"Nelson Marlborough\", \"Northland\", \"Southern\", \"Waikato\", \"Wairarapa\", \"Waitemata\", \"Whanganui\"], \"yaxis\": \"y\"}, {\"alignmentgroup\": \"True\", \"hoverlabel\": {\"namelength\": 0}, \"hovertemplate\": \"report date=April 03<br>confirmed=%{x}<br>DHB=%{y}\", \"legendgroup\": \"April 03\", \"marker\": {\"color\": \"#FF97FF\"}, \"name\": \"April 03\", \"offsetgroup\": \"April 03\", \"orientation\": \"h\", \"showlegend\": true, \"textposition\": \"auto\", \"type\": \"bar\", \"x\": [3.0, null, 5.0, 3.0, 5.0, 4.0, null, 1.0, 1.0, 13.0, 10.0, 6.0], \"xaxis\": \"x\", \"y\": [\"Auckland\", \"Bay of Plenty\", \"Canterbury\", \"Capital and Coast\", \"Counties Manukau\", \"Hawke's Bay\", \"Hutt Valley\", \"Nelson Marlborough\", \"Northland\", \"Southern\", \"Waikato\", \"Waitemata\"], \"yaxis\": \"y\"}, {\"alignmentgroup\": \"True\", \"hoverlabel\": {\"namelength\": 0}, \"hovertemplate\": \"report date=April 03<br>probable=%{x}<br>DHB=%{y}\", \"legendgroup\": \"April 03\", \"marker\": {\"color\": \"#FF97FF\", \"opacity\": 0.4}, \"name\": \"April 03\", \"offsetgroup\": \"April 03\", \"orientation\": \"h\", \"showlegend\": false, \"textposition\": \"auto\", \"type\": \"bar\", \"x\": [3.0, 1.0, 6.0, 3.0, null, 1.0, 1.0, 1.0, null, 2.0, 3.0, 2.0], \"xaxis\": \"x\", \"y\": [\"Auckland\", \"Bay of Plenty\", \"Canterbury\", \"Capital and Coast\", \"Counties Manukau\", \"Hawke's Bay\", \"Hutt Valley\", \"Nelson Marlborough\", \"Northland\", \"Southern\", \"Waikato\", \"Waitemata\"], \"yaxis\": \"y\"}, {\"alignmentgroup\": \"True\", \"hoverlabel\": {\"namelength\": 0}, \"hovertemplate\": \"report date=April 04<br>confirmed=%{x}<br>DHB=%{y}\", \"legendgroup\": \"April 04\", \"marker\": {\"color\": \"#FECB52\"}, \"name\": \"April 04\", \"offsetgroup\": \"April 04\", \"orientation\": \"h\", \"showlegend\": true, \"textposition\": \"auto\", \"type\": \"bar\", \"x\": [7.0, null, 8.0, 3.0, 2.0, 1.0, 2.0, 3.0, 1.0, 9.0, 4.0, 4.0], \"xaxis\": \"x\", \"y\": [\"Auckland\", \"Bay of Plenty\", \"Canterbury\", \"Capital and Coast\", \"Counties Manukau\", \"Lakes\", \"MidCentral\", \"Nelson Marlborough\", \"Northland\", \"Southern\", \"Waikato\", \"Waitemata\"], \"yaxis\": \"y\"}, {\"alignmentgroup\": \"True\", \"hoverlabel\": {\"namelength\": 0}, \"hovertemplate\": \"report date=April 04<br>probable=%{x}<br>DHB=%{y}\", \"legendgroup\": \"April 04\", \"marker\": {\"color\": \"#FECB52\", \"opacity\": 0.4}, \"name\": \"April 04\", \"offsetgroup\": \"April 04\", \"orientation\": \"h\", \"showlegend\": false, \"textposition\": \"auto\", \"type\": \"bar\", \"x\": [4.0, 1.0, 9.0, 3.0, 1.0, null, 1.0, 2.0, null, 1.0, 2.0, 10.0], \"xaxis\": \"x\", \"y\": [\"Auckland\", \"Bay of Plenty\", \"Canterbury\", \"Capital and Coast\", \"Counties Manukau\", \"Lakes\", \"MidCentral\", \"Nelson Marlborough\", \"Northland\", \"Southern\", \"Waikato\", \"Waitemata\"], \"yaxis\": \"y\"}, {\"alignmentgroup\": \"True\", \"hoverlabel\": {\"namelength\": 0}, \"hovertemplate\": \"report date=April 05<br>confirmed=%{x}<br>DHB=%{y}\", \"legendgroup\": \"April 05\", \"marker\": {\"color\": \"#636efa\"}, \"name\": \"April 05\", \"offsetgroup\": \"April 05\", \"orientation\": \"h\", \"showlegend\": true, \"textposition\": \"auto\", \"type\": \"bar\", \"x\": [5.0, null, 2.0, 5.0, 3.0, null, 2.0, 1.0, 2.0, 12.0, 3.0, 4.0], \"xaxis\": \"x\", \"y\": [\"Auckland\", \"Bay of Plenty\", \"Canterbury\", \"Counties Manukau\", \"Hawke's Bay\", \"Hutt Valley\", \"MidCentral\", \"Nelson Marlborough\", \"Northland\", \"Southern\", \"Waikato\", \"Waitemata\"], \"yaxis\": \"y\"}, {\"alignmentgroup\": \"True\", \"hoverlabel\": {\"namelength\": 0}, \"hovertemplate\": \"report date=April 05<br>probable=%{x}<br>DHB=%{y}\", \"legendgroup\": \"April 05\", \"marker\": {\"color\": \"#636efa\", \"opacity\": 0.4}, \"name\": \"April 05\", \"offsetgroup\": \"April 05\", \"orientation\": \"h\", \"showlegend\": false, \"textposition\": \"auto\", \"type\": \"bar\", \"x\": [5.0, 1.0, 2.0, 3.0, 1.0, 1.0, 1.0, 4.0, null, 5.0, 1.0, 6.0], \"xaxis\": \"x\", \"y\": [\"Auckland\", \"Bay of Plenty\", \"Canterbury\", \"Counties Manukau\", \"Hawke's Bay\", \"Hutt Valley\", \"MidCentral\", \"Nelson Marlborough\", \"Northland\", \"Southern\", \"Waikato\", \"Waitemata\"], \"yaxis\": \"y\"}, {\"alignmentgroup\": \"True\", \"hoverlabel\": {\"namelength\": 0}, \"hovertemplate\": \"report date=April 06<br>confirmed=%{x}<br>DHB=%{y}\", \"legendgroup\": \"April 06\", \"marker\": {\"color\": \"#EF553B\"}, \"name\": \"April 06\", \"offsetgroup\": \"April 06\", \"orientation\": \"h\", \"showlegend\": true, \"textposition\": \"auto\", \"type\": \"bar\", \"x\": [3.0, 2.0, 4.0, 1.0, 3.0, 1.0, 2.0, null, 1.0, 9.0, 2.0, null], \"xaxis\": \"x\", \"y\": [\"Auckland\", \"Bay of Plenty\", \"Canterbury\", \"Capital and Coast\", \"Counties Manukau\", \"Hawke's Bay\", \"MidCentral\", \"Nelson Marlborough\", \"Northland\", \"Southern\", \"Waikato\", \"Waitemata\"], \"yaxis\": \"y\"}, {\"alignmentgroup\": \"True\", \"hoverlabel\": {\"namelength\": 0}, \"hovertemplate\": \"report date=April 06<br>probable=%{x}<br>DHB=%{y}\", \"legendgroup\": \"April 06\", \"marker\": {\"color\": \"#EF553B\", \"opacity\": 0.4}, \"name\": \"April 06\", \"offsetgroup\": \"April 06\", \"orientation\": \"h\", \"showlegend\": false, \"textposition\": \"auto\", \"type\": \"bar\", \"x\": [3.0, 2.0, 4.0, 1.0, 3.0, null, null, 1.0, null, null, 5.0, 1.0], \"xaxis\": \"x\", \"y\": [\"Auckland\", \"Bay of Plenty\", \"Canterbury\", \"Capital and Coast\", \"Counties Manukau\", \"Hawke's Bay\", \"MidCentral\", \"Nelson Marlborough\", \"Northland\", \"Southern\", \"Waikato\", \"Waitemata\"], \"yaxis\": \"y\"}, {\"alignmentgroup\": \"True\", \"hoverlabel\": {\"namelength\": 0}, \"hovertemplate\": \"report date=April 07<br>confirmed=%{x}<br>DHB=%{y}\", \"legendgroup\": \"April 07\", \"marker\": {\"color\": \"#00cc96\"}, \"name\": \"April 07\", \"offsetgroup\": \"April 07\", \"orientation\": \"h\", \"showlegend\": true, \"textposition\": \"auto\", \"type\": \"bar\", \"x\": [2.0, 1.0, 1.0, 1.0, 1.0, null, null, 2.0, 5.0, 2.0, 6.0], \"xaxis\": \"x\", \"y\": [\"Auckland\", \"Bay of Plenty\", \"Canterbury\", \"Counties Manukau\", \"Hawke's Bay\", \"Hutt Valley\", \"Nelson Marlborough\", \"Northland\", \"Southern\", \"Waikato\", \"Waitemata\"], \"yaxis\": \"y\"}, {\"alignmentgroup\": \"True\", \"hoverlabel\": {\"namelength\": 0}, \"hovertemplate\": \"report date=April 07<br>probable=%{x}<br>DHB=%{y}\", \"legendgroup\": \"April 07\", \"marker\": {\"color\": \"#00cc96\", \"opacity\": 0.4}, \"name\": \"April 07\", \"offsetgroup\": \"April 07\", \"orientation\": \"h\", \"showlegend\": false, \"textposition\": \"auto\", \"type\": \"bar\", \"x\": [1.0, 1.0, 3.0, 1.0, null, 1.0, 2.0, null, 3.0, 1.0, 5.0], \"xaxis\": \"x\", \"y\": [\"Auckland\", \"Bay of Plenty\", \"Canterbury\", \"Counties Manukau\", \"Hawke's Bay\", \"Hutt Valley\", \"Nelson Marlborough\", \"Northland\", \"Southern\", \"Waikato\", \"Waitemata\"], \"yaxis\": \"y\"}],\n",
       "                        {\"barmode\": \"relative\", \"legend\": {\"title\": {\"text\": \"report date\"}, \"tracegroupgap\": 0}, \"margin\": {\"t\": 60}, \"template\": {\"data\": {\"bar\": [{\"error_x\": {\"color\": \"#2a3f5f\"}, \"error_y\": {\"color\": \"#2a3f5f\"}, \"marker\": {\"line\": {\"color\": \"white\", \"width\": 0.5}}, \"type\": \"bar\"}], \"barpolar\": [{\"marker\": {\"line\": {\"color\": \"white\", \"width\": 0.5}}, \"type\": \"barpolar\"}], \"carpet\": [{\"aaxis\": {\"endlinecolor\": \"#2a3f5f\", \"gridcolor\": \"#C8D4E3\", \"linecolor\": \"#C8D4E3\", \"minorgridcolor\": \"#C8D4E3\", \"startlinecolor\": \"#2a3f5f\"}, \"baxis\": {\"endlinecolor\": \"#2a3f5f\", \"gridcolor\": \"#C8D4E3\", \"linecolor\": \"#C8D4E3\", \"minorgridcolor\": \"#C8D4E3\", \"startlinecolor\": \"#2a3f5f\"}, \"type\": \"carpet\"}], \"choropleth\": [{\"colorbar\": {\"outlinewidth\": 0, \"ticks\": \"\"}, \"type\": \"choropleth\"}], \"contour\": [{\"colorbar\": {\"outlinewidth\": 0, \"ticks\": \"\"}, \"colorscale\": [[0.0, \"#0d0887\"], [0.1111111111111111, \"#46039f\"], [0.2222222222222222, \"#7201a8\"], [0.3333333333333333, \"#9c179e\"], [0.4444444444444444, \"#bd3786\"], [0.5555555555555556, \"#d8576b\"], [0.6666666666666666, \"#ed7953\"], [0.7777777777777778, \"#fb9f3a\"], [0.8888888888888888, \"#fdca26\"], [1.0, \"#f0f921\"]], \"type\": \"contour\"}], \"contourcarpet\": [{\"colorbar\": {\"outlinewidth\": 0, \"ticks\": \"\"}, \"type\": \"contourcarpet\"}], \"heatmap\": [{\"colorbar\": {\"outlinewidth\": 0, \"ticks\": \"\"}, \"colorscale\": [[0.0, \"#0d0887\"], [0.1111111111111111, \"#46039f\"], [0.2222222222222222, \"#7201a8\"], [0.3333333333333333, \"#9c179e\"], [0.4444444444444444, \"#bd3786\"], [0.5555555555555556, \"#d8576b\"], [0.6666666666666666, \"#ed7953\"], [0.7777777777777778, \"#fb9f3a\"], [0.8888888888888888, \"#fdca26\"], [1.0, \"#f0f921\"]], \"type\": \"heatmap\"}], \"heatmapgl\": [{\"colorbar\": {\"outlinewidth\": 0, \"ticks\": \"\"}, \"colorscale\": [[0.0, \"#0d0887\"], [0.1111111111111111, \"#46039f\"], [0.2222222222222222, \"#7201a8\"], [0.3333333333333333, \"#9c179e\"], [0.4444444444444444, \"#bd3786\"], [0.5555555555555556, \"#d8576b\"], [0.6666666666666666, \"#ed7953\"], [0.7777777777777778, \"#fb9f3a\"], [0.8888888888888888, \"#fdca26\"], [1.0, \"#f0f921\"]], \"type\": \"heatmapgl\"}], \"histogram\": [{\"marker\": {\"colorbar\": {\"outlinewidth\": 0, \"ticks\": \"\"}}, \"type\": \"histogram\"}], \"histogram2d\": [{\"colorbar\": {\"outlinewidth\": 0, \"ticks\": \"\"}, \"colorscale\": [[0.0, \"#0d0887\"], [0.1111111111111111, \"#46039f\"], [0.2222222222222222, \"#7201a8\"], [0.3333333333333333, \"#9c179e\"], [0.4444444444444444, \"#bd3786\"], [0.5555555555555556, \"#d8576b\"], [0.6666666666666666, \"#ed7953\"], [0.7777777777777778, \"#fb9f3a\"], [0.8888888888888888, \"#fdca26\"], [1.0, \"#f0f921\"]], \"type\": \"histogram2d\"}], \"histogram2dcontour\": [{\"colorbar\": {\"outlinewidth\": 0, \"ticks\": \"\"}, \"colorscale\": [[0.0, \"#0d0887\"], [0.1111111111111111, \"#46039f\"], [0.2222222222222222, \"#7201a8\"], [0.3333333333333333, \"#9c179e\"], [0.4444444444444444, \"#bd3786\"], [0.5555555555555556, \"#d8576b\"], [0.6666666666666666, \"#ed7953\"], [0.7777777777777778, \"#fb9f3a\"], [0.8888888888888888, \"#fdca26\"], [1.0, \"#f0f921\"]], \"type\": \"histogram2dcontour\"}], \"mesh3d\": [{\"colorbar\": {\"outlinewidth\": 0, \"ticks\": \"\"}, \"type\": \"mesh3d\"}], \"parcoords\": [{\"line\": {\"colorbar\": {\"outlinewidth\": 0, \"ticks\": \"\"}}, \"type\": \"parcoords\"}], \"pie\": [{\"automargin\": true, \"type\": \"pie\"}], \"scatter\": [{\"marker\": {\"colorbar\": {\"outlinewidth\": 0, \"ticks\": \"\"}}, \"type\": \"scatter\"}], \"scatter3d\": [{\"line\": {\"colorbar\": {\"outlinewidth\": 0, \"ticks\": \"\"}}, \"marker\": {\"colorbar\": {\"outlinewidth\": 0, \"ticks\": \"\"}}, \"type\": \"scatter3d\"}], \"scattercarpet\": [{\"marker\": {\"colorbar\": {\"outlinewidth\": 0, \"ticks\": \"\"}}, \"type\": \"scattercarpet\"}], \"scattergeo\": [{\"marker\": {\"colorbar\": {\"outlinewidth\": 0, \"ticks\": \"\"}}, \"type\": \"scattergeo\"}], \"scattergl\": [{\"marker\": {\"colorbar\": {\"outlinewidth\": 0, \"ticks\": \"\"}}, \"type\": \"scattergl\"}], \"scattermapbox\": [{\"marker\": {\"colorbar\": {\"outlinewidth\": 0, \"ticks\": \"\"}}, \"type\": \"scattermapbox\"}], \"scatterpolar\": [{\"marker\": {\"colorbar\": {\"outlinewidth\": 0, \"ticks\": \"\"}}, \"type\": \"scatterpolar\"}], \"scatterpolargl\": [{\"marker\": {\"colorbar\": {\"outlinewidth\": 0, \"ticks\": \"\"}}, \"type\": \"scatterpolargl\"}], \"scatterternary\": [{\"marker\": {\"colorbar\": {\"outlinewidth\": 0, \"ticks\": \"\"}}, \"type\": \"scatterternary\"}], \"surface\": [{\"colorbar\": {\"outlinewidth\": 0, \"ticks\": \"\"}, \"colorscale\": [[0.0, \"#0d0887\"], [0.1111111111111111, \"#46039f\"], [0.2222222222222222, \"#7201a8\"], [0.3333333333333333, \"#9c179e\"], [0.4444444444444444, \"#bd3786\"], [0.5555555555555556, \"#d8576b\"], [0.6666666666666666, \"#ed7953\"], [0.7777777777777778, \"#fb9f3a\"], [0.8888888888888888, \"#fdca26\"], [1.0, \"#f0f921\"]], \"type\": \"surface\"}], \"table\": [{\"cells\": {\"fill\": {\"color\": \"#EBF0F8\"}, \"line\": {\"color\": \"white\"}}, \"header\": {\"fill\": {\"color\": \"#C8D4E3\"}, \"line\": {\"color\": \"white\"}}, \"type\": \"table\"}]}, \"layout\": {\"annotationdefaults\": {\"arrowcolor\": \"#2a3f5f\", \"arrowhead\": 0, \"arrowwidth\": 1}, \"coloraxis\": {\"colorbar\": {\"outlinewidth\": 0, \"ticks\": \"\"}}, \"colorscale\": {\"diverging\": [[0, \"#8e0152\"], [0.1, \"#c51b7d\"], [0.2, \"#de77ae\"], [0.3, \"#f1b6da\"], [0.4, \"#fde0ef\"], [0.5, \"#f7f7f7\"], [0.6, \"#e6f5d0\"], [0.7, \"#b8e186\"], [0.8, \"#7fbc41\"], [0.9, \"#4d9221\"], [1, \"#276419\"]], \"sequential\": [[0.0, \"#0d0887\"], [0.1111111111111111, \"#46039f\"], [0.2222222222222222, \"#7201a8\"], [0.3333333333333333, \"#9c179e\"], [0.4444444444444444, \"#bd3786\"], [0.5555555555555556, \"#d8576b\"], [0.6666666666666666, \"#ed7953\"], [0.7777777777777778, \"#fb9f3a\"], [0.8888888888888888, \"#fdca26\"], [1.0, \"#f0f921\"]], \"sequentialminus\": [[0.0, \"#0d0887\"], [0.1111111111111111, \"#46039f\"], [0.2222222222222222, \"#7201a8\"], [0.3333333333333333, \"#9c179e\"], [0.4444444444444444, \"#bd3786\"], [0.5555555555555556, \"#d8576b\"], [0.6666666666666666, \"#ed7953\"], [0.7777777777777778, \"#fb9f3a\"], [0.8888888888888888, \"#fdca26\"], [1.0, \"#f0f921\"]]}, \"colorway\": [\"#636efa\", \"#EF553B\", \"#00cc96\", \"#ab63fa\", \"#FFA15A\", \"#19d3f3\", \"#FF6692\", \"#B6E880\", \"#FF97FF\", \"#FECB52\"], \"font\": {\"color\": \"#2a3f5f\"}, \"geo\": {\"bgcolor\": \"white\", \"lakecolor\": \"white\", \"landcolor\": \"white\", \"showlakes\": true, \"showland\": true, \"subunitcolor\": \"#C8D4E3\"}, \"hoverlabel\": {\"align\": \"left\"}, \"hovermode\": \"closest\", \"mapbox\": {\"style\": \"light\"}, \"paper_bgcolor\": \"white\", \"plot_bgcolor\": \"white\", \"polar\": {\"angularaxis\": {\"gridcolor\": \"#EBF0F8\", \"linecolor\": \"#EBF0F8\", \"ticks\": \"\"}, \"bgcolor\": \"white\", \"radialaxis\": {\"gridcolor\": \"#EBF0F8\", \"linecolor\": \"#EBF0F8\", \"ticks\": \"\"}}, \"scene\": {\"xaxis\": {\"backgroundcolor\": \"white\", \"gridcolor\": \"#DFE8F3\", \"gridwidth\": 2, \"linecolor\": \"#EBF0F8\", \"showbackground\": true, \"ticks\": \"\", \"zerolinecolor\": \"#EBF0F8\"}, \"yaxis\": {\"backgroundcolor\": \"white\", \"gridcolor\": \"#DFE8F3\", \"gridwidth\": 2, \"linecolor\": \"#EBF0F8\", \"showbackground\": true, \"ticks\": \"\", \"zerolinecolor\": \"#EBF0F8\"}, \"zaxis\": {\"backgroundcolor\": \"white\", \"gridcolor\": \"#DFE8F3\", \"gridwidth\": 2, \"linecolor\": \"#EBF0F8\", \"showbackground\": true, \"ticks\": \"\", \"zerolinecolor\": \"#EBF0F8\"}}, \"shapedefaults\": {\"line\": {\"color\": \"#2a3f5f\"}}, \"ternary\": {\"aaxis\": {\"gridcolor\": \"#DFE8F3\", \"linecolor\": \"#A2B1C6\", \"ticks\": \"\"}, \"baxis\": {\"gridcolor\": \"#DFE8F3\", \"linecolor\": \"#A2B1C6\", \"ticks\": \"\"}, \"bgcolor\": \"white\", \"caxis\": {\"gridcolor\": \"#DFE8F3\", \"linecolor\": \"#A2B1C6\", \"ticks\": \"\"}}, \"title\": {\"x\": 0.05}, \"xaxis\": {\"automargin\": true, \"gridcolor\": \"#EBF0F8\", \"linecolor\": \"#EBF0F8\", \"ticks\": \"\", \"title\": {\"standoff\": 15}, \"zerolinecolor\": \"#EBF0F8\", \"zerolinewidth\": 2}, \"yaxis\": {\"automargin\": true, \"gridcolor\": \"#EBF0F8\", \"linecolor\": \"#EBF0F8\", \"ticks\": \"\", \"title\": {\"standoff\": 15}, \"zerolinecolor\": \"#EBF0F8\", \"zerolinewidth\": 2}}}, \"title\": {\"text\": \"Confirmed and probably cases for nz by DHB and date<br>Data from latest NZ case details\"}, \"xaxis\": {\"anchor\": \"y\", \"domain\": [0.0, 1.0], \"title\": {\"text\": \"cases\"}}, \"yaxis\": {\"anchor\": \"x\", \"categoryarray\": [\"Southern\", \"South Canterbury\", \"Canterbury\", \"West Coast\", \"Nelson Marlborough\", \"Wairarapa\", \"Capital and Coast\", \"Hutt Valley\", \"MidCentral\", \"Whanganui\", \"Hawke's Bay\", \"Taranaki\", \"Lakes\", \"Tairawhiti\", \"Bay of Plenty\", \"Waikato\", \"Counties Manukau\", \"Auckland\", \"Waitemata\", \"Northland\"], \"categoryorder\": \"array\", \"domain\": [0.0, 1.0], \"title\": {\"text\": \"DHB\"}}},\n",
       "                        {\"responsive\": true}\n",
       "                    ).then(function(){\n",
       "                            \n",
       "var gd = document.getElementById('b6a219c6-f4a2-4f0f-a75c-774e0d7afca3');\n",
       "var x = new MutationObserver(function (mutations, observer) {{\n",
       "        var display = window.getComputedStyle(gd).display;\n",
       "        if (!display || display === 'none') {{\n",
       "            console.log([gd, 'removed!']);\n",
       "            Plotly.purge(gd);\n",
       "            observer.disconnect();\n",
       "        }}\n",
       "}});\n",
       "\n",
       "// Listen for the removal of the full notebook cells\n",
       "var notebookContainer = gd.closest('#notebook-container');\n",
       "if (notebookContainer) {{\n",
       "    x.observe(notebookContainer, {childList: true});\n",
       "}}\n",
       "\n",
       "// Listen for the clearing of the current output cell\n",
       "var outputEl = gd.closest('.output');\n",
       "if (outputEl) {{\n",
       "    x.observe(outputEl, {childList: true});\n",
       "}}\n",
       "\n",
       "                        })\n",
       "                };\n",
       "                });\n",
       "            </script>\n",
       "        </div>"
      ]
     },
     "metadata": {},
     "output_type": "display_data"
    }
   ],
   "source": [
    "\n",
    "fig = px.bar(xdf, y='DHB', x='confirmed', category_orders={'DHB':DHBS}, color='report date', orientation='h', labels={'0':'cases'})\n",
    "fig2 = px.bar(xdf, opacity=0.4, y='DHB', category_orders={'DHB':DHBS}, x='probable', color='report date', orientation='h', labels={'0':'cases'}).update_traces(showlegend=False)\n",
    "data = [None,None] * len(fig.data)\n",
    "data[::2] = fig.data\n",
    "data[1::2] = fig2.data\n",
    "go.Figure(data, layout=fig.layout).update_layout(xaxis_title_text='cases', title='Confirmed and probably cases for nz by DHB and date<br>Data from latest NZ case details')"
   ]
  },
  {
   "cell_type": "code",
   "execution_count": null,
   "metadata": {},
   "outputs": [],
   "source": [
    "px.bar(ydf, y='DHB', x=0, orientation='h', color='type', category_orders={'DHB':DHBS})"
   ]
  },
  {
   "cell_type": "code",
   "execution_count": null,
   "metadata": {},
   "outputs": [],
   "source": []
  },
  {
   "cell_type": "code",
   "execution_count": null,
   "metadata": {},
   "outputs": [],
   "source": [
    "\n",
    "xdf = cum_df.reset_index().fillna(0)"
   ]
  },
  {
   "cell_type": "code",
   "execution_count": null,
   "metadata": {},
   "outputs": [],
   "source": [
    "cum_df"
   ]
  },
  {
   "cell_type": "code",
   "execution_count": null,
   "metadata": {},
   "outputs": [],
   "source": [
    "totals_df = cum_df.sum(0, level='Report Date')"
   ]
  },
  {
   "cell_type": "code",
   "execution_count": null,
   "metadata": {},
   "outputs": [],
   "source": [
    "xdf=cum_df.fillna(0).append(totals_df.assign(DHB='total').set_index('DHB', append=True), sort=True).reset_index()\n",
    "px.line(xdf, x='Report Date', y='total', color='DHB', hover_data=['confirmed', 'probable'], log_y=True)"
   ]
  },
  {
   "cell_type": "code",
   "execution_count": null,
   "metadata": {},
   "outputs": [],
   "source": [
    "xdf= cum_df.total.div(totals_df.total, level='Report Date').loc['2020-03-26':].reset_index().rename({'total':'percentage'})"
   ]
  },
  {
   "cell_type": "code",
   "execution_count": null,
   "metadata": {},
   "outputs": [],
   "source": [
    "fig=px.bar(xdf, x='Report Date', y='total', color='DHB', category_orders={'DHB':DHBS})\n",
    "fig"
   ]
  },
  {
   "cell_type": "code",
   "execution_count": null,
   "metadata": {},
   "outputs": [],
   "source": [
    "df.groupby('DHB').count()"
   ]
  },
  {
   "cell_type": "code",
   "execution_count": null,
   "metadata": {},
   "outputs": [],
   "source": [
    "cdf.groupby(['Report Date', 'DHB']).agg(count=('DHB', 'count')).cumsum()"
   ]
  },
  {
   "cell_type": "code",
   "execution_count": null,
   "metadata": {},
   "outputs": [],
   "source": [
    "px.bar(cdf.groupby(['Report Date', 'DHB']).agg(count=('DHB', 'count')).reset_index(), x='Report Date', y='count', color='DHB')"
   ]
  },
  {
   "cell_type": "code",
   "execution_count": null,
   "metadata": {},
   "outputs": [],
   "source": [
    "df2.groupby('Report Date').agg(count=('DHB', 'count'))"
   ]
  },
  {
   "cell_type": "code",
   "execution_count": null,
   "metadata": {},
   "outputs": [],
   "source": [
    "df2.groupby('DHB').count()"
   ]
  }
 ],
 "metadata": {
  "kernelspec": {
   "display_name": "Python 3",
   "language": "python",
   "name": "python3"
  },
  "language_info": {
   "codemirror_mode": {
    "name": "ipython",
    "version": 3
   },
   "file_extension": ".py",
   "mimetype": "text/x-python",
   "name": "python",
   "nbconvert_exporter": "python",
   "pygments_lexer": "ipython3",
   "version": "3.7.4"
  }
 },
 "nbformat": 4,
 "nbformat_minor": 4
}
